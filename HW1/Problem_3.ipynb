{
  "nbformat": 4,
  "nbformat_minor": 0,
  "metadata": {
    "colab": {
      "name": "Problem_3.ipynb",
      "version": "0.3.2",
      "provenance": [],
      "collapsed_sections": []
    },
    "kernelspec": {
      "name": "python3",
      "display_name": "Python 3"
    },
    "accelerator": "GPU"
  },
  "cells": [
    {
      "metadata": {
        "id": "ww2F1MXawpqD",
        "colab_type": "text"
      },
      "cell_type": "markdown",
      "source": [
        "# Problem 3: Classifier using softmax and categorical cross-entropy"
      ]
    },
    {
      "metadata": {
        "id": "r_dcGmK3xBZF",
        "colab_type": "text"
      },
      "cell_type": "markdown",
      "source": [
        "## Import image data"
      ]
    },
    {
      "metadata": {
        "id": "baUdjSP4aboX",
        "colab_type": "code",
        "outputId": "984552ca-494f-4567-a89a-c2f06ec11ffc",
        "colab": {
          "base_uri": "https://localhost:8080/",
          "height": 34
        }
      },
      "cell_type": "code",
      "source": [
        "import numpy as np\n",
        "import matplotlib.pyplot as plt\n",
        "from keras.datasets import mnist\n",
        "from keras.utils import to_categorical\n",
        "\n",
        "(train_images_original, train_labels_original), (test_images_original, test_labels_original) = mnist.load_data()"
      ],
      "execution_count": 1,
      "outputs": [
        {
          "output_type": "stream",
          "text": [
            "Using TensorFlow backend.\n"
          ],
          "name": "stderr"
        }
      ]
    },
    {
      "metadata": {
        "id": "wUxXRH_MxTb6",
        "colab_type": "text"
      },
      "cell_type": "markdown",
      "source": [
        "## Preparing image data and hyperparameters\n",
        "\n",
        "Smaller batch sizes will obviously give better results, but I found that in fact, smaller batch sizes lead to overfitting, which reduces the accuracy of the classifier in the end.  A batch size of 32 was selected because any lower than that and overfitting becomes apparent, while higher and the gradient is not accurate enough.\n",
        "\n",
        "Because this model takes the average gradient and uses stochastic gradient descent, it takes a while to converge, so the learning rate had to be hightened.  Any lower than 0.4, and the gradient changes too slowly to approach a good optimized minimum, while too high and it tends to jump around before also settling on a sub-optimal value."
      ]
    },
    {
      "metadata": {
        "id": "sf1rK2ZPaejo",
        "colab_type": "code",
        "colab": {}
      },
      "cell_type": "code",
      "source": [
        "train_images = train_images_original.reshape((60000, 28 * 28))\n",
        "train_images = train_images.astype('float32') / 255\n",
        "\n",
        "test_images = test_images_original.reshape((10000, 28 * 28))\n",
        "test_images = test_images.astype('float32') / 255\n",
        "\n",
        "train_labels = to_categorical(train_labels_original)\n",
        "\n",
        "epochs = 10\n",
        "\n",
        "# After much experimentation, I found that these parameters for batch size and learning rate give me the best results.\n",
        "batch_size = 32\n",
        "lr = 0.40"
      ],
      "execution_count": 0,
      "outputs": []
    },
    {
      "metadata": {
        "id": "FOaC-CjzxzXY",
        "colab_type": "text"
      },
      "cell_type": "markdown",
      "source": [
        "## Softmax activation functions\n",
        "\n",
        "I created two softmax activation functions, one for use with multiple training examples, and one for just a single example.  The first activation function is used in batch training to handle all of the examples in the batch at once, while the second activation function is used in prediction of a number."
      ]
    },
    {
      "metadata": {
        "id": "0_k9Hm-aasyV",
        "colab_type": "code",
        "colab": {}
      },
      "cell_type": "code",
      "source": [
        "def activation_batch(z):\n",
        "  # Calculate the exponent of each element.\n",
        "  e_batch = np.exp(z)\n",
        "  # Sum up all exponentiated elements for each example in the batch.\n",
        "  e_sum_batch = np.sum(e_batch,axis=1)\n",
        "  \n",
        "  # Normalize each element in the batch by their respective sum.\n",
        "  a = e_batch/e_sum_batch[:,None]\n",
        "  return a\n",
        "\n",
        "def activation(z):\n",
        "  # Just exponentiate all elements then divide each one by the sum of all exponents.\n",
        "  e = np.exp(z)\n",
        "  return e/np.sum(e)"
      ],
      "execution_count": 0,
      "outputs": []
    },
    {
      "metadata": {
        "id": "XtHmT_vd00hX",
        "colab_type": "text"
      },
      "cell_type": "markdown",
      "source": [
        "## Loss function\n",
        "\n",
        "Used in marking the loss over each epoch as we train."
      ]
    },
    {
      "metadata": {
        "id": "PFcSk24kH7vy",
        "colab_type": "code",
        "colab": {}
      },
      "cell_type": "code",
      "source": [
        "# The negative dot of the categorical labels with the log of the activation results.\n",
        "def loss(a, y):\n",
        "  return -y.dot(np.log(a))"
      ],
      "execution_count": 0,
      "outputs": []
    },
    {
      "metadata": {
        "id": "NhP8G45P1RmU",
        "colab_type": "text"
      },
      "cell_type": "markdown",
      "source": [
        "## Creating and training the classifier\n",
        "\n",
        "This function performs mini-batch gradient descent.  It returns the weight matrix and the vector of biases for each of the ten output neurons.  It also returns a list of loss averages over each epoch for plotting.\n"
      ]
    },
    {
      "metadata": {
        "id": "s3RJL7G9a3aW",
        "colab_type": "code",
        "outputId": "1ef888a1-5b03-4427-f0ce-7755619eaf81",
        "colab": {
          "base_uri": "https://localhost:8080/",
          "height": 194
        }
      },
      "cell_type": "code",
      "source": [
        "def classifier():\n",
        "  # We have 10 output neurons, and each neuron has 28*28 weights coming in.\n",
        "  weights = np.random.randn(10, 784)\n",
        "  bias = np.random.randn(10)\n",
        "  \n",
        "  # The Kronecker Delta, used in calculating the partial derivatives, is just the identity matrix.\n",
        "  kronecker = np.identity(10)\n",
        "  \n",
        "  num_ims = len(train_images)\n",
        "  loss_avgs = []\n",
        "  # We train over a number of epochs.\n",
        "  for epoch in range(epochs):\n",
        "    # On each epoch, shuffle the training data.\n",
        "    shuffled_i = np.random.permutation(num_ims)\n",
        "    X = train_images[shuffled_i]\n",
        "    Y = train_labels[shuffled_i]\n",
        "    # Record the average loss for each epoch.\n",
        "    loss_epoch = 0.0\n",
        "    \n",
        "    # Take batches and perform gradient descent on them, using the average gradients\n",
        "    # to update the weight and bias.\n",
        "    for i in range(0, num_ims, batch_size):\n",
        "        x = X[i:i+batch_size]\n",
        "        y = Y[i:i+batch_size]\n",
        "        \n",
        "        # The last batch may be smaller than the batch-size.\n",
        "        num_x = len(y)\n",
        "        \n",
        "        # Find the weighted inputs by performing the dot product of each example with\n",
        "        # the weights and adding the biases.\n",
        "        z = x.dot(weights.T) + bias\n",
        "        \n",
        "        # Perform activation on the entire batch.\n",
        "        a = activation_batch(z)\n",
        "        \n",
        "        # The calculation of the partial derivatives is broken into 2 steps:\n",
        "        # 1. subtract the activation of each example from the kronecker delta.\n",
        "        a_min_k = np.apply_along_axis(np.subtract, 1, a, kronecker)\n",
        "        \n",
        "        gradient_b = np.empty((num_x,10))\n",
        "        gradient_w = np.empty((num_x,10,784))\n",
        "        \n",
        "        for k in range(num_x):\n",
        "          # 2. Dot the previous result with the categorical labels to get the gradient with\n",
        "          # respect to the biases for each example.\n",
        "          gradient_b[k] = np.dot(y[k], a_min_k[k])\n",
        "          # The gradient with respect to weights is just the gradient with respect to biases \n",
        "          # times the input.\n",
        "          gradient_w[k] = gradient_b[k][:,None] * x[k]\n",
        "          # Record the loss for each example.\n",
        "          loss_epoch += loss(a[k],y[k])\n",
        "        \n",
        "        # Average both gradients to use in update step.\n",
        "        gradient_b = np.mean(gradient_b, axis=0)\n",
        "        gradient_w = np.mean(gradient_w, axis=0)\n",
        "        \n",
        "        # Update the weights and biases and move to the next epoch.\n",
        "        weights = weights - lr * gradient_w\n",
        "        bias = bias - lr * gradient_b\n",
        "   \n",
        "    # Record the overall loss for the epoch\n",
        "    loss_avgs.append(loss_epoch/num_ims)\n",
        "    print(\"Epoch %d Done.\\tLoss: %f\" % (epoch+1, loss_epoch/num_ims))\n",
        "  \n",
        "  return (weights, bias, loss_avgs)\n",
        "\n",
        "# Run the function to get the triple which represents the model.\n",
        "(weights, bias, loss_avgs) = classifier()"
      ],
      "execution_count": 5,
      "outputs": [
        {
          "output_type": "stream",
          "text": [
            "Epoch 1 Done.\tLoss: 0.897829\n",
            "Epoch 2 Done.\tLoss: 0.485312\n",
            "Epoch 3 Done.\tLoss: 0.419298\n",
            "Epoch 4 Done.\tLoss: 0.383366\n",
            "Epoch 5 Done.\tLoss: 0.361761\n",
            "Epoch 6 Done.\tLoss: 0.345396\n",
            "Epoch 7 Done.\tLoss: 0.334126\n",
            "Epoch 8 Done.\tLoss: 0.325150\n",
            "Epoch 9 Done.\tLoss: 0.316464\n",
            "Epoch 10 Done.\tLoss: 0.310592\n"
          ],
          "name": "stdout"
        }
      ]
    },
    {
      "metadata": {
        "id": "DnpPZbfb7pDc",
        "colab_type": "text"
      },
      "cell_type": "markdown",
      "source": [
        "## Visualizing loss values\n",
        "\n",
        "I plot the loss averages obtained from the classifier. "
      ]
    },
    {
      "metadata": {
        "id": "_uymv8JP5qCs",
        "colab_type": "code",
        "colab": {
          "base_uri": "https://localhost:8080/",
          "height": 375
        },
        "outputId": "1b46cfff-7e61-47a9-88bc-d3c445e67f37"
      },
      "cell_type": "code",
      "source": [
        "eps = range(1, epochs + 1)\n",
        "plt.plot(eps, loss_avgs, 'bo', label='Training loss')\n",
        "plt.title('Average Training Loss Per Epoch')\n",
        "plt.xlabel('Epochs')\n",
        "plt.ylabel('Loss')\n",
        "plt.legend()\n",
        "plt.show()\n",
        "  "
      ],
      "execution_count": 6,
      "outputs": [
        {
          "output_type": "display_data",
          "data": {
            "image/png": "[encoded data removed]",
            "text/plain": [
              "<Figure size 576x396 with 1 Axes>"
            ]
          },
          "metadata": {
            "tags": []
          }
        }
      ]
    },
    {
      "metadata": {
        "id": "H8xud0HH8UOX",
        "colab_type": "text"
      },
      "cell_type": "markdown",
      "source": [
        "# Testing the classification model on test images.\n",
        "\n",
        "I create a prediction function which takes the weights and biases returned from the model and a test image.  The function then dots the image data with the weight matrix, adds the biases, and then passes the result to the singular activation function, and then selects the argmax of the vector.  This argmax is the predicted number."
      ]
    },
    {
      "metadata": {
        "id": "J2NX89A4zWPh",
        "colab_type": "code",
        "colab": {
          "base_uri": "https://localhost:8080/",
          "height": 230
        },
        "outputId": "f68b9f49-145b-4ac2-c535-67fdc47b0ef9"
      },
      "cell_type": "code",
      "source": [
        "\n",
        "def predict(w, b, x):\n",
        "  z = x.dot(w.T) + b\n",
        "  return np.argmax(activation(z))\n",
        "\n",
        "# Create two lists, one for storing the number of times the classifier\n",
        "# correctly identified a number, and one for storing the number of times\n",
        "# that number appears in the test data.\n",
        "num_true = [0 for i in range(10)]\n",
        "num_amount = [0 for i in range(10)]\n",
        "\n",
        "# Test on all testing examples.\n",
        "for i in range(10000):\n",
        "  # Get the prediction and the true label.\n",
        "  y_pred = predict(weights,bias, test_images[i])\n",
        "  y_true = test_labels_original[i]\n",
        "  \n",
        "  # If the two are equal, record the success.\n",
        "  num_amount[y_true]+=1\n",
        "  if y_pred == y_true:\n",
        "    num_true[y_true] += 1\n",
        "\n",
        "# Print the accuracy of the classifier in recognizing each number, and print\n",
        "# the overall accuracy.\n",
        "for i in range(10): \n",
        "  print(\"Classifier's accuracy in recognizing %d: %f\" % (i, num_true[i]/num_amount[i]))\n",
        "\n",
        "print(\"\\nOverall Accuracy: %f\" % (sum(num_true)/10000))"
      ],
      "execution_count": 7,
      "outputs": [
        {
          "output_type": "stream",
          "text": [
            "Classifier's accuracy in recognizing 0: 0.975510\n",
            "Classifier's accuracy in recognizing 1: 0.985903\n",
            "Classifier's accuracy in recognizing 2: 0.880814\n",
            "Classifier's accuracy in recognizing 3: 0.918812\n",
            "Classifier's accuracy in recognizing 4: 0.933809\n",
            "Classifier's accuracy in recognizing 5: 0.848655\n",
            "Classifier's accuracy in recognizing 6: 0.934238\n",
            "Classifier's accuracy in recognizing 7: 0.928016\n",
            "Classifier's accuracy in recognizing 8: 0.850103\n",
            "Classifier's accuracy in recognizing 9: 0.863231\n",
            "\n",
            "Overall Accuracy: 0.913400\n"
          ],
          "name": "stdout"
        }
      ]
    }
  ]
}