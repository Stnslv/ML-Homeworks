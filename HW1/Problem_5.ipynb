{
  "nbformat": 4,
  "nbformat_minor": 0,
  "metadata": {
    "colab": {
      "name": "Problem_5.ipynb",
      "version": "0.3.2",
      "provenance": [],
      "collapsed_sections": []
    },
    "kernelspec": {
      "name": "python3",
      "display_name": "Python 3"
    },
    "accelerator": "GPU"
  },
  "cells": [
    {
      "metadata": {
        "id": "aFjKLu2_CHqk",
        "colab_type": "text"
      },
      "cell_type": "markdown",
      "source": [
        "# Problem 5: Problem 4 with added feature"
      ]
    },
    {
      "metadata": {
        "id": "ENcPVsaSDWWX",
        "colab_type": "text"
      },
      "cell_type": "markdown",
      "source": [
        "## Import image data, normalize image pixel values, and make labels categorical"
      ]
    },
    {
      "metadata": {
        "id": "Ny_zSj9UcQ8_",
        "colab_type": "code",
        "outputId": "a605c7c3-b077-4302-b1ed-027b7660d14a",
        "colab": {
          "base_uri": "https://localhost:8080/",
          "height": 33
        }
      },
      "cell_type": "code",
      "source": [
        "import numpy as np\n",
        "import sys\n",
        "import time\n",
        "from keras import models, layers\n",
        "from keras.datasets import mnist\n",
        "from keras.utils import to_categorical\n",
        "import matplotlib.pyplot as plt\n",
        "\n",
        "(train_images_original, train_labels_original), (test_images_original, test_labels_original) = mnist.load_data()\n",
        "train_images = train_images_original.astype('float32') / 255\n",
        "test_images = test_images_original.astype('float32') / 255\n",
        "\n",
        "train_labels = to_categorical(train_labels_original)\n",
        "test_labels = to_categorical(test_labels_original)"
      ],
      "execution_count": 1,
      "outputs": [
        {
          "output_type": "stream",
          "text": [
            "Using TensorFlow backend.\n"
          ],
          "name": "stderr"
        }
      ]
    },
    {
      "metadata": {
        "id": "bfWN-WAvFKsx",
        "colab_type": "text"
      },
      "cell_type": "markdown",
      "source": [
        "## DFS function for finding number of connected edges.\n",
        "\n",
        "This function performs a simple DFS search on an image, and returns the number of white regions in the image.  The problem with this function is that since it needs to check every vertex of every image, and there are 784 vertices per image and 70000 total images, that means that more than 55 million vertices would have to be processed.  This would be fine if I was somehow able to vectorize this function, but every vertex must be checked and the only way I could think of doing this was through a for-loop, and np_apply.over_axis does not let me perform the operation on a list of matrices, so I need to process each image sequentially as well.  As a result, the runtime to get the connected regions of every image in MNIST totals over half an hour.  On the bright side, once this function finishes executing, the rest of the training proceeds as in Problem 4."
      ]
    },
    {
      "metadata": {
        "id": "sA6JlrhQTRsw",
        "colab_type": "code",
        "colab": {}
      },
      "cell_type": "code",
      "source": [
        "def find_num_regions(im):\n",
        "  # Create a queue that will operate on a FIFO ordering, as well as a list that\n",
        "  # will hold the vertices already visited in the image.\n",
        "  queue = []  \n",
        "  visited = []\n",
        "  \n",
        "  num_regions = 0\n",
        "  \n",
        "  # For each vertex in the image, possibly perform DFS.\n",
        "  for row in range(28):\n",
        "    for col in range(28):\n",
        "      \n",
        "      # If the vertex has not been visited yet and is a white region (less than a 0.5 pixel value),\n",
        "      # then this is the start of a new white region.\n",
        "      if (row,col) not in visited and im[row][col] < 0.5:\n",
        "        # Incremement the number of regions in image, append the vertex to the queue, and mark this \n",
        "        # vertex as visited by adding it to the list of visited.\n",
        "        num_regions += 1\n",
        "        queue.append((row,col))\n",
        "        visited.append((row,col))\n",
        "        \n",
        "        # While the queue is not empty, perform DFS.\n",
        "        while len(queue) > 0:\n",
        "          # Pop a vertex off the queue.\n",
        "          (vr,vc) = queue.pop()\n",
        "          \n",
        "          # For each neighbor of the vertex, as long as the neighbor has not been\n",
        "          # already visited, and as long as it is in the bounds of the image, AND\n",
        "          # as long as this neighbor is also part of a white region, add it to the queue,\n",
        "          # and visited lists.\n",
        "          if (vr - 1, vc) not in visited and vr - 1 >= 0 and im[vr - 1][vc] < 0.5:\n",
        "            queue.append((vr - 1, vc))\n",
        "            visited.append((vr - 1,vc))\n",
        "          if (vr + 1, vc) not in visited and vr + 1 < 28 and im[vr + 1][vc] < 0.5:\n",
        "            queue.append((vr + 1, vc))\n",
        "            visited.append((vr + 1,vc))\n",
        "          if (vr, vc - 1) not in visited and vc - 1 >= 0 and im[vr][vc - 1] < 0.5:\n",
        "            queue.append((vr, vc - 1))\n",
        "            visited.append((vr,vc - 1))\n",
        "          if (vr, vc + 1) not in visited and vc + 1 < 28 and im[vr][vc + 1] < 0.5:\n",
        "            queue.append((vr, vc + 1))\n",
        "            visited.append((vr,vc + 1))\n",
        "  \n",
        "  # The maximum number of regions we can have is 3, so return the normalized\n",
        "  # number of regions.\n",
        "  return num_regions/3"
      ],
      "execution_count": 0,
      "outputs": []
    },
    {
      "metadata": {
        "id": "TNj-RPYbJDgF",
        "colab_type": "text"
      },
      "cell_type": "markdown",
      "source": [
        "## Find the number of connected white regions in train and test data\n",
        "\n",
        "Because this takes such a long time to execute, I keep a running update using the sys module in order to keep the user informed of how the progress is.  At the end I also print out the number of minutes it took to execute as well as the list of connected region counts for the test data in order to verify that everything went correctly."
      ]
    },
    {
      "metadata": {
        "id": "4qyzBWyj7mw3",
        "colab_type": "code",
        "colab": {
          "base_uri": "https://localhost:8080/",
          "height": 98
        },
        "outputId": "4c0ee137-8573-44a4-ee44-d2eb157689fd"
      },
      "cell_type": "code",
      "source": [
        "regions_train = np.empty(60000)\n",
        "regions_test = np.empty(10000)\n",
        "  \n",
        "start = time.time()\n",
        "for i in range(60000):\n",
        "  regions_train[i] = find_num_regions(train_images[i])\n",
        "  sys.stdout.write('\\r')\n",
        "  sys.stdout.write(\"%d/60000 training images processed.\" % (i + 1))\n",
        "print()\n",
        "for i in range(10000):\n",
        "  regions_test[i] = find_num_regions(test_images[i])\n",
        "  sys.stdout.write('\\r')\n",
        "  sys.stdout.write(\"%d/10000 testing images processed.\" % (i + 1))\n",
        "end = time.time()\n",
        "\n",
        "print(\"\\nProcessing finished in %f minutes\" % ((end - start)/60))\n",
        "print(\"List of number of connected regions for test data:\")\n",
        "print(regions_test)"
      ],
      "execution_count": 3,
      "outputs": [
        {
          "output_type": "stream",
          "text": [
            "60000/60000 training images processed.\n",
            "10000/10000 testing images processed.\n",
            "Processing finished in 41.803343 minutes\n",
            "List of number of connected regions for test data:\n",
            "[0.33333333 0.33333333 0.33333333 ... 0.33333333 0.33333333 0.66666667]\n"
          ],
          "name": "stdout"
        }
      ]
    },
    {
      "metadata": {
        "id": "bj0FBnolLhk5",
        "colab_type": "text"
      },
      "cell_type": "markdown",
      "source": [
        "## Append the lists of region counts to their respective arrays.\n",
        "\n",
        "I reshape the train and test data and append the train and test region counts to them.  I also print out the resulting test array to verify the appending went correctly."
      ]
    },
    {
      "metadata": {
        "id": "FPYAzYi2NF9I",
        "colab_type": "code",
        "colab": {
          "base_uri": "https://localhost:8080/",
          "height": 147
        },
        "outputId": "d65a7dc0-2795-4172-8cba-af2f99e57c0c"
      },
      "cell_type": "code",
      "source": [
        "train_images = train_images.reshape((60000, 28 * 28))\n",
        "test_images = test_images_original.reshape((10000, 28 * 28))\n",
        "\n",
        "reg_train = regions_train.reshape((60000,1))\n",
        "reg_test = regions_test.reshape((10000,1))\n",
        "\n",
        "train_ims = np.append(train_images,reg_train, axis=1)\n",
        "test_ims = np.append(test_images,reg_test, axis=1)\n",
        "\n",
        "print(\"New test data array:\")\n",
        "print(test_ims)"
      ],
      "execution_count": 4,
      "outputs": [
        {
          "output_type": "stream",
          "text": [
            "New test data array:\n",
            "[[0.         0.         0.         ... 0.         0.         0.33333333]\n",
            " [0.         0.         0.         ... 0.         0.         0.33333333]\n",
            " [0.         0.         0.         ... 0.         0.         0.33333333]\n",
            " ...\n",
            " [0.         0.         0.         ... 0.         0.         0.33333333]\n",
            " [0.         0.         0.         ... 0.         0.         0.33333333]\n",
            " [0.         0.         0.         ... 0.         0.         0.66666667]]\n"
          ],
          "name": "stdout"
        }
      ]
    },
    {
      "metadata": {
        "id": "O3H-W2pgM7jN",
        "colab_type": "text"
      },
      "cell_type": "markdown",
      "source": [
        "## Create the network, same as Problem 4.\n",
        "\n",
        "The only difference here is that our input size is now 28 * 28 + 1, because of the additional feature.\n",
        "\n",
        "## Network Architecture"
      ]
    },
    {
      "metadata": {
        "id": "y6Hne73CRz_y",
        "colab_type": "code",
        "colab": {
          "base_uri": "https://localhost:8080/",
          "height": 265
        },
        "outputId": "ba81b013-0f60-4e80-8d0c-782fbad444d9"
      },
      "cell_type": "code",
      "source": [
        "network = models.Sequential()\n",
        "network.add(layers.Dense(785, activation='relu', input_shape=(785,)))\n",
        "network.add(layers.Dense(10, activation='softmax'))\n",
        "network.summary()"
      ],
      "execution_count": 5,
      "outputs": [
        {
          "output_type": "stream",
          "text": [
            "WARNING:tensorflow:From /usr/local/lib/python3.6/dist-packages/tensorflow/python/framework/op_def_library.py:263: colocate_with (from tensorflow.python.framework.ops) is deprecated and will be removed in a future version.\n",
            "Instructions for updating:\n",
            "Colocations handled automatically by placer.\n",
            "_________________________________________________________________\n",
            "Layer (type)                 Output Shape              Param #   \n",
            "=================================================================\n",
            "dense_1 (Dense)              (None, 785)               617010    \n",
            "_________________________________________________________________\n",
            "dense_2 (Dense)              (None, 10)                7860      \n",
            "=================================================================\n",
            "Total params: 624,870\n",
            "Trainable params: 624,870\n",
            "Non-trainable params: 0\n",
            "_________________________________________________________________\n"
          ],
          "name": "stdout"
        }
      ]
    },
    {
      "metadata": {
        "id": "kV8PZbrOOJpA",
        "colab_type": "text"
      },
      "cell_type": "markdown",
      "source": [
        "## Compilation and training step\n",
        "\n",
        "I have found that adding this feature produces a very negligible increase in accuracy.  As seen above, the region finding and appending is correct, so the only conclusion here is that adding the number of connected regions to the feature vector for each image does nothing when performing mini-batch stochastic gradient descent."
      ]
    },
    {
      "metadata": {
        "id": "KKG0zO-tOHQP",
        "colab_type": "code",
        "colab": {
          "base_uri": "https://localhost:8080/",
          "height": 427
        },
        "outputId": "8e4ba33c-c273-441b-c66e-203d3daebe7e"
      },
      "cell_type": "code",
      "source": [
        "network.compile(optimizer='sgd',\n",
        "                loss='categorical_crossentropy',\n",
        "                metrics=['accuracy'])\n",
        "\n",
        "epochs = 10\n",
        "history = network.fit(train_ims, \n",
        "                      train_labels, \n",
        "                      epochs=epochs, \n",
        "                      batch_size=128, \n",
        "                      validation_data=(test_ims, test_labels))"
      ],
      "execution_count": 6,
      "outputs": [
        {
          "output_type": "stream",
          "text": [
            "WARNING:tensorflow:From /usr/local/lib/python3.6/dist-packages/tensorflow/python/ops/math_ops.py:3066: to_int32 (from tensorflow.python.ops.math_ops) is deprecated and will be removed in a future version.\n",
            "Instructions for updating:\n",
            "Use tf.cast instead.\n",
            "Train on 60000 samples, validate on 10000 samples\n",
            "Epoch 1/10\n",
            "60000/60000 [==============================] - 3s 49us/step - loss: 1.0602 - acc: 0.7780 - val_loss: 1.9997 - val_acc: 0.8715\n",
            "Epoch 2/10\n",
            "60000/60000 [==============================] - 2s 36us/step - loss: 0.4988 - acc: 0.8794 - val_loss: 1.6713 - val_acc: 0.8936\n",
            "Epoch 3/10\n",
            "60000/60000 [==============================] - 2s 36us/step - loss: 0.4018 - acc: 0.8969 - val_loss: 1.5239 - val_acc: 0.9036\n",
            "Epoch 4/10\n",
            "60000/60000 [==============================] - 2s 36us/step - loss: 0.3565 - acc: 0.9051 - val_loss: 1.4313 - val_acc: 0.9090\n",
            "Epoch 5/10\n",
            "60000/60000 [==============================] - 2s 36us/step - loss: 0.3281 - acc: 0.9110 - val_loss: 1.3638 - val_acc: 0.9129\n",
            "Epoch 6/10\n",
            "60000/60000 [==============================] - 2s 36us/step - loss: 0.3075 - acc: 0.9165 - val_loss: 1.2951 - val_acc: 0.9180\n",
            "Epoch 7/10\n",
            "60000/60000 [==============================] - 2s 36us/step - loss: 0.2911 - acc: 0.9201 - val_loss: 1.2594 - val_acc: 0.9203\n",
            "Epoch 8/10\n",
            "60000/60000 [==============================] - 2s 36us/step - loss: 0.2777 - acc: 0.9244 - val_loss: 1.1892 - val_acc: 0.9248\n",
            "Epoch 9/10\n",
            "60000/60000 [==============================] - 2s 36us/step - loss: 0.2659 - acc: 0.9273 - val_loss: 1.1847 - val_acc: 0.9252\n",
            "Epoch 10/10\n",
            "60000/60000 [==============================] - 2s 36us/step - loss: 0.2559 - acc: 0.9304 - val_loss: 1.1166 - val_acc: 0.9291\n"
          ],
          "name": "stdout"
        }
      ]
    },
    {
      "metadata": {
        "id": "QJy7pnF1Onnl",
        "colab_type": "text"
      },
      "cell_type": "markdown",
      "source": [
        "## Plots of train/test loss, accuracy"
      ]
    },
    {
      "metadata": {
        "id": "-ONk9QgqSNS2",
        "colab_type": "code",
        "colab": {
          "base_uri": "https://localhost:8080/",
          "height": 376
        },
        "outputId": "9850841d-5cbe-43e2-a6c4-6c896d49f405"
      },
      "cell_type": "code",
      "source": [
        "history_dict = history.history\n",
        "loss_values = history_dict['loss']\n",
        "test_loss_values = history_dict['val_loss']\n",
        "\n",
        "epochs_range = range(1, epochs + 1)\n",
        "plt.plot(epochs_range, loss_values, 'bo', label='Training loss')\n",
        "plt.plot(epochs_range, test_loss_values, 'ro', label='Test loss')\n",
        "plt.title('Training and test loss')\n",
        "plt.xlabel('Epochs')\n",
        "plt.ylabel('Loss')\n",
        "plt.legend()\n",
        "plt.show()"
      ],
      "execution_count": 7,
      "outputs": [
        {
          "output_type": "display_data",
          "data": {
            "image/png": "[encoded data removed]",
            "text/plain": [
              "<Figure size 576x396 with 1 Axes>"
            ]
          },
          "metadata": {
            "tags": []
          }
        }
      ]
    },
    {
      "metadata": {
        "id": "hmTt92mZO13Q",
        "colab_type": "code",
        "colab": {
          "base_uri": "https://localhost:8080/",
          "height": 376
        },
        "outputId": "3895874e-6225-4263-e32a-b0392997e91c"
      },
      "cell_type": "code",
      "source": [
        "acc_values = history_dict['acc']\n",
        "test_acc_values = history_dict['val_acc']\n",
        "\n",
        "plt.plot(epochs_range, acc_values, 'bo', label='Training accuracy')\n",
        "plt.plot(epochs_range, test_acc_values, 'ro', label='Test accuracy')\n",
        "plt.title('Training and test accuracy')\n",
        "plt.xlabel('Epochs')\n",
        "plt.ylabel('Accuracy')\n",
        "plt.legend()\n",
        "plt.show()"
      ],
      "execution_count": 8,
      "outputs": [
        {
          "output_type": "display_data",
          "data": {
            "image/png": "[encoded data removed]",
            "text/plain": [
              "<Figure size 576x396 with 1 Axes>"
            ]
          },
          "metadata": {
            "tags": []
          }
        }
      ]
    }
  ]
}