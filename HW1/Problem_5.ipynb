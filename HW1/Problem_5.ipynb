{
  "nbformat": 4,
  "nbformat_minor": 0,
  "metadata": {
    "colab": {
      "name": "Problem_5.ipynb",
      "version": "0.3.2",
      "provenance": [],
      "collapsed_sections": []
    },
    "kernelspec": {
      "name": "python3",
      "display_name": "Python 3"
    },
    "accelerator": "GPU"
  },
  "cells": [
    {
      "metadata": {
        "id": "Ny_zSj9UcQ8_",
        "colab_type": "code",
        "outputId": "95dddcf6-cb90-4bae-f5b1-54e4ed7c4351",
        "colab": {
          "base_uri": "https://localhost:8080/",
          "height": 34
        }
      },
      "cell_type": "code",
      "source": [
        "from keras.datasets import mnist\n",
        "import time\n",
        "\n",
        "(train_images_original, train_labels_original), (test_images_original, test_labels_original) = mnist.load_data()\n",
        "train_images = train_images_original.astype('float32') / 255\n",
        "test_images = test_images_original.astype('float32') / 255\n",
        "\n"
      ],
      "execution_count": 1,
      "outputs": [
        {
          "output_type": "stream",
          "text": [
            "Using TensorFlow backend.\n"
          ],
          "name": "stderr"
        }
      ]
    },
    {
      "metadata": {
        "id": "sA6JlrhQTRsw",
        "colab_type": "code",
        "colab": {}
      },
      "cell_type": "code",
      "source": [
        "import numpy as np\n",
        "def find_num_regions(im):\n",
        "  queue = []\n",
        "  visited = []\n",
        "  num_regions = 0\n",
        "  \n",
        "  for row in range(28):\n",
        "    for col in range(28):\n",
        "      \n",
        "      if (row,col) not in visited and im[row][col] < 0.5:\n",
        "        num_regions += 1\n",
        "        \n",
        "        queue.append((row,col))\n",
        "        visited.append((row,col))\n",
        "        \n",
        "        while len(queue) > 0:\n",
        "          (vr,vc) = queue.pop()\n",
        "          \n",
        "          if (vr - 1, vc) not in visited and vr - 1 >= 0 and im[vr - 1][vc] < 0.5:\n",
        "            queue.append((vr - 1, vc))\n",
        "            visited.append((vr - 1,vc))\n",
        "          if (vr + 1, vc) not in visited and vr + 1 < 28 and im[vr + 1][vc] < 0.5:\n",
        "            queue.append((vr + 1, vc))\n",
        "            visited.append((vr + 1,vc))\n",
        "          if (vr, vc - 1) not in visited and vc - 1 >= 0 and im[vr][vc - 1] < 0.5:\n",
        "            queue.append((vr, vc - 1))\n",
        "            visited.append((vr,vc - 1))\n",
        "          if (vr, vc + 1) not in visited and vc + 1 < 28 and im[vr][vc + 1] < 0.5:\n",
        "            queue.append((vr, vc + 1))\n",
        "            visited.append((vr,vc + 1))\n",
        "  \n",
        "  return num_regions/3"
      ],
      "execution_count": 0,
      "outputs": []
    },
    {
      "metadata": {
        "id": "4qyzBWyj7mw3",
        "colab_type": "code",
        "colab": {
          "base_uri": "https://localhost:8080/",
          "height": 70
        },
        "outputId": "915abf69-1b0c-44dc-845d-597617881524"
      },
      "cell_type": "code",
      "source": [
        "regions_train = np.empty(60000)\n",
        "regions_test = np.empty(10000)\n",
        "import sys\n",
        "  \n",
        "start = time.time()\n",
        "for i in range(60000):\n",
        "  regions_train[i] = find_num_regions(train_images[i])\n",
        "  sys.stdout.write('\\r')\n",
        "  sys.stdout.write(\"%d/60000 training images processed.\" % i + 1)\n",
        "print()\n",
        "for i in range(10000):\n",
        "  regions_test[i] = find_num_regions(test_images[i])\n",
        "  sys.stdout.write('\\r')\n",
        "  sys.stdout.write(\"%d/10000 training images processed.\" % i + 1)\n",
        "end = time.time()\n",
        "\n",
        "print(end - start)\n",
        "\n",
        "print(regions_train)"
      ],
      "execution_count": 3,
      "outputs": [
        {
          "output_type": "stream",
          "text": [
            "59999/60000 training images processed.\n",
            "9999/10000 training images processed.2452.9655663967133\n",
            "[0.33333333 0.66666667 0.33333333 ... 0.33333333 0.33333333 1.        ]\n"
          ],
          "name": "stdout"
        }
      ]
    },
    {
      "metadata": {
        "id": "wHgEA9-oT-6Y",
        "colab_type": "code",
        "colab": {}
      },
      "cell_type": "code",
      "source": [
        ""
      ],
      "execution_count": 0,
      "outputs": []
    },
    {
      "metadata": {
        "id": "FPYAzYi2NF9I",
        "colab_type": "code",
        "colab": {
          "base_uri": "https://localhost:8080/",
          "height": 141
        },
        "outputId": "dc9877d9-3887-404b-b3a9-4b1abbd77abd"
      },
      "cell_type": "code",
      "source": [
        "train_images = train_images.reshape((60000, 28 * 28))\n",
        "test_images = test_images_original.reshape((10000, 28 * 28))\n",
        "\n",
        "reg_train = regions_train.reshape((60000,1))\n",
        "reg_test = regions_test.reshape((10000,1))\n",
        "train_ims = np.append(train_images,reg_train, axis=1)\n",
        "test_ims = np.append(test_images,reg_test, axis=1)\n",
        "print(train_ims)"
      ],
      "execution_count": 7,
      "outputs": [
        {
          "output_type": "stream",
          "text": [
            "[[0.         0.         0.         ... 0.         0.         0.33333333]\n",
            " [0.         0.         0.         ... 0.         0.         0.66666667]\n",
            " [0.         0.         0.         ... 0.         0.         0.33333333]\n",
            " ...\n",
            " [0.         0.         0.         ... 0.         0.         0.33333333]\n",
            " [0.         0.         0.         ... 0.         0.         0.33333333]\n",
            " [0.         0.         0.         ... 0.         0.         1.        ]]\n"
          ],
          "name": "stdout"
        }
      ]
    },
    {
      "metadata": {
        "id": "VDjpgOVci1VX",
        "colab_type": "code",
        "outputId": "a4fd297d-0d73-4131-ce25-0d9e3ff1679d",
        "colab": {
          "base_uri": "https://localhost:8080/",
          "height": 34
        }
      },
      "cell_type": "code",
      "source": [
        "\n",
        "for i in range(60000):\n",
        "  sys.stdout.write('\\r')\n",
        "  sys.stdout.write(\"%d/60000 training images processed.\" % (i + 1))"
      ],
      "execution_count": 10,
      "outputs": [
        {
          "output_type": "stream",
          "text": [
            "60000/60000 training images processed."
          ],
          "name": "stdout"
        }
      ]
    },
    {
      "metadata": {
        "id": "Ov87eqmScnKH",
        "colab_type": "code",
        "colab": {}
      },
      "cell_type": "code",
      "source": [
        "import time\n",
        "\n",
        "start = time.time()\n",
        "p = find_num_regions(train_images[3242])\n",
        "end = time.time()\n",
        "print(end - start)\n",
        "print(p)\n",
        "\n",
        "print(train_labels_original[3242])"
      ],
      "execution_count": 0,
      "outputs": []
    },
    {
      "metadata": {
        "id": "84gYB_ogRxZq",
        "colab_type": "text"
      },
      "cell_type": "markdown",
      "source": [
        ""
      ]
    },
    {
      "metadata": {
        "id": "VJzxAPtIRyvr",
        "colab_type": "code",
        "colab": {}
      },
      "cell_type": "code",
      "source": [
        "from keras.utils import to_categorical\n",
        "\n",
        "train_labels = to_categorical(train_labels_original)\n",
        "test_labels = to_categorical(test_labels_original)"
      ],
      "execution_count": 0,
      "outputs": []
    },
    {
      "metadata": {
        "id": "y6Hne73CRz_y",
        "colab_type": "code",
        "colab": {
          "base_uri": "https://localhost:8080/",
          "height": 585
        },
        "outputId": "efc338fd-d6d3-48d4-92aa-20bb1132d622"
      },
      "cell_type": "code",
      "source": [
        "from keras import models\n",
        "from keras import layers\n",
        "\n",
        "network = models.Sequential()\n",
        "network.add(layers.Dense(784, activation='relu', input_shape=(28 * 28 + 1,)))\n",
        "network.add(layers.Dense(10, activation='softmax'))\n",
        "network.summary()\n",
        "\n",
        "network.compile(optimizer='sgd',\n",
        "                loss='categorical_crossentropy',\n",
        "                metrics=['accuracy'])\n",
        "\n",
        "epochs = 10\n",
        "history = network.fit(train_ims, \n",
        "                      train_labels, \n",
        "                      epochs=epochs, \n",
        "                      batch_size=128, \n",
        "                      validation_data=(test_ims, test_labels))"
      ],
      "execution_count": 18,
      "outputs": [
        {
          "output_type": "stream",
          "text": [
            "_________________________________________________________________\n",
            "Layer (type)                 Output Shape              Param #   \n",
            "=================================================================\n",
            "dense_7 (Dense)              (None, 784)               616224    \n",
            "_________________________________________________________________\n",
            "dense_8 (Dense)              (None, 10)                7850      \n",
            "=================================================================\n",
            "Total params: 624,074\n",
            "Trainable params: 624,074\n",
            "Non-trainable params: 0\n",
            "_________________________________________________________________\n",
            "Train on 60000 samples, validate on 10000 samples\n",
            "Epoch 1/10\n",
            "60000/60000 [==============================] - 2s 38us/step - loss: 1.0856 - acc: 0.7695 - val_loss: 1.9649 - val_acc: 0.8736\n",
            "Epoch 2/10\n",
            "60000/60000 [==============================] - 2s 36us/step - loss: 0.5012 - acc: 0.8812 - val_loss: 1.6557 - val_acc: 0.8945\n",
            "Epoch 3/10\n",
            "60000/60000 [==============================] - 2s 36us/step - loss: 0.4010 - acc: 0.8967 - val_loss: 1.5195 - val_acc: 0.9040\n",
            "Epoch 4/10\n",
            "60000/60000 [==============================] - 2s 36us/step - loss: 0.3549 - acc: 0.9055 - val_loss: 1.4217 - val_acc: 0.9100\n",
            "Epoch 5/10\n",
            "60000/60000 [==============================] - 2s 36us/step - loss: 0.3264 - acc: 0.9115 - val_loss: 1.3705 - val_acc: 0.9132\n",
            "Epoch 6/10\n",
            "60000/60000 [==============================] - 2s 36us/step - loss: 0.3057 - acc: 0.9167 - val_loss: 1.2967 - val_acc: 0.9177\n",
            "Epoch 7/10\n",
            "60000/60000 [==============================] - 2s 36us/step - loss: 0.2897 - acc: 0.9210 - val_loss: 1.2437 - val_acc: 0.9210\n",
            "Epoch 8/10\n",
            "60000/60000 [==============================] - 2s 35us/step - loss: 0.2764 - acc: 0.9245 - val_loss: 1.2193 - val_acc: 0.9229\n",
            "Epoch 9/10\n",
            "60000/60000 [==============================] - 2s 35us/step - loss: 0.2649 - acc: 0.9274 - val_loss: 1.1962 - val_acc: 0.9250\n",
            "Epoch 10/10\n",
            "60000/60000 [==============================] - 2s 35us/step - loss: 0.2549 - acc: 0.9304 - val_loss: 1.1343 - val_acc: 0.9282\n"
          ],
          "name": "stdout"
        }
      ]
    },
    {
      "metadata": {
        "id": "-ONk9QgqSNS2",
        "colab_type": "code",
        "colab": {
          "base_uri": "https://localhost:8080/",
          "height": 375
        },
        "outputId": "8fdf6bef-3b66-413f-97ca-a7841a32d1d0"
      },
      "cell_type": "code",
      "source": [
        "history_dict = history.history\n",
        "loss_values = history_dict['loss']\n",
        "test_loss_values = history_dict['val_loss']\n",
        "import matplotlib.pyplot as plt\n",
        "\n",
        "epochs_range = range(1, epochs + 1)\n",
        "plt.plot(epochs_range, loss_values, 'bo', label='Training loss')\n",
        "plt.plot(epochs_range, test_loss_values, 'ro', label='Test loss')\n",
        "plt.title('Training and test loss')\n",
        "plt.xlabel('Epochs')\n",
        "plt.ylabel('Loss')\n",
        "plt.legend()\n",
        "plt.show()"
      ],
      "execution_count": 16,
      "outputs": [
        {
          "output_type": "display_data",
          "data": {
            "image/png": "[encoded data removed]",
            "text/plain": [
              "<Figure size 576x396 with 1 Axes>"
            ]
          },
          "metadata": {
            "tags": []
          }
        }
      ]
    }
  ]
}