{
  "nbformat": 4,
  "nbformat_minor": 0,
  "metadata": {
    "colab": {
      "name": "Problem_1.ipynb",
      "version": "0.3.2",
      "provenance": [],
      "collapsed_sections": []
    },
    "kernelspec": {
      "name": "python3",
      "display_name": "Python 3"
    },
    "accelerator": "GPU"
  },
  "cells": [
    {
      "metadata": {
        "id": "vUqn6fkhqdQU",
        "colab_type": "text"
      },
      "cell_type": "markdown",
      "source": [
        "# Problem 1: 10 Classifiers with logistic regression and MSE"
      ]
    },
    {
      "metadata": {
        "id": "f7RAJZovEuWf",
        "colab_type": "text"
      },
      "cell_type": "markdown",
      "source": [
        "## Import image data"
      ]
    },
    {
      "metadata": {
        "id": "CF3GDc3L3vPC",
        "colab_type": "code",
        "outputId": "c488577c-aee3-40f5-87c3-340cf33bf937",
        "colab": {
          "base_uri": "https://localhost:8080/",
          "height": 34
        }
      },
      "cell_type": "code",
      "source": [
        "from keras.datasets import mnist\n",
        "import numpy as np\n",
        "import matplotlib.pyplot as plt\n",
        "\n",
        "(train_images_original, train_labels_original), (test_images_original, test_labels_original) = mnist.load_data()"
      ],
      "execution_count": 1,
      "outputs": [
        {
          "output_type": "stream",
          "text": [
            "Using TensorFlow backend.\n"
          ],
          "name": "stderr"
        }
      ]
    },
    {
      "metadata": {
        "id": "G90d4jBiE1X_",
        "colab_type": "text"
      },
      "cell_type": "markdown",
      "source": [
        "## Preparing image data and hyperparameters\n",
        "\n",
        "Problem 1 has been giving me trouble, not in its difficulty, but in tuning the hyperparameters.  The batch size I have attempted to keep at 128 per the example we have studied in class, but the learning rate seems to need to go to relatively huge levels to get any decent accuracy.  I have narrowed this issue down to the partial derivatives of the loss function, but as the math is absurdly simple, and I have verified that it is correct, I can only assume that this problem is due to the fact that creating 10 classifiers with mean squared error is bound to produce mediocre results."
      ]
    },
    {
      "metadata": {
        "id": "OefQa4xdSHfP",
        "colab_type": "code",
        "colab": {}
      },
      "cell_type": "code",
      "source": [
        "train_images = train_images_original.reshape((60000, 28 * 28))\n",
        "train_images = train_images.astype('float32') / 255\n",
        "\n",
        "test_images = test_images_original.reshape((10000, 28 * 28))\n",
        "test_images = test_images.astype('float32') / 255\n",
        "\n",
        "epochs = 10\n",
        "batch_size = 128\n",
        "lr = 0.9"
      ],
      "execution_count": 0,
      "outputs": []
    },
    {
      "metadata": {
        "id": "GwYyKegIFvNZ",
        "colab_type": "text"
      },
      "cell_type": "markdown",
      "source": [
        "## Function for converting labels to binary representation\n",
        "\n",
        "This vectorized function takes each label in a list of labels, and, depending on the classifier being made, converts it to a binary label.  So if the classifier is for recognizing the number 2, then each label corresponding to 2 will be converted to 1 and all other labels are 0."
      ]
    },
    {
      "metadata": {
        "id": "e9uG-xMmSPgL",
        "colab_type": "code",
        "colab": {}
      },
      "cell_type": "code",
      "source": [
        "def convert_labels(old_label, new_label):\n",
        "  return 1 if old_label == new_label else 0\n",
        "convert_labels = np.vectorize(convert_labels)"
      ],
      "execution_count": 0,
      "outputs": []
    },
    {
      "metadata": {
        "id": "G74vtgUFGNkV",
        "colab_type": "text"
      },
      "cell_type": "markdown",
      "source": [
        "## Logistic regression activation function\n",
        "\n",
        "This function takes each element in a list of weighted inputs and passes it to the sigmoid."
      ]
    },
    {
      "metadata": {
        "id": "SrGWXTergHqw",
        "colab_type": "code",
        "colab": {}
      },
      "cell_type": "code",
      "source": [
        "def activation(z):\n",
        "  return 1/(1 + np.exp(-z))"
      ],
      "execution_count": 0,
      "outputs": []
    },
    {
      "metadata": {
        "id": "QNJ8pP6sHtza",
        "colab_type": "text"
      },
      "cell_type": "markdown",
      "source": [
        "## Mean-squared-error loss function\n",
        "\n",
        "This function takes the mean squared error between the activation result and the label."
      ]
    },
    {
      "metadata": {
        "id": "JZjxOsmdHsTD",
        "colab_type": "code",
        "colab": {}
      },
      "cell_type": "code",
      "source": [
        "def loss(a,y):\n",
        "  return 0.5*(a-y)**2"
      ],
      "execution_count": 0,
      "outputs": []
    },
    {
      "metadata": {
        "id": "sWUc-uunG54y",
        "colab_type": "text"
      },
      "cell_type": "markdown",
      "source": [
        "## Classifier for each number\n",
        "\n",
        "This classifier takes as input the number we will be training to classify.  It then converts all labels to binary representations for that number, and trains the network.  We do this for each number from 0 to 9. Each classifier returns the weights, bias, and list of loss values."
      ]
    },
    {
      "metadata": {
        "colab_type": "code",
        "id": "41C7F6yLGDau",
        "colab": {
          "base_uri": "https://localhost:8080/",
          "height": 1972
        },
        "outputId": "e440581a-42a1-4a9d-db3d-91d765640748"
      },
      "cell_type": "code",
      "source": [
        "def classifier(num):\n",
        "  # Convert labels to binary representation for number being trained.\n",
        "  train_labels = convert_labels(train_labels_original, num)\n",
        "  # Initialize random weights and bias.\n",
        "  weights = np.random.randn(784)\n",
        "  bias = np.random.randn()\n",
        "  \n",
        "  num_ims = len(train_images)\n",
        "  \n",
        "  # Average loss values across epochs\n",
        "  loss_avgs = []\n",
        "  \n",
        "  for epoch in range(epochs):\n",
        "    # Shuffle the training data on each epoch.\n",
        "    shuffled_i = np.random.permutation(num_ims)\n",
        "    X = train_images[shuffled_i]\n",
        "    Y = train_labels[shuffled_i]\n",
        "    \n",
        "    # Calculate the average loss on each epoch.\n",
        "    loss_epoch = 0.0\n",
        "    for i in range(0, num_ims, batch_size):\n",
        "        x = X[i:i+batch_size]\n",
        "        y = Y[i:i+batch_size]\n",
        "        \n",
        "        # Take each training example in the batch and dot it with the\n",
        "        # weights and then add the bias to get the weighted input.\n",
        "        z = x.dot(weights) + bias\n",
        "        # Pass the weighted input to the activation.\n",
        "        a = activation(z)\n",
        "        \n",
        "        # Calculate the loss for this example and add it to loss for the epoch.\n",
        "        loss_epoch += np.sum(loss(a, y))\n",
        "        \n",
        "        # Calculate the gradients with respect to the weights and bias\n",
        "        # for each example.  \n",
        "        gradient_b = (a - y) * a * (1.0 - a)\n",
        "        \n",
        "        # We need to reshape so that the vectorized operation for the gradient\n",
        "        # is done correctly.\n",
        "        gradient_b = np.reshape(gradient_b, (len(gradient_b),1))\n",
        "        gradient_w = x * gradient_b\n",
        "       \n",
        "        # Average the gradients across the batch and use the resulting value in the updates.\n",
        "        gradient_b = np.mean(gradient_b)\n",
        "        gradient_w = np.mean(gradient_w,axis=0)\n",
        "        \n",
        "        weights = weights - lr * gradient_w\n",
        "        bias = bias - lr * gradient_b\n",
        "    \n",
        "    # Record the progress of the current classifier.\n",
        "    print(\"Classifier %d: Epoch %d/%d.\\tLoss: %f\" % (num, epoch+1, epochs, loss_epoch/num_ims))\n",
        "    loss_avgs.append(loss_epoch/num_ims)\n",
        "  print()\n",
        "  \n",
        "  return (weights, bias, loss_avgs)\n",
        "\n",
        "# Train a list of classifiers, one for each digit.\n",
        "classif_list = [classifier(i) for i in range(10)]"
      ],
      "execution_count": 6,
      "outputs": [
        {
          "output_type": "stream",
          "text": [
            "Classifier 0: Epoch 1/10.\tLoss: 0.041435\n",
            "Classifier 0: Epoch 2/10.\tLoss: 0.015266\n",
            "Classifier 0: Epoch 3/10.\tLoss: 0.011954\n",
            "Classifier 0: Epoch 4/10.\tLoss: 0.010156\n",
            "Classifier 0: Epoch 5/10.\tLoss: 0.009037\n",
            "Classifier 0: Epoch 6/10.\tLoss: 0.008281\n",
            "Classifier 0: Epoch 7/10.\tLoss: 0.007703\n",
            "Classifier 0: Epoch 8/10.\tLoss: 0.007276\n",
            "Classifier 0: Epoch 9/10.\tLoss: 0.006934\n",
            "Classifier 0: Epoch 10/10.\tLoss: 0.006660\n",
            "\n",
            "Classifier 1: Epoch 1/10.\tLoss: 0.052234\n",
            "Classifier 1: Epoch 2/10.\tLoss: 0.024902\n",
            "Classifier 1: Epoch 3/10.\tLoss: 0.013181\n",
            "Classifier 1: Epoch 4/10.\tLoss: 0.009432\n",
            "Classifier 1: Epoch 5/10.\tLoss: 0.008093\n",
            "Classifier 1: Epoch 6/10.\tLoss: 0.007358\n",
            "Classifier 1: Epoch 7/10.\tLoss: 0.006861\n",
            "Classifier 1: Epoch 8/10.\tLoss: 0.006480\n",
            "Classifier 1: Epoch 9/10.\tLoss: 0.006175\n",
            "Classifier 1: Epoch 10/10.\tLoss: 0.005931\n",
            "\n",
            "Classifier 2: Epoch 1/10.\tLoss: 0.055408\n",
            "Classifier 2: Epoch 2/10.\tLoss: 0.048244\n",
            "Classifier 2: Epoch 3/10.\tLoss: 0.040038\n",
            "Classifier 2: Epoch 4/10.\tLoss: 0.027210\n",
            "Classifier 2: Epoch 5/10.\tLoss: 0.019977\n",
            "Classifier 2: Epoch 6/10.\tLoss: 0.017269\n",
            "Classifier 2: Epoch 7/10.\tLoss: 0.015894\n",
            "Classifier 2: Epoch 8/10.\tLoss: 0.014918\n",
            "Classifier 2: Epoch 9/10.\tLoss: 0.014200\n",
            "Classifier 2: Epoch 10/10.\tLoss: 0.013629\n",
            "\n",
            "Classifier 3: Epoch 1/10.\tLoss: 0.055606\n",
            "Classifier 3: Epoch 2/10.\tLoss: 0.051225\n",
            "Classifier 3: Epoch 3/10.\tLoss: 0.051099\n",
            "Classifier 3: Epoch 4/10.\tLoss: 0.051036\n",
            "Classifier 3: Epoch 5/10.\tLoss: 0.050971\n",
            "Classifier 3: Epoch 6/10.\tLoss: 0.050873\n",
            "Classifier 3: Epoch 7/10.\tLoss: 0.050661\n",
            "Classifier 3: Epoch 8/10.\tLoss: 0.050066\n",
            "Classifier 3: Epoch 9/10.\tLoss: 0.047096\n",
            "Classifier 3: Epoch 10/10.\tLoss: 0.033880\n",
            "\n",
            "Classifier 4: Epoch 1/10.\tLoss: 0.037914\n",
            "Classifier 4: Epoch 2/10.\tLoss: 0.020770\n",
            "Classifier 4: Epoch 3/10.\tLoss: 0.017305\n",
            "Classifier 4: Epoch 4/10.\tLoss: 0.015322\n",
            "Classifier 4: Epoch 5/10.\tLoss: 0.014057\n",
            "Classifier 4: Epoch 6/10.\tLoss: 0.013179\n",
            "Classifier 4: Epoch 7/10.\tLoss: 0.012531\n",
            "Classifier 4: Epoch 8/10.\tLoss: 0.012012\n",
            "Classifier 4: Epoch 9/10.\tLoss: 0.011582\n",
            "Classifier 4: Epoch 10/10.\tLoss: 0.011238\n",
            "\n",
            "Classifier 5: Epoch 1/10.\tLoss: 0.051999\n",
            "Classifier 5: Epoch 2/10.\tLoss: 0.045355\n",
            "Classifier 5: Epoch 3/10.\tLoss: 0.045278\n",
            "Classifier 5: Epoch 4/10.\tLoss: 0.045247\n",
            "Classifier 5: Epoch 5/10.\tLoss: 0.045226\n",
            "Classifier 5: Epoch 6/10.\tLoss: 0.045209\n",
            "Classifier 5: Epoch 7/10.\tLoss: 0.045192\n",
            "Classifier 5: Epoch 8/10.\tLoss: 0.045173\n",
            "Classifier 5: Epoch 9/10.\tLoss: 0.045150\n",
            "Classifier 5: Epoch 10/10.\tLoss: 0.045119\n",
            "\n",
            "Classifier 6: Epoch 1/10.\tLoss: 0.057396\n",
            "Classifier 6: Epoch 2/10.\tLoss: 0.049751\n",
            "Classifier 6: Epoch 3/10.\tLoss: 0.049517\n",
            "Classifier 6: Epoch 4/10.\tLoss: 0.049425\n",
            "Classifier 6: Epoch 5/10.\tLoss: 0.049337\n",
            "Classifier 6: Epoch 6/10.\tLoss: 0.049125\n",
            "Classifier 6: Epoch 7/10.\tLoss: 0.048225\n",
            "Classifier 6: Epoch 8/10.\tLoss: 0.044425\n",
            "Classifier 6: Epoch 9/10.\tLoss: 0.034706\n",
            "Classifier 6: Epoch 10/10.\tLoss: 0.019312\n",
            "\n",
            "Classifier 7: Epoch 1/10.\tLoss: 0.035341\n",
            "Classifier 7: Epoch 2/10.\tLoss: 0.017222\n",
            "Classifier 7: Epoch 3/10.\tLoss: 0.014042\n",
            "Classifier 7: Epoch 4/10.\tLoss: 0.012466\n",
            "Classifier 7: Epoch 5/10.\tLoss: 0.011454\n",
            "Classifier 7: Epoch 6/10.\tLoss: 0.010762\n",
            "Classifier 7: Epoch 7/10.\tLoss: 0.010262\n",
            "Classifier 7: Epoch 8/10.\tLoss: 0.009887\n",
            "Classifier 7: Epoch 9/10.\tLoss: 0.009587\n",
            "Classifier 7: Epoch 10/10.\tLoss: 0.009350\n",
            "\n",
            "Classifier 8: Epoch 1/10.\tLoss: 0.058085\n",
            "Classifier 8: Epoch 2/10.\tLoss: 0.049232\n",
            "Classifier 8: Epoch 3/10.\tLoss: 0.049008\n",
            "Classifier 8: Epoch 4/10.\tLoss: 0.048922\n",
            "Classifier 8: Epoch 5/10.\tLoss: 0.048876\n",
            "Classifier 8: Epoch 6/10.\tLoss: 0.048848\n",
            "Classifier 8: Epoch 7/10.\tLoss: 0.048829\n",
            "Classifier 8: Epoch 8/10.\tLoss: 0.048814\n",
            "Classifier 8: Epoch 9/10.\tLoss: 0.048802\n",
            "Classifier 8: Epoch 10/10.\tLoss: 0.048793\n",
            "\n",
            "Classifier 9: Epoch 1/10.\tLoss: 0.054351\n",
            "Classifier 9: Epoch 2/10.\tLoss: 0.049574\n",
            "Classifier 9: Epoch 3/10.\tLoss: 0.049395\n",
            "Classifier 9: Epoch 4/10.\tLoss: 0.049243\n",
            "Classifier 9: Epoch 5/10.\tLoss: 0.049046\n",
            "Classifier 9: Epoch 6/10.\tLoss: 0.048835\n",
            "Classifier 9: Epoch 7/10.\tLoss: 0.048621\n",
            "Classifier 9: Epoch 8/10.\tLoss: 0.048427\n",
            "Classifier 9: Epoch 9/10.\tLoss: 0.048235\n",
            "Classifier 9: Epoch 10/10.\tLoss: 0.047985\n",
            "\n"
          ],
          "name": "stdout"
        }
      ]
    },
    {
      "metadata": {
        "id": "KxnzlSXyRicR",
        "colab_type": "code",
        "colab": {
          "base_uri": "https://localhost:8080/",
          "height": 375
        },
        "outputId": "3cc6914f-5eb9-4851-cb29-f9532304ab6f"
      },
      "cell_type": "code",
      "source": [
        "eps = range(1, epochs + 1)\n",
        "colors = ['red', 'green', 'purple', 'yellow', 'blue', 'cyan', 'magenta', 'brown', 'gray', 'black']\n",
        "for num in range(10):\n",
        "  class_name = \"Classifier %d\" % num\n",
        "  plt.plot(eps, classif_list[num][2], colors[num], label = class_name)\n",
        "plt.title('Training and test loss')\n",
        "plt.xlabel('Epochs')\n",
        "plt.ylabel('Loss')\n",
        "plt.legend(bbox_to_anchor=(1.05, 1), loc=2, borderaxespad=0.)\n",
        "plt.show()"
      ],
      "execution_count": 11,
      "outputs": [
        {
          "output_type": "display_data",
          "data": {
            "image/png": "[encoded data removed]",
            "text/plain": [
              "<Figure size 576x396 with 1 Axes>"
            ]
          },
          "metadata": {
            "tags": []
          }
        }
      ]
    },
    {
      "metadata": {
        "id": "L-wbRGCqK5G_",
        "colab_type": "text"
      },
      "cell_type": "markdown",
      "source": [
        "## Prediction function\n",
        "\n",
        "This function takes a trained model for a classifier and a test example, and calculates the probability that the example is the number that the model is trained to recognize."
      ]
    },
    {
      "metadata": {
        "id": "e78p-i-lZ4rA",
        "colab_type": "code",
        "colab": {}
      },
      "cell_type": "code",
      "source": [
        "def predict(model, x):\n",
        "  weights = model[0]\n",
        "  bias = model[1]\n",
        "  \n",
        "  z = x.dot(weights) + bias\n",
        "  return activation(z)"
      ],
      "execution_count": 0,
      "outputs": []
    },
    {
      "metadata": {
        "id": "9IQsbMBRLKfN",
        "colab_type": "text"
      },
      "cell_type": "markdown",
      "source": [
        "## Checking accuracy of each classifier\n",
        "\n",
        "For each classifier, we pass it into a function that will determine how accurate the classifier is at recognizing its number by testing it on the entire test data set."
      ]
    },
    {
      "metadata": {
        "colab_type": "code",
        "outputId": "2edb3e8a-2dd7-4c62-f547-8290b16d3b7d",
        "id": "kaDaCRNfxAPP",
        "colab": {
          "base_uri": "https://localhost:8080/",
          "height": 212
        }
      },
      "cell_type": "code",
      "source": [
        "def single_classf_acc(num):\n",
        "  num_true = 0\n",
        "  \n",
        "  # Convert all test labels to their binary form for the number\n",
        "  # being recognized.\n",
        "  test_labels = convert_labels(test_labels_original, num)\n",
        "  \n",
        "  for i in range(len(test_images)):\n",
        "    xi = test_images[i]\n",
        "    yi = test_labels[i]\n",
        "    y_pred = predict(classif_list[num], xi)\n",
        "    \n",
        "    if y_pred>=0.5:\n",
        "      y_pred = 1\n",
        "    else:\n",
        "      y_pred = 0\n",
        "\n",
        "    if yi == y_pred:\n",
        "      num_true+=1\n",
        "\n",
        "  print(\"Classifier %d Accuracy: %f\" % (num, num_true/len(test_images)))\n",
        "\n",
        "print(\"Individual Accuracies of Classifiers:\")\n",
        "x = [single_classf_acc(i) for i in range(10)]"
      ],
      "execution_count": 9,
      "outputs": [
        {
          "output_type": "stream",
          "text": [
            "Individual Accuracies of Classifiers:\n",
            "Classifier 0 Accuracy: 0.986500\n",
            "Classifier 1 Accuracy: 0.988100\n",
            "Classifier 2 Accuracy: 0.972900\n",
            "Classifier 3 Accuracy: 0.940400\n",
            "Classifier 4 Accuracy: 0.971200\n",
            "Classifier 5 Accuracy: 0.910900\n",
            "Classifier 6 Accuracy: 0.962200\n",
            "Classifier 7 Accuracy: 0.979400\n",
            "Classifier 8 Accuracy: 0.902600\n",
            "Classifier 9 Accuracy: 0.900800\n"
          ],
          "name": "stdout"
        }
      ]
    },
    {
      "metadata": {
        "id": "_sJwUfiBL51K",
        "colab_type": "text"
      },
      "cell_type": "markdown",
      "source": [
        "## Finding the accuracy of being able to recognize any number\n",
        "\n",
        "Using the list of classifiers, pass the test data to them, and using argmax, determine which number each example is by choosing the classifier that \"screams hardest\".  Ouput how accurately the classifiers do this."
      ]
    },
    {
      "metadata": {
        "id": "hvJaDgxTc8tM",
        "colab_type": "code",
        "outputId": "b19d8cb7-b8ba-4209-9721-224b512df209",
        "colab": {
          "base_uri": "https://localhost:8080/",
          "height": 34
        }
      },
      "cell_type": "code",
      "source": [
        "num_true = 0\n",
        "for i in range(len(test_images)):\n",
        "  xi = test_images[i]\n",
        "  yi = test_labels_original[i]\n",
        "  y_pred = np.argmax([predict(classif_list[i], xi) for i in range(10)])\n",
        "  \n",
        "  if yi == y_pred:\n",
        "    num_true+=1\n",
        "    \n",
        "acc = num_true/len(test_images)\n",
        "print(\"Overall Recognition Accuracy: %f\" % acc)"
      ],
      "execution_count": 10,
      "outputs": [
        {
          "output_type": "stream",
          "text": [
            "Overall Recognition Accuracy: 0.665800\n"
          ],
          "name": "stdout"
        }
      ]
    }
  ]
}