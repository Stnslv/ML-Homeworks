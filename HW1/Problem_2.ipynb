{
  "nbformat": 4,
  "nbformat_minor": 0,
  "metadata": {
    "colab": {
      "name": "Problem_2.ipynb",
      "version": "0.3.2",
      "provenance": [],
      "collapsed_sections": []
    },
    "kernelspec": {
      "name": "python3",
      "display_name": "Python 3"
    },
    "accelerator": "GPU"
  },
  "cells": [
    {
      "metadata": {
        "id": "vUqn6fkhqdQU",
        "colab_type": "text"
      },
      "cell_type": "markdown",
      "source": [
        "# Problem 2: 10 Classifiers with logistic regression and Binary Cross-Entropy"
      ]
    },
    {
      "metadata": {
        "id": "f7RAJZovEuWf",
        "colab_type": "text"
      },
      "cell_type": "markdown",
      "source": [
        "## Import image data"
      ]
    },
    {
      "metadata": {
        "id": "CF3GDc3L3vPC",
        "colab_type": "code",
        "outputId": "1ffac730-85e3-4b72-938e-be003d85063a",
        "colab": {
          "base_uri": "https://localhost:8080/",
          "height": 34
        }
      },
      "cell_type": "code",
      "source": [
        "from keras.datasets import mnist\n",
        "import numpy as np\n",
        "import matplotlib.pyplot as plt\n",
        "\n",
        "(train_images_original, train_labels_original), (test_images_original, test_labels_original) = mnist.load_data()"
      ],
      "execution_count": 1,
      "outputs": [
        {
          "output_type": "stream",
          "text": [
            "Using TensorFlow backend.\n"
          ],
          "name": "stderr"
        }
      ]
    },
    {
      "metadata": {
        "id": "G90d4jBiE1X_",
        "colab_type": "text"
      },
      "cell_type": "markdown",
      "source": [
        "## Preparing image data and hyperparameters\n",
        "\n",
        "Problem 2 is almost exactly like Problem 1.  Only the loss, one line of code in the classifier, and the hyperparameter values have changed."
      ]
    },
    {
      "metadata": {
        "id": "OefQa4xdSHfP",
        "colab_type": "code",
        "colab": {}
      },
      "cell_type": "code",
      "source": [
        "train_images = train_images_original.reshape((60000, 28 * 28))\n",
        "train_images = train_images.astype('float32') / 255\n",
        "\n",
        "test_images = test_images_original.reshape((10000, 28 * 28))\n",
        "test_images = test_images.astype('float32') / 255\n",
        "\n",
        "epochs = 10\n",
        "batch_size = 64\n",
        "lr = 0.55"
      ],
      "execution_count": 0,
      "outputs": []
    },
    {
      "metadata": {
        "id": "GwYyKegIFvNZ",
        "colab_type": "text"
      },
      "cell_type": "markdown",
      "source": [
        "## Function for converting labels to binary representation\n",
        "\n",
        "This vectorized function takes each label in a list of labels, and, depending on the classifier being made, converts it to a binary label.  So if the classifier is for recognizing the number 2, then each label corresponding to 2 will be converted to 1 and all other labels are 0."
      ]
    },
    {
      "metadata": {
        "id": "e9uG-xMmSPgL",
        "colab_type": "code",
        "colab": {}
      },
      "cell_type": "code",
      "source": [
        "def convert_labels(old_label, new_label):\n",
        "  return 1 if old_label == new_label else 0\n",
        "convert_labels = np.vectorize(convert_labels)"
      ],
      "execution_count": 0,
      "outputs": []
    },
    {
      "metadata": {
        "id": "G74vtgUFGNkV",
        "colab_type": "text"
      },
      "cell_type": "markdown",
      "source": [
        "## Logistic regression activation function\n",
        "\n",
        "This function takes each element in a list of weighted inputs and passes it to the sigmoid."
      ]
    },
    {
      "metadata": {
        "id": "SrGWXTergHqw",
        "colab_type": "code",
        "colab": {}
      },
      "cell_type": "code",
      "source": [
        "def activation(z):\n",
        "  return 1/(1 + np.exp(-z))"
      ],
      "execution_count": 0,
      "outputs": []
    },
    {
      "metadata": {
        "id": "QNJ8pP6sHtza",
        "colab_type": "text"
      },
      "cell_type": "markdown",
      "source": [
        "## Binary cross-entropy loss function\n",
        "\n",
        "This function takes the binary cross-entropy error between the activation result and the label.  It seems to be far more stable than mean squared error, as using it in calculating partial derivatives leads to far better results"
      ]
    },
    {
      "metadata": {
        "id": "JZjxOsmdHsTD",
        "colab_type": "code",
        "colab": {}
      },
      "cell_type": "code",
      "source": [
        "def loss(a,y):\n",
        "  return -y * np.log(a) - (1 - y) * np.log(1 - a)"
      ],
      "execution_count": 0,
      "outputs": []
    },
    {
      "metadata": {
        "id": "sWUc-uunG54y",
        "colab_type": "text"
      },
      "cell_type": "markdown",
      "source": [
        "## Classifier for each number\n",
        "\n",
        "This classifier takes as input the number we will be training to classify.  It then converts all labels to binary representations for that number, and trains the network.  We do this for each number from 0 to 9. Each classifier returns the weights, bias, and list of loss values."
      ]
    },
    {
      "metadata": {
        "colab_type": "code",
        "id": "41C7F6yLGDau",
        "colab": {
          "base_uri": "https://localhost:8080/",
          "height": 1972
        },
        "outputId": "dfb41aef-d0ef-43dc-bbf9-a5979b1bf259"
      },
      "cell_type": "code",
      "source": [
        "def classifier(num):\n",
        "  # Convert labels to binary representation for number being trained.\n",
        "  train_labels = convert_labels(train_labels_original, num)\n",
        "  # Initialize random weights and bias.\n",
        "  weights = np.random.randn(784)\n",
        "  bias = np.random.randn()\n",
        "  \n",
        "  num_ims = len(train_images)\n",
        "  \n",
        "  # Average loss values across epochs\n",
        "  loss_avgs = []\n",
        "  \n",
        "  for epoch in range(epochs):\n",
        "    # Shuffle the training data on each epoch.\n",
        "    shuffled_i = np.random.permutation(num_ims)\n",
        "    X = train_images[shuffled_i]\n",
        "    Y = train_labels[shuffled_i]\n",
        "    \n",
        "    # Calculate the average loss on each epoch.\n",
        "    loss_epoch = 0.0\n",
        "    for i in range(0, num_ims, batch_size):\n",
        "        x = X[i:i+batch_size]\n",
        "        y = Y[i:i+batch_size]\n",
        "        \n",
        "        # Take each training example in the batch and dot it with the\n",
        "        # weights and then add the bias to get the weighted input.\n",
        "        z = x.dot(weights) + bias\n",
        "        # Pass the weighted input to the activation.\n",
        "        a = activation(z)\n",
        "        \n",
        "        # Calculate the loss for all examples in batch and add it to loss for the epoch.\n",
        "        loss_epoch += np.sum(loss(a, y))\n",
        "        \n",
        "        # Calculate the gradients with respect to the weights and bias\n",
        "        # for each example.  For Problem 2, this is the only line of code\n",
        "        # that changes in this function, as now we are using the partial derivatives \n",
        "        # of the binary cross-entropy loss.\n",
        "        gradient_b = a - y\n",
        "        \n",
        "        # We need to reshape so that the vectorized operation for the gradient\n",
        "        # is done correctly.\n",
        "        gradient_b = np.reshape(gradient_b, (len(gradient_b),1))\n",
        "        gradient_w = x * gradient_b\n",
        "       \n",
        "        # Average the gradients across the batch and use the resulting value in the updates.\n",
        "        gradient_b = np.mean(gradient_b)\n",
        "        gradient_w = np.mean(gradient_w,axis=0)\n",
        "        \n",
        "        weights = weights - lr * gradient_w\n",
        "        bias = bias - lr * gradient_b\n",
        "    \n",
        "    # Record the progress of the current classifier.\n",
        "    print(\"Classifier %d: Epoch %d/%d.\\tLoss: %f\" % (num, epoch+1, epochs, loss_epoch/num_ims))\n",
        "    # Add the average loss for the epoch to list of averages.\n",
        "    loss_avgs.append(loss_epoch/num_ims)\n",
        "  print()\n",
        "  \n",
        "  return (weights, bias, loss_avgs)\n",
        "\n",
        "# Train a list of classifiers, one for each digit.\n",
        "classif_list = [classifier(i) for i in range(10)]"
      ],
      "execution_count": 6,
      "outputs": [
        {
          "output_type": "stream",
          "text": [
            "Classifier 0: Epoch 1/10.\tLoss: 0.097978\n",
            "Classifier 0: Epoch 2/10.\tLoss: 0.048739\n",
            "Classifier 0: Epoch 3/10.\tLoss: 0.041284\n",
            "Classifier 0: Epoch 4/10.\tLoss: 0.037002\n",
            "Classifier 0: Epoch 5/10.\tLoss: 0.034571\n",
            "Classifier 0: Epoch 6/10.\tLoss: 0.032839\n",
            "Classifier 0: Epoch 7/10.\tLoss: 0.031648\n",
            "Classifier 0: Epoch 8/10.\tLoss: 0.030579\n",
            "Classifier 0: Epoch 9/10.\tLoss: 0.029994\n",
            "Classifier 0: Epoch 10/10.\tLoss: 0.029262\n",
            "\n",
            "Classifier 1: Epoch 1/10.\tLoss: 0.080984\n",
            "Classifier 1: Epoch 2/10.\tLoss: 0.044675\n",
            "Classifier 1: Epoch 3/10.\tLoss: 0.038903\n",
            "Classifier 1: Epoch 4/10.\tLoss: 0.036176\n",
            "Classifier 1: Epoch 5/10.\tLoss: 0.034351\n",
            "Classifier 1: Epoch 6/10.\tLoss: 0.033060\n",
            "Classifier 1: Epoch 7/10.\tLoss: 0.031933\n",
            "Classifier 1: Epoch 8/10.\tLoss: 0.031384\n",
            "Classifier 1: Epoch 9/10.\tLoss: 0.030519\n",
            "Classifier 1: Epoch 10/10.\tLoss: 0.030048\n",
            "\n",
            "Classifier 2: Epoch 1/10.\tLoss: 0.167398\n",
            "Classifier 2: Epoch 2/10.\tLoss: 0.098403\n",
            "Classifier 2: Epoch 3/10.\tLoss: 0.089068\n",
            "Classifier 2: Epoch 4/10.\tLoss: 0.084440\n",
            "Classifier 2: Epoch 5/10.\tLoss: 0.080496\n",
            "Classifier 2: Epoch 6/10.\tLoss: 0.078734\n",
            "Classifier 2: Epoch 7/10.\tLoss: 0.076770\n",
            "Classifier 2: Epoch 8/10.\tLoss: 0.075677\n",
            "Classifier 2: Epoch 9/10.\tLoss: 0.074660\n",
            "Classifier 2: Epoch 10/10.\tLoss: 0.073238\n",
            "\n",
            "Classifier 3: Epoch 1/10.\tLoss: 0.193777\n",
            "Classifier 3: Epoch 2/10.\tLoss: 0.124022\n",
            "Classifier 3: Epoch 3/10.\tLoss: 0.109756\n",
            "Classifier 3: Epoch 4/10.\tLoss: 0.102139\n",
            "Classifier 3: Epoch 5/10.\tLoss: 0.097704\n",
            "Classifier 3: Epoch 6/10.\tLoss: 0.095090\n",
            "Classifier 3: Epoch 7/10.\tLoss: 0.092704\n",
            "Classifier 3: Epoch 8/10.\tLoss: 0.091450\n",
            "Classifier 3: Epoch 9/10.\tLoss: 0.089919\n",
            "Classifier 3: Epoch 10/10.\tLoss: 0.088626\n",
            "\n",
            "Classifier 4: Epoch 1/10.\tLoss: 0.157181\n",
            "Classifier 4: Epoch 2/10.\tLoss: 0.080714\n",
            "Classifier 4: Epoch 3/10.\tLoss: 0.070810\n",
            "Classifier 4: Epoch 4/10.\tLoss: 0.066019\n",
            "Classifier 4: Epoch 5/10.\tLoss: 0.062856\n",
            "Classifier 4: Epoch 6/10.\tLoss: 0.060619\n",
            "Classifier 4: Epoch 7/10.\tLoss: 0.058852\n",
            "Classifier 4: Epoch 8/10.\tLoss: 0.057819\n",
            "Classifier 4: Epoch 9/10.\tLoss: 0.056317\n",
            "Classifier 4: Epoch 10/10.\tLoss: 0.055685\n",
            "\n",
            "Classifier 5: Epoch 1/10.\tLoss: 0.228027\n",
            "Classifier 5: Epoch 2/10.\tLoss: 0.136603\n",
            "Classifier 5: Epoch 3/10.\tLoss: 0.118820\n",
            "Classifier 5: Epoch 4/10.\tLoss: 0.109741\n",
            "Classifier 5: Epoch 5/10.\tLoss: 0.104765\n",
            "Classifier 5: Epoch 6/10.\tLoss: 0.101319\n",
            "Classifier 5: Epoch 7/10.\tLoss: 0.098495\n",
            "Classifier 5: Epoch 8/10.\tLoss: 0.096656\n",
            "Classifier 5: Epoch 9/10.\tLoss: 0.095032\n",
            "Classifier 5: Epoch 10/10.\tLoss: 0.094118\n",
            "\n",
            "Classifier 6: Epoch 1/10.\tLoss: 0.117854\n",
            "Classifier 6: Epoch 2/10.\tLoss: 0.064042\n",
            "Classifier 6: Epoch 3/10.\tLoss: 0.056507\n",
            "Classifier 6: Epoch 4/10.\tLoss: 0.052904\n",
            "Classifier 6: Epoch 5/10.\tLoss: 0.049866\n",
            "Classifier 6: Epoch 6/10.\tLoss: 0.048495\n",
            "Classifier 6: Epoch 7/10.\tLoss: 0.046820\n",
            "Classifier 6: Epoch 8/10.\tLoss: 0.045816\n",
            "Classifier 6: Epoch 9/10.\tLoss: 0.045095\n",
            "Classifier 6: Epoch 10/10.\tLoss: 0.044218\n",
            "\n",
            "Classifier 7: Epoch 1/10.\tLoss: 0.120948\n",
            "Classifier 7: Epoch 2/10.\tLoss: 0.074120\n",
            "Classifier 7: Epoch 3/10.\tLoss: 0.065485\n",
            "Classifier 7: Epoch 4/10.\tLoss: 0.061588\n",
            "Classifier 7: Epoch 5/10.\tLoss: 0.058391\n",
            "Classifier 7: Epoch 6/10.\tLoss: 0.056493\n",
            "Classifier 7: Epoch 7/10.\tLoss: 0.055511\n",
            "Classifier 7: Epoch 8/10.\tLoss: 0.054533\n",
            "Classifier 7: Epoch 9/10.\tLoss: 0.053219\n",
            "Classifier 7: Epoch 10/10.\tLoss: 0.052202\n",
            "\n",
            "Classifier 8: Epoch 1/10.\tLoss: 0.290205\n",
            "Classifier 8: Epoch 2/10.\tLoss: 0.159018\n",
            "Classifier 8: Epoch 3/10.\tLoss: 0.142696\n",
            "Classifier 8: Epoch 4/10.\tLoss: 0.136143\n",
            "Classifier 8: Epoch 5/10.\tLoss: 0.132731\n",
            "Classifier 8: Epoch 6/10.\tLoss: 0.129770\n",
            "Classifier 8: Epoch 7/10.\tLoss: 0.128501\n",
            "Classifier 8: Epoch 8/10.\tLoss: 0.126485\n",
            "Classifier 8: Epoch 9/10.\tLoss: 0.126294\n",
            "Classifier 8: Epoch 10/10.\tLoss: 0.125372\n",
            "\n",
            "Classifier 9: Epoch 1/10.\tLoss: 0.230209\n",
            "Classifier 9: Epoch 2/10.\tLoss: 0.138704\n",
            "Classifier 9: Epoch 3/10.\tLoss: 0.125519\n",
            "Classifier 9: Epoch 4/10.\tLoss: 0.119009\n",
            "Classifier 9: Epoch 5/10.\tLoss: 0.115663\n",
            "Classifier 9: Epoch 6/10.\tLoss: 0.112560\n",
            "Classifier 9: Epoch 7/10.\tLoss: 0.110974\n",
            "Classifier 9: Epoch 8/10.\tLoss: 0.109091\n",
            "Classifier 9: Epoch 9/10.\tLoss: 0.108248\n",
            "Classifier 9: Epoch 10/10.\tLoss: 0.107456\n",
            "\n"
          ],
          "name": "stdout"
        }
      ]
    },
    {
      "metadata": {
        "id": "0XCV60fUcxHj",
        "colab_type": "text"
      },
      "cell_type": "markdown",
      "source": [
        "## Plotting average loss over epochs for each classifier"
      ]
    },
    {
      "metadata": {
        "id": "KxnzlSXyRicR",
        "colab_type": "code",
        "colab": {
          "base_uri": "https://localhost:8080/",
          "height": 375
        },
        "outputId": "25023526-4bc9-4adc-b90b-1c3cd889ade9"
      },
      "cell_type": "code",
      "source": [
        "eps = range(1, epochs + 1)\n",
        "colors = ['red', 'green', 'purple', 'yellow', 'blue', 'cyan', 'magenta', 'brown', 'gray', 'black']\n",
        "for num in range(10):\n",
        "  class_name = \"Classifier %d\" % num\n",
        "  plt.plot(eps, classif_list[num][2], colors[num], label = class_name)\n",
        "\n",
        "plt.title('Training and test loss')\n",
        "plt.xlabel('Epochs')\n",
        "plt.ylabel('Loss')\n",
        "plt.legend(bbox_to_anchor=(1.05, 1), loc=2, borderaxespad=0.)\n",
        "plt.show()"
      ],
      "execution_count": 7,
      "outputs": [
        {
          "output_type": "display_data",
          "data": {
            "image/png": "[encoded data removed]",
            "text/plain": [
              "<Figure size 576x396 with 1 Axes>"
            ]
          },
          "metadata": {
            "tags": []
          }
        }
      ]
    },
    {
      "metadata": {
        "id": "L-wbRGCqK5G_",
        "colab_type": "text"
      },
      "cell_type": "markdown",
      "source": [
        "## Prediction function\n",
        "\n",
        "This function takes a trained model for a classifier and a test example, and calculates the probability that the example is the number that the model is trained to recognize."
      ]
    },
    {
      "metadata": {
        "id": "e78p-i-lZ4rA",
        "colab_type": "code",
        "colab": {}
      },
      "cell_type": "code",
      "source": [
        "def predict(model, x):\n",
        "  weights = model[0]\n",
        "  bias = model[1]\n",
        "  \n",
        "  z = x.dot(weights) + bias\n",
        "  return activation(z)"
      ],
      "execution_count": 0,
      "outputs": []
    },
    {
      "metadata": {
        "id": "9IQsbMBRLKfN",
        "colab_type": "text"
      },
      "cell_type": "markdown",
      "source": [
        "## Checking accuracy of each classifier\n",
        "\n",
        "For each classifier, we pass it into a function that will determine how accurate the classifier is at recognizing its number by testing it on the entire test data set."
      ]
    },
    {
      "metadata": {
        "colab_type": "code",
        "outputId": "e746adcb-9248-4a0d-8f22-3ad8ee58180d",
        "id": "kaDaCRNfxAPP",
        "colab": {
          "base_uri": "https://localhost:8080/",
          "height": 212
        }
      },
      "cell_type": "code",
      "source": [
        "def single_classf_acc(num):\n",
        "  num_true = 0\n",
        "  \n",
        "  # Convert all test labels to their binary form for the number\n",
        "  # being recognized.\n",
        "  test_labels = convert_labels(test_labels_original, num)\n",
        "  \n",
        "  for i in range(len(test_images)):\n",
        "    xi = test_images[i]\n",
        "    yi = test_labels[i]\n",
        "    y_pred = predict(classif_list[num], xi)\n",
        "    \n",
        "    if y_pred>=0.5:\n",
        "      y_pred = 1\n",
        "    else:\n",
        "      y_pred = 0\n",
        "\n",
        "    if yi == y_pred:\n",
        "      num_true+=1\n",
        "\n",
        "  print(\"Classifier %d Accuracy: %f\" % (num, num_true/len(test_images)))\n",
        "\n",
        "print(\"Individual Accuracies of Classifiers:\")\n",
        "x = [single_classf_acc(i) for i in range(10)]"
      ],
      "execution_count": 9,
      "outputs": [
        {
          "output_type": "stream",
          "text": [
            "Individual Accuracies of Classifiers:\n",
            "Classifier 0 Accuracy: 0.991300\n",
            "Classifier 1 Accuracy: 0.993100\n",
            "Classifier 2 Accuracy: 0.978600\n",
            "Classifier 3 Accuracy: 0.976200\n",
            "Classifier 4 Accuracy: 0.981100\n",
            "Classifier 5 Accuracy: 0.974400\n",
            "Classifier 6 Accuracy: 0.985000\n",
            "Classifier 7 Accuracy: 0.982400\n",
            "Classifier 8 Accuracy: 0.957500\n",
            "Classifier 9 Accuracy: 0.959700\n"
          ],
          "name": "stdout"
        }
      ]
    },
    {
      "metadata": {
        "id": "_sJwUfiBL51K",
        "colab_type": "text"
      },
      "cell_type": "markdown",
      "source": [
        "## Finding the accuracy of being able to recognize any number\n",
        "\n",
        "Using the list of classifiers, pass the test data to them, and using argmax, determine which number each example is by choosing the classifier that \"screams hardest\".  Ouput how accurately the classifiers do this."
      ]
    },
    {
      "metadata": {
        "id": "hvJaDgxTc8tM",
        "colab_type": "code",
        "outputId": "3c18b36b-eea5-4dea-e878-6c21bceaee0a",
        "colab": {
          "base_uri": "https://localhost:8080/",
          "height": 34
        }
      },
      "cell_type": "code",
      "source": [
        "num_true = 0\n",
        "for i in range(len(test_images)):\n",
        "  xi = test_images[i]\n",
        "  yi = test_labels_original[i]\n",
        "  y_pred = np.argmax([predict(classif_list[i], xi) for i in range(10)])\n",
        "  \n",
        "  if yi == y_pred:\n",
        "    num_true+=1\n",
        "    \n",
        "acc = num_true/len(test_images)\n",
        "print(\"Overall Recognition Accuracy: %f\" % acc)"
      ],
      "execution_count": 10,
      "outputs": [
        {
          "output_type": "stream",
          "text": [
            "Overall Recognition Accuracy: 0.914700\n"
          ],
          "name": "stdout"
        }
      ]
    }
  ]
}