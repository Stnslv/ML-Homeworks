{
  "nbformat": 4,
  "nbformat_minor": 0,
  "metadata": {
    "colab": {
      "name": "HW3_Problem_2.ipynb",
      "version": "0.3.2",
      "provenance": [],
      "collapsed_sections": [],
      "toc_visible": true
    },
    "kernelspec": {
      "name": "python3",
      "display_name": "Python 3"
    },
    "accelerator": "GPU"
  },
  "cells": [
    {
      "metadata": {
        "id": "KSrgMJ5vKFzQ",
        "colab_type": "text"
      },
      "cell_type": "markdown",
      "source": [
        "# Fine-tuning VGG19"
      ]
    },
    {
      "metadata": {
        "id": "BqIG8QHMLNOn",
        "colab_type": "text"
      },
      "cell_type": "markdown",
      "source": [
        "## Download the data"
      ]
    },
    {
      "metadata": {
        "id": "t3I1jd7cKV6_",
        "colab_type": "text"
      },
      "cell_type": "markdown",
      "source": [
        "Download the example data, a zip. of 2,000 JPG pictures of cats and dogs and extract it locally in ```/tmp```.\n",
        "\n"
      ]
    },
    {
      "metadata": {
        "id": "JWjprHEXJ5Qi",
        "colab_type": "code",
        "outputId": "e3754e6b-8460-4103-b92e-4ec4175d3e4d",
        "colab": {
          "base_uri": "https://localhost:8080/",
          "height": 204
        }
      },
      "cell_type": "code",
      "source": [
        "!wget --no-check-certificate \\\n",
        "    https://storage.googleapis.com/mledu-datasets/cats_and_dogs_filtered.zip \\\n",
        "    -O /tmp/cats_and_dogs_filtered.zip"
      ],
      "execution_count": 1,
      "outputs": [
        {
          "output_type": "stream",
          "text": [
            "--2019-04-18 03:10:41--  https://storage.googleapis.com/mledu-datasets/cats_and_dogs_filtered.zip\n",
            "Resolving storage.googleapis.com (storage.googleapis.com)... 172.217.212.128, 2607:f8b0:4001:c1d::80\n",
            "Connecting to storage.googleapis.com (storage.googleapis.com)|172.217.212.128|:443... connected.\n",
            "HTTP request sent, awaiting response... 200 OK\n",
            "Length: 68606236 (65M) [application/zip]\n",
            "Saving to: ‘/tmp/cats_and_dogs_filtered.zip’\n",
            "\n",
            "/tmp/cats_and_dogs_ 100%[===================>]  65.43M   159MB/s    in 0.4s    \n",
            "\n",
            "2019-04-18 03:10:42 (159 MB/s) - ‘/tmp/cats_and_dogs_filtered.zip’ saved [68606236/68606236]\n",
            "\n"
          ],
          "name": "stdout"
        }
      ]
    },
    {
      "metadata": {
        "id": "WvoHtdA-K6Rw",
        "colab_type": "code",
        "outputId": "1c9a5ea4-575e-47c4-82c7-bb89301f9e1f",
        "colab": {
          "base_uri": "https://localhost:8080/",
          "height": 34
        }
      },
      "cell_type": "code",
      "source": [
        "import os\n",
        "import zipfile\n",
        "from google.colab import files\n",
        "\n",
        "from keras.applications import VGG19\n",
        "from keras import layers\n",
        "from keras import models\n",
        "from keras import optimizers\n",
        "from keras.regularizers import l1\n",
        "from keras.preprocessing.image import ImageDataGenerator\n",
        "\n",
        "%matplotlib inline\n",
        "import matplotlib.pyplot as plt\n",
        "\n",
        "from keras.callbacks import ModelCheckpoint, LearningRateScheduler\n",
        "from keras.callbacks import ReduceLROnPlateau\n",
        "\n",
        "import numpy as np\n",
        "\n",
        "local_zip = '/tmp/cats_and_dogs_filtered.zip'\n",
        "zip_ref = zipfile.ZipFile(local_zip, 'r')\n",
        "zip_ref.extractall('/tmp')\n",
        "zip_ref.close()"
      ],
      "execution_count": 2,
      "outputs": [
        {
          "output_type": "stream",
          "text": [
            "Using TensorFlow backend.\n"
          ],
          "name": "stderr"
        }
      ]
    },
    {
      "metadata": {
        "id": "dL8ikM89LlsH",
        "colab_type": "code",
        "colab": {}
      },
      "cell_type": "code",
      "source": [
        "base_dir = '/tmp/cats_and_dogs_filtered'\n",
        "train_dir = os.path.join(base_dir, 'train')\n",
        "validation_dir = os.path.join(base_dir, 'validation')\n",
        "\n",
        "# Directory with our training cat pictures\n",
        "train_cats_dir = os.path.join(train_dir, 'cats')\n",
        "\n",
        "# Directory with our training dog pictures\n",
        "train_dogs_dir = os.path.join(train_dir, 'dogs')\n",
        "\n",
        "# Directory with our validation cat pictures\n",
        "validation_cats_dir = os.path.join(validation_dir, 'cats')\n",
        "\n",
        "# Directory with our validation dog pictures\n",
        "validation_dogs_dir = os.path.join(validation_dir, 'dogs')"
      ],
      "execution_count": 0,
      "outputs": []
    },
    {
      "metadata": {
        "id": "kQ48W5T9rHWu",
        "colab_type": "text"
      },
      "cell_type": "markdown",
      "source": [
        "## Load the convolutional base and freeze it"
      ]
    },
    {
      "metadata": {
        "id": "Y0FgtANCXm_H",
        "colab_type": "code",
        "outputId": "084e4dc4-59bc-4eb2-db67-0a713c92065e",
        "colab": {
          "base_uri": "https://localhost:8080/",
          "height": 122
        }
      },
      "cell_type": "code",
      "source": [
        "conv_base = VGG19(\n",
        "    weights='imagenet', \n",
        "    include_top=False, \n",
        "    input_shape=(150, 150, 3))\n",
        "\n",
        "conv_base.trainable = False"
      ],
      "execution_count": 4,
      "outputs": [
        {
          "output_type": "stream",
          "text": [
            "WARNING:tensorflow:From /usr/local/lib/python3.6/dist-packages/tensorflow/python/framework/op_def_library.py:263: colocate_with (from tensorflow.python.framework.ops) is deprecated and will be removed in a future version.\n",
            "Instructions for updating:\n",
            "Colocations handled automatically by placer.\n",
            "Downloading data from https://github.com/fchollet/deep-learning-models/releases/download/v0.1/vgg19_weights_tf_dim_ordering_tf_kernels_notop.h5\n",
            "80142336/80134624 [==============================] - 1s 0us/step\n"
          ],
          "name": "stdout"
        }
      ]
    },
    {
      "metadata": {
        "id": "Qfx6PqhPrb7Q",
        "colab_type": "text"
      },
      "cell_type": "markdown",
      "source": [
        "## Create model to put on top of VGG19\n",
        "\n",
        "This model contains densely connected layers that will use the features extracted from the convolutional base to classify images as either cats or dogs.  Because these models suffer greatly from overfitting, we use a high drop out rate for the dense layer, as well decreasing the size of the dense layer in order to reduce the complexity of the model and further fight overfitting.  Also added is L1-Regularization, which helps against overfitting by emphasizing features that are important in classification and penalizing those that are not."
      ]
    },
    {
      "metadata": {
        "id": "qUpmocDAO3xm",
        "colab_type": "code",
        "outputId": "180e2ef2-0da1-42e4-af88-c60f7461a72e",
        "colab": {
          "base_uri": "https://localhost:8080/",
          "height": 88
        }
      },
      "cell_type": "code",
      "source": [
        "model = models.Sequential()\n",
        "model.add(conv_base)\n",
        "model.add(layers.Flatten())\n",
        "model.add(layers.Dropout(0.3))\n",
        "model.add(layers.Dense(128, activation='relu', kernel_regularizer=l1(0.01), bias_regularizer=l1(0.01)))\n",
        "model.add(layers.Dense(1, activation='sigmoid'))"
      ],
      "execution_count": 5,
      "outputs": [
        {
          "output_type": "stream",
          "text": [
            "WARNING:tensorflow:From /usr/local/lib/python3.6/dist-packages/keras/backend/tensorflow_backend.py:3445: calling dropout (from tensorflow.python.ops.nn_ops) with keep_prob is deprecated and will be removed in a future version.\n",
            "Instructions for updating:\n",
            "Please use `rate` instead of `keep_prob`. Rate should be set to `rate = 1 - keep_prob`.\n"
          ],
          "name": "stdout"
        }
      ]
    },
    {
      "metadata": {
        "id": "Fh6gZSeAjF7c",
        "colab_type": "code",
        "outputId": "78863e00-c50d-45a5-b853-63685bb7104b",
        "colab": {
          "base_uri": "https://localhost:8080/",
          "height": 306
        }
      },
      "cell_type": "code",
      "source": [
        "model.summary()"
      ],
      "execution_count": 6,
      "outputs": [
        {
          "output_type": "stream",
          "text": [
            "_________________________________________________________________\n",
            "Layer (type)                 Output Shape              Param #   \n",
            "=================================================================\n",
            "vgg19 (Model)                (None, 4, 4, 512)         20024384  \n",
            "_________________________________________________________________\n",
            "flatten_1 (Flatten)          (None, 8192)              0         \n",
            "_________________________________________________________________\n",
            "dropout_1 (Dropout)          (None, 8192)              0         \n",
            "_________________________________________________________________\n",
            "dense_1 (Dense)              (None, 128)               1048704   \n",
            "_________________________________________________________________\n",
            "dense_2 (Dense)              (None, 1)                 129       \n",
            "=================================================================\n",
            "Total params: 21,073,217\n",
            "Trainable params: 1,048,833\n",
            "Non-trainable params: 20,024,384\n",
            "_________________________________________________________________\n"
          ],
          "name": "stdout"
        }
      ]
    },
    {
      "metadata": {
        "id": "eZjBiddhi5Qj",
        "colab_type": "text"
      },
      "cell_type": "markdown",
      "source": [
        "## Train the model end to end with frozen convolutional base"
      ]
    },
    {
      "metadata": {
        "id": "tfAQlC2Oi41L",
        "colab_type": "code",
        "outputId": "e0b8f65d-b43b-4730-9ff1-d960b3a0d8bc",
        "colab": {
          "base_uri": "https://localhost:8080/",
          "height": 1482
        }
      },
      "cell_type": "code",
      "source": [
        "# Use batches of powers of two to take advantage of GPU.\n",
        "batches = 32\n",
        "val_steps = int(1000/batches)\n",
        "train_steps = int(2000/batches)\n",
        "\n",
        "# Data augmentation for training data\n",
        "train_datagen = ImageDataGenerator(\n",
        "    rescale=1./255, \n",
        "    rotation_range=40,\n",
        "    width_shift_range=0.2,\n",
        "    height_shift_range=0.2,\n",
        "    shear_range=0.2,\n",
        "    horizontal_flip=True,\n",
        "    fill_mode='nearest'\n",
        ")\n",
        "\n",
        "train_generator = train_datagen.flow_from_directory(\n",
        "    train_dir,\n",
        "    target_size=(150, 150),\n",
        "    batch_size=32,\n",
        "    class_mode='binary')\n",
        "\n",
        "validation_datagen = ImageDataGenerator(rescale=1./255)\n",
        "\n",
        "validation_generator = validation_datagen.flow_from_directory(\n",
        "    validation_dir,\n",
        "    target_size=(150, 150),\n",
        "    batch_size=32,\n",
        "    class_mode='binary')\n",
        "\n",
        "\n",
        "# Compile model with Adam as optimizer.\n",
        "model.compile(\n",
        "    loss='binary_crossentropy', \n",
        "    optimizer=optimizers.Adam(lr=1e-5), \n",
        "    metrics=['acc'])\n",
        "\n",
        "# Training phase\n",
        "history = model.fit_generator(\n",
        "    train_generator,\n",
        "    steps_per_epoch=train_steps,\n",
        "    epochs=40,\n",
        "    validation_data=validation_generator,\n",
        "    validation_steps=val_steps\n",
        ")"
      ],
      "execution_count": 7,
      "outputs": [
        {
          "output_type": "stream",
          "text": [
            "Found 2000 images belonging to 2 classes.\n",
            "Found 1000 images belonging to 2 classes.\n",
            "WARNING:tensorflow:From /usr/local/lib/python3.6/dist-packages/tensorflow/python/ops/math_ops.py:3066: to_int32 (from tensorflow.python.ops.math_ops) is deprecated and will be removed in a future version.\n",
            "Instructions for updating:\n",
            "Use tf.cast instead.\n",
            "Epoch 1/40\n",
            "62/62 [==============================] - 22s 363ms/step - loss: 138.4566 - acc: 0.4561 - val_loss: 135.3027 - val_acc: 0.5081\n",
            "Epoch 2/40\n",
            "62/62 [==============================] - 17s 271ms/step - loss: 132.3346 - acc: 0.5126 - val_loss: 129.2749 - val_acc: 0.5258\n",
            "Epoch 3/40\n",
            "62/62 [==============================] - 16s 250ms/step - loss: 126.3830 - acc: 0.4904 - val_loss: 123.3769 - val_acc: 0.5393\n",
            "Epoch 4/40\n",
            "62/62 [==============================] - 16s 256ms/step - loss: 120.5445 - acc: 0.5227 - val_loss: 117.5914 - val_acc: 0.6064\n",
            "Epoch 5/40\n",
            "62/62 [==============================] - 16s 257ms/step - loss: 114.8423 - acc: 0.5378 - val_loss: 111.9725 - val_acc: 0.6033\n",
            "Epoch 6/40\n",
            "62/62 [==============================] - 17s 277ms/step - loss: 109.2915 - acc: 0.5388 - val_loss: 106.4789 - val_acc: 0.6302\n",
            "Epoch 7/40\n",
            "62/62 [==============================] - 16s 259ms/step - loss: 103.8634 - acc: 0.5610 - val_loss: 101.1209 - val_acc: 0.6322\n",
            "Epoch 8/40\n",
            "62/62 [==============================] - 16s 259ms/step - loss: 98.5835 - acc: 0.5746 - val_loss: 95.9167 - val_acc: 0.6498\n",
            "Epoch 9/40\n",
            "62/62 [==============================] - 16s 259ms/step - loss: 93.4374 - acc: 0.5922 - val_loss: 90.8226 - val_acc: 0.6973\n",
            "Epoch 10/40\n",
            "62/62 [==============================] - 16s 260ms/step - loss: 88.4428 - acc: 0.5912 - val_loss: 85.9028 - val_acc: 0.7014\n",
            "Epoch 11/40\n",
            "62/62 [==============================] - 17s 282ms/step - loss: 83.5740 - acc: 0.6124 - val_loss: 81.0978 - val_acc: 0.7335\n",
            "Epoch 12/40\n",
            "62/62 [==============================] - 16s 262ms/step - loss: 78.8526 - acc: 0.6180 - val_loss: 76.4513 - val_acc: 0.7583\n",
            "Epoch 13/40\n",
            "62/62 [==============================] - 16s 261ms/step - loss: 74.2678 - acc: 0.6331 - val_loss: 71.9441 - val_acc: 0.7345\n",
            "Epoch 14/40\n",
            "62/62 [==============================] - 16s 259ms/step - loss: 69.8195 - acc: 0.6502 - val_loss: 67.5612 - val_acc: 0.7727\n",
            "Epoch 15/40\n",
            "62/62 [==============================] - 16s 260ms/step - loss: 65.5257 - acc: 0.6461 - val_loss: 63.3367 - val_acc: 0.7727\n",
            "Epoch 16/40\n",
            "62/62 [==============================] - 17s 280ms/step - loss: 61.3568 - acc: 0.6603 - val_loss: 59.2483 - val_acc: 0.7562\n",
            "Epoch 17/40\n",
            "62/62 [==============================] - 16s 259ms/step - loss: 57.3467 - acc: 0.6416 - val_loss: 55.2924 - val_acc: 0.7758\n",
            "Epoch 18/40\n",
            "62/62 [==============================] - 17s 274ms/step - loss: 53.4608 - acc: 0.6734 - val_loss: 51.4845 - val_acc: 0.7862\n",
            "Epoch 19/40\n",
            "62/62 [==============================] - 17s 269ms/step - loss: 49.7251 - acc: 0.6608 - val_loss: 47.8181 - val_acc: 0.7603\n",
            "Epoch 20/40\n",
            "62/62 [==============================] - 16s 263ms/step - loss: 46.1183 - acc: 0.6824 - val_loss: 44.2858 - val_acc: 0.7841\n",
            "Epoch 21/40\n",
            "62/62 [==============================] - 17s 277ms/step - loss: 42.6624 - acc: 0.6739 - val_loss: 40.9120 - val_acc: 0.7593\n",
            "Epoch 22/40\n",
            "62/62 [==============================] - 16s 258ms/step - loss: 39.3542 - acc: 0.6714 - val_loss: 37.6511 - val_acc: 0.7893\n",
            "Epoch 23/40\n",
            "62/62 [==============================] - 16s 258ms/step - loss: 36.1658 - acc: 0.6956 - val_loss: 34.5595 - val_acc: 0.7789\n",
            "Epoch 24/40\n",
            "62/62 [==============================] - 16s 258ms/step - loss: 33.1263 - acc: 0.7026 - val_loss: 31.5834 - val_acc: 0.7831\n",
            "Epoch 25/40\n",
            "62/62 [==============================] - 16s 264ms/step - loss: 30.2468 - acc: 0.6749 - val_loss: 28.7745 - val_acc: 0.7665\n",
            "Epoch 26/40\n",
            "62/62 [==============================] - 17s 274ms/step - loss: 27.4856 - acc: 0.7061 - val_loss: 26.0782 - val_acc: 0.8089\n",
            "Epoch 27/40\n",
            "62/62 [==============================] - 16s 260ms/step - loss: 24.8824 - acc: 0.6895 - val_loss: 23.5514 - val_acc: 0.7738\n",
            "Epoch 28/40\n",
            "62/62 [==============================] - 16s 259ms/step - loss: 22.3951 - acc: 0.7243 - val_loss: 21.1454 - val_acc: 0.7862\n",
            "Epoch 29/40\n",
            "62/62 [==============================] - 16s 259ms/step - loss: 20.0698 - acc: 0.7278 - val_loss: 18.8859 - val_acc: 0.7893\n",
            "Epoch 30/40\n",
            "62/62 [==============================] - 17s 266ms/step - loss: 17.8790 - acc: 0.7187 - val_loss: 16.7659 - val_acc: 0.7851\n",
            "Epoch 31/40\n",
            "62/62 [==============================] - 17s 273ms/step - loss: 15.8349 - acc: 0.7157 - val_loss: 14.7951 - val_acc: 0.7800\n",
            "Epoch 32/40\n",
            "62/62 [==============================] - 16s 259ms/step - loss: 13.9150 - acc: 0.7359 - val_loss: 12.9593 - val_acc: 0.7779\n",
            "Epoch 33/40\n",
            "62/62 [==============================] - 16s 260ms/step - loss: 12.1631 - acc: 0.7036 - val_loss: 11.2577 - val_acc: 0.7913\n",
            "Epoch 34/40\n",
            "62/62 [==============================] - 16s 257ms/step - loss: 10.5288 - acc: 0.7187 - val_loss: 9.7020 - val_acc: 0.7841\n",
            "Epoch 35/40\n",
            "62/62 [==============================] - 17s 270ms/step - loss: 9.0426 - acc: 0.7178 - val_loss: 8.2842 - val_acc: 0.7851\n",
            "Epoch 36/40\n",
            "62/62 [==============================] - 17s 268ms/step - loss: 7.6897 - acc: 0.7147 - val_loss: 7.0142 - val_acc: 0.7872\n",
            "Epoch 37/40\n",
            "62/62 [==============================] - 17s 280ms/step - loss: 6.4872 - acc: 0.7303 - val_loss: 5.8804 - val_acc: 0.7727\n",
            "Epoch 38/40\n",
            "62/62 [==============================] - 16s 262ms/step - loss: 5.4238 - acc: 0.7288 - val_loss: 4.8882 - val_acc: 0.7851\n",
            "Epoch 39/40\n",
            "62/62 [==============================] - 16s 258ms/step - loss: 4.4987 - acc: 0.7177 - val_loss: 4.0296 - val_acc: 0.7831\n",
            "Epoch 40/40\n",
            "62/62 [==============================] - 17s 276ms/step - loss: 3.7087 - acc: 0.7394 - val_loss: 3.3234 - val_acc: 0.7955\n"
          ],
          "name": "stdout"
        }
      ]
    },
    {
      "metadata": {
        "id": "xqRc_vHKc92U",
        "colab_type": "text"
      },
      "cell_type": "markdown",
      "source": [
        "## Display curves of loss and accuracy during training"
      ]
    },
    {
      "metadata": {
        "id": "ybWwdzz9bwuQ",
        "colab_type": "code",
        "colab": {
          "base_uri": "https://localhost:8080/",
          "height": 545
        },
        "outputId": "32badb6f-0606-490f-94f5-271b3340a962"
      },
      "cell_type": "code",
      "source": [
        "def plot_graphs(history):\n",
        "  acc = history.history['acc']\n",
        "  val_acc = history.history['val_acc']\n",
        "\n",
        "  loss = history.history['loss']\n",
        "  val_loss = history.history['val_loss']\n",
        "\n",
        "  epochs = range(1, len(acc) + 1)\n",
        "\n",
        "  # training and validation accuracy\n",
        "\n",
        "  plt.plot(epochs, acc, 'r', label='training acc')\n",
        "  plt.plot(epochs, val_acc, 'b', label='validation acc')\n",
        "  plt.title('Training/Validation accuracy')\n",
        "  plt.legend()\n",
        "\n",
        "  plt.figure()\n",
        "\n",
        "  # training and validation loss\n",
        "\n",
        "  plt.plot(epochs, loss, 'r', label='training loss')\n",
        "  plt.plot(epochs, val_loss, 'b', label='validation loss')\n",
        "  plt.title('Training/Validation loss')\n",
        "  plt.legend()\n",
        "\n",
        "  plt.show()\n",
        "\n",
        "plot_graphs(history)"
      ],
      "execution_count": 8,
      "outputs": [
        {
          "output_type": "display_data",
          "data": {
            "image/png": "[encoded data removed]",
            "text/plain": [
              "<Figure size 432x288 with 1 Axes>"
            ]
          },
          "metadata": {
            "tags": []
          }
        },
        {
          "output_type": "display_data",
          "data": {
            "image/png": "[encoded data removed]",
            "text/plain": [
              "<Figure size 432x288 with 1 Axes>"
            ]
          },
          "metadata": {
            "tags": []
          }
        }
      ]
    },
    {
      "metadata": {
        "id": "Ja9yHCtXmhH1",
        "colab_type": "text"
      },
      "cell_type": "markdown",
      "source": [
        "While there appears to be underfitting, this is because of the L1-regularization and the dropout, and in reality both training and validation are steadily improving, as seen by the smooth decrease in the loss.  The real improvement will be seen as we begin fine-tuning."
      ]
    },
    {
      "metadata": {
        "id": "lOWsxpey8lN0",
        "colab_type": "text"
      },
      "cell_type": "markdown",
      "source": [
        "## Fine-tuning\n",
        "\n",
        "In addition to fine-tuning the model, where one convolutional block in the model is unfrozen, we also apply a learning rate schedule.  This way, the hope is that we can squeeze out as much accuracy as possible from the model."
      ]
    },
    {
      "metadata": {
        "id": "PwkVMx8N8qMw",
        "colab_type": "code",
        "colab": {}
      },
      "cell_type": "code",
      "source": [
        "# Unfreeze all layers in block 5 of VGG19.\n",
        "\n",
        "conv_base.trainable = True\n",
        "for layer in conv_base.layers:\n",
        "  if layer.name == 'block5_conv1':\n",
        "    layer.trainable = True"
      ],
      "execution_count": 0,
      "outputs": []
    },
    {
      "metadata": {
        "id": "LfTCY20dhMpn",
        "colab_type": "code",
        "colab": {}
      },
      "cell_type": "code",
      "source": [
        "# Establish the schedule for learning rate decrease.\n",
        "def lr_schedule(epoch):\n",
        "  \n",
        "  lr = 1e-5\n",
        "  \n",
        "  if epoch > 75:\n",
        "      lr *= 1e-3\n",
        "  elif epoch > 50:\n",
        "      lr *= 1e-2\n",
        "  elif epoch > 25:\n",
        "      lr *= 1e-1\n",
        "  return lr"
      ],
      "execution_count": 0,
      "outputs": []
    },
    {
      "metadata": {
        "id": "DyN-J7rs9cvo",
        "colab_type": "code",
        "colab": {
          "base_uri": "https://localhost:8080/",
          "height": 6837
        },
        "outputId": "b3840785-ab4b-40c5-f68f-b30a87596637"
      },
      "cell_type": "code",
      "source": [
        "model.compile(\n",
        "    loss='binary_crossentropy',\n",
        "    optimizer=optimizers.Adam(lr=lr_schedule(0)), \n",
        "    metrics=['acc'])\n",
        "\n",
        "model_type = \"VGG19\"\n",
        "# Prepare model model saving directory.\n",
        "save_dir = os.path.join(os.getcwd(), 'saved_models')\n",
        "\n",
        "# Every time the model has a better validation accuracy than before, update the saved model.\n",
        "model_name = 'cifar10_%s_model.{epoch:03d}.h5' % model_type\n",
        "if not os.path.isdir(save_dir):\n",
        "    os.makedirs(save_dir)\n",
        "filepath = os.path.join(save_dir, model_name)\n",
        "\n",
        "# Prepare callbacks for model saving and for learning rate scheduling.\n",
        "checkpoint = ModelCheckpoint(filepath=filepath,\n",
        "                             monitor='val_acc',\n",
        "                             verbose=1,\n",
        "                             save_best_only=True)\n",
        "\n",
        "# Create the learning rate scheuler and reducer to monitor the model.\n",
        "lr_scheduler = LearningRateScheduler(lr_schedule)\n",
        "lr_reducer = ReduceLROnPlateau(factor=np.sqrt(0.1),\n",
        "                               cooldown=0,\n",
        "                               patience=5,\n",
        "                               min_lr=1e-8)\n",
        "\n",
        "callbacks = [checkpoint, lr_reducer, lr_scheduler]\n",
        "\n",
        "# Train the model.\n",
        "history = model.fit_generator(\n",
        "    train_generator,\n",
        "    steps_per_epoch=train_steps,\n",
        "    epochs=100,\n",
        "    validation_data=validation_generator,\n",
        "    validation_steps=val_steps,\n",
        "    workers=4,\n",
        "    callbacks=callbacks)"
      ],
      "execution_count": 11,
      "outputs": [
        {
          "output_type": "stream",
          "text": [
            "Epoch 1/100\n",
            "62/62 [==============================] - 30s 491ms/step - loss: 2.8970 - acc: 0.8241 - val_loss: 2.4514 - val_acc: 0.9122\n",
            "\n",
            "Epoch 00001: val_acc improved from -inf to 0.91219, saving model to /content/saved_models/cifar10_VGG19_model.001.h5\n",
            "Epoch 2/100\n",
            "62/62 [==============================] - 22s 347ms/step - loss: 2.3098 - acc: 0.8770 - val_loss: 2.0015 - val_acc: 0.9256\n",
            "\n",
            "Epoch 00002: val_acc improved from 0.91219 to 0.92562, saving model to /content/saved_models/cifar10_VGG19_model.002.h5\n",
            "Epoch 3/100\n",
            "62/62 [==============================] - 21s 344ms/step - loss: 1.9137 - acc: 0.9032 - val_loss: 1.7391 - val_acc: 0.9246\n",
            "\n",
            "Epoch 00003: val_acc did not improve from 0.92562\n",
            "Epoch 4/100\n",
            "62/62 [==============================] - 21s 345ms/step - loss: 1.6702 - acc: 0.9194 - val_loss: 1.5432 - val_acc: 0.9442\n",
            "\n",
            "Epoch 00004: val_acc improved from 0.92562 to 0.94421, saving model to /content/saved_models/cifar10_VGG19_model.004.h5\n",
            "Epoch 5/100\n",
            "62/62 [==============================] - 21s 346ms/step - loss: 1.5097 - acc: 0.9305 - val_loss: 1.4070 - val_acc: 0.9463\n",
            "\n",
            "Epoch 00005: val_acc improved from 0.94421 to 0.94628, saving model to /content/saved_models/cifar10_VGG19_model.005.h5\n",
            "Epoch 6/100\n",
            "62/62 [==============================] - 21s 346ms/step - loss: 1.3686 - acc: 0.9400 - val_loss: 1.3301 - val_acc: 0.9483\n",
            "\n",
            "Epoch 00006: val_acc improved from 0.94628 to 0.94835, saving model to /content/saved_models/cifar10_VGG19_model.006.h5\n",
            "Epoch 7/100\n",
            "62/62 [==============================] - 21s 346ms/step - loss: 1.2643 - acc: 0.9516 - val_loss: 1.2884 - val_acc: 0.9360\n",
            "\n",
            "Epoch 00007: val_acc did not improve from 0.94835\n",
            "Epoch 8/100\n",
            "62/62 [==============================] - 21s 347ms/step - loss: 1.1824 - acc: 0.9501 - val_loss: 1.1355 - val_acc: 0.9566\n",
            "\n",
            "Epoch 00008: val_acc improved from 0.94835 to 0.95661, saving model to /content/saved_models/cifar10_VGG19_model.008.h5\n",
            "Epoch 9/100\n",
            "62/62 [==============================] - 21s 347ms/step - loss: 1.1006 - acc: 0.9582 - val_loss: 1.0706 - val_acc: 0.9566\n",
            "\n",
            "Epoch 00009: val_acc did not improve from 0.95661\n",
            "Epoch 10/100\n",
            "62/62 [==============================] - 21s 347ms/step - loss: 1.0069 - acc: 0.9698 - val_loss: 1.0607 - val_acc: 0.9432\n",
            "\n",
            "Epoch 00010: val_acc did not improve from 0.95661\n",
            "Epoch 11/100\n",
            "62/62 [==============================] - 21s 347ms/step - loss: 0.9678 - acc: 0.9556 - val_loss: 0.9625 - val_acc: 0.9597\n",
            "\n",
            "Epoch 00011: val_acc improved from 0.95661 to 0.95971, saving model to /content/saved_models/cifar10_VGG19_model.011.h5\n",
            "Epoch 12/100\n",
            "62/62 [==============================] - 22s 347ms/step - loss: 0.9106 - acc: 0.9617 - val_loss: 0.8955 - val_acc: 0.9638\n",
            "\n",
            "Epoch 00012: val_acc improved from 0.95971 to 0.96384, saving model to /content/saved_models/cifar10_VGG19_model.012.h5\n",
            "Epoch 13/100\n",
            "62/62 [==============================] - 21s 345ms/step - loss: 0.8588 - acc: 0.9637 - val_loss: 0.8921 - val_acc: 0.9587\n",
            "\n",
            "Epoch 00013: val_acc did not improve from 0.96384\n",
            "Epoch 14/100\n",
            "62/62 [==============================] - 21s 345ms/step - loss: 0.7979 - acc: 0.9763 - val_loss: 0.8256 - val_acc: 0.9618\n",
            "\n",
            "Epoch 00014: val_acc did not improve from 0.96384\n",
            "Epoch 15/100\n",
            "62/62 [==============================] - 21s 346ms/step - loss: 0.7611 - acc: 0.9703 - val_loss: 0.8033 - val_acc: 0.9618\n",
            "\n",
            "Epoch 00015: val_acc did not improve from 0.96384\n",
            "Epoch 16/100\n",
            "62/62 [==============================] - 21s 346ms/step - loss: 0.7262 - acc: 0.9733 - val_loss: 0.7196 - val_acc: 0.9711\n",
            "\n",
            "Epoch 00016: val_acc improved from 0.96384 to 0.97107, saving model to /content/saved_models/cifar10_VGG19_model.016.h5\n",
            "Epoch 17/100\n",
            "62/62 [==============================] - 21s 346ms/step - loss: 0.6884 - acc: 0.9768 - val_loss: 0.7124 - val_acc: 0.9659\n",
            "\n",
            "Epoch 00017: val_acc did not improve from 0.97107\n",
            "Epoch 18/100\n",
            "62/62 [==============================] - 21s 345ms/step - loss: 0.6341 - acc: 0.9819 - val_loss: 0.7184 - val_acc: 0.9628\n",
            "\n",
            "Epoch 00018: val_acc did not improve from 0.97107\n",
            "Epoch 19/100\n",
            "62/62 [==============================] - 21s 345ms/step - loss: 0.6222 - acc: 0.9793 - val_loss: 0.6736 - val_acc: 0.9597\n",
            "\n",
            "Epoch 00019: val_acc did not improve from 0.97107\n",
            "Epoch 20/100\n",
            "62/62 [==============================] - 21s 345ms/step - loss: 0.5800 - acc: 0.9829 - val_loss: 0.6282 - val_acc: 0.9649\n",
            "\n",
            "Epoch 00020: val_acc did not improve from 0.97107\n",
            "Epoch 21/100\n",
            "62/62 [==============================] - 21s 346ms/step - loss: 0.5616 - acc: 0.9788 - val_loss: 0.6446 - val_acc: 0.9576\n",
            "\n",
            "Epoch 00021: val_acc did not improve from 0.97107\n",
            "Epoch 22/100\n",
            "62/62 [==============================] - 21s 346ms/step - loss: 0.5397 - acc: 0.9813 - val_loss: 0.6877 - val_acc: 0.9452\n",
            "\n",
            "Epoch 00022: val_acc did not improve from 0.97107\n",
            "Epoch 23/100\n",
            "62/62 [==============================] - 21s 345ms/step - loss: 0.5125 - acc: 0.9824 - val_loss: 0.5577 - val_acc: 0.9607\n",
            "\n",
            "Epoch 00023: val_acc did not improve from 0.97107\n",
            "Epoch 24/100\n",
            "62/62 [==============================] - 21s 345ms/step - loss: 0.4896 - acc: 0.9834 - val_loss: 0.5843 - val_acc: 0.9587\n",
            "\n",
            "Epoch 00024: val_acc did not improve from 0.97107\n",
            "Epoch 25/100\n",
            "62/62 [==============================] - 21s 345ms/step - loss: 0.4454 - acc: 0.9919 - val_loss: 0.5525 - val_acc: 0.9638\n",
            "\n",
            "Epoch 00025: val_acc did not improve from 0.97107\n",
            "Epoch 26/100\n",
            "62/62 [==============================] - 21s 346ms/step - loss: 0.4455 - acc: 0.9839 - val_loss: 0.5455 - val_acc: 0.9496\n",
            "\n",
            "Epoch 00026: val_acc did not improve from 0.97107\n",
            "Epoch 27/100\n",
            "62/62 [==============================] - 21s 345ms/step - loss: 0.4136 - acc: 0.9919 - val_loss: 0.4940 - val_acc: 0.9649\n",
            "\n",
            "Epoch 00027: val_acc did not improve from 0.97107\n",
            "Epoch 28/100\n",
            "62/62 [==============================] - 21s 344ms/step - loss: 0.3953 - acc: 0.9950 - val_loss: 0.5028 - val_acc: 0.9618\n",
            "\n",
            "Epoch 00028: val_acc did not improve from 0.97107\n",
            "Epoch 29/100\n",
            "62/62 [==============================] - 21s 344ms/step - loss: 0.3942 - acc: 0.9919 - val_loss: 0.4959 - val_acc: 0.9659\n",
            "\n",
            "Epoch 00029: val_acc did not improve from 0.97107\n",
            "Epoch 30/100\n",
            "62/62 [==============================] - 21s 344ms/step - loss: 0.3928 - acc: 0.9929 - val_loss: 0.4918 - val_acc: 0.9690\n",
            "\n",
            "Epoch 00030: val_acc did not improve from 0.97107\n",
            "Epoch 31/100\n",
            "62/62 [==============================] - 21s 344ms/step - loss: 0.3904 - acc: 0.9945 - val_loss: 0.4818 - val_acc: 0.9659\n",
            "\n",
            "Epoch 00031: val_acc did not improve from 0.97107\n",
            "Epoch 32/100\n",
            "62/62 [==============================] - 21s 346ms/step - loss: 0.3896 - acc: 0.9924 - val_loss: 0.4882 - val_acc: 0.9669\n",
            "\n",
            "Epoch 00032: val_acc did not improve from 0.97107\n",
            "Epoch 33/100\n",
            "62/62 [==============================] - 21s 344ms/step - loss: 0.3854 - acc: 0.9929 - val_loss: 0.5009 - val_acc: 0.9690\n",
            "\n",
            "Epoch 00033: val_acc did not improve from 0.97107\n",
            "Epoch 34/100\n",
            "62/62 [==============================] - 21s 344ms/step - loss: 0.3805 - acc: 0.9945 - val_loss: 0.4684 - val_acc: 0.9659\n",
            "\n",
            "Epoch 00034: val_acc did not improve from 0.97107\n",
            "Epoch 35/100\n",
            "62/62 [==============================] - 21s 344ms/step - loss: 0.3777 - acc: 0.9950 - val_loss: 0.4952 - val_acc: 0.9618\n",
            "\n",
            "Epoch 00035: val_acc did not improve from 0.97107\n",
            "Epoch 36/100\n",
            "62/62 [==============================] - 21s 344ms/step - loss: 0.3756 - acc: 0.9940 - val_loss: 0.4773 - val_acc: 0.9618\n",
            "\n",
            "Epoch 00036: val_acc did not improve from 0.97107\n",
            "Epoch 37/100\n",
            "62/62 [==============================] - 21s 344ms/step - loss: 0.3762 - acc: 0.9924 - val_loss: 0.4881 - val_acc: 0.9721\n",
            "\n",
            "Epoch 00037: val_acc improved from 0.97107 to 0.97211, saving model to /content/saved_models/cifar10_VGG19_model.037.h5\n",
            "Epoch 38/100\n",
            "62/62 [==============================] - 21s 344ms/step - loss: 0.3675 - acc: 0.9970 - val_loss: 0.5139 - val_acc: 0.9638\n",
            "\n",
            "Epoch 00038: val_acc did not improve from 0.97211\n",
            "Epoch 39/100\n",
            "62/62 [==============================] - 21s 343ms/step - loss: 0.3734 - acc: 0.9940 - val_loss: 0.5001 - val_acc: 0.9669\n",
            "\n",
            "Epoch 00039: val_acc did not improve from 0.97211\n",
            "Epoch 40/100\n",
            "62/62 [==============================] - 21s 344ms/step - loss: 0.3672 - acc: 0.9980 - val_loss: 0.5179 - val_acc: 0.9618\n",
            "\n",
            "Epoch 00040: val_acc did not improve from 0.97211\n",
            "Epoch 41/100\n",
            "62/62 [==============================] - 21s 343ms/step - loss: 0.3631 - acc: 0.9955 - val_loss: 0.4583 - val_acc: 0.9659\n",
            "\n",
            "Epoch 00041: val_acc did not improve from 0.97211\n",
            "Epoch 42/100\n",
            "62/62 [==============================] - 21s 342ms/step - loss: 0.3672 - acc: 0.9935 - val_loss: 0.4766 - val_acc: 0.9659\n",
            "\n",
            "Epoch 00042: val_acc did not improve from 0.97211\n",
            "Epoch 43/100\n",
            "62/62 [==============================] - 21s 343ms/step - loss: 0.3599 - acc: 0.9945 - val_loss: 0.4806 - val_acc: 0.9669\n",
            "\n",
            "Epoch 00043: val_acc did not improve from 0.97211\n",
            "Epoch 44/100\n",
            "62/62 [==============================] - 21s 342ms/step - loss: 0.3578 - acc: 0.9965 - val_loss: 0.5025 - val_acc: 0.9669\n",
            "\n",
            "Epoch 00044: val_acc did not improve from 0.97211\n",
            "Epoch 45/100\n",
            "62/62 [==============================] - 21s 343ms/step - loss: 0.3554 - acc: 0.9965 - val_loss: 0.5148 - val_acc: 0.9618\n",
            "\n",
            "Epoch 00045: val_acc did not improve from 0.97211\n",
            "Epoch 46/100\n",
            "62/62 [==============================] - 21s 342ms/step - loss: 0.3568 - acc: 0.9950 - val_loss: 0.4462 - val_acc: 0.9721\n",
            "\n",
            "Epoch 00046: val_acc did not improve from 0.97211\n",
            "Epoch 47/100\n",
            "62/62 [==============================] - 21s 342ms/step - loss: 0.3544 - acc: 0.9950 - val_loss: 0.4844 - val_acc: 0.9711\n",
            "\n",
            "Epoch 00047: val_acc did not improve from 0.97211\n",
            "Epoch 48/100\n",
            "62/62 [==============================] - 21s 343ms/step - loss: 0.3565 - acc: 0.9934 - val_loss: 0.4737 - val_acc: 0.9680\n",
            "\n",
            "Epoch 00048: val_acc did not improve from 0.97211\n",
            "Epoch 49/100\n",
            "62/62 [==============================] - 21s 343ms/step - loss: 0.3492 - acc: 0.9945 - val_loss: 0.5078 - val_acc: 0.9649\n",
            "\n",
            "Epoch 00049: val_acc did not improve from 0.97211\n",
            "Epoch 50/100\n",
            "62/62 [==============================] - 21s 342ms/step - loss: 0.3422 - acc: 0.9975 - val_loss: 0.4873 - val_acc: 0.9659\n",
            "\n",
            "Epoch 00050: val_acc did not improve from 0.97211\n",
            "Epoch 51/100\n",
            "62/62 [==============================] - 21s 342ms/step - loss: 0.3445 - acc: 0.9960 - val_loss: 0.4719 - val_acc: 0.9690\n",
            "\n",
            "Epoch 00051: val_acc did not improve from 0.97211\n",
            "Epoch 52/100\n",
            "62/62 [==============================] - 21s 343ms/step - loss: 0.3498 - acc: 0.9924 - val_loss: 0.4687 - val_acc: 0.9669\n",
            "\n",
            "Epoch 00052: val_acc did not improve from 0.97211\n",
            "Epoch 53/100\n",
            "62/62 [==============================] - 21s 342ms/step - loss: 0.3376 - acc: 0.9970 - val_loss: 0.4969 - val_acc: 0.9638\n",
            "\n",
            "Epoch 00053: val_acc did not improve from 0.97211\n",
            "Epoch 54/100\n",
            "62/62 [==============================] - 21s 342ms/step - loss: 0.3403 - acc: 0.9965 - val_loss: 0.4849 - val_acc: 0.9669\n",
            "\n",
            "Epoch 00054: val_acc did not improve from 0.97211\n",
            "Epoch 55/100\n",
            "62/62 [==============================] - 21s 342ms/step - loss: 0.3365 - acc: 0.9980 - val_loss: 0.4635 - val_acc: 0.9690\n",
            "\n",
            "Epoch 00055: val_acc did not improve from 0.97211\n",
            "Epoch 56/100\n",
            "62/62 [==============================] - 21s 343ms/step - loss: 0.3442 - acc: 0.9950 - val_loss: 0.4781 - val_acc: 0.9649\n",
            "\n",
            "Epoch 00056: val_acc did not improve from 0.97211\n",
            "Epoch 57/100\n",
            "62/62 [==============================] - 21s 343ms/step - loss: 0.3424 - acc: 0.9945 - val_loss: 0.4878 - val_acc: 0.9669\n",
            "\n",
            "Epoch 00057: val_acc did not improve from 0.97211\n",
            "Epoch 58/100\n",
            "62/62 [==============================] - 21s 342ms/step - loss: 0.3424 - acc: 0.9945 - val_loss: 0.4809 - val_acc: 0.9667\n",
            "\n",
            "Epoch 00058: val_acc did not improve from 0.97211\n",
            "Epoch 59/100\n",
            "62/62 [==============================] - 21s 342ms/step - loss: 0.3377 - acc: 0.9980 - val_loss: 0.4771 - val_acc: 0.9659\n",
            "\n",
            "Epoch 00059: val_acc did not improve from 0.97211\n",
            "Epoch 60/100\n",
            "62/62 [==============================] - 21s 343ms/step - loss: 0.3414 - acc: 0.9965 - val_loss: 0.4784 - val_acc: 0.9628\n",
            "\n",
            "Epoch 00060: val_acc did not improve from 0.97211\n",
            "Epoch 61/100\n",
            "62/62 [==============================] - 21s 342ms/step - loss: 0.3409 - acc: 0.9950 - val_loss: 0.4571 - val_acc: 0.9690\n",
            "\n",
            "Epoch 00061: val_acc did not improve from 0.97211\n",
            "Epoch 62/100\n",
            "62/62 [==============================] - 21s 342ms/step - loss: 0.3348 - acc: 0.9980 - val_loss: 0.4590 - val_acc: 0.9711\n",
            "\n",
            "Epoch 00062: val_acc did not improve from 0.97211\n",
            "Epoch 63/100\n",
            "62/62 [==============================] - 21s 342ms/step - loss: 0.3374 - acc: 0.9970 - val_loss: 0.5186 - val_acc: 0.9628\n",
            "\n",
            "Epoch 00063: val_acc did not improve from 0.97211\n",
            "Epoch 64/100\n",
            "62/62 [==============================] - 21s 342ms/step - loss: 0.3373 - acc: 0.9970 - val_loss: 0.4720 - val_acc: 0.9659\n",
            "\n",
            "Epoch 00064: val_acc did not improve from 0.97211\n",
            "Epoch 65/100\n",
            "62/62 [==============================] - 21s 341ms/step - loss: 0.3399 - acc: 0.9955 - val_loss: 0.4569 - val_acc: 0.9628\n",
            "\n",
            "Epoch 00065: val_acc did not improve from 0.97211\n",
            "Epoch 66/100\n",
            "62/62 [==============================] - 21s 342ms/step - loss: 0.3378 - acc: 0.9965 - val_loss: 0.4761 - val_acc: 0.9690\n",
            "\n",
            "Epoch 00066: val_acc did not improve from 0.97211\n",
            "Epoch 67/100\n",
            "62/62 [==============================] - 21s 342ms/step - loss: 0.3378 - acc: 0.9950 - val_loss: 0.4737 - val_acc: 0.9638\n",
            "\n",
            "Epoch 00067: val_acc did not improve from 0.97211\n",
            "Epoch 68/100\n",
            "62/62 [==============================] - 21s 343ms/step - loss: 0.3366 - acc: 0.9970 - val_loss: 0.5038 - val_acc: 0.9659\n",
            "\n",
            "Epoch 00068: val_acc did not improve from 0.97211\n",
            "Epoch 69/100\n",
            "62/62 [==============================] - 21s 342ms/step - loss: 0.3376 - acc: 0.9950 - val_loss: 0.4626 - val_acc: 0.9659\n",
            "\n",
            "Epoch 00069: val_acc did not improve from 0.97211\n",
            "Epoch 70/100\n",
            "62/62 [==============================] - 21s 343ms/step - loss: 0.3350 - acc: 0.9970 - val_loss: 0.4751 - val_acc: 0.9669\n",
            "\n",
            "Epoch 00070: val_acc did not improve from 0.97211\n",
            "Epoch 71/100\n",
            "62/62 [==============================] - 21s 342ms/step - loss: 0.3410 - acc: 0.9940 - val_loss: 0.4622 - val_acc: 0.9659\n",
            "\n",
            "Epoch 00071: val_acc did not improve from 0.97211\n",
            "Epoch 72/100\n",
            "62/62 [==============================] - 21s 342ms/step - loss: 0.3356 - acc: 0.9970 - val_loss: 0.4854 - val_acc: 0.9659\n",
            "\n",
            "Epoch 00072: val_acc did not improve from 0.97211\n",
            "Epoch 73/100\n",
            "62/62 [==============================] - 21s 342ms/step - loss: 0.3336 - acc: 0.9965 - val_loss: 0.4772 - val_acc: 0.9659\n",
            "\n",
            "Epoch 00073: val_acc did not improve from 0.97211\n",
            "Epoch 74/100\n",
            "62/62 [==============================] - 21s 342ms/step - loss: 0.3370 - acc: 0.9965 - val_loss: 0.4725 - val_acc: 0.9638\n",
            "\n",
            "Epoch 00074: val_acc did not improve from 0.97211\n",
            "Epoch 75/100\n",
            "62/62 [==============================] - 21s 343ms/step - loss: 0.3355 - acc: 0.9960 - val_loss: 0.4729 - val_acc: 0.9700\n",
            "\n",
            "Epoch 00075: val_acc did not improve from 0.97211\n",
            "Epoch 76/100\n",
            "62/62 [==============================] - 21s 342ms/step - loss: 0.3368 - acc: 0.9970 - val_loss: 0.4643 - val_acc: 0.9669\n",
            "\n",
            "Epoch 00076: val_acc did not improve from 0.97211\n",
            "Epoch 77/100\n",
            "62/62 [==============================] - 21s 342ms/step - loss: 0.3346 - acc: 0.9970 - val_loss: 0.4809 - val_acc: 0.9576\n",
            "\n",
            "Epoch 00077: val_acc did not improve from 0.97211\n",
            "Epoch 78/100\n",
            "62/62 [==============================] - 21s 342ms/step - loss: 0.3353 - acc: 0.9960 - val_loss: 0.4892 - val_acc: 0.9649\n",
            "\n",
            "Epoch 00078: val_acc did not improve from 0.97211\n",
            "Epoch 79/100\n",
            "62/62 [==============================] - 21s 342ms/step - loss: 0.3389 - acc: 0.9945 - val_loss: 0.4807 - val_acc: 0.9680\n",
            "\n",
            "Epoch 00079: val_acc did not improve from 0.97211\n",
            "Epoch 80/100\n",
            "62/62 [==============================] - 21s 341ms/step - loss: 0.3345 - acc: 0.9965 - val_loss: 0.4498 - val_acc: 0.9700\n",
            "\n",
            "Epoch 00080: val_acc did not improve from 0.97211\n",
            "Epoch 81/100\n",
            "62/62 [==============================] - 21s 342ms/step - loss: 0.3333 - acc: 0.9975 - val_loss: 0.4805 - val_acc: 0.9659\n",
            "\n",
            "Epoch 00081: val_acc did not improve from 0.97211\n",
            "Epoch 82/100\n",
            "62/62 [==============================] - 21s 342ms/step - loss: 0.3356 - acc: 0.9960 - val_loss: 0.4771 - val_acc: 0.9659\n",
            "\n",
            "Epoch 00082: val_acc did not improve from 0.97211\n",
            "Epoch 83/100\n",
            "62/62 [==============================] - 21s 342ms/step - loss: 0.3367 - acc: 0.9955 - val_loss: 0.4532 - val_acc: 0.9680\n",
            "\n",
            "Epoch 00083: val_acc did not improve from 0.97211\n",
            "Epoch 84/100\n",
            "62/62 [==============================] - 21s 342ms/step - loss: 0.3341 - acc: 0.9965 - val_loss: 0.4751 - val_acc: 0.9638\n",
            "\n",
            "Epoch 00084: val_acc did not improve from 0.97211\n",
            "Epoch 85/100\n",
            "62/62 [==============================] - 21s 342ms/step - loss: 0.3374 - acc: 0.9934 - val_loss: 0.4908 - val_acc: 0.9659\n",
            "\n",
            "Epoch 00085: val_acc did not improve from 0.97211\n",
            "Epoch 86/100\n",
            "62/62 [==============================] - 21s 342ms/step - loss: 0.3315 - acc: 0.9975 - val_loss: 0.4544 - val_acc: 0.9669\n",
            "\n",
            "Epoch 00086: val_acc did not improve from 0.97211\n",
            "Epoch 87/100\n",
            "62/62 [==============================] - 21s 342ms/step - loss: 0.3346 - acc: 0.9950 - val_loss: 0.5004 - val_acc: 0.9607\n",
            "\n",
            "Epoch 00087: val_acc did not improve from 0.97211\n",
            "Epoch 88/100\n",
            "62/62 [==============================] - 21s 342ms/step - loss: 0.3373 - acc: 0.9955 - val_loss: 0.4533 - val_acc: 0.9669\n",
            "\n",
            "Epoch 00088: val_acc did not improve from 0.97211\n",
            "Epoch 89/100\n",
            "62/62 [==============================] - 21s 342ms/step - loss: 0.3340 - acc: 0.9965 - val_loss: 0.4746 - val_acc: 0.9649\n",
            "\n",
            "Epoch 00089: val_acc did not improve from 0.97211\n",
            "Epoch 90/100\n",
            "62/62 [==============================] - 21s 343ms/step - loss: 0.3334 - acc: 0.9970 - val_loss: 0.4720 - val_acc: 0.9647\n",
            "\n",
            "Epoch 00090: val_acc did not improve from 0.97211\n",
            "Epoch 91/100\n",
            "62/62 [==============================] - 21s 343ms/step - loss: 0.3344 - acc: 0.9965 - val_loss: 0.4748 - val_acc: 0.9638\n",
            "\n",
            "Epoch 00091: val_acc did not improve from 0.97211\n",
            "Epoch 92/100\n",
            "62/62 [==============================] - 21s 342ms/step - loss: 0.3357 - acc: 0.9960 - val_loss: 0.4565 - val_acc: 0.9669\n",
            "\n",
            "Epoch 00092: val_acc did not improve from 0.97211\n",
            "Epoch 93/100\n",
            "62/62 [==============================] - 21s 342ms/step - loss: 0.3321 - acc: 0.9990 - val_loss: 0.4741 - val_acc: 0.9659\n",
            "\n",
            "Epoch 00093: val_acc did not improve from 0.97211\n",
            "Epoch 94/100\n",
            "62/62 [==============================] - 21s 343ms/step - loss: 0.3313 - acc: 0.9985 - val_loss: 0.4768 - val_acc: 0.9649\n",
            "\n",
            "Epoch 00094: val_acc did not improve from 0.97211\n",
            "Epoch 95/100\n",
            "62/62 [==============================] - 21s 344ms/step - loss: 0.3353 - acc: 0.9950 - val_loss: 0.4733 - val_acc: 0.9649\n",
            "\n",
            "Epoch 00095: val_acc did not improve from 0.97211\n",
            "Epoch 96/100\n",
            "62/62 [==============================] - 21s 342ms/step - loss: 0.3382 - acc: 0.9929 - val_loss: 0.4831 - val_acc: 0.9638\n",
            "\n",
            "Epoch 00096: val_acc did not improve from 0.97211\n",
            "Epoch 97/100\n",
            "62/62 [==============================] - 21s 342ms/step - loss: 0.3324 - acc: 0.9975 - val_loss: 0.3996 - val_acc: 0.9721\n",
            "\n",
            "Epoch 00097: val_acc did not improve from 0.97211\n",
            "Epoch 98/100\n",
            "62/62 [==============================] - 21s 342ms/step - loss: 0.3340 - acc: 0.9965 - val_loss: 0.5354 - val_acc: 0.9556\n",
            "\n",
            "Epoch 00098: val_acc did not improve from 0.97211\n",
            "Epoch 99/100\n",
            "62/62 [==============================] - 21s 342ms/step - loss: 0.3349 - acc: 0.9970 - val_loss: 0.4704 - val_acc: 0.9669\n",
            "\n",
            "Epoch 00099: val_acc did not improve from 0.97211\n",
            "Epoch 100/100\n",
            "62/62 [==============================] - 21s 342ms/step - loss: 0.3337 - acc: 0.9975 - val_loss: 0.4716 - val_acc: 0.9618\n",
            "\n",
            "Epoch 00100: val_acc did not improve from 0.97211\n"
          ],
          "name": "stdout"
        }
      ]
    },
    {
      "metadata": {
        "id": "eVBQgh5M-Rtz",
        "colab_type": "text"
      },
      "cell_type": "markdown",
      "source": [
        "## Display Fine-Tuning Train/Validation Accuracy/Loss Graphs"
      ]
    },
    {
      "metadata": {
        "id": "mbkIw7Ie-NP4",
        "colab_type": "code",
        "colab": {
          "base_uri": "https://localhost:8080/",
          "height": 545
        },
        "outputId": "8172695c-3f69-4936-f297-5c2ce8c7c7ca"
      },
      "cell_type": "code",
      "source": [
        "plot_graphs(history)"
      ],
      "execution_count": 12,
      "outputs": [
        {
          "output_type": "display_data",
          "data": {
            "image/png": "[encoded data removed]",
            "text/plain": [
              "<Figure size 432x288 with 1 Axes>"
            ]
          },
          "metadata": {
            "tags": []
          }
        },
        {
          "output_type": "display_data",
          "data": {
            "image/png": "[encoded data removed]",
            "text/plain": [
              "<Figure size 432x288 with 1 Axes>"
            ]
          },
          "metadata": {
            "tags": []
          }
        }
      ]
    },
    {
      "metadata": {
        "id": "qAMAiHmLzHow",
        "colab_type": "code",
        "colab": {
          "base_uri": "https://localhost:8080/",
          "height": 34
        },
        "outputId": "07aeae7e-a55e-4bea-d685-5ed3d13be526"
      },
      "cell_type": "code",
      "source": [
        "!ls /content/saved_models/ | tail -1"
      ],
      "execution_count": 13,
      "outputs": [
        {
          "output_type": "stream",
          "text": [
            "cifar10_VGG19_model.037.h5\n"
          ],
          "name": "stdout"
        }
      ]
    },
    {
      "metadata": {
        "id": "DlA3B-ywz9Za",
        "colab_type": "code",
        "colab": {}
      },
      "cell_type": "code",
      "source": [
        "cp /content/saved_models/cifar10_VGG19_model.037.h5 /content/VGG19_P2_best.h5"
      ],
      "execution_count": 0,
      "outputs": []
    },
    {
      "metadata": {
        "id": "he3Nw6TOJwjx",
        "colab_type": "text"
      },
      "cell_type": "markdown",
      "source": [
        "## Print out Evaluation Validation Loss/Accuracy"
      ]
    },
    {
      "metadata": {
        "id": "SVQtrk7uJdhl",
        "colab_type": "code",
        "colab": {}
      },
      "cell_type": "code",
      "source": [
        "from keras.models import load_model\n",
        "\n",
        "model = load_model('VGG19_P2_best.h5')\n",
        "val_loss, val_acc = model.evaluate_generator(validation_generator, steps=val_steps)"
      ],
      "execution_count": 0,
      "outputs": []
    },
    {
      "metadata": {
        "id": "HpdddLi1SUMe",
        "colab_type": "code",
        "colab": {
          "base_uri": "https://localhost:8080/",
          "height": 51
        },
        "outputId": "5a254418-bc38-4444-abe8-921c1d28dc67"
      },
      "cell_type": "code",
      "source": [
        "print(\"Validation loss:\", val_loss)\n",
        "print(\"Validation accuracy:\", val_acc)"
      ],
      "execution_count": 20,
      "outputs": [
        {
          "output_type": "stream",
          "text": [
            "Validation loss: 0.4800101905322272\n",
            "Validation accuracy: 0.9710743801652892\n"
          ],
          "name": "stdout"
        }
      ]
    },
    {
      "metadata": {
        "id": "7Ww756WToby8",
        "colab_type": "text"
      },
      "cell_type": "markdown",
      "source": [
        "## Save the best model\n",
        "\n",
        "Because of how huge this model turns out to be (over 241 M), collab appears to not be able to handle downloading it through command, so it has to be downloaded manually once it is saved.  The file can be fetched from Github, though, and as long as LFS is installed on the command line, can also be pushed to Github."
      ]
    },
    {
      "metadata": {
        "id": "YhEoI8ZTok-X",
        "colab_type": "code",
        "colab": {}
      },
      "cell_type": "code",
      "source": [
        "model_name = 'VGG19_P2_best.h5'\n",
        "with open(model_name, 'r') as f:\n",
        "  files.download(model_name)"
      ],
      "execution_count": 0,
      "outputs": []
    }
  ]
}