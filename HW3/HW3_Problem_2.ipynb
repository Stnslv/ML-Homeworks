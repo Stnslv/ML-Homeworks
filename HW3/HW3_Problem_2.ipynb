{
  "nbformat": 4,
  "nbformat_minor": 0,
  "metadata": {
    "colab": {
      "name": "HW3_Problem_2",
      "version": "0.3.2",
      "provenance": [],
      "collapsed_sections": [],
      "toc_visible": true
    },
    "kernelspec": {
      "name": "python3",
      "display_name": "Python 3"
    },
    "accelerator": "GPU"
  },
  "cells": [
    {
      "metadata": {
        "id": "KSrgMJ5vKFzQ",
        "colab_type": "text"
      },
      "cell_type": "markdown",
      "source": [
        "# Fine-tuning VGG19"
      ]
    },
    {
      "metadata": {
        "id": "TIW7bZaAK-Hf",
        "colab_type": "text"
      },
      "cell_type": "markdown",
      "source": [
        "This is based on section 5.3 *Using a pretrained convnet* of the book *Deep learning with Python* by Francois Chollet. I have made several changes to the code. I use the data that is already provided by Google. I don't download the data from Kaggle as in the deep learning book."
      ]
    },
    {
      "metadata": {
        "id": "BqIG8QHMLNOn",
        "colab_type": "text"
      },
      "cell_type": "markdown",
      "source": [
        "## Download the data"
      ]
    },
    {
      "metadata": {
        "id": "t3I1jd7cKV6_",
        "colab_type": "text"
      },
      "cell_type": "markdown",
      "source": [
        "Download the example data, a zip. of 2,000 JPG pictures of cats and dogs and extract it locally in ```/tmp```.\n",
        "\n"
      ]
    },
    {
      "metadata": {
        "id": "JWjprHEXJ5Qi",
        "colab_type": "code",
        "outputId": "2518a9bd-938b-4c1c-f7ff-13b83b94fbaf",
        "colab": {
          "base_uri": "https://localhost:8080/",
          "height": 204
        }
      },
      "cell_type": "code",
      "source": [
        "!wget --no-check-certificate \\\n",
        "    https://storage.googleapis.com/mledu-datasets/cats_and_dogs_filtered.zip \\\n",
        "    -O /tmp/cats_and_dogs_filtered.zip"
      ],
      "execution_count": 1,
      "outputs": [
        {
          "output_type": "stream",
          "text": [
            "--2019-04-17 20:13:48--  https://storage.googleapis.com/mledu-datasets/cats_and_dogs_filtered.zip\n",
            "Resolving storage.googleapis.com (storage.googleapis.com)... 74.125.142.128, 2607:f8b0:400e:c09::80\n",
            "Connecting to storage.googleapis.com (storage.googleapis.com)|74.125.142.128|:443... connected.\n",
            "HTTP request sent, awaiting response... 200 OK\n",
            "Length: 68606236 (65M) [application/zip]\n",
            "Saving to: ‘/tmp/cats_and_dogs_filtered.zip’\n",
            "\n",
            "/tmp/cats_and_dogs_ 100%[===================>]  65.43M  71.5MB/s    in 0.9s    \n",
            "\n",
            "2019-04-17 20:13:49 (71.5 MB/s) - ‘/tmp/cats_and_dogs_filtered.zip’ saved [68606236/68606236]\n",
            "\n"
          ],
          "name": "stdout"
        }
      ]
    },
    {
      "metadata": {
        "id": "WvoHtdA-K6Rw",
        "colab_type": "code",
        "colab": {
          "base_uri": "https://localhost:8080/",
          "height": 34
        },
        "outputId": "00afc4d4-ceec-49d3-9bc4-88627e425b48"
      },
      "cell_type": "code",
      "source": [
        "import os\n",
        "import zipfile\n",
        "from google.colab import files\n",
        "\n",
        "from keras.applications import VGG19\n",
        "from keras import layers\n",
        "from keras import models\n",
        "from keras import optimizers\n",
        "from keras.regularizers import l1\n",
        "from keras.preprocessing.image import ImageDataGenerator\n",
        "\n",
        "%matplotlib inline\n",
        "import matplotlib.pyplot as plt\n",
        "\n",
        "from keras.callbacks import ModelCheckpoint, LearningRateScheduler\n",
        "from keras.callbacks import ReduceLROnPlateau\n",
        "\n",
        "local_zip = '/tmp/cats_and_dogs_filtered.zip'\n",
        "zip_ref = zipfile.ZipFile(local_zip, 'r')\n",
        "zip_ref.extractall('/tmp')\n",
        "zip_ref.close()"
      ],
      "execution_count": 2,
      "outputs": [
        {
          "output_type": "stream",
          "text": [
            "Using TensorFlow backend.\n"
          ],
          "name": "stderr"
        }
      ]
    },
    {
      "metadata": {
        "id": "dL8ikM89LlsH",
        "colab_type": "code",
        "colab": {}
      },
      "cell_type": "code",
      "source": [
        "base_dir = '/tmp/cats_and_dogs_filtered'\n",
        "train_dir = os.path.join(base_dir, 'train')\n",
        "validation_dir = os.path.join(base_dir, 'validation')\n",
        "\n",
        "# Directory with our training cat pictures\n",
        "train_cats_dir = os.path.join(train_dir, 'cats')\n",
        "\n",
        "# Directory with our training dog pictures\n",
        "train_dogs_dir = os.path.join(train_dir, 'dogs')\n",
        "\n",
        "# Directory with our validation cat pictures\n",
        "validation_cats_dir = os.path.join(validation_dir, 'cats')\n",
        "\n",
        "# Directory with our validation dog pictures\n",
        "validation_dogs_dir = os.path.join(validation_dir, 'dogs')"
      ],
      "execution_count": 0,
      "outputs": []
    },
    {
      "metadata": {
        "id": "kQ48W5T9rHWu",
        "colab_type": "text"
      },
      "cell_type": "markdown",
      "source": [
        "## Load the convolutional base and freeze it"
      ]
    },
    {
      "metadata": {
        "id": "Y0FgtANCXm_H",
        "colab_type": "code",
        "outputId": "c1eb7469-6507-4e21-9dc9-bff3bc7d5993",
        "colab": {
          "base_uri": "https://localhost:8080/",
          "height": 88
        }
      },
      "cell_type": "code",
      "source": [
        "conv_base = VGG19(\n",
        "    weights='imagenet', \n",
        "    include_top=False, \n",
        "    input_shape=(150, 150, 3))\n",
        "\n",
        "conv_base.trainable = False"
      ],
      "execution_count": 4,
      "outputs": [
        {
          "output_type": "stream",
          "text": [
            "WARNING:tensorflow:From /usr/local/lib/python3.6/dist-packages/tensorflow/python/framework/op_def_library.py:263: colocate_with (from tensorflow.python.framework.ops) is deprecated and will be removed in a future version.\n",
            "Instructions for updating:\n",
            "Colocations handled automatically by placer.\n"
          ],
          "name": "stdout"
        }
      ]
    },
    {
      "metadata": {
        "id": "Qfx6PqhPrb7Q",
        "colab_type": "text"
      },
      "cell_type": "markdown",
      "source": [
        "## Create model to put on top of VGG19\n",
        "\n",
        "This model contains densely connected layers that will use the features extracted from the convolutional base to classify images as either cats or dogs.  Because these models suffer greatly from overfitting, we use a high drop out rate for the dense layer, as well decreasing the size of the dense layer in order to reduce the complexity of the model and further fight overfitting.  Also added is L1-Regularization, which helps against overfitting by emphasizing features that are important in classification and penalizing those that are not."
      ]
    },
    {
      "metadata": {
        "id": "qUpmocDAO3xm",
        "colab_type": "code",
        "colab": {
          "base_uri": "https://localhost:8080/",
          "height": 88
        },
        "outputId": "d722c2fe-a80a-4aaa-9a30-baf63b0fd125"
      },
      "cell_type": "code",
      "source": [
        "model = models.Sequential()\n",
        "model.add(conv_base)\n",
        "model.add(layers.Flatten())\n",
        "model.add(layers.Dropout(0.3))\n",
        "model.add(layers.Dense(128, activation='relu', kernel_regularizer=l1(0.01), bias_regularizer=l1(0.01)))\n",
        "model.add(layers.Dense(1, activation='sigmoid'))"
      ],
      "execution_count": 5,
      "outputs": [
        {
          "output_type": "stream",
          "text": [
            "WARNING:tensorflow:From /usr/local/lib/python3.6/dist-packages/keras/backend/tensorflow_backend.py:3445: calling dropout (from tensorflow.python.ops.nn_ops) with keep_prob is deprecated and will be removed in a future version.\n",
            "Instructions for updating:\n",
            "Please use `rate` instead of `keep_prob`. Rate should be set to `rate = 1 - keep_prob`.\n"
          ],
          "name": "stdout"
        }
      ]
    },
    {
      "metadata": {
        "id": "Fh6gZSeAjF7c",
        "colab_type": "code",
        "outputId": "c9c3ebf3-4164-4395-b930-eb899ac1b872",
        "colab": {
          "base_uri": "https://localhost:8080/",
          "height": 306
        }
      },
      "cell_type": "code",
      "source": [
        "model.summary()"
      ],
      "execution_count": 6,
      "outputs": [
        {
          "output_type": "stream",
          "text": [
            "_________________________________________________________________\n",
            "Layer (type)                 Output Shape              Param #   \n",
            "=================================================================\n",
            "vgg19 (Model)                (None, 4, 4, 512)         20024384  \n",
            "_________________________________________________________________\n",
            "flatten_1 (Flatten)          (None, 8192)              0         \n",
            "_________________________________________________________________\n",
            "dropout_1 (Dropout)          (None, 8192)              0         \n",
            "_________________________________________________________________\n",
            "dense_1 (Dense)              (None, 128)               1048704   \n",
            "_________________________________________________________________\n",
            "dense_2 (Dense)              (None, 1)                 129       \n",
            "=================================================================\n",
            "Total params: 21,073,217\n",
            "Trainable params: 1,048,833\n",
            "Non-trainable params: 20,024,384\n",
            "_________________________________________________________________\n"
          ],
          "name": "stdout"
        }
      ]
    },
    {
      "metadata": {
        "id": "eZjBiddhi5Qj",
        "colab_type": "text"
      },
      "cell_type": "markdown",
      "source": [
        "## Train the model end to end with frozen convolutional base"
      ]
    },
    {
      "metadata": {
        "id": "tfAQlC2Oi41L",
        "colab_type": "code",
        "outputId": "cb935661-42ef-49c6-baf0-f51aff64562b",
        "colab": {
          "base_uri": "https://localhost:8080/",
          "height": 1482
        }
      },
      "cell_type": "code",
      "source": [
        "batches = 32\n",
        "val_steps = int(1000/batches)\n",
        "train_steps = int(2000/batches)\n",
        "\n",
        "train_datagen = ImageDataGenerator(\n",
        "    rescale=1./255, \n",
        "    rotation_range=40,\n",
        "    width_shift_range=0.2,\n",
        "    height_shift_range=0.2,\n",
        "    shear_range=0.2,\n",
        "    horizontal_flip=True,\n",
        "    fill_mode='nearest'\n",
        ")\n",
        "\n",
        "train_generator = train_datagen.flow_from_directory(\n",
        "    train_dir,\n",
        "    target_size=(150, 150),\n",
        "    batch_size=32,\n",
        "    class_mode='binary')\n",
        "\n",
        "validation_datagen = ImageDataGenerator(rescale=1./255)\n",
        "\n",
        "validation_generator = validation_datagen.flow_from_directory(\n",
        "    validation_dir,\n",
        "    target_size=(150, 150),\n",
        "    batch_size=32,\n",
        "    class_mode='binary')\n",
        "\n",
        "# compile model\n",
        "\n",
        "model.compile(\n",
        "    loss='binary_crossentropy', \n",
        "    optimizer=optimizers.Adam(lr=1e-5), \n",
        "    metrics=['acc'])\n",
        "\n",
        "# train\n",
        "\n",
        "history = model.fit_generator(\n",
        "    train_generator,\n",
        "    steps_per_epoch=train_steps,\n",
        "    epochs=40,\n",
        "    validation_data=validation_generator,\n",
        "    validation_steps=val_steps\n",
        ")"
      ],
      "execution_count": 7,
      "outputs": [
        {
          "output_type": "stream",
          "text": [
            "Found 2000 images belonging to 2 classes.\n",
            "Found 1000 images belonging to 2 classes.\n",
            "WARNING:tensorflow:From /usr/local/lib/python3.6/dist-packages/tensorflow/python/ops/math_ops.py:3066: to_int32 (from tensorflow.python.ops.math_ops) is deprecated and will be removed in a future version.\n",
            "Instructions for updating:\n",
            "Use tf.cast instead.\n",
            "Epoch 1/40\n",
            "62/62 [==============================] - 20s 327ms/step - loss: 138.3939 - acc: 0.5277 - val_loss: 135.2233 - val_acc: 0.6270\n",
            "Epoch 2/40\n",
            "62/62 [==============================] - 18s 287ms/step - loss: 132.2898 - acc: 0.5640 - val_loss: 129.1917 - val_acc: 0.6643\n",
            "Epoch 3/40\n",
            "62/62 [==============================] - 16s 263ms/step - loss: 126.3352 - acc: 0.5675 - val_loss: 123.3040 - val_acc: 0.6808\n",
            "Epoch 4/40\n",
            "62/62 [==============================] - 16s 260ms/step - loss: 120.5053 - acc: 0.6008 - val_loss: 117.5433 - val_acc: 0.7231\n",
            "Epoch 5/40\n",
            "62/62 [==============================] - 16s 266ms/step - loss: 114.8233 - acc: 0.5968 - val_loss: 111.9308 - val_acc: 0.7262\n",
            "Epoch 6/40\n",
            "62/62 [==============================] - 16s 260ms/step - loss: 109.2849 - acc: 0.5988 - val_loss: 106.4596 - val_acc: 0.7045\n",
            "Epoch 7/40\n",
            "62/62 [==============================] - 17s 276ms/step - loss: 103.8697 - acc: 0.6321 - val_loss: 101.1217 - val_acc: 0.7448\n",
            "Epoch 8/40\n",
            "62/62 [==============================] - 16s 263ms/step - loss: 98.6102 - acc: 0.6280 - val_loss: 95.9183 - val_acc: 0.7562\n",
            "Epoch 9/40\n",
            "62/62 [==============================] - 18s 283ms/step - loss: 93.4844 - acc: 0.6255 - val_loss: 90.8652 - val_acc: 0.7583\n",
            "Epoch 10/40\n",
            "62/62 [==============================] - 16s 259ms/step - loss: 88.4848 - acc: 0.6557 - val_loss: 85.9379 - val_acc: 0.7655\n",
            "Epoch 11/40\n",
            "62/62 [==============================] - 16s 263ms/step - loss: 83.6382 - acc: 0.6472 - val_loss: 81.1640 - val_acc: 0.7707\n",
            "Epoch 12/40\n",
            "62/62 [==============================] - 17s 276ms/step - loss: 78.9165 - acc: 0.6724 - val_loss: 76.5119 - val_acc: 0.7779\n",
            "Epoch 13/40\n",
            "62/62 [==============================] - 16s 263ms/step - loss: 74.3582 - acc: 0.6472 - val_loss: 72.0180 - val_acc: 0.7593\n",
            "Epoch 14/40\n",
            "62/62 [==============================] - 16s 258ms/step - loss: 69.9091 - acc: 0.6845 - val_loss: 67.6529 - val_acc: 0.7665\n",
            "Epoch 15/40\n",
            "62/62 [==============================] - 16s 259ms/step - loss: 65.6207 - acc: 0.6744 - val_loss: 63.4248 - val_acc: 0.7831\n",
            "Epoch 16/40\n",
            "62/62 [==============================] - 17s 270ms/step - loss: 61.4683 - acc: 0.6860 - val_loss: 59.3450 - val_acc: 0.7789\n",
            "Epoch 17/40\n",
            "62/62 [==============================] - 17s 280ms/step - loss: 57.4541 - acc: 0.6905 - val_loss: 55.4030 - val_acc: 0.7769\n",
            "Epoch 18/40\n",
            "62/62 [==============================] - 16s 260ms/step - loss: 53.5836 - acc: 0.6814 - val_loss: 51.6023 - val_acc: 0.7758\n",
            "Epoch 19/40\n",
            "62/62 [==============================] - 16s 261ms/step - loss: 49.8440 - acc: 0.6890 - val_loss: 47.9412 - val_acc: 0.7583\n",
            "Epoch 20/40\n",
            "62/62 [==============================] - 16s 260ms/step - loss: 46.2561 - acc: 0.6865 - val_loss: 44.4103 - val_acc: 0.7779\n",
            "Epoch 21/40\n",
            "62/62 [==============================] - 16s 258ms/step - loss: 42.8117 - acc: 0.6805 - val_loss: 41.0385 - val_acc: 0.7851\n",
            "Epoch 22/40\n",
            "62/62 [==============================] - 17s 280ms/step - loss: 39.4833 - acc: 0.7243 - val_loss: 37.7942 - val_acc: 0.7758\n",
            "Epoch 23/40\n",
            "62/62 [==============================] - 16s 259ms/step - loss: 36.3174 - acc: 0.7001 - val_loss: 34.6991 - val_acc: 0.7810\n",
            "Epoch 24/40\n",
            "62/62 [==============================] - 16s 263ms/step - loss: 33.2781 - acc: 0.7137 - val_loss: 31.7333 - val_acc: 0.7851\n",
            "Epoch 25/40\n",
            "62/62 [==============================] - 16s 260ms/step - loss: 30.3934 - acc: 0.7056 - val_loss: 28.9139 - val_acc: 0.7955\n",
            "Epoch 26/40\n",
            "62/62 [==============================] - 16s 259ms/step - loss: 27.6403 - acc: 0.7172 - val_loss: 26.2376 - val_acc: 0.7510\n",
            "Epoch 27/40\n",
            "62/62 [==============================] - 17s 277ms/step - loss: 25.0271 - acc: 0.7152 - val_loss: 23.6892 - val_acc: 0.7893\n",
            "Epoch 28/40\n",
            "62/62 [==============================] - 17s 282ms/step - loss: 22.5569 - acc: 0.7218 - val_loss: 21.3044 - val_acc: 0.7572\n",
            "Epoch 29/40\n",
            "62/62 [==============================] - 16s 257ms/step - loss: 20.2257 - acc: 0.7213 - val_loss: 19.0373 - val_acc: 0.7665\n",
            "Epoch 30/40\n",
            "62/62 [==============================] - 16s 261ms/step - loss: 18.0329 - acc: 0.7460 - val_loss: 16.9166 - val_acc: 0.7810\n",
            "Epoch 31/40\n",
            "62/62 [==============================] - 16s 262ms/step - loss: 15.9832 - acc: 0.7207 - val_loss: 14.9408 - val_acc: 0.7820\n",
            "Epoch 32/40\n",
            "62/62 [==============================] - 17s 276ms/step - loss: 14.0777 - acc: 0.7066 - val_loss: 13.1001 - val_acc: 0.7831\n",
            "Epoch 33/40\n",
            "62/62 [==============================] - 16s 263ms/step - loss: 12.3058 - acc: 0.7248 - val_loss: 11.4026 - val_acc: 0.7853\n",
            "Epoch 34/40\n",
            "62/62 [==============================] - 17s 271ms/step - loss: 10.6757 - acc: 0.7288 - val_loss: 9.8458 - val_acc: 0.7882\n",
            "Epoch 35/40\n",
            "62/62 [==============================] - 16s 264ms/step - loss: 9.1863 - acc: 0.7313 - val_loss: 8.4275 - val_acc: 0.7965\n",
            "Epoch 36/40\n",
            "62/62 [==============================] - 17s 269ms/step - loss: 7.8366 - acc: 0.7404 - val_loss: 7.1615 - val_acc: 0.7572\n",
            "Epoch 37/40\n",
            "62/62 [==============================] - 17s 273ms/step - loss: 6.6358 - acc: 0.7359 - val_loss: 6.0118 - val_acc: 0.7934\n",
            "Epoch 38/40\n",
            "62/62 [==============================] - 16s 261ms/step - loss: 5.5659 - acc: 0.7319 - val_loss: 5.0278 - val_acc: 0.7800\n",
            "Epoch 39/40\n",
            "62/62 [==============================] - 16s 261ms/step - loss: 4.6442 - acc: 0.7399 - val_loss: 4.1692 - val_acc: 0.7934\n",
            "Epoch 40/40\n",
            "62/62 [==============================] - 16s 261ms/step - loss: 3.8496 - acc: 0.7505 - val_loss: 3.4579 - val_acc: 0.7603\n"
          ],
          "name": "stdout"
        }
      ]
    },
    {
      "metadata": {
        "id": "xqRc_vHKc92U",
        "colab_type": "text"
      },
      "cell_type": "markdown",
      "source": [
        "## Display curves of loss and accuracy during training"
      ]
    },
    {
      "metadata": {
        "id": "ybWwdzz9bwuQ",
        "colab_type": "code",
        "outputId": "bf16c182-53d3-49e3-e23a-a91c7a404c8c",
        "colab": {
          "base_uri": "https://localhost:8080/",
          "height": 545
        }
      },
      "cell_type": "code",
      "source": [
        "\n",
        "acc = history.history['acc']\n",
        "val_acc = history.history['val_acc']\n",
        "\n",
        "loss = history.history['loss']\n",
        "val_loss = history.history['val_loss']\n",
        "\n",
        "epochs = range(1, len(acc) + 1)\n",
        "\n",
        "# training and validation accuracy\n",
        "\n",
        "plt.plot(epochs, acc, 'bo', label='training acc')\n",
        "plt.plot(epochs, val_acc, 'b', label='validation acc')\n",
        "plt.title('training and validation accuracy')\n",
        "plt.legend()\n",
        "\n",
        "plt.figure()\n",
        "\n",
        "# training and validation loss\n",
        "\n",
        "plt.plot(epochs, loss, 'bo', label='training loss')\n",
        "plt.plot(epochs, val_loss, 'b', label='validation loss')\n",
        "plt.title('training and validation loss')\n",
        "plt.legend()\n",
        "\n",
        "plt.show()"
      ],
      "execution_count": 8,
      "outputs": [
        {
          "output_type": "display_data",
          "data": {
            "image/png": "[encoded data removed]",
            "text/plain": [
              "<Figure size 432x288 with 1 Axes>"
            ]
          },
          "metadata": {
            "tags": []
          }
        },
        {
          "output_type": "display_data",
          "data": {
            "image/png": "[encoded data removed]",
            "text/plain": [
              "<Figure size 432x288 with 1 Axes>"
            ]
          },
          "metadata": {
            "tags": []
          }
        }
      ]
    },
    {
      "metadata": {
        "id": "lOWsxpey8lN0",
        "colab_type": "text"
      },
      "cell_type": "markdown",
      "source": [
        "## Fine-tuning"
      ]
    },
    {
      "metadata": {
        "id": "PwkVMx8N8qMw",
        "colab_type": "code",
        "colab": {}
      },
      "cell_type": "code",
      "source": [
        "conv_base.trainable = True\n",
        "\n",
        "for layer in conv_base.layers:\n",
        "  if layer.name == 'block5_conv1':\n",
        "    layer.trainable = True"
      ],
      "execution_count": 0,
      "outputs": []
    },
    {
      "metadata": {
        "id": "LfTCY20dhMpn",
        "colab_type": "code",
        "colab": {}
      },
      "cell_type": "code",
      "source": [
        "def lr_schedule(epoch):\n",
        "  \n",
        "  lr = 1e-5\n",
        "  \n",
        "  if epoch > 75:\n",
        "      lr *= 1e-3\n",
        "  elif epoch > 50:\n",
        "      lr *= 1e-2\n",
        "  elif epoch > 25:\n",
        "      lr *= 1e-1\n",
        "  return lr"
      ],
      "execution_count": 0,
      "outputs": []
    },
    {
      "metadata": {
        "id": "DyN-J7rs9cvo",
        "colab_type": "code",
        "outputId": "92051ffa-e917-47df-cb2c-344fee06e475",
        "colab": {
          "base_uri": "https://localhost:8080/",
          "height": 6837
        }
      },
      "cell_type": "code",
      "source": [
        "# compile model\n",
        "import numpy as np\n",
        "model.compile(\n",
        "    loss='binary_crossentropy',\n",
        "    optimizer=optimizers.Adam(lr=lr_schedule(0)), \n",
        "    metrics=['acc'])\n",
        "\n",
        "model_type = \"VGG19\"\n",
        "# Prepare model model saving directory.\n",
        "save_dir = os.path.join(os.getcwd(), 'saved_models')\n",
        "model_name = 'cifar10_%s_model.{epoch:03d}.h5' % model_type\n",
        "if not os.path.isdir(save_dir):\n",
        "    os.makedirs(save_dir)\n",
        "filepath = os.path.join(save_dir, model_name)\n",
        "\n",
        "# Prepare callbacks for model saving and for learning rate adjustment.\n",
        "checkpoint = ModelCheckpoint(filepath=filepath,\n",
        "                             monitor='val_acc',\n",
        "                             verbose=1,\n",
        "                             save_best_only=True)\n",
        "\n",
        "lr_scheduler = LearningRateScheduler(lr_schedule)\n",
        "\n",
        "lr_reducer = ReduceLROnPlateau(factor=np.sqrt(0.1),\n",
        "                               cooldown=0,\n",
        "                               patience=5,\n",
        "                               min_lr=1e-8)\n",
        "\n",
        "callbacks = [checkpoint, lr_reducer, lr_scheduler]\n",
        "\n",
        "# train\n",
        "\n",
        "history = model.fit_generator(\n",
        "    train_generator,\n",
        "    steps_per_epoch=train_steps,\n",
        "    epochs=100,\n",
        "    validation_data=validation_generator,\n",
        "    validation_steps=val_steps,\n",
        "    workers=4,\n",
        "    callbacks=callbacks)"
      ],
      "execution_count": 11,
      "outputs": [
        {
          "output_type": "stream",
          "text": [
            "Epoch 1/100\n",
            "62/62 [==============================] - 28s 450ms/step - loss: 3.0430 - acc: 0.8256 - val_loss: 2.6956 - val_acc: 0.8688\n",
            "\n",
            "Epoch 00001: val_acc improved from -inf to 0.86880, saving model to /content/saved_models/cifar10_VGG19_model.001.h5\n",
            "Epoch 2/100\n",
            "62/62 [==============================] - 20s 322ms/step - loss: 2.4644 - acc: 0.8775 - val_loss: 2.1441 - val_acc: 0.9287\n",
            "\n",
            "Epoch 00002: val_acc improved from 0.86880 to 0.92872, saving model to /content/saved_models/cifar10_VGG19_model.002.h5\n",
            "Epoch 3/100\n",
            "62/62 [==============================] - 20s 324ms/step - loss: 2.0085 - acc: 0.9289 - val_loss: 1.8378 - val_acc: 0.9411\n",
            "\n",
            "Epoch 00003: val_acc improved from 0.92872 to 0.94112, saving model to /content/saved_models/cifar10_VGG19_model.003.h5\n",
            "Epoch 4/100\n",
            "62/62 [==============================] - 20s 326ms/step - loss: 1.7904 - acc: 0.9289 - val_loss: 1.7669 - val_acc: 0.9122\n",
            "\n",
            "Epoch 00004: val_acc did not improve from 0.94112\n",
            "Epoch 5/100\n",
            "62/62 [==============================] - 20s 327ms/step - loss: 1.6298 - acc: 0.9305 - val_loss: 1.5339 - val_acc: 0.9514\n",
            "\n",
            "Epoch 00005: val_acc improved from 0.94112 to 0.95145, saving model to /content/saved_models/cifar10_VGG19_model.005.h5\n",
            "Epoch 6/100\n",
            "62/62 [==============================] - 20s 326ms/step - loss: 1.4743 - acc: 0.9420 - val_loss: 1.4305 - val_acc: 0.9556\n",
            "\n",
            "Epoch 00006: val_acc improved from 0.95145 to 0.95558, saving model to /content/saved_models/cifar10_VGG19_model.006.h5\n",
            "Epoch 7/100\n",
            "62/62 [==============================] - 20s 328ms/step - loss: 1.3850 - acc: 0.9370 - val_loss: 1.3076 - val_acc: 0.9587\n",
            "\n",
            "Epoch 00007: val_acc improved from 0.95558 to 0.95868, saving model to /content/saved_models/cifar10_VGG19_model.007.h5\n",
            "Epoch 8/100\n",
            "62/62 [==============================] - 20s 328ms/step - loss: 1.2592 - acc: 0.9597 - val_loss: 1.2309 - val_acc: 0.9576\n",
            "\n",
            "Epoch 00008: val_acc did not improve from 0.95868\n",
            "Epoch 9/100\n",
            "62/62 [==============================] - 20s 329ms/step - loss: 1.1803 - acc: 0.9587 - val_loss: 1.1413 - val_acc: 0.9628\n",
            "\n",
            "Epoch 00009: val_acc improved from 0.95868 to 0.96281, saving model to /content/saved_models/cifar10_VGG19_model.009.h5\n",
            "Epoch 10/100\n",
            "62/62 [==============================] - 20s 330ms/step - loss: 1.1259 - acc: 0.9501 - val_loss: 1.1536 - val_acc: 0.9411\n",
            "\n",
            "Epoch 00010: val_acc did not improve from 0.96281\n",
            "Epoch 11/100\n",
            "62/62 [==============================] - 21s 331ms/step - loss: 1.0246 - acc: 0.9718 - val_loss: 1.0050 - val_acc: 0.9669\n",
            "\n",
            "Epoch 00011: val_acc improved from 0.96281 to 0.96694, saving model to /content/saved_models/cifar10_VGG19_model.011.h5\n",
            "Epoch 12/100\n",
            "62/62 [==============================] - 20s 331ms/step - loss: 0.9848 - acc: 0.9602 - val_loss: 1.0183 - val_acc: 0.9525\n",
            "\n",
            "Epoch 00012: val_acc did not improve from 0.96694\n",
            "Epoch 13/100\n",
            "62/62 [==============================] - 21s 332ms/step - loss: 0.9212 - acc: 0.9677 - val_loss: 0.9735 - val_acc: 0.9535\n",
            "\n",
            "Epoch 00013: val_acc did not improve from 0.96694\n",
            "Epoch 14/100\n",
            "62/62 [==============================] - 21s 332ms/step - loss: 0.8870 - acc: 0.9627 - val_loss: 0.9674 - val_acc: 0.9504\n",
            "\n",
            "Epoch 00014: val_acc did not improve from 0.96694\n",
            "Epoch 15/100\n",
            "62/62 [==============================] - 21s 332ms/step - loss: 0.8103 - acc: 0.9773 - val_loss: 0.8247 - val_acc: 0.9659\n",
            "\n",
            "Epoch 00015: val_acc did not improve from 0.96694\n",
            "Epoch 16/100\n",
            "62/62 [==============================] - 21s 334ms/step - loss: 0.7893 - acc: 0.9718 - val_loss: 0.7946 - val_acc: 0.9680\n",
            "\n",
            "Epoch 00016: val_acc improved from 0.96694 to 0.96798, saving model to /content/saved_models/cifar10_VGG19_model.016.h5\n",
            "Epoch 17/100\n",
            "62/62 [==============================] - 21s 333ms/step - loss: 0.7236 - acc: 0.9798 - val_loss: 0.7717 - val_acc: 0.9607\n",
            "\n",
            "Epoch 00017: val_acc did not improve from 0.96798\n",
            "Epoch 18/100\n",
            "62/62 [==============================] - 21s 332ms/step - loss: 0.6898 - acc: 0.9834 - val_loss: 0.7557 - val_acc: 0.9607\n",
            "\n",
            "Epoch 00018: val_acc did not improve from 0.96798\n",
            "Epoch 19/100\n",
            "62/62 [==============================] - 21s 333ms/step - loss: 0.6504 - acc: 0.9839 - val_loss: 0.7469 - val_acc: 0.9556\n",
            "\n",
            "Epoch 00019: val_acc did not improve from 0.96798\n",
            "Epoch 20/100\n",
            "62/62 [==============================] - 21s 335ms/step - loss: 0.6610 - acc: 0.9728 - val_loss: 0.7119 - val_acc: 0.9545\n",
            "\n",
            "Epoch 00020: val_acc did not improve from 0.96798\n",
            "Epoch 21/100\n",
            "62/62 [==============================] - 21s 333ms/step - loss: 0.5885 - acc: 0.9854 - val_loss: 0.6523 - val_acc: 0.9690\n",
            "\n",
            "Epoch 00021: val_acc improved from 0.96798 to 0.96901, saving model to /content/saved_models/cifar10_VGG19_model.021.h5\n",
            "Epoch 22/100\n",
            "62/62 [==============================] - 21s 332ms/step - loss: 0.5634 - acc: 0.9874 - val_loss: 0.6595 - val_acc: 0.9566\n",
            "\n",
            "Epoch 00022: val_acc did not improve from 0.96901\n",
            "Epoch 23/100\n",
            "62/62 [==============================] - 21s 332ms/step - loss: 0.5395 - acc: 0.9854 - val_loss: 0.6977 - val_acc: 0.9525\n",
            "\n",
            "Epoch 00023: val_acc did not improve from 0.96901\n",
            "Epoch 24/100\n",
            "62/62 [==============================] - 21s 333ms/step - loss: 0.5452 - acc: 0.9743 - val_loss: 0.6686 - val_acc: 0.9504\n",
            "\n",
            "Epoch 00024: val_acc did not improve from 0.96901\n",
            "Epoch 25/100\n",
            "62/62 [==============================] - 21s 334ms/step - loss: 0.5133 - acc: 0.9793 - val_loss: 0.5693 - val_acc: 0.9618\n",
            "\n",
            "Epoch 00025: val_acc did not improve from 0.96901\n",
            "Epoch 26/100\n",
            "62/62 [==============================] - 21s 335ms/step - loss: 0.4676 - acc: 0.9914 - val_loss: 0.5771 - val_acc: 0.9577\n",
            "\n",
            "Epoch 00026: val_acc did not improve from 0.96901\n",
            "Epoch 27/100\n",
            "62/62 [==============================] - 21s 334ms/step - loss: 0.4477 - acc: 0.9874 - val_loss: 0.5488 - val_acc: 0.9659\n",
            "\n",
            "Epoch 00027: val_acc did not improve from 0.96901\n",
            "Epoch 28/100\n",
            "62/62 [==============================] - 21s 333ms/step - loss: 0.4296 - acc: 0.9914 - val_loss: 0.5091 - val_acc: 0.9669\n",
            "\n",
            "Epoch 00028: val_acc did not improve from 0.96901\n",
            "Epoch 29/100\n",
            "62/62 [==============================] - 21s 332ms/step - loss: 0.4227 - acc: 0.9945 - val_loss: 0.6071 - val_acc: 0.9597\n",
            "\n",
            "Epoch 00029: val_acc did not improve from 0.96901\n",
            "Epoch 30/100\n",
            "62/62 [==============================] - 21s 332ms/step - loss: 0.4240 - acc: 0.9934 - val_loss: 0.5409 - val_acc: 0.9680\n",
            "\n",
            "Epoch 00030: val_acc did not improve from 0.96901\n",
            "Epoch 31/100\n",
            "62/62 [==============================] - 21s 333ms/step - loss: 0.4249 - acc: 0.9929 - val_loss: 0.5310 - val_acc: 0.9690\n",
            "\n",
            "Epoch 00031: val_acc did not improve from 0.96901\n",
            "Epoch 32/100\n",
            "62/62 [==============================] - 21s 336ms/step - loss: 0.4194 - acc: 0.9940 - val_loss: 0.5472 - val_acc: 0.9628\n",
            "\n",
            "Epoch 00032: val_acc did not improve from 0.96901\n",
            "Epoch 33/100\n",
            "62/62 [==============================] - 21s 333ms/step - loss: 0.4157 - acc: 0.9945 - val_loss: 0.5571 - val_acc: 0.9618\n",
            "\n",
            "Epoch 00033: val_acc did not improve from 0.96901\n",
            "Epoch 34/100\n",
            "62/62 [==============================] - 21s 332ms/step - loss: 0.4189 - acc: 0.9904 - val_loss: 0.5293 - val_acc: 0.9618\n",
            "\n",
            "Epoch 00034: val_acc did not improve from 0.96901\n",
            "Epoch 35/100\n",
            "62/62 [==============================] - 21s 332ms/step - loss: 0.4110 - acc: 0.9950 - val_loss: 0.5606 - val_acc: 0.9659\n",
            "\n",
            "Epoch 00035: val_acc did not improve from 0.96901\n",
            "Epoch 36/100\n",
            "62/62 [==============================] - 21s 332ms/step - loss: 0.4160 - acc: 0.9909 - val_loss: 0.5142 - val_acc: 0.9680\n",
            "\n",
            "Epoch 00036: val_acc did not improve from 0.96901\n",
            "Epoch 37/100\n",
            "62/62 [==============================] - 21s 331ms/step - loss: 0.4073 - acc: 0.9929 - val_loss: 0.5815 - val_acc: 0.9566\n",
            "\n",
            "Epoch 00037: val_acc did not improve from 0.96901\n",
            "Epoch 38/100\n",
            "62/62 [==============================] - 21s 331ms/step - loss: 0.4029 - acc: 0.9955 - val_loss: 0.5517 - val_acc: 0.9618\n",
            "\n",
            "Epoch 00038: val_acc did not improve from 0.96901\n",
            "Epoch 39/100\n",
            "62/62 [==============================] - 21s 333ms/step - loss: 0.4104 - acc: 0.9914 - val_loss: 0.5058 - val_acc: 0.9783\n",
            "\n",
            "Epoch 00039: val_acc improved from 0.96901 to 0.97831, saving model to /content/saved_models/cifar10_VGG19_model.039.h5\n",
            "Epoch 40/100\n",
            "62/62 [==============================] - 21s 332ms/step - loss: 0.4009 - acc: 0.9960 - val_loss: 0.5381 - val_acc: 0.9597\n",
            "\n",
            "Epoch 00040: val_acc did not improve from 0.97831\n",
            "Epoch 41/100\n",
            "62/62 [==============================] - 21s 332ms/step - loss: 0.4001 - acc: 0.9945 - val_loss: 0.5694 - val_acc: 0.9587\n",
            "\n",
            "Epoch 00041: val_acc did not improve from 0.97831\n",
            "Epoch 42/100\n",
            "62/62 [==============================] - 21s 332ms/step - loss: 0.3950 - acc: 0.9955 - val_loss: 0.5163 - val_acc: 0.9690\n",
            "\n",
            "Epoch 00042: val_acc did not improve from 0.97831\n",
            "Epoch 43/100\n",
            "62/62 [==============================] - 21s 332ms/step - loss: 0.3962 - acc: 0.9934 - val_loss: 0.5953 - val_acc: 0.9545\n",
            "\n",
            "Epoch 00043: val_acc did not improve from 0.97831\n",
            "Epoch 44/100\n",
            "62/62 [==============================] - 21s 332ms/step - loss: 0.3940 - acc: 0.9955 - val_loss: 0.5311 - val_acc: 0.9680\n",
            "\n",
            "Epoch 00044: val_acc did not improve from 0.97831\n",
            "Epoch 45/100\n",
            "62/62 [==============================] - 21s 331ms/step - loss: 0.3888 - acc: 0.9975 - val_loss: 0.5121 - val_acc: 0.9659\n",
            "\n",
            "Epoch 00045: val_acc did not improve from 0.97831\n",
            "Epoch 46/100\n",
            "62/62 [==============================] - 21s 332ms/step - loss: 0.3883 - acc: 0.9950 - val_loss: 0.4877 - val_acc: 0.9721\n",
            "\n",
            "Epoch 00046: val_acc did not improve from 0.97831\n",
            "Epoch 47/100\n",
            "62/62 [==============================] - 21s 332ms/step - loss: 0.3828 - acc: 0.9960 - val_loss: 0.5585 - val_acc: 0.9576\n",
            "\n",
            "Epoch 00047: val_acc did not improve from 0.97831\n",
            "Epoch 48/100\n",
            "62/62 [==============================] - 21s 332ms/step - loss: 0.3787 - acc: 0.9970 - val_loss: 0.5344 - val_acc: 0.9659\n",
            "\n",
            "Epoch 00048: val_acc did not improve from 0.97831\n",
            "Epoch 49/100\n",
            "62/62 [==============================] - 21s 332ms/step - loss: 0.3793 - acc: 0.9965 - val_loss: 0.5161 - val_acc: 0.9607\n",
            "\n",
            "Epoch 00049: val_acc did not improve from 0.97831\n",
            "Epoch 50/100\n",
            "62/62 [==============================] - 21s 332ms/step - loss: 0.3800 - acc: 0.9960 - val_loss: 0.5050 - val_acc: 0.9690\n",
            "\n",
            "Epoch 00050: val_acc did not improve from 0.97831\n",
            "Epoch 51/100\n",
            "62/62 [==============================] - 21s 332ms/step - loss: 0.3784 - acc: 0.9950 - val_loss: 0.5172 - val_acc: 0.9618\n",
            "\n",
            "Epoch 00051: val_acc did not improve from 0.97831\n",
            "Epoch 52/100\n",
            "62/62 [==============================] - 21s 332ms/step - loss: 0.3790 - acc: 0.9929 - val_loss: 0.5020 - val_acc: 0.9690\n",
            "\n",
            "Epoch 00052: val_acc did not improve from 0.97831\n",
            "Epoch 53/100\n",
            "62/62 [==============================] - 21s 332ms/step - loss: 0.3748 - acc: 0.9945 - val_loss: 0.5351 - val_acc: 0.9587\n",
            "\n",
            "Epoch 00053: val_acc did not improve from 0.97831\n",
            "Epoch 54/100\n",
            "62/62 [==============================] - 21s 332ms/step - loss: 0.3696 - acc: 0.9975 - val_loss: 0.5184 - val_acc: 0.9659\n",
            "\n",
            "Epoch 00054: val_acc did not improve from 0.97831\n",
            "Epoch 55/100\n",
            "62/62 [==============================] - 21s 332ms/step - loss: 0.3733 - acc: 0.9945 - val_loss: 0.5017 - val_acc: 0.9669\n",
            "\n",
            "Epoch 00055: val_acc did not improve from 0.97831\n",
            "Epoch 56/100\n",
            "62/62 [==============================] - 21s 332ms/step - loss: 0.3734 - acc: 0.9955 - val_loss: 0.5238 - val_acc: 0.9607\n",
            "\n",
            "Epoch 00056: val_acc did not improve from 0.97831\n",
            "Epoch 57/100\n",
            "62/62 [==============================] - 21s 331ms/step - loss: 0.3752 - acc: 0.9934 - val_loss: 0.4988 - val_acc: 0.9659\n",
            "\n",
            "Epoch 00057: val_acc did not improve from 0.97831\n",
            "Epoch 58/100\n",
            "62/62 [==============================] - 21s 332ms/step - loss: 0.3765 - acc: 0.9940 - val_loss: 0.5144 - val_acc: 0.9647\n",
            "\n",
            "Epoch 00058: val_acc did not improve from 0.97831\n",
            "Epoch 59/100\n",
            "62/62 [==============================] - 21s 332ms/step - loss: 0.3737 - acc: 0.9955 - val_loss: 0.5194 - val_acc: 0.9659\n",
            "\n",
            "Epoch 00059: val_acc did not improve from 0.97831\n",
            "Epoch 60/100\n",
            "62/62 [==============================] - 21s 334ms/step - loss: 0.3722 - acc: 0.9950 - val_loss: 0.5044 - val_acc: 0.9649\n",
            "\n",
            "Epoch 00060: val_acc did not improve from 0.97831\n",
            "Epoch 61/100\n",
            "62/62 [==============================] - 21s 333ms/step - loss: 0.3711 - acc: 0.9965 - val_loss: 0.5230 - val_acc: 0.9638\n",
            "\n",
            "Epoch 00061: val_acc did not improve from 0.97831\n",
            "Epoch 62/100\n",
            "62/62 [==============================] - 21s 332ms/step - loss: 0.3772 - acc: 0.9934 - val_loss: 0.5053 - val_acc: 0.9638\n",
            "\n",
            "Epoch 00062: val_acc did not improve from 0.97831\n",
            "Epoch 63/100\n",
            "62/62 [==============================] - 21s 332ms/step - loss: 0.3730 - acc: 0.9945 - val_loss: 0.5060 - val_acc: 0.9659\n",
            "\n",
            "Epoch 00063: val_acc did not improve from 0.97831\n",
            "Epoch 64/100\n",
            "62/62 [==============================] - 21s 331ms/step - loss: 0.3671 - acc: 0.9975 - val_loss: 0.5377 - val_acc: 0.9597\n",
            "\n",
            "Epoch 00064: val_acc did not improve from 0.97831\n",
            "Epoch 65/100\n",
            "62/62 [==============================] - 21s 332ms/step - loss: 0.3702 - acc: 0.9960 - val_loss: 0.4676 - val_acc: 0.9700\n",
            "\n",
            "Epoch 00065: val_acc did not improve from 0.97831\n",
            "Epoch 66/100\n",
            "62/62 [==============================] - 21s 332ms/step - loss: 0.3651 - acc: 0.9990 - val_loss: 0.5455 - val_acc: 0.9628\n",
            "\n",
            "Epoch 00066: val_acc did not improve from 0.97831\n",
            "Epoch 67/100\n",
            "62/62 [==============================] - 21s 333ms/step - loss: 0.3724 - acc: 0.9924 - val_loss: 0.5148 - val_acc: 0.9597\n",
            "\n",
            "Epoch 00067: val_acc did not improve from 0.97831\n",
            "Epoch 68/100\n",
            "62/62 [==============================] - 21s 331ms/step - loss: 0.3744 - acc: 0.9960 - val_loss: 0.5070 - val_acc: 0.9669\n",
            "\n",
            "Epoch 00068: val_acc did not improve from 0.97831\n",
            "Epoch 69/100\n",
            "62/62 [==============================] - 21s 332ms/step - loss: 0.3685 - acc: 0.9965 - val_loss: 0.5240 - val_acc: 0.9649\n",
            "\n",
            "Epoch 00069: val_acc did not improve from 0.97831\n",
            "Epoch 70/100\n",
            "62/62 [==============================] - 21s 331ms/step - loss: 0.3647 - acc: 0.9985 - val_loss: 0.5092 - val_acc: 0.9669\n",
            "\n",
            "Epoch 00070: val_acc did not improve from 0.97831\n",
            "Epoch 71/100\n",
            "62/62 [==============================] - 21s 332ms/step - loss: 0.3690 - acc: 0.9970 - val_loss: 0.5020 - val_acc: 0.9700\n",
            "\n",
            "Epoch 00071: val_acc did not improve from 0.97831\n",
            "Epoch 72/100\n",
            "62/62 [==============================] - 21s 332ms/step - loss: 0.3662 - acc: 0.9975 - val_loss: 0.5130 - val_acc: 0.9628\n",
            "\n",
            "Epoch 00072: val_acc did not improve from 0.97831\n",
            "Epoch 73/100\n",
            "62/62 [==============================] - 21s 332ms/step - loss: 0.3677 - acc: 0.9970 - val_loss: 0.5448 - val_acc: 0.9597\n",
            "\n",
            "Epoch 00073: val_acc did not improve from 0.97831\n",
            "Epoch 74/100\n",
            "62/62 [==============================] - 21s 331ms/step - loss: 0.3678 - acc: 0.9970 - val_loss: 0.4759 - val_acc: 0.9721\n",
            "\n",
            "Epoch 00074: val_acc did not improve from 0.97831\n",
            "Epoch 75/100\n",
            "62/62 [==============================] - 21s 332ms/step - loss: 0.3681 - acc: 0.9965 - val_loss: 0.5085 - val_acc: 0.9669\n",
            "\n",
            "Epoch 00075: val_acc did not improve from 0.97831\n",
            "Epoch 76/100\n",
            "62/62 [==============================] - 21s 331ms/step - loss: 0.3669 - acc: 0.9965 - val_loss: 0.5409 - val_acc: 0.9649\n",
            "\n",
            "Epoch 00076: val_acc did not improve from 0.97831\n",
            "Epoch 77/100\n",
            "62/62 [==============================] - 21s 331ms/step - loss: 0.3662 - acc: 0.9965 - val_loss: 0.4954 - val_acc: 0.9649\n",
            "\n",
            "Epoch 00077: val_acc did not improve from 0.97831\n",
            "Epoch 78/100\n",
            "62/62 [==============================] - 21s 331ms/step - loss: 0.3640 - acc: 0.9975 - val_loss: 0.4967 - val_acc: 0.9669\n",
            "\n",
            "Epoch 00078: val_acc did not improve from 0.97831\n",
            "Epoch 79/100\n",
            "62/62 [==============================] - 21s 332ms/step - loss: 0.3635 - acc: 0.9960 - val_loss: 0.5275 - val_acc: 0.9628\n",
            "\n",
            "Epoch 00079: val_acc did not improve from 0.97831\n",
            "Epoch 80/100\n",
            "62/62 [==============================] - 21s 331ms/step - loss: 0.3674 - acc: 0.9955 - val_loss: 0.5017 - val_acc: 0.9659\n",
            "\n",
            "Epoch 00080: val_acc did not improve from 0.97831\n",
            "Epoch 81/100\n",
            "62/62 [==============================] - 21s 331ms/step - loss: 0.3663 - acc: 0.9970 - val_loss: 0.5307 - val_acc: 0.9628\n",
            "\n",
            "Epoch 00081: val_acc did not improve from 0.97831\n",
            "Epoch 82/100\n",
            "62/62 [==============================] - 21s 331ms/step - loss: 0.3685 - acc: 0.9960 - val_loss: 0.5105 - val_acc: 0.9649\n",
            "\n",
            "Epoch 00082: val_acc did not improve from 0.97831\n",
            "Epoch 83/100\n",
            "62/62 [==============================] - 21s 332ms/step - loss: 0.3700 - acc: 0.9940 - val_loss: 0.4949 - val_acc: 0.9649\n",
            "\n",
            "Epoch 00083: val_acc did not improve from 0.97831\n",
            "Epoch 84/100\n",
            "62/62 [==============================] - 21s 331ms/step - loss: 0.3688 - acc: 0.9950 - val_loss: 0.5100 - val_acc: 0.9690\n",
            "\n",
            "Epoch 00084: val_acc did not improve from 0.97831\n",
            "Epoch 85/100\n",
            "62/62 [==============================] - 21s 332ms/step - loss: 0.3664 - acc: 0.9960 - val_loss: 0.5201 - val_acc: 0.9628\n",
            "\n",
            "Epoch 00085: val_acc did not improve from 0.97831\n",
            "Epoch 86/100\n",
            "62/62 [==============================] - 21s 332ms/step - loss: 0.3639 - acc: 0.9975 - val_loss: 0.5153 - val_acc: 0.9669\n",
            "\n",
            "Epoch 00086: val_acc did not improve from 0.97831\n",
            "Epoch 87/100\n",
            "62/62 [==============================] - 21s 332ms/step - loss: 0.3674 - acc: 0.9960 - val_loss: 0.5174 - val_acc: 0.9607\n",
            "\n",
            "Epoch 00087: val_acc did not improve from 0.97831\n",
            "Epoch 88/100\n",
            "62/62 [==============================] - 21s 332ms/step - loss: 0.3681 - acc: 0.9955 - val_loss: 0.4979 - val_acc: 0.9680\n",
            "\n",
            "Epoch 00088: val_acc did not improve from 0.97831\n",
            "Epoch 89/100\n",
            "62/62 [==============================] - 21s 332ms/step - loss: 0.3660 - acc: 0.9960 - val_loss: 0.5164 - val_acc: 0.9649\n",
            "\n",
            "Epoch 00089: val_acc did not improve from 0.97831\n",
            "Epoch 90/100\n",
            "62/62 [==============================] - 21s 333ms/step - loss: 0.3627 - acc: 0.9985 - val_loss: 0.5138 - val_acc: 0.9647\n",
            "\n",
            "Epoch 00090: val_acc did not improve from 0.97831\n",
            "Epoch 91/100\n",
            "62/62 [==============================] - 21s 332ms/step - loss: 0.3682 - acc: 0.9945 - val_loss: 0.5176 - val_acc: 0.9638\n",
            "\n",
            "Epoch 00091: val_acc did not improve from 0.97831\n",
            "Epoch 92/100\n",
            "62/62 [==============================] - 21s 332ms/step - loss: 0.3654 - acc: 0.9980 - val_loss: 0.5127 - val_acc: 0.9659\n",
            "\n",
            "Epoch 00092: val_acc did not improve from 0.97831\n",
            "Epoch 93/100\n",
            "62/62 [==============================] - 20s 330ms/step - loss: 0.3651 - acc: 0.9955 - val_loss: 0.5088 - val_acc: 0.9649\n",
            "\n",
            "Epoch 00093: val_acc did not improve from 0.97831\n",
            "Epoch 94/100\n",
            "62/62 [==============================] - 21s 332ms/step - loss: 0.3667 - acc: 0.9950 - val_loss: 0.5040 - val_acc: 0.9669\n",
            "\n",
            "Epoch 00094: val_acc did not improve from 0.97831\n",
            "Epoch 95/100\n",
            "62/62 [==============================] - 21s 334ms/step - loss: 0.3667 - acc: 0.9970 - val_loss: 0.5053 - val_acc: 0.9618\n",
            "\n",
            "Epoch 00095: val_acc did not improve from 0.97831\n",
            "Epoch 96/100\n",
            "62/62 [==============================] - 21s 332ms/step - loss: 0.3687 - acc: 0.9960 - val_loss: 0.5237 - val_acc: 0.9659\n",
            "\n",
            "Epoch 00096: val_acc did not improve from 0.97831\n",
            "Epoch 97/100\n",
            "62/62 [==============================] - 21s 332ms/step - loss: 0.3699 - acc: 0.9945 - val_loss: 0.5291 - val_acc: 0.9659\n",
            "\n",
            "Epoch 00097: val_acc did not improve from 0.97831\n",
            "Epoch 98/100\n",
            "62/62 [==============================] - 21s 332ms/step - loss: 0.3636 - acc: 0.9990 - val_loss: 0.4996 - val_acc: 0.9618\n",
            "\n",
            "Epoch 00098: val_acc did not improve from 0.97831\n",
            "Epoch 99/100\n",
            "62/62 [==============================] - 21s 332ms/step - loss: 0.3641 - acc: 0.9985 - val_loss: 0.5322 - val_acc: 0.9607\n",
            "\n",
            "Epoch 00099: val_acc did not improve from 0.97831\n",
            "Epoch 100/100\n",
            "62/62 [==============================] - 21s 331ms/step - loss: 0.3630 - acc: 0.9985 - val_loss: 0.5027 - val_acc: 0.9669\n",
            "\n",
            "Epoch 00100: val_acc did not improve from 0.97831\n"
          ],
          "name": "stdout"
        }
      ]
    },
    {
      "metadata": {
        "id": "eVBQgh5M-Rtz",
        "colab_type": "text"
      },
      "cell_type": "markdown",
      "source": [
        "## Display learning curves during fine-tuning"
      ]
    },
    {
      "metadata": {
        "id": "mbkIw7Ie-NP4",
        "colab_type": "code",
        "outputId": "d6ba7b51-d2a6-4ce9-99e3-2209764fa128",
        "colab": {
          "base_uri": "https://localhost:8080/",
          "height": 545
        }
      },
      "cell_type": "code",
      "source": [
        "acc = history.history['acc']\n",
        "val_acc = history.history['val_acc']\n",
        "\n",
        "loss = history.history['loss']\n",
        "val_loss = history.history['val_loss']\n",
        "\n",
        "epochs = range(1, len(acc) + 1)\n",
        "\n",
        "# training and validation accuracy\n",
        "\n",
        "plt.plot(epochs, acc, 'r', label='training acc')\n",
        "plt.plot(epochs, val_acc, 'b', label='validation acc')\n",
        "plt.title('training and validation accuracy')\n",
        "plt.legend()\n",
        "\n",
        "plt.figure()\n",
        "\n",
        "# training and validation loss\n",
        "\n",
        "plt.plot(epochs, loss, 'r', label='training loss')\n",
        "plt.plot(epochs, val_loss, 'b', label='validation loss')\n",
        "plt.title('training and validation loss')\n",
        "plt.legend()\n",
        "\n",
        "plt.show()"
      ],
      "execution_count": 12,
      "outputs": [
        {
          "output_type": "display_data",
          "data": {
            "image/png": "[encoded data removed]",
            "text/plain": [
              "<Figure size 432x288 with 1 Axes>"
            ]
          },
          "metadata": {
            "tags": []
          }
        },
        {
          "output_type": "display_data",
          "data": {
            "image/png": "[encoded data removed]",
            "text/plain": [
              "<Figure size 432x288 with 1 Axes>"
            ]
          },
          "metadata": {
            "tags": []
          }
        }
      ]
    },
    {
      "metadata": {
        "id": "qAMAiHmLzHow",
        "colab_type": "code",
        "colab": {
          "base_uri": "https://localhost:8080/",
          "height": 34
        },
        "outputId": "4d1c5b7c-ed6f-4bf7-ee0a-8347dc34981f"
      },
      "cell_type": "code",
      "source": [
        "!ls /content/saved_models/ | tail -1"
      ],
      "execution_count": 13,
      "outputs": [
        {
          "output_type": "stream",
          "text": [
            "cifar10_VGG19_model.039.h5\n"
          ],
          "name": "stdout"
        }
      ]
    },
    {
      "metadata": {
        "id": "DlA3B-ywz9Za",
        "colab_type": "code",
        "colab": {}
      },
      "cell_type": "code",
      "source": [
        "cp /content/saved_models/cifar10_VGG19_model.039.h5 /content/VGG19_P2_best.h5"
      ],
      "execution_count": 0,
      "outputs": []
    },
    {
      "metadata": {
        "id": "he3Nw6TOJwjx",
        "colab_type": "text"
      },
      "cell_type": "markdown",
      "source": [
        "## Print out validation loss and accuracy"
      ]
    },
    {
      "metadata": {
        "id": "SVQtrk7uJdhl",
        "colab_type": "code",
        "colab": {}
      },
      "cell_type": "code",
      "source": [
        "from keras.models import load_model\n",
        "\n",
        "model = load_model('VGG19_P2_best.h5')\n",
        "val_loss, val_acc = model.evaluate_generator(validation_generator, steps=val_steps)"
      ],
      "execution_count": 0,
      "outputs": []
    },
    {
      "metadata": {
        "id": "HpdddLi1SUMe",
        "colab_type": "code",
        "outputId": "195ecf39-a4b9-4c0a-ac66-0c7381d60859",
        "colab": {
          "base_uri": "https://localhost:8080/",
          "height": 51
        }
      },
      "cell_type": "code",
      "source": [
        "print(\"Validation loss:\", val_loss)\n",
        "print(\"Validation accuracy:\", val_acc)"
      ],
      "execution_count": 26,
      "outputs": [
        {
          "output_type": "stream",
          "text": [
            "Validation loss: 0.551405395358062\n",
            "Validation accuracy: 0.9628099173553719\n"
          ],
          "name": "stdout"
        }
      ]
    },
    {
      "metadata": {
        "id": "7Ww756WToby8",
        "colab_type": "text"
      },
      "cell_type": "markdown",
      "source": [
        "## Save the model"
      ]
    },
    {
      "metadata": {
        "id": "YhEoI8ZTok-X",
        "colab_type": "code",
        "colab": {
          "base_uri": "https://localhost:8080/",
          "height": 442
        },
        "outputId": "9290084c-b862-4385-d183-f6f30b5f542e"
      },
      "cell_type": "code",
      "source": [
        "model_name = 'VGG19_P2_best.h5'\n",
        "with open(model_name, 'r') as f:\n",
        "  files.download(model_name)"
      ],
      "execution_count": 29,
      "outputs": [
        {
          "output_type": "stream",
          "text": [
            "----------------------------------------\n",
            "Exception happened during processing of request from ('::ffff:127.0.0.1', 49246, 0, 0)\n",
            "Traceback (most recent call last):\n",
            "  File \"/usr/lib/python3.6/socketserver.py\", line 317, in _handle_request_noblock\n",
            "    self.process_request(request, client_address)\n",
            "  File \"/usr/lib/python3.6/socketserver.py\", line 348, in process_request\n",
            "    self.finish_request(request, client_address)\n",
            "  File \"/usr/lib/python3.6/socketserver.py\", line 361, in finish_request\n",
            "    self.RequestHandlerClass(request, client_address, self)\n",
            "  File \"/usr/lib/python3.6/socketserver.py\", line 721, in __init__\n",
            "    self.handle()\n",
            "  File \"/usr/lib/python3.6/http/server.py\", line 418, in handle\n",
            "    self.handle_one_request()\n",
            "  File \"/usr/lib/python3.6/http/server.py\", line 406, in handle_one_request\n",
            "    method()\n",
            "  File \"/usr/lib/python3.6/http/server.py\", line 639, in do_GET\n",
            "    self.copyfile(f, self.wfile)\n",
            "  File \"/usr/lib/python3.6/http/server.py\", line 800, in copyfile\n",
            "    shutil.copyfileobj(source, outputfile)\n",
            "  File \"/usr/lib/python3.6/shutil.py\", line 82, in copyfileobj\n",
            "    fdst.write(buf)\n",
            "  File \"/usr/lib/python3.6/socketserver.py\", line 800, in write\n",
            "    self._sock.sendall(b)\n",
            "ConnectionResetError: [Errno 104] Connection reset by peer\n",
            "----------------------------------------\n"
          ],
          "name": "stderr"
        }
      ]
    }
  ]
}