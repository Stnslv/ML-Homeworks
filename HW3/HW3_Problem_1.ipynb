{
  "nbformat": 4,
  "nbformat_minor": 0,
  "metadata": {
    "colab": {
      "name": "HW3_Problem_1.ipynb",
      "version": "0.3.2",
      "provenance": [],
      "collapsed_sections": [],
      "toc_visible": true
    },
    "kernelspec": {
      "name": "python3",
      "display_name": "Python 3"
    },
    "accelerator": "GPU"
  },
  "cells": [
    {
      "metadata": {
        "id": "KSrgMJ5vKFzQ",
        "colab_type": "text"
      },
      "cell_type": "markdown",
      "source": [
        "# Feature extraction with VGG19"
      ]
    },
    {
      "metadata": {
        "id": "BqIG8QHMLNOn",
        "colab_type": "text"
      },
      "cell_type": "markdown",
      "source": [
        "## Download the data"
      ]
    },
    {
      "metadata": {
        "id": "t3I1jd7cKV6_",
        "colab_type": "text"
      },
      "cell_type": "markdown",
      "source": [
        "Download the example data, a zip. of 2,000 JPG pictures of cats and dogs and extract it locally in ```/tmp```.\n",
        "\n"
      ]
    },
    {
      "metadata": {
        "id": "JWjprHEXJ5Qi",
        "colab_type": "code",
        "outputId": "1b354e99-c896-41bb-da63-2967d0c5a296",
        "colab": {
          "base_uri": "https://localhost:8080/",
          "height": 204
        }
      },
      "cell_type": "code",
      "source": [
        "!wget --no-check-certificate \\\n",
        "    https://storage.googleapis.com/mledu-datasets/cats_and_dogs_filtered.zip \\\n",
        "    -O /tmp/cats_and_dogs_filtered.zip"
      ],
      "execution_count": 1,
      "outputs": [
        {
          "output_type": "stream",
          "text": [
            "--2019-04-18 04:42:44--  https://storage.googleapis.com/mledu-datasets/cats_and_dogs_filtered.zip\n",
            "Resolving storage.googleapis.com (storage.googleapis.com)... 108.177.111.128, 2607:f8b0:4001:c03::80\n",
            "Connecting to storage.googleapis.com (storage.googleapis.com)|108.177.111.128|:443... connected.\n",
            "HTTP request sent, awaiting response... 200 OK\n",
            "Length: 68606236 (65M) [application/zip]\n",
            "Saving to: ‘/tmp/cats_and_dogs_filtered.zip’\n",
            "\n",
            "/tmp/cats_and_dogs_ 100%[===================>]  65.43M   108MB/s    in 0.6s    \n",
            "\n",
            "2019-04-18 04:42:45 (108 MB/s) - ‘/tmp/cats_and_dogs_filtered.zip’ saved [68606236/68606236]\n",
            "\n"
          ],
          "name": "stdout"
        }
      ]
    },
    {
      "metadata": {
        "id": "WvoHtdA-K6Rw",
        "colab_type": "code",
        "outputId": "7d61b9ef-a2f6-412b-bd7a-7cd9b04607bc",
        "colab": {
          "base_uri": "https://localhost:8080/",
          "height": 34
        }
      },
      "cell_type": "code",
      "source": [
        "import os\n",
        "import zipfile\n",
        "from google.colab import files\n",
        "\n",
        "from keras.applications import VGG19\n",
        "from keras import layers\n",
        "from keras import models\n",
        "from keras import optimizers\n",
        "from keras.regularizers import l1\n",
        "from keras.preprocessing.image import ImageDataGenerator\n",
        "\n",
        "%matplotlib inline\n",
        "import matplotlib.pyplot as plt\n",
        "\n",
        "from keras.callbacks import ModelCheckpoint, LearningRateScheduler\n",
        "from keras.callbacks import ReduceLROnPlateau\n",
        "\n",
        "import numpy as np\n",
        "\n",
        "local_zip = '/tmp/cats_and_dogs_filtered.zip'\n",
        "zip_ref = zipfile.ZipFile(local_zip, 'r')\n",
        "zip_ref.extractall('/tmp')\n",
        "zip_ref.close()"
      ],
      "execution_count": 2,
      "outputs": [
        {
          "output_type": "stream",
          "text": [
            "Using TensorFlow backend.\n"
          ],
          "name": "stderr"
        }
      ]
    },
    {
      "metadata": {
        "id": "dL8ikM89LlsH",
        "colab_type": "code",
        "colab": {}
      },
      "cell_type": "code",
      "source": [
        "base_dir = '/tmp/cats_and_dogs_filtered'\n",
        "train_dir = os.path.join(base_dir, 'train')\n",
        "validation_dir = os.path.join(base_dir, 'validation')\n",
        "\n",
        "# Directory with our training cat pictures\n",
        "train_cats_dir = os.path.join(train_dir, 'cats')\n",
        "\n",
        "# Directory with our training dog pictures\n",
        "train_dogs_dir = os.path.join(train_dir, 'dogs')\n",
        "\n",
        "# Directory with our validation cat pictures\n",
        "validation_cats_dir = os.path.join(validation_dir, 'cats')\n",
        "\n",
        "# Directory with our validation dog pictures\n",
        "validation_dogs_dir = os.path.join(validation_dir, 'dogs')"
      ],
      "execution_count": 0,
      "outputs": []
    },
    {
      "metadata": {
        "id": "kQ48W5T9rHWu",
        "colab_type": "text"
      },
      "cell_type": "markdown",
      "source": [
        "## Load the convolutional base and freeze it"
      ]
    },
    {
      "metadata": {
        "id": "Y0FgtANCXm_H",
        "colab_type": "code",
        "outputId": "07f5e5eb-7f27-4b55-85aa-0a86f0ce44d1",
        "colab": {
          "base_uri": "https://localhost:8080/",
          "height": 122
        }
      },
      "cell_type": "code",
      "source": [
        "conv_base = VGG19(\n",
        "    weights='imagenet', \n",
        "    include_top=False, \n",
        "    input_shape=(150, 150, 3))\n",
        "\n",
        "conv_base.trainable = False"
      ],
      "execution_count": 4,
      "outputs": [
        {
          "output_type": "stream",
          "text": [
            "WARNING:tensorflow:From /usr/local/lib/python3.6/dist-packages/tensorflow/python/framework/op_def_library.py:263: colocate_with (from tensorflow.python.framework.ops) is deprecated and will be removed in a future version.\n",
            "Instructions for updating:\n",
            "Colocations handled automatically by placer.\n",
            "Downloading data from https://github.com/fchollet/deep-learning-models/releases/download/v0.1/vgg19_weights_tf_dim_ordering_tf_kernels_notop.h5\n",
            "80142336/80134624 [==============================] - 1s 0us/step\n"
          ],
          "name": "stdout"
        }
      ]
    },
    {
      "metadata": {
        "id": "Qfx6PqhPrb7Q",
        "colab_type": "text"
      },
      "cell_type": "markdown",
      "source": [
        "## Create model to put on top of VGG19\n",
        "\n",
        "This model contains densely connected layers that will use the features extracted from the convolutional base to classify images as either cats or dogs.  Because these models suffer greatly from overfitting, we use a high drop out rate for the dense layer, as well decreasing the size of the dense layer in order to reduce the complexity of the model and further fight overfitting. "
      ]
    },
    {
      "metadata": {
        "id": "qUpmocDAO3xm",
        "colab_type": "code",
        "outputId": "74620295-2789-400a-b028-e1aa45cc9d5f",
        "colab": {
          "base_uri": "https://localhost:8080/",
          "height": 88
        }
      },
      "cell_type": "code",
      "source": [
        "model = models.Sequential()\n",
        "model.add(conv_base)\n",
        "model.add(layers.Flatten())\n",
        "model.add(layers.Dropout(0.3))\n",
        "model.add(layers.Dense(128, activation='relu'))\n",
        "model.add(layers.Dense(1, activation='sigmoid'))"
      ],
      "execution_count": 5,
      "outputs": [
        {
          "output_type": "stream",
          "text": [
            "WARNING:tensorflow:From /usr/local/lib/python3.6/dist-packages/keras/backend/tensorflow_backend.py:3445: calling dropout (from tensorflow.python.ops.nn_ops) with keep_prob is deprecated and will be removed in a future version.\n",
            "Instructions for updating:\n",
            "Please use `rate` instead of `keep_prob`. Rate should be set to `rate = 1 - keep_prob`.\n"
          ],
          "name": "stdout"
        }
      ]
    },
    {
      "metadata": {
        "id": "Fh6gZSeAjF7c",
        "colab_type": "code",
        "outputId": "f3531597-02b9-42a1-d15a-9d930e7dbe4e",
        "colab": {
          "base_uri": "https://localhost:8080/",
          "height": 306
        }
      },
      "cell_type": "code",
      "source": [
        "model.summary()"
      ],
      "execution_count": 6,
      "outputs": [
        {
          "output_type": "stream",
          "text": [
            "_________________________________________________________________\n",
            "Layer (type)                 Output Shape              Param #   \n",
            "=================================================================\n",
            "vgg19 (Model)                (None, 4, 4, 512)         20024384  \n",
            "_________________________________________________________________\n",
            "flatten_1 (Flatten)          (None, 8192)              0         \n",
            "_________________________________________________________________\n",
            "dropout_1 (Dropout)          (None, 8192)              0         \n",
            "_________________________________________________________________\n",
            "dense_1 (Dense)              (None, 128)               1048704   \n",
            "_________________________________________________________________\n",
            "dense_2 (Dense)              (None, 1)                 129       \n",
            "=================================================================\n",
            "Total params: 21,073,217\n",
            "Trainable params: 1,048,833\n",
            "Non-trainable params: 20,024,384\n",
            "_________________________________________________________________\n"
          ],
          "name": "stdout"
        }
      ]
    },
    {
      "metadata": {
        "id": "eZjBiddhi5Qj",
        "colab_type": "text"
      },
      "cell_type": "markdown",
      "source": [
        "## Train the model end to end with frozen convolutional base"
      ]
    },
    {
      "metadata": {
        "id": "tfAQlC2Oi41L",
        "colab_type": "code",
        "outputId": "147b61d6-1dd5-4958-9cc7-09352ec81933",
        "colab": {
          "base_uri": "https://localhost:8080/",
          "height": 1482
        }
      },
      "cell_type": "code",
      "source": [
        "# Use batches of powers of two to take advantage of GPU.\n",
        "batches = 32\n",
        "val_steps = int(1000/batches)\n",
        "train_steps = int(2000/batches)\n",
        "\n",
        "# Data augmentation for training data\n",
        "train_datagen = ImageDataGenerator(\n",
        "    rescale=1./255, \n",
        "    rotation_range=40,\n",
        "    width_shift_range=0.2,\n",
        "    height_shift_range=0.2,\n",
        "    shear_range=0.2,\n",
        "    horizontal_flip=True,\n",
        "    fill_mode='nearest'\n",
        ")\n",
        "\n",
        "train_generator = train_datagen.flow_from_directory(\n",
        "    train_dir,\n",
        "    target_size=(150, 150),\n",
        "    batch_size=32,\n",
        "    class_mode='binary')\n",
        "\n",
        "validation_datagen = ImageDataGenerator(rescale=1./255)\n",
        "\n",
        "validation_generator = validation_datagen.flow_from_directory(\n",
        "    validation_dir,\n",
        "    target_size=(150, 150),\n",
        "    batch_size=32,\n",
        "    class_mode='binary')\n",
        "\n",
        "\n",
        "# Compile model with Adam as optimizer.\n",
        "model.compile(\n",
        "    loss='binary_crossentropy', \n",
        "    optimizer=optimizers.Adam(lr=1e-5), \n",
        "    metrics=['acc'])\n",
        "\n",
        "# Training phase\n",
        "history = model.fit_generator(\n",
        "    train_generator,\n",
        "    steps_per_epoch=train_steps,\n",
        "    epochs=40,\n",
        "    validation_data=validation_generator,\n",
        "    validation_steps=val_steps\n",
        ")"
      ],
      "execution_count": 7,
      "outputs": [
        {
          "output_type": "stream",
          "text": [
            "Found 2000 images belonging to 2 classes.\n",
            "Found 1000 images belonging to 2 classes.\n",
            "WARNING:tensorflow:From /usr/local/lib/python3.6/dist-packages/tensorflow/python/ops/math_ops.py:3066: to_int32 (from tensorflow.python.ops.math_ops) is deprecated and will be removed in a future version.\n",
            "Instructions for updating:\n",
            "Use tf.cast instead.\n",
            "Epoch 1/40\n",
            "62/62 [==============================] - 21s 346ms/step - loss: 0.7225 - acc: 0.5181 - val_loss: 0.6570 - val_acc: 0.6351\n",
            "Epoch 2/40\n",
            "62/62 [==============================] - 17s 273ms/step - loss: 0.6750 - acc: 0.5872 - val_loss: 0.6118 - val_acc: 0.6994\n",
            "Epoch 3/40\n",
            "62/62 [==============================] - 16s 250ms/step - loss: 0.6358 - acc: 0.6341 - val_loss: 0.5694 - val_acc: 0.7552\n",
            "Epoch 4/40\n",
            "62/62 [==============================] - 17s 278ms/step - loss: 0.6084 - acc: 0.6749 - val_loss: 0.5356 - val_acc: 0.7686\n",
            "Epoch 5/40\n",
            "62/62 [==============================] - 16s 257ms/step - loss: 0.5844 - acc: 0.7001 - val_loss: 0.5129 - val_acc: 0.7779\n",
            "Epoch 6/40\n",
            "62/62 [==============================] - 16s 253ms/step - loss: 0.5823 - acc: 0.6956 - val_loss: 0.4851 - val_acc: 0.7924\n",
            "Epoch 7/40\n",
            "62/62 [==============================] - 16s 257ms/step - loss: 0.5497 - acc: 0.7435 - val_loss: 0.4682 - val_acc: 0.7934\n",
            "Epoch 8/40\n",
            "62/62 [==============================] - 16s 254ms/step - loss: 0.5328 - acc: 0.7500 - val_loss: 0.4516 - val_acc: 0.7986\n",
            "Epoch 9/40\n",
            "62/62 [==============================] - 17s 278ms/step - loss: 0.5313 - acc: 0.7480 - val_loss: 0.4401 - val_acc: 0.8006\n",
            "Epoch 10/40\n",
            "62/62 [==============================] - 16s 254ms/step - loss: 0.5030 - acc: 0.7671 - val_loss: 0.4183 - val_acc: 0.8140\n",
            "Epoch 11/40\n",
            "62/62 [==============================] - 16s 255ms/step - loss: 0.5159 - acc: 0.7555 - val_loss: 0.4104 - val_acc: 0.8161\n",
            "Epoch 12/40\n",
            "62/62 [==============================] - 16s 257ms/step - loss: 0.4773 - acc: 0.7807 - val_loss: 0.4009 - val_acc: 0.8089\n",
            "Epoch 13/40\n",
            "62/62 [==============================] - 16s 258ms/step - loss: 0.4813 - acc: 0.7702 - val_loss: 0.3809 - val_acc: 0.8399\n",
            "Epoch 14/40\n",
            "62/62 [==============================] - 17s 278ms/step - loss: 0.4705 - acc: 0.7923 - val_loss: 0.3754 - val_acc: 0.8264\n",
            "Epoch 15/40\n",
            "62/62 [==============================] - 16s 255ms/step - loss: 0.4616 - acc: 0.7863 - val_loss: 0.3733 - val_acc: 0.8388\n",
            "Epoch 16/40\n",
            "62/62 [==============================] - 17s 280ms/step - loss: 0.4475 - acc: 0.7903 - val_loss: 0.3779 - val_acc: 0.8285\n",
            "Epoch 17/40\n",
            "62/62 [==============================] - 17s 268ms/step - loss: 0.4384 - acc: 0.7933 - val_loss: 0.3629 - val_acc: 0.8450\n",
            "Epoch 18/40\n",
            "62/62 [==============================] - 16s 255ms/step - loss: 0.4511 - acc: 0.8019 - val_loss: 0.3583 - val_acc: 0.8399\n",
            "Epoch 19/40\n",
            "62/62 [==============================] - 17s 278ms/step - loss: 0.4559 - acc: 0.7949 - val_loss: 0.3413 - val_acc: 0.8543\n",
            "Epoch 20/40\n",
            "62/62 [==============================] - 16s 256ms/step - loss: 0.4345 - acc: 0.7938 - val_loss: 0.3666 - val_acc: 0.8244\n",
            "Epoch 21/40\n",
            "62/62 [==============================] - 16s 255ms/step - loss: 0.4272 - acc: 0.8080 - val_loss: 0.3277 - val_acc: 0.8574\n",
            "Epoch 22/40\n",
            "62/62 [==============================] - 16s 255ms/step - loss: 0.4360 - acc: 0.8070 - val_loss: 0.3388 - val_acc: 0.8585\n",
            "Epoch 23/40\n",
            "62/62 [==============================] - 16s 255ms/step - loss: 0.4271 - acc: 0.8080 - val_loss: 0.3102 - val_acc: 0.8709\n",
            "Epoch 24/40\n",
            "62/62 [==============================] - 17s 278ms/step - loss: 0.4129 - acc: 0.8180 - val_loss: 0.3299 - val_acc: 0.8574\n",
            "Epoch 25/40\n",
            "62/62 [==============================] - 16s 254ms/step - loss: 0.4256 - acc: 0.8085 - val_loss: 0.3421 - val_acc: 0.8574\n",
            "Epoch 26/40\n",
            "62/62 [==============================] - 16s 254ms/step - loss: 0.4147 - acc: 0.8145 - val_loss: 0.3336 - val_acc: 0.8523\n",
            "Epoch 27/40\n",
            "62/62 [==============================] - 16s 256ms/step - loss: 0.4053 - acc: 0.8150 - val_loss: 0.3146 - val_acc: 0.8667\n",
            "Epoch 28/40\n",
            "62/62 [==============================] - 16s 255ms/step - loss: 0.4086 - acc: 0.8196 - val_loss: 0.3243 - val_acc: 0.8492\n",
            "Epoch 29/40\n",
            "62/62 [==============================] - 17s 275ms/step - loss: 0.4100 - acc: 0.8130 - val_loss: 0.3111 - val_acc: 0.8698\n",
            "Epoch 30/40\n",
            "62/62 [==============================] - 16s 254ms/step - loss: 0.4037 - acc: 0.8155 - val_loss: 0.3198 - val_acc: 0.8626\n",
            "Epoch 31/40\n",
            "62/62 [==============================] - 16s 256ms/step - loss: 0.3948 - acc: 0.8276 - val_loss: 0.3071 - val_acc: 0.8729\n",
            "Epoch 32/40\n",
            "62/62 [==============================] - 16s 254ms/step - loss: 0.3946 - acc: 0.8266 - val_loss: 0.3088 - val_acc: 0.8719\n",
            "Epoch 33/40\n",
            "62/62 [==============================] - 16s 254ms/step - loss: 0.3873 - acc: 0.8236 - val_loss: 0.3069 - val_acc: 0.8740\n",
            "Epoch 34/40\n",
            "62/62 [==============================] - 17s 275ms/step - loss: 0.3950 - acc: 0.8296 - val_loss: 0.3057 - val_acc: 0.8698\n",
            "Epoch 35/40\n",
            "62/62 [==============================] - 17s 272ms/step - loss: 0.3942 - acc: 0.8201 - val_loss: 0.3042 - val_acc: 0.8729\n",
            "Epoch 36/40\n",
            "62/62 [==============================] - 16s 266ms/step - loss: 0.3904 - acc: 0.8291 - val_loss: 0.2912 - val_acc: 0.8822\n",
            "Epoch 37/40\n",
            "62/62 [==============================] - 16s 253ms/step - loss: 0.3837 - acc: 0.8281 - val_loss: 0.2994 - val_acc: 0.8750\n",
            "Epoch 38/40\n",
            "62/62 [==============================] - 16s 255ms/step - loss: 0.3907 - acc: 0.8216 - val_loss: 0.2977 - val_acc: 0.8771\n",
            "Epoch 39/40\n",
            "62/62 [==============================] - 17s 276ms/step - loss: 0.3713 - acc: 0.8357 - val_loss: 0.3061 - val_acc: 0.8636\n",
            "Epoch 40/40\n",
            "62/62 [==============================] - 16s 256ms/step - loss: 0.3999 - acc: 0.8120 - val_loss: 0.2942 - val_acc: 0.8771\n"
          ],
          "name": "stdout"
        }
      ]
    },
    {
      "metadata": {
        "id": "xqRc_vHKc92U",
        "colab_type": "text"
      },
      "cell_type": "markdown",
      "source": [
        "## Display curves of loss and accuracy during training"
      ]
    },
    {
      "metadata": {
        "id": "ybWwdzz9bwuQ",
        "colab_type": "code",
        "outputId": "3998b8e5-0490-4d03-f1a8-85891378b13c",
        "colab": {
          "base_uri": "https://localhost:8080/",
          "height": 545
        }
      },
      "cell_type": "code",
      "source": [
        "def plot_graphs(history):\n",
        "  acc = history.history['acc']\n",
        "  val_acc = history.history['val_acc']\n",
        "\n",
        "  loss = history.history['loss']\n",
        "  val_loss = history.history['val_loss']\n",
        "\n",
        "  epochs = range(1, len(acc) + 1)\n",
        "\n",
        "  # training and validation accuracy\n",
        "\n",
        "  plt.plot(epochs, acc, 'r', label='training acc')\n",
        "  plt.plot(epochs, val_acc, 'b', label='validation acc')\n",
        "  plt.title('Training/Validation accuracy')\n",
        "  plt.legend()\n",
        "\n",
        "  plt.figure()\n",
        "\n",
        "  # training and validation loss\n",
        "\n",
        "  plt.plot(epochs, loss, 'r', label='training loss')\n",
        "  plt.plot(epochs, val_loss, 'b', label='validation loss')\n",
        "  plt.title('Training/Validation loss')\n",
        "  plt.legend()\n",
        "\n",
        "  plt.show()\n",
        "\n",
        "plot_graphs(history)"
      ],
      "execution_count": 8,
      "outputs": [
        {
          "output_type": "display_data",
          "data": {
            "image/png": "[encoded data removed]",
            "text/plain": [
              "<Figure size 432x288 with 1 Axes>"
            ]
          },
          "metadata": {
            "tags": []
          }
        },
        {
          "output_type": "display_data",
          "data": {
            "image/png": "[encoded data removed]",
            "text/plain": [
              "<Figure size 432x288 with 1 Axes>"
            ]
          },
          "metadata": {
            "tags": []
          }
        }
      ]
    },
    {
      "metadata": {
        "id": "Ja9yHCtXmhH1",
        "colab_type": "text"
      },
      "cell_type": "markdown",
      "source": [
        "While there appears to be underfitting, this is because of the dropout, and in reality both training and validation are steadily improving, and hopefully can be improved further."
      ]
    },
    {
      "metadata": {
        "id": "lOWsxpey8lN0",
        "colab_type": "text"
      },
      "cell_type": "markdown",
      "source": [
        "## Train with smaller learning rates\n",
        "\n",
        "No fine-tuning is done to the model, but a learning rate scheduler is applied."
      ]
    },
    {
      "metadata": {
        "id": "LfTCY20dhMpn",
        "colab_type": "code",
        "colab": {}
      },
      "cell_type": "code",
      "source": [
        "# Establish the schedule for learning rate decrease.\n",
        "def lr_schedule(epoch):\n",
        "  \n",
        "  lr = 1e-5\n",
        "  \n",
        "  if epoch > 75:\n",
        "      lr *= 1e-3\n",
        "  elif epoch > 50:\n",
        "      lr *= 1e-2\n",
        "  elif epoch > 25:\n",
        "      lr *= 1e-1\n",
        "  return lr"
      ],
      "execution_count": 0,
      "outputs": []
    },
    {
      "metadata": {
        "id": "DyN-J7rs9cvo",
        "colab_type": "code",
        "outputId": "93304d62-edd4-4172-a303-c0f85c034f8e",
        "colab": {
          "base_uri": "https://localhost:8080/",
          "height": 6837
        }
      },
      "cell_type": "code",
      "source": [
        "model.compile(\n",
        "    loss='binary_crossentropy',\n",
        "    optimizer=optimizers.Adam(lr=lr_schedule(0)), \n",
        "    metrics=['acc'])\n",
        "\n",
        "model_type = \"VGG19\"\n",
        "# Prepare model model saving directory.\n",
        "save_dir = os.path.join(os.getcwd(), 'saved_models')\n",
        "\n",
        "# Every time the model has a better validation accuracy than before, update the saved model.\n",
        "model_name = 'cifar10_%s_model.{epoch:03d}.h5' % model_type\n",
        "if not os.path.isdir(save_dir):\n",
        "    os.makedirs(save_dir)\n",
        "filepath = os.path.join(save_dir, model_name)\n",
        "\n",
        "# Prepare callbacks for model saving and for learning rate scheduling.\n",
        "checkpoint = ModelCheckpoint(filepath=filepath,\n",
        "                             monitor='val_acc',\n",
        "                             verbose=1,\n",
        "                             save_best_only=True)\n",
        "\n",
        "# Create the learning rate scheuler and reducer to monitor the model.\n",
        "lr_scheduler = LearningRateScheduler(lr_schedule)\n",
        "lr_reducer = ReduceLROnPlateau(factor=np.sqrt(0.1),\n",
        "                               cooldown=0,\n",
        "                               patience=5,\n",
        "                               min_lr=1e-8)\n",
        "\n",
        "callbacks = [checkpoint, lr_reducer, lr_scheduler]\n",
        "\n",
        "# Train the model.\n",
        "history = model.fit_generator(\n",
        "    train_generator,\n",
        "    steps_per_epoch=train_steps,\n",
        "    epochs=100,\n",
        "    validation_data=validation_generator,\n",
        "    validation_steps=val_steps,\n",
        "    workers=4,\n",
        "    callbacks=callbacks)"
      ],
      "execution_count": 10,
      "outputs": [
        {
          "output_type": "stream",
          "text": [
            "Epoch 1/100\n",
            "62/62 [==============================] - 16s 256ms/step - loss: 0.3842 - acc: 0.8286 - val_loss: 0.2902 - val_acc: 0.8781\n",
            "\n",
            "Epoch 00001: val_acc improved from -inf to 0.87810, saving model to /content/saved_models/cifar10_VGG19_model.001.h5\n",
            "Epoch 2/100\n",
            "62/62 [==============================] - 13s 211ms/step - loss: 0.3801 - acc: 0.8231 - val_loss: 0.2987 - val_acc: 0.8750\n",
            "\n",
            "Epoch 00002: val_acc did not improve from 0.87810\n",
            "Epoch 3/100\n",
            "62/62 [==============================] - 13s 215ms/step - loss: 0.3737 - acc: 0.8327 - val_loss: 0.2953 - val_acc: 0.8740\n",
            "\n",
            "Epoch 00003: val_acc did not improve from 0.87810\n",
            "Epoch 4/100\n",
            "62/62 [==============================] - 15s 241ms/step - loss: 0.3889 - acc: 0.8231 - val_loss: 0.2819 - val_acc: 0.8895\n",
            "\n",
            "Epoch 00004: val_acc improved from 0.87810 to 0.88946, saving model to /content/saved_models/cifar10_VGG19_model.004.h5\n",
            "Epoch 5/100\n",
            "62/62 [==============================] - 13s 217ms/step - loss: 0.3660 - acc: 0.8432 - val_loss: 0.2892 - val_acc: 0.8853\n",
            "\n",
            "Epoch 00005: val_acc did not improve from 0.88946\n",
            "Epoch 6/100\n",
            "62/62 [==============================] - 14s 219ms/step - loss: 0.3636 - acc: 0.8332 - val_loss: 0.3053 - val_acc: 0.8698\n",
            "\n",
            "Epoch 00006: val_acc did not improve from 0.88946\n",
            "Epoch 7/100\n",
            "62/62 [==============================] - 13s 217ms/step - loss: 0.3776 - acc: 0.8327 - val_loss: 0.2779 - val_acc: 0.8895\n",
            "\n",
            "Epoch 00007: val_acc did not improve from 0.88946\n",
            "Epoch 8/100\n",
            "62/62 [==============================] - 13s 215ms/step - loss: 0.3580 - acc: 0.8488 - val_loss: 0.2933 - val_acc: 0.8760\n",
            "\n",
            "Epoch 00008: val_acc did not improve from 0.88946\n",
            "Epoch 9/100\n",
            "62/62 [==============================] - 14s 219ms/step - loss: 0.3618 - acc: 0.8387 - val_loss: 0.2795 - val_acc: 0.8843\n",
            "\n",
            "Epoch 00009: val_acc did not improve from 0.88946\n",
            "Epoch 10/100\n",
            "62/62 [==============================] - 15s 240ms/step - loss: 0.3781 - acc: 0.8322 - val_loss: 0.2732 - val_acc: 0.8812\n",
            "\n",
            "Epoch 00010: val_acc did not improve from 0.88946\n",
            "Epoch 11/100\n",
            "62/62 [==============================] - 14s 219ms/step - loss: 0.3700 - acc: 0.8347 - val_loss: 0.2730 - val_acc: 0.8905\n",
            "\n",
            "Epoch 00011: val_acc improved from 0.88946 to 0.89050, saving model to /content/saved_models/cifar10_VGG19_model.011.h5\n",
            "Epoch 12/100\n",
            "62/62 [==============================] - 13s 218ms/step - loss: 0.3750 - acc: 0.8312 - val_loss: 0.3069 - val_acc: 0.8616\n",
            "\n",
            "Epoch 00012: val_acc did not improve from 0.89050\n",
            "Epoch 13/100\n",
            "62/62 [==============================] - 13s 216ms/step - loss: 0.3683 - acc: 0.8427 - val_loss: 0.2700 - val_acc: 0.8926\n",
            "\n",
            "Epoch 00013: val_acc improved from 0.89050 to 0.89256, saving model to /content/saved_models/cifar10_VGG19_model.013.h5\n",
            "Epoch 14/100\n",
            "62/62 [==============================] - 13s 216ms/step - loss: 0.3585 - acc: 0.8468 - val_loss: 0.2684 - val_acc: 0.8915\n",
            "\n",
            "Epoch 00014: val_acc did not improve from 0.89256\n",
            "Epoch 15/100\n",
            "62/62 [==============================] - 14s 219ms/step - loss: 0.3427 - acc: 0.8478 - val_loss: 0.2969 - val_acc: 0.8667\n",
            "\n",
            "Epoch 00015: val_acc did not improve from 0.89256\n",
            "Epoch 16/100\n",
            "62/62 [==============================] - 15s 245ms/step - loss: 0.3696 - acc: 0.8185 - val_loss: 0.2868 - val_acc: 0.8781\n",
            "\n",
            "Epoch 00016: val_acc did not improve from 0.89256\n",
            "Epoch 17/100\n",
            "62/62 [==============================] - 15s 237ms/step - loss: 0.3616 - acc: 0.8407 - val_loss: 0.2673 - val_acc: 0.8812\n",
            "\n",
            "Epoch 00017: val_acc did not improve from 0.89256\n",
            "Epoch 18/100\n",
            "62/62 [==============================] - 13s 214ms/step - loss: 0.3558 - acc: 0.8483 - val_loss: 0.2806 - val_acc: 0.8843\n",
            "\n",
            "Epoch 00018: val_acc did not improve from 0.89256\n",
            "Epoch 19/100\n",
            "62/62 [==============================] - 13s 218ms/step - loss: 0.3546 - acc: 0.8478 - val_loss: 0.2892 - val_acc: 0.8719\n",
            "\n",
            "Epoch 00019: val_acc did not improve from 0.89256\n",
            "Epoch 20/100\n",
            "62/62 [==============================] - 13s 218ms/step - loss: 0.3543 - acc: 0.8392 - val_loss: 0.2825 - val_acc: 0.8812\n",
            "\n",
            "Epoch 00020: val_acc did not improve from 0.89256\n",
            "Epoch 21/100\n",
            "62/62 [==============================] - 14s 229ms/step - loss: 0.3661 - acc: 0.8382 - val_loss: 0.2575 - val_acc: 0.8946\n",
            "\n",
            "Epoch 00021: val_acc improved from 0.89256 to 0.89463, saving model to /content/saved_models/cifar10_VGG19_model.021.h5\n",
            "Epoch 22/100\n",
            "62/62 [==============================] - 14s 226ms/step - loss: 0.3529 - acc: 0.8397 - val_loss: 0.2754 - val_acc: 0.8812\n",
            "\n",
            "Epoch 00022: val_acc did not improve from 0.89463\n",
            "Epoch 23/100\n",
            "62/62 [==============================] - 13s 216ms/step - loss: 0.3433 - acc: 0.8528 - val_loss: 0.2809 - val_acc: 0.8781\n",
            "\n",
            "Epoch 00023: val_acc did not improve from 0.89463\n",
            "Epoch 24/100\n",
            "62/62 [==============================] - 13s 217ms/step - loss: 0.3372 - acc: 0.8488 - val_loss: 0.2724 - val_acc: 0.8812\n",
            "\n",
            "Epoch 00024: val_acc did not improve from 0.89463\n",
            "Epoch 25/100\n",
            "62/62 [==============================] - 14s 220ms/step - loss: 0.3513 - acc: 0.8533 - val_loss: 0.2810 - val_acc: 0.8771\n",
            "\n",
            "Epoch 00025: val_acc did not improve from 0.89463\n",
            "Epoch 26/100\n",
            "62/62 [==============================] - 13s 215ms/step - loss: 0.3476 - acc: 0.8443 - val_loss: 0.2764 - val_acc: 0.8833\n",
            "\n",
            "Epoch 00026: val_acc did not improve from 0.89463\n",
            "Epoch 27/100\n",
            "62/62 [==============================] - 14s 231ms/step - loss: 0.3390 - acc: 0.8493 - val_loss: 0.2775 - val_acc: 0.8800\n",
            "\n",
            "Epoch 00027: val_acc did not improve from 0.89463\n",
            "Epoch 28/100\n",
            "62/62 [==============================] - 14s 226ms/step - loss: 0.3511 - acc: 0.8417 - val_loss: 0.2738 - val_acc: 0.8802\n",
            "\n",
            "Epoch 00028: val_acc did not improve from 0.89463\n",
            "Epoch 29/100\n",
            "62/62 [==============================] - 13s 218ms/step - loss: 0.3482 - acc: 0.8463 - val_loss: 0.2793 - val_acc: 0.8822\n",
            "\n",
            "Epoch 00029: val_acc did not improve from 0.89463\n",
            "Epoch 30/100\n",
            "62/62 [==============================] - 13s 216ms/step - loss: 0.3492 - acc: 0.8553 - val_loss: 0.2712 - val_acc: 0.8812\n",
            "\n",
            "Epoch 00030: val_acc did not improve from 0.89463\n",
            "Epoch 31/100\n",
            "62/62 [==============================] - 13s 215ms/step - loss: 0.3496 - acc: 0.8483 - val_loss: 0.2794 - val_acc: 0.8812\n",
            "\n",
            "Epoch 00031: val_acc did not improve from 0.89463\n",
            "Epoch 32/100\n",
            "62/62 [==============================] - 14s 218ms/step - loss: 0.3446 - acc: 0.8538 - val_loss: 0.2748 - val_acc: 0.8812\n",
            "\n",
            "Epoch 00032: val_acc did not improve from 0.89463\n",
            "Epoch 33/100\n",
            "62/62 [==============================] - 15s 239ms/step - loss: 0.3582 - acc: 0.8453 - val_loss: 0.2703 - val_acc: 0.8853\n",
            "\n",
            "Epoch 00033: val_acc did not improve from 0.89463\n",
            "Epoch 34/100\n",
            "62/62 [==============================] - 13s 218ms/step - loss: 0.3481 - acc: 0.8448 - val_loss: 0.2700 - val_acc: 0.8853\n",
            "\n",
            "Epoch 00034: val_acc did not improve from 0.89463\n",
            "Epoch 35/100\n",
            "62/62 [==============================] - 13s 218ms/step - loss: 0.3312 - acc: 0.8483 - val_loss: 0.2863 - val_acc: 0.8750\n",
            "\n",
            "Epoch 00035: val_acc did not improve from 0.89463\n",
            "Epoch 36/100\n",
            "62/62 [==============================] - 13s 215ms/step - loss: 0.3408 - acc: 0.8508 - val_loss: 0.2760 - val_acc: 0.8781\n",
            "\n",
            "Epoch 00036: val_acc did not improve from 0.89463\n",
            "Epoch 37/100\n",
            "62/62 [==============================] - 14s 218ms/step - loss: 0.3408 - acc: 0.8458 - val_loss: 0.2668 - val_acc: 0.8905\n",
            "\n",
            "Epoch 00037: val_acc did not improve from 0.89463\n",
            "Epoch 38/100\n",
            "62/62 [==============================] - 13s 217ms/step - loss: 0.3556 - acc: 0.8468 - val_loss: 0.2874 - val_acc: 0.8667\n",
            "\n",
            "Epoch 00038: val_acc did not improve from 0.89463\n",
            "Epoch 39/100\n",
            "62/62 [==============================] - 15s 247ms/step - loss: 0.3408 - acc: 0.8473 - val_loss: 0.2692 - val_acc: 0.8884\n",
            "\n",
            "Epoch 00039: val_acc did not improve from 0.89463\n",
            "Epoch 40/100\n",
            "62/62 [==============================] - 14s 218ms/step - loss: 0.3466 - acc: 0.8417 - val_loss: 0.2759 - val_acc: 0.8791\n",
            "\n",
            "Epoch 00040: val_acc did not improve from 0.89463\n",
            "Epoch 41/100\n",
            "62/62 [==============================] - 14s 218ms/step - loss: 0.3505 - acc: 0.8498 - val_loss: 0.2766 - val_acc: 0.8781\n",
            "\n",
            "Epoch 00041: val_acc did not improve from 0.89463\n",
            "Epoch 42/100\n",
            "62/62 [==============================] - 13s 216ms/step - loss: 0.3314 - acc: 0.8483 - val_loss: 0.2760 - val_acc: 0.8874\n",
            "\n",
            "Epoch 00042: val_acc did not improve from 0.89463\n",
            "Epoch 43/100\n",
            "62/62 [==============================] - 14s 219ms/step - loss: 0.3455 - acc: 0.8503 - val_loss: 0.2610 - val_acc: 0.8874\n",
            "\n",
            "Epoch 00043: val_acc did not improve from 0.89463\n",
            "Epoch 44/100\n",
            "62/62 [==============================] - 13s 216ms/step - loss: 0.3548 - acc: 0.8337 - val_loss: 0.2793 - val_acc: 0.8802\n",
            "\n",
            "Epoch 00044: val_acc did not improve from 0.89463\n",
            "Epoch 45/100\n",
            "62/62 [==============================] - 15s 241ms/step - loss: 0.3351 - acc: 0.8458 - val_loss: 0.2676 - val_acc: 0.8802\n",
            "\n",
            "Epoch 00045: val_acc did not improve from 0.89463\n",
            "Epoch 46/100\n",
            "62/62 [==============================] - 13s 218ms/step - loss: 0.3387 - acc: 0.8579 - val_loss: 0.2925 - val_acc: 0.8709\n",
            "\n",
            "Epoch 00046: val_acc did not improve from 0.89463\n",
            "Epoch 47/100\n",
            "62/62 [==============================] - 13s 215ms/step - loss: 0.3527 - acc: 0.8528 - val_loss: 0.2604 - val_acc: 0.8915\n",
            "\n",
            "Epoch 00047: val_acc did not improve from 0.89463\n",
            "Epoch 48/100\n",
            "62/62 [==============================] - 13s 217ms/step - loss: 0.3384 - acc: 0.8493 - val_loss: 0.2734 - val_acc: 0.8822\n",
            "\n",
            "Epoch 00048: val_acc did not improve from 0.89463\n",
            "Epoch 49/100\n",
            "62/62 [==============================] - 13s 215ms/step - loss: 0.3498 - acc: 0.8407 - val_loss: 0.2856 - val_acc: 0.8791\n",
            "\n",
            "Epoch 00049: val_acc did not improve from 0.89463\n",
            "Epoch 50/100\n",
            "62/62 [==============================] - 14s 219ms/step - loss: 0.3475 - acc: 0.8453 - val_loss: 0.2730 - val_acc: 0.8833\n",
            "\n",
            "Epoch 00050: val_acc did not improve from 0.89463\n",
            "Epoch 51/100\n",
            "62/62 [==============================] - 15s 239ms/step - loss: 0.3517 - acc: 0.8468 - val_loss: 0.2619 - val_acc: 0.8864\n",
            "\n",
            "Epoch 00051: val_acc did not improve from 0.89463\n",
            "Epoch 52/100\n",
            "62/62 [==============================] - 13s 217ms/step - loss: 0.3340 - acc: 0.8543 - val_loss: 0.2781 - val_acc: 0.8791\n",
            "\n",
            "Epoch 00052: val_acc did not improve from 0.89463\n",
            "Epoch 53/100\n",
            "62/62 [==============================] - 13s 218ms/step - loss: 0.3517 - acc: 0.8473 - val_loss: 0.2756 - val_acc: 0.8750\n",
            "\n",
            "Epoch 00053: val_acc did not improve from 0.89463\n",
            "Epoch 54/100\n",
            "62/62 [==============================] - 13s 216ms/step - loss: 0.3382 - acc: 0.8478 - val_loss: 0.2744 - val_acc: 0.8822\n",
            "\n",
            "Epoch 00054: val_acc did not improve from 0.89463\n",
            "Epoch 55/100\n",
            "62/62 [==============================] - 13s 217ms/step - loss: 0.3598 - acc: 0.8422 - val_loss: 0.2706 - val_acc: 0.8822\n",
            "\n",
            "Epoch 00055: val_acc did not improve from 0.89463\n",
            "Epoch 56/100\n",
            "62/62 [==============================] - 14s 223ms/step - loss: 0.3393 - acc: 0.8619 - val_loss: 0.2731 - val_acc: 0.8833\n",
            "\n",
            "Epoch 00056: val_acc did not improve from 0.89463\n",
            "Epoch 57/100\n",
            "62/62 [==============================] - 14s 233ms/step - loss: 0.3385 - acc: 0.8448 - val_loss: 0.2774 - val_acc: 0.8791\n",
            "\n",
            "Epoch 00057: val_acc did not improve from 0.89463\n",
            "Epoch 58/100\n",
            "62/62 [==============================] - 14s 219ms/step - loss: 0.3431 - acc: 0.8508 - val_loss: 0.2725 - val_acc: 0.8802\n",
            "\n",
            "Epoch 00058: val_acc did not improve from 0.89463\n",
            "Epoch 59/100\n",
            "62/62 [==============================] - 14s 218ms/step - loss: 0.3367 - acc: 0.8574 - val_loss: 0.2739 - val_acc: 0.8800\n",
            "\n",
            "Epoch 00059: val_acc did not improve from 0.89463\n",
            "Epoch 60/100\n",
            "62/62 [==============================] - 13s 218ms/step - loss: 0.3429 - acc: 0.8523 - val_loss: 0.2697 - val_acc: 0.8853\n",
            "\n",
            "Epoch 00060: val_acc did not improve from 0.89463\n",
            "Epoch 61/100\n",
            "62/62 [==============================] - 14s 229ms/step - loss: 0.3395 - acc: 0.8478 - val_loss: 0.2790 - val_acc: 0.8760\n",
            "\n",
            "Epoch 00061: val_acc did not improve from 0.89463\n",
            "Epoch 62/100\n",
            "62/62 [==============================] - 16s 252ms/step - loss: 0.3585 - acc: 0.8367 - val_loss: 0.2766 - val_acc: 0.8802\n",
            "\n",
            "Epoch 00062: val_acc did not improve from 0.89463\n",
            "Epoch 63/100\n",
            "62/62 [==============================] - 14s 226ms/step - loss: 0.3444 - acc: 0.8453 - val_loss: 0.2707 - val_acc: 0.8812\n",
            "\n",
            "Epoch 00063: val_acc did not improve from 0.89463\n",
            "Epoch 64/100\n",
            "62/62 [==============================] - 13s 216ms/step - loss: 0.3421 - acc: 0.8478 - val_loss: 0.2733 - val_acc: 0.8781\n",
            "\n",
            "Epoch 00064: val_acc did not improve from 0.89463\n",
            "Epoch 65/100\n",
            "62/62 [==============================] - 13s 217ms/step - loss: 0.3485 - acc: 0.8589 - val_loss: 0.2656 - val_acc: 0.8905\n",
            "\n",
            "Epoch 00065: val_acc did not improve from 0.89463\n",
            "Epoch 66/100\n",
            "62/62 [==============================] - 13s 217ms/step - loss: 0.3359 - acc: 0.8543 - val_loss: 0.2790 - val_acc: 0.8729\n",
            "\n",
            "Epoch 00066: val_acc did not improve from 0.89463\n",
            "Epoch 67/100\n",
            "62/62 [==============================] - 13s 216ms/step - loss: 0.3462 - acc: 0.8478 - val_loss: 0.2761 - val_acc: 0.8781\n",
            "\n",
            "Epoch 00067: val_acc did not improve from 0.89463\n",
            "Epoch 68/100\n",
            "62/62 [==============================] - 15s 238ms/step - loss: 0.3461 - acc: 0.8468 - val_loss: 0.2664 - val_acc: 0.8936\n",
            "\n",
            "Epoch 00068: val_acc did not improve from 0.89463\n",
            "Epoch 69/100\n",
            "62/62 [==============================] - 14s 218ms/step - loss: 0.3444 - acc: 0.8453 - val_loss: 0.2820 - val_acc: 0.8709\n",
            "\n",
            "Epoch 00069: val_acc did not improve from 0.89463\n",
            "Epoch 70/100\n",
            "62/62 [==============================] - 14s 219ms/step - loss: 0.3415 - acc: 0.8442 - val_loss: 0.2560 - val_acc: 0.8884\n",
            "\n",
            "Epoch 00070: val_acc did not improve from 0.89463\n",
            "Epoch 71/100\n",
            "62/62 [==============================] - 13s 213ms/step - loss: 0.3513 - acc: 0.8528 - val_loss: 0.2920 - val_acc: 0.8750\n",
            "\n",
            "Epoch 00071: val_acc did not improve from 0.89463\n",
            "Epoch 72/100\n",
            "62/62 [==============================] - 14s 218ms/step - loss: 0.3431 - acc: 0.8463 - val_loss: 0.2687 - val_acc: 0.8833\n",
            "\n",
            "Epoch 00072: val_acc did not improve from 0.89463\n",
            "Epoch 73/100\n",
            "62/62 [==============================] - 13s 216ms/step - loss: 0.3545 - acc: 0.8417 - val_loss: 0.2745 - val_acc: 0.8812\n",
            "\n",
            "Epoch 00073: val_acc did not improve from 0.89463\n",
            "Epoch 74/100\n",
            "62/62 [==============================] - 15s 239ms/step - loss: 0.3439 - acc: 0.8448 - val_loss: 0.2794 - val_acc: 0.8750\n",
            "\n",
            "Epoch 00074: val_acc did not improve from 0.89463\n",
            "Epoch 75/100\n",
            "62/62 [==============================] - 13s 216ms/step - loss: 0.3319 - acc: 0.8568 - val_loss: 0.2877 - val_acc: 0.8760\n",
            "\n",
            "Epoch 00075: val_acc did not improve from 0.89463\n",
            "Epoch 76/100\n",
            "62/62 [==============================] - 14s 218ms/step - loss: 0.3548 - acc: 0.8488 - val_loss: 0.2396 - val_acc: 0.8957\n",
            "\n",
            "Epoch 00076: val_acc improved from 0.89463 to 0.89566, saving model to /content/saved_models/cifar10_VGG19_model.076.h5\n",
            "Epoch 77/100\n",
            "62/62 [==============================] - 13s 216ms/step - loss: 0.3476 - acc: 0.8498 - val_loss: 0.2946 - val_acc: 0.8760\n",
            "\n",
            "Epoch 00077: val_acc did not improve from 0.89566\n",
            "Epoch 78/100\n",
            "62/62 [==============================] - 13s 216ms/step - loss: 0.3538 - acc: 0.8392 - val_loss: 0.2539 - val_acc: 0.8895\n",
            "\n",
            "Epoch 00078: val_acc did not improve from 0.89566\n",
            "Epoch 79/100\n",
            "62/62 [==============================] - 13s 217ms/step - loss: 0.3452 - acc: 0.8473 - val_loss: 0.2812 - val_acc: 0.8750\n",
            "\n",
            "Epoch 00079: val_acc did not improve from 0.89566\n",
            "Epoch 80/100\n",
            "62/62 [==============================] - 15s 242ms/step - loss: 0.3481 - acc: 0.8473 - val_loss: 0.2807 - val_acc: 0.8750\n",
            "\n",
            "Epoch 00080: val_acc did not improve from 0.89566\n",
            "Epoch 81/100\n",
            "62/62 [==============================] - 14s 220ms/step - loss: 0.3350 - acc: 0.8513 - val_loss: 0.2614 - val_acc: 0.8874\n",
            "\n",
            "Epoch 00081: val_acc did not improve from 0.89566\n",
            "Epoch 82/100\n",
            "62/62 [==============================] - 13s 213ms/step - loss: 0.3348 - acc: 0.8543 - val_loss: 0.2836 - val_acc: 0.8771\n",
            "\n",
            "Epoch 00082: val_acc did not improve from 0.89566\n",
            "Epoch 83/100\n",
            "62/62 [==============================] - 14s 231ms/step - loss: 0.3393 - acc: 0.8558 - val_loss: 0.2761 - val_acc: 0.8822\n",
            "\n",
            "Epoch 00083: val_acc did not improve from 0.89566\n",
            "Epoch 84/100\n",
            "62/62 [==============================] - 15s 240ms/step - loss: 0.3345 - acc: 0.8508 - val_loss: 0.2783 - val_acc: 0.8760\n",
            "\n",
            "Epoch 00084: val_acc did not improve from 0.89566\n",
            "Epoch 85/100\n",
            "62/62 [==============================] - 14s 229ms/step - loss: 0.3549 - acc: 0.8427 - val_loss: 0.2711 - val_acc: 0.8833\n",
            "\n",
            "Epoch 00085: val_acc did not improve from 0.89566\n",
            "Epoch 86/100\n",
            "62/62 [==============================] - 14s 229ms/step - loss: 0.3518 - acc: 0.8402 - val_loss: 0.2688 - val_acc: 0.8843\n",
            "\n",
            "Epoch 00086: val_acc did not improve from 0.89566\n",
            "Epoch 87/100\n",
            "62/62 [==============================] - 13s 217ms/step - loss: 0.3283 - acc: 0.8538 - val_loss: 0.2658 - val_acc: 0.8864\n",
            "\n",
            "Epoch 00087: val_acc did not improve from 0.89566\n",
            "Epoch 88/100\n",
            "62/62 [==============================] - 13s 217ms/step - loss: 0.3404 - acc: 0.8513 - val_loss: 0.2824 - val_acc: 0.8771\n",
            "\n",
            "Epoch 00088: val_acc did not improve from 0.89566\n",
            "Epoch 89/100\n",
            "62/62 [==============================] - 14s 218ms/step - loss: 0.3280 - acc: 0.8589 - val_loss: 0.2746 - val_acc: 0.8791\n",
            "\n",
            "Epoch 00089: val_acc did not improve from 0.89566\n",
            "Epoch 90/100\n",
            "62/62 [==============================] - 13s 216ms/step - loss: 0.3360 - acc: 0.8599 - val_loss: 0.2741 - val_acc: 0.8802\n",
            "\n",
            "Epoch 00090: val_acc did not improve from 0.89566\n",
            "Epoch 91/100\n",
            "62/62 [==============================] - 14s 227ms/step - loss: 0.3425 - acc: 0.8447 - val_loss: 0.2744 - val_acc: 0.8810\n",
            "\n",
            "Epoch 00091: val_acc did not improve from 0.89566\n",
            "Epoch 92/100\n",
            "62/62 [==============================] - 14s 232ms/step - loss: 0.3450 - acc: 0.8372 - val_loss: 0.2738 - val_acc: 0.8822\n",
            "\n",
            "Epoch 00092: val_acc did not improve from 0.89566\n",
            "Epoch 93/100\n",
            "62/62 [==============================] - 13s 214ms/step - loss: 0.3536 - acc: 0.8432 - val_loss: 0.2710 - val_acc: 0.8812\n",
            "\n",
            "Epoch 00093: val_acc did not improve from 0.89566\n",
            "Epoch 94/100\n",
            "62/62 [==============================] - 14s 221ms/step - loss: 0.3318 - acc: 0.8528 - val_loss: 0.2768 - val_acc: 0.8771\n",
            "\n",
            "Epoch 00094: val_acc did not improve from 0.89566\n",
            "Epoch 95/100\n",
            "62/62 [==============================] - 13s 216ms/step - loss: 0.3571 - acc: 0.8427 - val_loss: 0.2653 - val_acc: 0.8895\n",
            "\n",
            "Epoch 00095: val_acc did not improve from 0.89566\n",
            "Epoch 96/100\n",
            "62/62 [==============================] - 14s 219ms/step - loss: 0.3492 - acc: 0.8528 - val_loss: 0.2851 - val_acc: 0.8760\n",
            "\n",
            "Epoch 00096: val_acc did not improve from 0.89566\n",
            "Epoch 97/100\n",
            "62/62 [==============================] - 14s 231ms/step - loss: 0.3542 - acc: 0.8397 - val_loss: 0.2756 - val_acc: 0.8822\n",
            "\n",
            "Epoch 00097: val_acc did not improve from 0.89566\n",
            "Epoch 98/100\n",
            "62/62 [==============================] - 14s 227ms/step - loss: 0.3379 - acc: 0.8594 - val_loss: 0.2754 - val_acc: 0.8740\n",
            "\n",
            "Epoch 00098: val_acc did not improve from 0.89566\n",
            "Epoch 99/100\n",
            "62/62 [==============================] - 13s 215ms/step - loss: 0.3550 - acc: 0.8432 - val_loss: 0.2730 - val_acc: 0.8864\n",
            "\n",
            "Epoch 00099: val_acc did not improve from 0.89566\n",
            "Epoch 100/100\n",
            "62/62 [==============================] - 13s 217ms/step - loss: 0.3501 - acc: 0.8453 - val_loss: 0.2760 - val_acc: 0.8791\n",
            "\n",
            "Epoch 00100: val_acc did not improve from 0.89566\n"
          ],
          "name": "stdout"
        }
      ]
    },
    {
      "metadata": {
        "id": "eVBQgh5M-Rtz",
        "colab_type": "text"
      },
      "cell_type": "markdown",
      "source": [
        "## Display Fine-Tuning Train/Validation Accuracy/Loss Graphs"
      ]
    },
    {
      "metadata": {
        "id": "mbkIw7Ie-NP4",
        "colab_type": "code",
        "outputId": "860d18e2-f8df-462e-a237-9b95af8819b7",
        "colab": {
          "base_uri": "https://localhost:8080/",
          "height": 545
        }
      },
      "cell_type": "code",
      "source": [
        "plot_graphs(history)"
      ],
      "execution_count": 11,
      "outputs": [
        {
          "output_type": "display_data",
          "data": {
            "image/png": "[encoded data removed]",
            "text/plain": [
              "<Figure size 432x288 with 1 Axes>"
            ]
          },
          "metadata": {
            "tags": []
          }
        },
        {
          "output_type": "display_data",
          "data": {
            "image/png": "[encoded data removed]",
            "text/plain": [
              "<Figure size 432x288 with 1 Axes>"
            ]
          },
          "metadata": {
            "tags": []
          }
        }
      ]
    },
    {
      "metadata": {
        "id": "qAMAiHmLzHow",
        "colab_type": "code",
        "outputId": "f0525169-3f60-426e-da2f-aeb3ca4babaa",
        "colab": {
          "base_uri": "https://localhost:8080/",
          "height": 34
        }
      },
      "cell_type": "code",
      "source": [
        "!ls /content/saved_models/ | tail -1"
      ],
      "execution_count": 23,
      "outputs": [
        {
          "output_type": "stream",
          "text": [
            "cifar10_VGG19_model.076.h5\n"
          ],
          "name": "stdout"
        }
      ]
    },
    {
      "metadata": {
        "id": "DlA3B-ywz9Za",
        "colab_type": "code",
        "colab": {}
      },
      "cell_type": "code",
      "source": [
        "cp /content/saved_models/cifar10_VGG19_model.076.h5 /content/VGG19_P1_best.h5"
      ],
      "execution_count": 0,
      "outputs": []
    },
    {
      "metadata": {
        "id": "he3Nw6TOJwjx",
        "colab_type": "text"
      },
      "cell_type": "markdown",
      "source": [
        "## Print out Evaluation Validation Loss/Accuracy"
      ]
    },
    {
      "metadata": {
        "id": "SVQtrk7uJdhl",
        "colab_type": "code",
        "colab": {
          "base_uri": "https://localhost:8080/",
          "height": 71
        },
        "outputId": "01932b53-1089-46c5-b863-fd91991184fc"
      },
      "cell_type": "code",
      "source": [
        "from keras.models import load_model\n",
        "\n",
        "model = load_model('VGG19_P1_best.h5')\n",
        "val_loss, val_acc = model.evaluate_generator(validation_generator, steps=val_steps)"
      ],
      "execution_count": 25,
      "outputs": [
        {
          "output_type": "stream",
          "text": [
            "/usr/local/lib/python3.6/dist-packages/keras/engine/saving.py:327: UserWarning: Error in loading the saved optimizer state. As a result, your model is starting with a freshly initialized optimizer.\n",
            "  warnings.warn('Error in loading the saved optimizer '\n"
          ],
          "name": "stderr"
        }
      ]
    },
    {
      "metadata": {
        "id": "HpdddLi1SUMe",
        "colab_type": "code",
        "outputId": "226beeb2-4c3b-4e22-ffc4-672c3ef7e6b1",
        "colab": {
          "base_uri": "https://localhost:8080/",
          "height": 51
        }
      },
      "cell_type": "code",
      "source": [
        "print(\"Validation loss:\", val_loss)\n",
        "print(\"Validation accuracy:\", val_acc)"
      ],
      "execution_count": 26,
      "outputs": [
        {
          "output_type": "stream",
          "text": [
            "Validation loss: 0.25414792983985146\n",
            "Validation accuracy: 0.8863636363636364\n"
          ],
          "name": "stdout"
        }
      ]
    },
    {
      "metadata": {
        "id": "7Ww756WToby8",
        "colab_type": "text"
      },
      "cell_type": "markdown",
      "source": [
        "## Save the best model"
      ]
    },
    {
      "metadata": {
        "id": "YhEoI8ZTok-X",
        "colab_type": "code",
        "colab": {}
      },
      "cell_type": "code",
      "source": [
        "model_name = 'VGG19_P1_best.h5'\n",
        "with open(model_name, 'r') as f:\n",
        "  files.download(model_name)"
      ],
      "execution_count": 0,
      "outputs": []
    }
  ]
}