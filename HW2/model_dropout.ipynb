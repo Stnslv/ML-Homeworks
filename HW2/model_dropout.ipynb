{
  "nbformat": 4,
  "nbformat_minor": 0,
  "metadata": {
    "colab": {
      "name": "model_dropout.ipynb",
      "version": "0.3.2",
      "provenance": [],
      "collapsed_sections": []
    },
    "kernelspec": {
      "name": "python3",
      "display_name": "Python 3"
    },
    "accelerator": "GPU"
  },
  "cells": [
    {
      "metadata": {
        "id": "dq6lguBY1Xo3",
        "colab_type": "code",
        "outputId": "40439b11-656a-41d4-cc84-9abf93476bfb",
        "colab": {
          "base_uri": "https://localhost:8080/",
          "height": 34
        }
      },
      "cell_type": "code",
      "source": [
        "from keras.datasets import cifar10\n",
        "from keras import layers\n",
        "from keras import models\n",
        "from keras import optimizers\n",
        "from keras.preprocessing.image import ImageDataGenerator\n",
        "from keras.utils import to_categorical\n",
        "\n",
        "import matplotlib.pyplot as plt\n",
        "\n",
        "from google.colab import files\n",
        "\n",
        "import numpy as np\n",
        "\n",
        "(train_images_original, train_labels_original), (test_images_original, test_labels_original) = cifar10.load_data()"
      ],
      "execution_count": 1,
      "outputs": [
        {
          "output_type": "stream",
          "text": [
            "Using TensorFlow backend.\n"
          ],
          "name": "stderr"
        }
      ]
    },
    {
      "metadata": {
        "id": "fTI9VqK66uPy",
        "colab_type": "code",
        "colab": {}
      },
      "cell_type": "code",
      "source": [
        "data_images = train_images_original / 255.0\n",
        "test_images = test_images_original / 255.0\n",
        "\n",
        "data_labels = train_labels_original\n",
        "test_labels = test_labels_original"
      ],
      "execution_count": 0,
      "outputs": []
    },
    {
      "metadata": {
        "id": "eMMWqULx_JzO",
        "colab_type": "code",
        "colab": {}
      },
      "cell_type": "code",
      "source": [
        "data_size = len(data_images)\n",
        "val_size = int(data_size * 0.2)\n",
        "\n",
        "shuffled_i = np.random.permutation(data_size)\n",
        "data_images = data_images[shuffled_i]\n",
        "data_labels = data_labels[shuffled_i]\n",
        "\n",
        "val_images = data_images[:val_size]\n",
        "train_images = data_images[val_size:]\n",
        "\n",
        "val_labels = data_labels[:val_size]\n",
        "train_labels = data_labels[val_size:]"
      ],
      "execution_count": 0,
      "outputs": []
    },
    {
      "metadata": {
        "id": "beeWmYIX2fY7",
        "colab_type": "code",
        "outputId": "26eaaa94-701a-4ce2-a3d3-605d5e3e5c30",
        "colab": {
          "base_uri": "https://localhost:8080/",
          "height": 700
        }
      },
      "cell_type": "code",
      "source": [
        "model = models.Sequential()\n",
        "\n",
        "model.add(layers.Conv2D(64, (3, 3), activation='relu', input_shape=(32, 32, 3)))\n",
        "model.add(layers.MaxPooling2D(2, 2))\n",
        "model.add(layers.Dropout(0.2))\n",
        "\n",
        "model.add(layers.Conv2D(128, (3, 3), activation='relu'))\n",
        "model.add(layers.MaxPooling2D(2, 2))\n",
        "model.add(layers.Dropout(0.2))\n",
        "\n",
        "model.add(layers.Conv2D(256, (3, 3), activation='relu'))\n",
        "model.add(layers.MaxPooling2D(2, 2))\n",
        "model.add(layers.Dropout(0.2))\n",
        "\n",
        "model.add(layers.Flatten())\n",
        "model.add(layers.Dropout(0.5))\n",
        "\n",
        "model.add(layers.Dense(512, activation='relu'))\n",
        "model.add(layers.Dense(10, activation='softmax'))\n",
        "\n",
        "model.summary()"
      ],
      "execution_count": 4,
      "outputs": [
        {
          "output_type": "stream",
          "text": [
            "WARNING:tensorflow:From /usr/local/lib/python3.6/dist-packages/tensorflow/python/framework/op_def_library.py:263: colocate_with (from tensorflow.python.framework.ops) is deprecated and will be removed in a future version.\n",
            "Instructions for updating:\n",
            "Colocations handled automatically by placer.\n",
            "WARNING:tensorflow:From /usr/local/lib/python3.6/dist-packages/keras/backend/tensorflow_backend.py:3445: calling dropout (from tensorflow.python.ops.nn_ops) with keep_prob is deprecated and will be removed in a future version.\n",
            "Instructions for updating:\n",
            "Please use `rate` instead of `keep_prob`. Rate should be set to `rate = 1 - keep_prob`.\n",
            "_________________________________________________________________\n",
            "Layer (type)                 Output Shape              Param #   \n",
            "=================================================================\n",
            "conv2d_1 (Conv2D)            (None, 30, 30, 64)        1792      \n",
            "_________________________________________________________________\n",
            "max_pooling2d_1 (MaxPooling2 (None, 15, 15, 64)        0         \n",
            "_________________________________________________________________\n",
            "dropout_1 (Dropout)          (None, 15, 15, 64)        0         \n",
            "_________________________________________________________________\n",
            "conv2d_2 (Conv2D)            (None, 13, 13, 128)       73856     \n",
            "_________________________________________________________________\n",
            "max_pooling2d_2 (MaxPooling2 (None, 6, 6, 128)         0         \n",
            "_________________________________________________________________\n",
            "dropout_2 (Dropout)          (None, 6, 6, 128)         0         \n",
            "_________________________________________________________________\n",
            "conv2d_3 (Conv2D)            (None, 4, 4, 256)         295168    \n",
            "_________________________________________________________________\n",
            "max_pooling2d_3 (MaxPooling2 (None, 2, 2, 256)         0         \n",
            "_________________________________________________________________\n",
            "dropout_3 (Dropout)          (None, 2, 2, 256)         0         \n",
            "_________________________________________________________________\n",
            "flatten_1 (Flatten)          (None, 1024)              0         \n",
            "_________________________________________________________________\n",
            "dropout_4 (Dropout)          (None, 1024)              0         \n",
            "_________________________________________________________________\n",
            "dense_1 (Dense)              (None, 512)               524800    \n",
            "_________________________________________________________________\n",
            "dense_2 (Dense)              (None, 10)                5130      \n",
            "=================================================================\n",
            "Total params: 900,746\n",
            "Trainable params: 900,746\n",
            "Non-trainable params: 0\n",
            "_________________________________________________________________\n"
          ],
          "name": "stdout"
        }
      ]
    },
    {
      "metadata": {
        "id": "YRu9_UOF4xwp",
        "colab_type": "code",
        "colab": {}
      },
      "cell_type": "code",
      "source": [
        "model.compile(\n",
        "    loss='sparse_categorical_crossentropy', \n",
        "    optimizer=optimizers.RMSprop(lr=2e-4),\n",
        "    metrics=['acc']\n",
        ")"
      ],
      "execution_count": 0,
      "outputs": []
    },
    {
      "metadata": {
        "id": "_4XEypKL9OYX",
        "colab_type": "code",
        "outputId": "9130829b-0d72-440e-abeb-38f58565781b",
        "colab": {
          "base_uri": "https://localhost:8080/",
          "height": 1805
        }
      },
      "cell_type": "code",
      "source": [
        "epochs = 50\n",
        "history = model.fit(train_images, \n",
        "                      train_labels, \n",
        "                      epochs=epochs,  \n",
        "                      validation_data=(val_images, val_labels))"
      ],
      "execution_count": 6,
      "outputs": [
        {
          "output_type": "stream",
          "text": [
            "WARNING:tensorflow:From /usr/local/lib/python3.6/dist-packages/tensorflow/python/ops/math_ops.py:3066: to_int32 (from tensorflow.python.ops.math_ops) is deprecated and will be removed in a future version.\n",
            "Instructions for updating:\n",
            "Use tf.cast instead.\n",
            "Train on 40000 samples, validate on 10000 samples\n",
            "Epoch 1/50\n",
            "40000/40000 [==============================] - 26s 653us/step - loss: 1.8134 - acc: 0.3300 - val_loss: 1.5138 - val_acc: 0.4580\n",
            "Epoch 2/50\n",
            "40000/40000 [==============================] - 25s 613us/step - loss: 1.4462 - acc: 0.4773 - val_loss: 1.2851 - val_acc: 0.5444\n",
            "Epoch 3/50\n",
            "40000/40000 [==============================] - 25s 626us/step - loss: 1.2956 - acc: 0.5377 - val_loss: 1.2355 - val_acc: 0.5551\n",
            "Epoch 4/50\n",
            "40000/40000 [==============================] - 26s 640us/step - loss: 1.1975 - acc: 0.5727 - val_loss: 1.0867 - val_acc: 0.6237\n",
            "Epoch 5/50\n",
            "40000/40000 [==============================] - 25s 625us/step - loss: 1.1173 - acc: 0.6068 - val_loss: 0.9976 - val_acc: 0.6469\n",
            "Epoch 6/50\n",
            "40000/40000 [==============================] - 23s 586us/step - loss: 1.0627 - acc: 0.6263 - val_loss: 0.9710 - val_acc: 0.6614\n",
            "Epoch 7/50\n",
            "40000/40000 [==============================] - 25s 614us/step - loss: 1.0076 - acc: 0.6478 - val_loss: 0.9345 - val_acc: 0.6640\n",
            "Epoch 8/50\n",
            "40000/40000 [==============================] - 24s 612us/step - loss: 0.9709 - acc: 0.6608 - val_loss: 0.8684 - val_acc: 0.6962\n",
            "Epoch 9/50\n",
            "40000/40000 [==============================] - 24s 608us/step - loss: 0.9285 - acc: 0.6726 - val_loss: 0.8469 - val_acc: 0.7066\n",
            "Epoch 10/50\n",
            "40000/40000 [==============================] - 24s 612us/step - loss: 0.9000 - acc: 0.6889 - val_loss: 0.8356 - val_acc: 0.7146\n",
            "Epoch 11/50\n",
            "40000/40000 [==============================] - 25s 626us/step - loss: 0.8766 - acc: 0.6946 - val_loss: 0.8155 - val_acc: 0.7186\n",
            "Epoch 12/50\n",
            "40000/40000 [==============================] - 24s 610us/step - loss: 0.8492 - acc: 0.7034 - val_loss: 0.8058 - val_acc: 0.7230\n",
            "Epoch 13/50\n",
            "40000/40000 [==============================] - 25s 633us/step - loss: 0.8287 - acc: 0.7093 - val_loss: 0.7555 - val_acc: 0.7445\n",
            "Epoch 14/50\n",
            "40000/40000 [==============================] - 23s 586us/step - loss: 0.8155 - acc: 0.7173 - val_loss: 0.7631 - val_acc: 0.7397\n",
            "Epoch 15/50\n",
            "40000/40000 [==============================] - 24s 607us/step - loss: 0.7951 - acc: 0.7239 - val_loss: 0.7248 - val_acc: 0.7545\n",
            "Epoch 16/50\n",
            "40000/40000 [==============================] - 24s 609us/step - loss: 0.7812 - acc: 0.7298 - val_loss: 0.7471 - val_acc: 0.7480\n",
            "Epoch 17/50\n",
            "40000/40000 [==============================] - 24s 609us/step - loss: 0.7668 - acc: 0.7339 - val_loss: 0.7517 - val_acc: 0.7385\n",
            "Epoch 18/50\n",
            "40000/40000 [==============================] - 24s 610us/step - loss: 0.7517 - acc: 0.7396 - val_loss: 0.7006 - val_acc: 0.7579\n",
            "Epoch 19/50\n",
            "40000/40000 [==============================] - 24s 609us/step - loss: 0.7436 - acc: 0.7406 - val_loss: 0.6960 - val_acc: 0.7601\n",
            "Epoch 20/50\n",
            "40000/40000 [==============================] - 25s 615us/step - loss: 0.7367 - acc: 0.7460 - val_loss: 0.6831 - val_acc: 0.7700\n",
            "Epoch 21/50\n",
            "40000/40000 [==============================] - 24s 610us/step - loss: 0.7197 - acc: 0.7529 - val_loss: 0.7243 - val_acc: 0.7509\n",
            "Epoch 22/50\n",
            "40000/40000 [==============================] - 24s 607us/step - loss: 0.7215 - acc: 0.7515 - val_loss: 0.6991 - val_acc: 0.7621\n",
            "Epoch 23/50\n",
            "40000/40000 [==============================] - 24s 611us/step - loss: 0.7121 - acc: 0.7513 - val_loss: 0.6916 - val_acc: 0.7616\n",
            "Epoch 24/50\n",
            "40000/40000 [==============================] - 24s 608us/step - loss: 0.7010 - acc: 0.7611 - val_loss: 0.6545 - val_acc: 0.7755\n",
            "Epoch 25/50\n",
            "40000/40000 [==============================] - 24s 607us/step - loss: 0.6986 - acc: 0.7603 - val_loss: 0.6750 - val_acc: 0.7688\n",
            "Epoch 26/50\n",
            "40000/40000 [==============================] - 24s 608us/step - loss: 0.6845 - acc: 0.7664 - val_loss: 0.6806 - val_acc: 0.7700\n",
            "Epoch 27/50\n",
            "40000/40000 [==============================] - 24s 608us/step - loss: 0.6912 - acc: 0.7636 - val_loss: 0.6843 - val_acc: 0.7764\n",
            "Epoch 28/50\n",
            "40000/40000 [==============================] - 24s 610us/step - loss: 0.6901 - acc: 0.7636 - val_loss: 0.6508 - val_acc: 0.7750\n",
            "Epoch 29/50\n",
            "40000/40000 [==============================] - 24s 608us/step - loss: 0.6803 - acc: 0.7677 - val_loss: 0.6731 - val_acc: 0.7720\n",
            "Epoch 30/50\n",
            "40000/40000 [==============================] - 24s 608us/step - loss: 0.6750 - acc: 0.7690 - val_loss: 0.6770 - val_acc: 0.7693\n",
            "Epoch 31/50\n",
            "40000/40000 [==============================] - 24s 607us/step - loss: 0.6684 - acc: 0.7718 - val_loss: 0.6699 - val_acc: 0.7783\n",
            "Epoch 32/50\n",
            "40000/40000 [==============================] - 24s 611us/step - loss: 0.6748 - acc: 0.7701 - val_loss: 0.6926 - val_acc: 0.7703\n",
            "Epoch 33/50\n",
            "40000/40000 [==============================] - 25s 615us/step - loss: 0.6636 - acc: 0.7714 - val_loss: 0.6569 - val_acc: 0.7793\n",
            "Epoch 34/50\n",
            "40000/40000 [==============================] - 24s 609us/step - loss: 0.6689 - acc: 0.7730 - val_loss: 0.7568 - val_acc: 0.7640\n",
            "Epoch 35/50\n",
            "40000/40000 [==============================] - 25s 613us/step - loss: 0.6614 - acc: 0.7739 - val_loss: 0.6452 - val_acc: 0.7827\n",
            "Epoch 36/50\n",
            "40000/40000 [==============================] - 24s 609us/step - loss: 0.6660 - acc: 0.7735 - val_loss: 0.6998 - val_acc: 0.7705\n",
            "Epoch 37/50\n",
            "40000/40000 [==============================] - 24s 608us/step - loss: 0.6650 - acc: 0.7738 - val_loss: 0.6821 - val_acc: 0.7707\n",
            "Epoch 38/50\n",
            "40000/40000 [==============================] - 24s 607us/step - loss: 0.6674 - acc: 0.7770 - val_loss: 0.6845 - val_acc: 0.7761\n",
            "Epoch 39/50\n",
            "40000/40000 [==============================] - 24s 608us/step - loss: 0.6704 - acc: 0.7738 - val_loss: 0.6681 - val_acc: 0.7861\n",
            "Epoch 40/50\n",
            "40000/40000 [==============================] - 24s 608us/step - loss: 0.6556 - acc: 0.7789 - val_loss: 0.6768 - val_acc: 0.7830\n",
            "Epoch 41/50\n",
            "40000/40000 [==============================] - 24s 606us/step - loss: 0.6667 - acc: 0.7766 - val_loss: 0.6962 - val_acc: 0.7709\n",
            "Epoch 42/50\n",
            "40000/40000 [==============================] - 24s 609us/step - loss: 0.6644 - acc: 0.7744 - val_loss: 0.6808 - val_acc: 0.7747\n",
            "Epoch 43/50\n",
            "40000/40000 [==============================] - 24s 607us/step - loss: 0.6748 - acc: 0.7744 - val_loss: 0.6977 - val_acc: 0.7728\n",
            "Epoch 44/50\n",
            "40000/40000 [==============================] - 24s 606us/step - loss: 0.6742 - acc: 0.7732 - val_loss: 0.7255 - val_acc: 0.7629\n",
            "Epoch 45/50\n",
            "40000/40000 [==============================] - 24s 612us/step - loss: 0.6754 - acc: 0.7742 - val_loss: 0.7361 - val_acc: 0.7672\n",
            "Epoch 46/50\n",
            "40000/40000 [==============================] - 25s 614us/step - loss: 0.6768 - acc: 0.7750 - val_loss: 0.7087 - val_acc: 0.7753\n",
            "Epoch 47/50\n",
            "40000/40000 [==============================] - 24s 608us/step - loss: 0.6750 - acc: 0.7768 - val_loss: 0.6822 - val_acc: 0.7769\n",
            "Epoch 48/50\n",
            "40000/40000 [==============================] - 24s 611us/step - loss: 0.6763 - acc: 0.7744 - val_loss: 0.6967 - val_acc: 0.7736\n",
            "Epoch 49/50\n",
            "40000/40000 [==============================] - 24s 609us/step - loss: 0.6765 - acc: 0.7723 - val_loss: 0.6841 - val_acc: 0.7743\n",
            "Epoch 50/50\n",
            "40000/40000 [==============================] - 23s 583us/step - loss: 0.6837 - acc: 0.7748 - val_loss: 0.6948 - val_acc: 0.7755\n"
          ],
          "name": "stdout"
        }
      ]
    },
    {
      "metadata": {
        "id": "4o-No71o9nPp",
        "colab_type": "code",
        "colab": {}
      },
      "cell_type": "code",
      "source": [
        "model.save('model_dropout.h5')\n",
        "\n",
        "with open('model_dropout.h5', 'r') as f:\n",
        "  files.download('model_dropout.h5')"
      ],
      "execution_count": 0,
      "outputs": []
    },
    {
      "metadata": {
        "id": "5xeejSzn98_o",
        "colab_type": "code",
        "outputId": "58ef53aa-bb4c-44cb-fbf2-6a7e02167300",
        "colab": {
          "base_uri": "https://localhost:8080/",
          "height": 707
        }
      },
      "cell_type": "code",
      "source": [
        "acc = history.history['acc']\n",
        "val_acc = history.history['val_acc']\n",
        "\n",
        "loss = history.history['loss']\n",
        "val_loss = history.history['val_loss']\n",
        "\n",
        "epochs = range(1, len(acc) + 1)\n",
        "\n",
        "# training and validation accuracy\n",
        "\n",
        "plt.plot(epochs, acc, 'bo', label='training acc')\n",
        "plt.plot(epochs, val_acc, 'b', label='validation acc')\n",
        "plt.title('training and validation accuracy')\n",
        "plt.legend()\n",
        "\n",
        "plt.figure()\n",
        "\n",
        "# training and validation loss\n",
        "\n",
        "plt.plot(epochs, loss, 'bo', label='training loss')\n",
        "plt.plot(epochs, val_loss, 'b', label='validation loss')\n",
        "plt.title('training and validation loss')\n",
        "plt.legend()\n",
        "\n",
        "plt.show()"
      ],
      "execution_count": 8,
      "outputs": [
        {
          "output_type": "display_data",
          "data": {
            "image/png": "[encoded data removed]",
            "text/plain": [
              "<Figure size 576x396 with 1 Axes>"
            ]
          },
          "metadata": {
            "tags": []
          }
        },
        {
          "output_type": "display_data",
          "data": {
            "image/png": "[encoded data removed]",
            "text/plain": [
              "<Figure size 576x396 with 1 Axes>"
            ]
          },
          "metadata": {
            "tags": []
          }
        }
      ]
    }
  ]
}