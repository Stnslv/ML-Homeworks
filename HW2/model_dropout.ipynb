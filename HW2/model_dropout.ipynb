{
  "nbformat": 4,
  "nbformat_minor": 0,
  "metadata": {
    "colab": {
      "name": "model_dropout.ipynb",
      "version": "0.3.2",
      "provenance": [],
      "collapsed_sections": []
    },
    "kernelspec": {
      "name": "python3",
      "display_name": "Python 3"
    },
    "accelerator": "GPU"
  },
  "cells": [
    {
      "metadata": {
        "id": "dq6lguBY1Xo3",
        "colab_type": "code",
        "outputId": "d3763930-bda4-4587-a772-b64ae1679a8a",
        "colab": {
          "base_uri": "https://localhost:8080/",
          "height": 34
        }
      },
      "cell_type": "code",
      "source": [
        "from keras.datasets import cifar10\n",
        "from keras import layers\n",
        "from keras import models\n",
        "from keras import optimizers\n",
        "from keras.preprocessing.image import ImageDataGenerator\n",
        "from keras.utils import to_categorical\n",
        "\n",
        "import matplotlib.pyplot as plt\n",
        "\n",
        "from google.colab import files\n",
        "\n",
        "import numpy as np\n",
        "\n",
        "(train_images_original, train_labels_original), (test_images_original, test_labels_original) = cifar10.load_data()"
      ],
      "execution_count": 1,
      "outputs": [
        {
          "output_type": "stream",
          "text": [
            "Using TensorFlow backend.\n"
          ],
          "name": "stderr"
        }
      ]
    },
    {
      "metadata": {
        "id": "fTI9VqK66uPy",
        "colab_type": "code",
        "colab": {}
      },
      "cell_type": "code",
      "source": [
        "data_images = train_images_original / 255.0\n",
        "test_images = test_images_original / 255.0\n",
        "\n",
        "data_labels = train_labels_original\n",
        "test_labels = test_labels_original"
      ],
      "execution_count": 0,
      "outputs": []
    },
    {
      "metadata": {
        "id": "eMMWqULx_JzO",
        "colab_type": "code",
        "colab": {}
      },
      "cell_type": "code",
      "source": [
        "data_size = len(data_images)\n",
        "val_size = int(data_size * 0.2)\n",
        "\n",
        "shuffled_i = np.random.permutation(data_size)\n",
        "data_images = data_images[shuffled_i]\n",
        "data_labels = data_labels[shuffled_i]\n",
        "\n",
        "val_images = data_images[:val_size]\n",
        "train_images = data_images[val_size:]\n",
        "\n",
        "val_labels = data_labels[:val_size]\n",
        "train_labels = data_labels[val_size:]"
      ],
      "execution_count": 0,
      "outputs": []
    },
    {
      "metadata": {
        "id": "beeWmYIX2fY7",
        "colab_type": "code",
        "outputId": "cf41f1c1-f8ab-4be5-d1e7-839a3ccd53a1",
        "colab": {
          "base_uri": "https://localhost:8080/",
          "height": 682
        }
      },
      "cell_type": "code",
      "source": [
        "model = models.Sequential()\n",
        "\n",
        "model.add(layers.Conv2D(64, (3, 3), activation='relu', input_shape=(32, 32, 3)))\n",
        "model.add(layers.MaxPooling2D(2, 2))\n",
        "\n",
        "model.add(layers.Conv2D(128, (3, 3), activation='relu'))\n",
        "model.add(layers.MaxPooling2D(2, 2))\n",
        "\n",
        "model.add(layers.Conv2D(256, (3, 3), activation='relu'))\n",
        "model.add(layers.SpatialDropout2D(0.2))\n",
        "model.add(layers.MaxPooling2D(2, 2))\n",
        "\n",
        "model.add(layers.Flatten())\n",
        "model.add(layers.Dropout(0.5))\n",
        "model.add(layers.Dense(512, activation='relu'))\n",
        "\n",
        "model.add(layers.Dropout(0.2))\n",
        "model.add(layers.Dense(10, activation='softmax'))\n",
        "\n",
        "model.summary()"
      ],
      "execution_count": 4,
      "outputs": [
        {
          "output_type": "stream",
          "text": [
            "WARNING:tensorflow:From /usr/local/lib/python3.6/dist-packages/tensorflow/python/framework/op_def_library.py:263: colocate_with (from tensorflow.python.framework.ops) is deprecated and will be removed in a future version.\n",
            "Instructions for updating:\n",
            "Colocations handled automatically by placer.\n",
            "WARNING:tensorflow:From /usr/local/lib/python3.6/dist-packages/keras/backend/tensorflow_backend.py:3445: calling dropout (from tensorflow.python.ops.nn_ops) with keep_prob is deprecated and will be removed in a future version.\n",
            "Instructions for updating:\n",
            "Please use `rate` instead of `keep_prob`. Rate should be set to `rate = 1 - keep_prob`.\n",
            "_________________________________________________________________\n",
            "Layer (type)                 Output Shape              Param #   \n",
            "=================================================================\n",
            "conv2d_1 (Conv2D)            (None, 30, 30, 64)        1792      \n",
            "_________________________________________________________________\n",
            "max_pooling2d_1 (MaxPooling2 (None, 15, 15, 64)        0         \n",
            "_________________________________________________________________\n",
            "conv2d_2 (Conv2D)            (None, 13, 13, 128)       73856     \n",
            "_________________________________________________________________\n",
            "max_pooling2d_2 (MaxPooling2 (None, 6, 6, 128)         0         \n",
            "_________________________________________________________________\n",
            "conv2d_3 (Conv2D)            (None, 4, 4, 256)         295168    \n",
            "_________________________________________________________________\n",
            "spatial_dropout2d_1 (Spatial (None, 4, 4, 256)         0         \n",
            "_________________________________________________________________\n",
            "max_pooling2d_3 (MaxPooling2 (None, 2, 2, 256)         0         \n",
            "_________________________________________________________________\n",
            "flatten_1 (Flatten)          (None, 1024)              0         \n",
            "_________________________________________________________________\n",
            "dropout_1 (Dropout)          (None, 1024)              0         \n",
            "_________________________________________________________________\n",
            "dense_1 (Dense)              (None, 512)               524800    \n",
            "_________________________________________________________________\n",
            "dropout_2 (Dropout)          (None, 512)               0         \n",
            "_________________________________________________________________\n",
            "dense_2 (Dense)              (None, 10)                5130      \n",
            "=================================================================\n",
            "Total params: 900,746\n",
            "Trainable params: 900,746\n",
            "Non-trainable params: 0\n",
            "_________________________________________________________________\n"
          ],
          "name": "stdout"
        }
      ]
    },
    {
      "metadata": {
        "id": "YRu9_UOF4xwp",
        "colab_type": "code",
        "colab": {}
      },
      "cell_type": "code",
      "source": [
        "model.compile(\n",
        "    loss='sparse_categorical_crossentropy', \n",
        "    optimizer=optimizers.RMSprop(lr=2e-4),\n",
        "    metrics=['acc']\n",
        ")"
      ],
      "execution_count": 0,
      "outputs": []
    },
    {
      "metadata": {
        "id": "_4XEypKL9OYX",
        "colab_type": "code",
        "outputId": "a039c608-0e46-4011-b7d4-cf08fd4699d2",
        "colab": {
          "base_uri": "https://localhost:8080/",
          "height": 1888
        }
      },
      "cell_type": "code",
      "source": [
        "epochs = 50\n",
        "history = model.fit(train_images, \n",
        "                      train_labels, \n",
        "                      epochs=epochs,  \n",
        "                      validation_data=(val_images, val_labels))"
      ],
      "execution_count": 6,
      "outputs": [
        {
          "output_type": "stream",
          "text": [
            "WARNING:tensorflow:From /usr/local/lib/python3.6/dist-packages/tensorflow/python/ops/math_ops.py:3066: to_int32 (from tensorflow.python.ops.math_ops) is deprecated and will be removed in a future version.\n",
            "Instructions for updating:\n",
            "Use tf.cast instead.\n",
            "Train on 40000 samples, validate on 10000 samples\n",
            "Epoch 1/50\n",
            "40000/40000 [==============================] - 23s 578us/step - loss: 1.8131 - acc: 0.3252 - val_loss: 1.4859 - val_acc: 0.4664\n",
            "Epoch 2/50\n",
            "40000/40000 [==============================] - 22s 545us/step - loss: 1.4620 - acc: 0.4676 - val_loss: 1.2731 - val_acc: 0.5477\n",
            "Epoch 3/50\n",
            "40000/40000 [==============================] - 22s 561us/step - loss: 1.3055 - acc: 0.5338 - val_loss: 1.1470 - val_acc: 0.5925\n",
            "Epoch 4/50\n",
            "40000/40000 [==============================] - 22s 560us/step - loss: 1.2023 - acc: 0.5730 - val_loss: 1.0705 - val_acc: 0.6298\n",
            "Epoch 5/50\n",
            "40000/40000 [==============================] - 23s 572us/step - loss: 1.1202 - acc: 0.6065 - val_loss: 1.0076 - val_acc: 0.6501\n",
            "Epoch 6/50\n",
            "40000/40000 [==============================] - 23s 574us/step - loss: 1.0554 - acc: 0.6301 - val_loss: 0.9479 - val_acc: 0.6682\n",
            "Epoch 7/50\n",
            "40000/40000 [==============================] - 22s 556us/step - loss: 0.9946 - acc: 0.6528 - val_loss: 0.8949 - val_acc: 0.6854\n",
            "Epoch 8/50\n",
            "40000/40000 [==============================] - 22s 551us/step - loss: 0.9494 - acc: 0.6666 - val_loss: 0.9043 - val_acc: 0.6852\n",
            "Epoch 9/50\n",
            "40000/40000 [==============================] - 22s 559us/step - loss: 0.9036 - acc: 0.6841 - val_loss: 0.8690 - val_acc: 0.6975\n",
            "Epoch 10/50\n",
            "40000/40000 [==============================] - 22s 560us/step - loss: 0.8751 - acc: 0.6964 - val_loss: 0.8349 - val_acc: 0.7123\n",
            "Epoch 11/50\n",
            "40000/40000 [==============================] - 22s 547us/step - loss: 0.8382 - acc: 0.7105 - val_loss: 0.7997 - val_acc: 0.7196\n",
            "Epoch 12/50\n",
            "40000/40000 [==============================] - 21s 537us/step - loss: 0.8053 - acc: 0.7203 - val_loss: 0.7925 - val_acc: 0.7273\n",
            "Epoch 13/50\n",
            "40000/40000 [==============================] - 21s 533us/step - loss: 0.7805 - acc: 0.7295 - val_loss: 0.7819 - val_acc: 0.7327\n",
            "Epoch 14/50\n",
            "40000/40000 [==============================] - 21s 534us/step - loss: 0.7567 - acc: 0.7372 - val_loss: 0.7550 - val_acc: 0.7360\n",
            "Epoch 15/50\n",
            "40000/40000 [==============================] - 22s 538us/step - loss: 0.7450 - acc: 0.7418 - val_loss: 0.7624 - val_acc: 0.7389\n",
            "Epoch 16/50\n",
            "40000/40000 [==============================] - 23s 575us/step - loss: 0.7160 - acc: 0.7530 - val_loss: 0.7449 - val_acc: 0.7403\n",
            "Epoch 17/50\n",
            "40000/40000 [==============================] - 23s 574us/step - loss: 0.7044 - acc: 0.7571 - val_loss: 0.7483 - val_acc: 0.7476\n",
            "Epoch 18/50\n",
            "40000/40000 [==============================] - 23s 569us/step - loss: 0.6899 - acc: 0.7628 - val_loss: 0.7581 - val_acc: 0.7442\n",
            "Epoch 19/50\n",
            "40000/40000 [==============================] - 22s 539us/step - loss: 0.6734 - acc: 0.7689 - val_loss: 0.8413 - val_acc: 0.7159\n",
            "Epoch 20/50\n",
            "40000/40000 [==============================] - 22s 540us/step - loss: 0.6638 - acc: 0.7720 - val_loss: 0.7123 - val_acc: 0.7632\n",
            "Epoch 21/50\n",
            "40000/40000 [==============================] - 22s 542us/step - loss: 0.6492 - acc: 0.7776 - val_loss: 0.7234 - val_acc: 0.7555\n",
            "Epoch 22/50\n",
            "40000/40000 [==============================] - 22s 541us/step - loss: 0.6386 - acc: 0.7800 - val_loss: 0.7662 - val_acc: 0.7498\n",
            "Epoch 23/50\n",
            "40000/40000 [==============================] - 22s 541us/step - loss: 0.6330 - acc: 0.7821 - val_loss: 0.7336 - val_acc: 0.7615\n",
            "Epoch 24/50\n",
            "40000/40000 [==============================] - 22s 549us/step - loss: 0.6328 - acc: 0.7852 - val_loss: 0.7323 - val_acc: 0.7535\n",
            "Epoch 25/50\n",
            "40000/40000 [==============================] - 21s 536us/step - loss: 0.6300 - acc: 0.7831 - val_loss: 0.8022 - val_acc: 0.7356\n",
            "Epoch 26/50\n",
            "40000/40000 [==============================] - 22s 546us/step - loss: 0.6227 - acc: 0.7886 - val_loss: 0.8434 - val_acc: 0.7464\n",
            "Epoch 27/50\n",
            "40000/40000 [==============================] - 22s 540us/step - loss: 0.6226 - acc: 0.7890 - val_loss: 0.7507 - val_acc: 0.7632\n",
            "Epoch 28/50\n",
            "40000/40000 [==============================] - 22s 541us/step - loss: 0.6208 - acc: 0.7891 - val_loss: 0.7589 - val_acc: 0.7440\n",
            "Epoch 29/50\n",
            "40000/40000 [==============================] - 22s 540us/step - loss: 0.6132 - acc: 0.7928 - val_loss: 0.7173 - val_acc: 0.7697\n",
            "Epoch 30/50\n",
            "40000/40000 [==============================] - 22s 541us/step - loss: 0.6145 - acc: 0.7924 - val_loss: 0.7737 - val_acc: 0.7529\n",
            "Epoch 31/50\n",
            "40000/40000 [==============================] - 22s 538us/step - loss: 0.6208 - acc: 0.7903 - val_loss: 0.8112 - val_acc: 0.7440\n",
            "Epoch 32/50\n",
            "40000/40000 [==============================] - 22s 539us/step - loss: 0.6227 - acc: 0.7919 - val_loss: 0.7723 - val_acc: 0.7488\n",
            "Epoch 33/50\n",
            "40000/40000 [==============================] - 22s 539us/step - loss: 0.6246 - acc: 0.7907 - val_loss: 0.7197 - val_acc: 0.7650\n",
            "Epoch 34/50\n",
            "40000/40000 [==============================] - 22s 540us/step - loss: 0.6184 - acc: 0.7912 - val_loss: 0.7218 - val_acc: 0.7604\n",
            "Epoch 35/50\n",
            "40000/40000 [==============================] - 22s 539us/step - loss: 0.6198 - acc: 0.7920 - val_loss: 0.9015 - val_acc: 0.7202\n",
            "Epoch 36/50\n",
            "40000/40000 [==============================] - 22s 540us/step - loss: 0.6245 - acc: 0.7885 - val_loss: 0.7286 - val_acc: 0.7619\n",
            "Epoch 37/50\n",
            "40000/40000 [==============================] - 22s 539us/step - loss: 0.6297 - acc: 0.7909 - val_loss: 0.8171 - val_acc: 0.7450\n",
            "Epoch 38/50\n",
            "40000/40000 [==============================] - 22s 542us/step - loss: 0.6275 - acc: 0.7924 - val_loss: 0.7539 - val_acc: 0.7528\n",
            "Epoch 39/50\n",
            "40000/40000 [==============================] - 20s 501us/step - loss: 0.6339 - acc: 0.7908 - val_loss: 0.9205 - val_acc: 0.7313\n",
            "Epoch 40/50\n",
            "40000/40000 [==============================] - 20s 489us/step - loss: 0.6321 - acc: 0.7919 - val_loss: 0.8254 - val_acc: 0.7499\n",
            "Epoch 41/50\n",
            "40000/40000 [==============================] - 19s 485us/step - loss: 0.6334 - acc: 0.7882 - val_loss: 0.7767 - val_acc: 0.7559\n",
            "Epoch 42/50\n",
            "40000/40000 [==============================] - 19s 485us/step - loss: 0.6369 - acc: 0.7876 - val_loss: 0.8097 - val_acc: 0.7496\n",
            "Epoch 43/50\n",
            "40000/40000 [==============================] - 20s 507us/step - loss: 0.6440 - acc: 0.7877 - val_loss: 0.7463 - val_acc: 0.7632\n",
            "Epoch 44/50\n",
            "40000/40000 [==============================] - 20s 506us/step - loss: 0.6508 - acc: 0.7850 - val_loss: 0.8860 - val_acc: 0.7288\n",
            "Epoch 45/50\n",
            "40000/40000 [==============================] - 20s 510us/step - loss: 0.6668 - acc: 0.7818 - val_loss: 0.7936 - val_acc: 0.7516\n",
            "Epoch 46/50\n",
            "40000/40000 [==============================] - 20s 506us/step - loss: 0.6530 - acc: 0.7843 - val_loss: 0.7038 - val_acc: 0.7671\n",
            "Epoch 47/50\n",
            "40000/40000 [==============================] - 20s 507us/step - loss: 0.6653 - acc: 0.7820 - val_loss: 0.9496 - val_acc: 0.7175\n",
            "Epoch 48/50\n",
            "40000/40000 [==============================] - 19s 482us/step - loss: 0.6744 - acc: 0.7777 - val_loss: 0.7870 - val_acc: 0.7558\n",
            "Epoch 49/50\n",
            "40000/40000 [==============================] - 19s 479us/step - loss: 0.6679 - acc: 0.7828 - val_loss: 0.8357 - val_acc: 0.7318\n",
            "Epoch 50/50\n",
            "40000/40000 [==============================] - 20s 502us/step - loss: 0.6687 - acc: 0.7798 - val_loss: 0.8833 - val_acc: 0.7392\n"
          ],
          "name": "stdout"
        }
      ]
    },
    {
      "metadata": {
        "id": "4o-No71o9nPp",
        "colab_type": "code",
        "colab": {}
      },
      "cell_type": "code",
      "source": [
        "model.save('model_dropout.h5')\n",
        "\n",
        "with open('model_dropout.h5', 'r') as f:\n",
        "  files.download('model_dropout.h5')"
      ],
      "execution_count": 0,
      "outputs": []
    },
    {
      "metadata": {
        "id": "5xeejSzn98_o",
        "colab_type": "code",
        "outputId": "d43ec771-4920-4fa1-dc07-c9eeb54eb40c",
        "colab": {
          "base_uri": "https://localhost:8080/",
          "height": 706
        }
      },
      "cell_type": "code",
      "source": [
        "acc = history.history['acc']\n",
        "val_acc = history.history['val_acc']\n",
        "\n",
        "loss = history.history['loss']\n",
        "val_loss = history.history['val_loss']\n",
        "\n",
        "epochs = range(1, len(acc) + 1)\n",
        "\n",
        "# training and validation accuracy\n",
        "\n",
        "plt.plot(epochs, acc, 'bo', label='training acc')\n",
        "plt.plot(epochs, val_acc, 'b', label='validation acc')\n",
        "plt.title('training and validation accuracy')\n",
        "plt.legend()\n",
        "\n",
        "plt.figure()\n",
        "\n",
        "# training and validation loss\n",
        "\n",
        "plt.plot(epochs, loss, 'bo', label='training loss')\n",
        "plt.plot(epochs, val_loss, 'b', label='validation loss')\n",
        "plt.title('training and validation loss')\n",
        "plt.legend()\n",
        "\n",
        "plt.show()"
      ],
      "execution_count": 8,
      "outputs": [
        {
          "output_type": "display_data",
          "data": {
            "image/png": "[encoded data removed]",
            "text/plain": [
              "<Figure size 576x396 with 1 Axes>"
            ]
          },
          "metadata": {
            "tags": []
          }
        },
        {
          "output_type": "display_data",
          "data": {
            "image/png": "[encoded data removed]",
            "text/plain": [
              "<Figure size 576x396 with 1 Axes>"
            ]
          },
          "metadata": {
            "tags": []
          }
        }
      ]
    }
  ]
}