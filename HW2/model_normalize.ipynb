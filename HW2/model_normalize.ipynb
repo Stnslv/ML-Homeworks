{
  "nbformat": 4,
  "nbformat_minor": 0,
  "metadata": {
    "colab": {
      "name": "model_normalize.ipynb",
      "version": "0.3.2",
      "provenance": [],
      "collapsed_sections": []
    },
    "kernelspec": {
      "name": "python3",
      "display_name": "Python 3"
    },
    "accelerator": "GPU"
  },
  "cells": [
    {
      "metadata": {
        "id": "dq6lguBY1Xo3",
        "colab_type": "code",
        "outputId": "4e47692b-0c19-4e1e-feed-d387e5d04d65",
        "colab": {
          "base_uri": "https://localhost:8080/",
          "height": 34
        }
      },
      "cell_type": "code",
      "source": [
        "from keras.datasets import cifar10\n",
        "from keras import layers\n",
        "from keras import models\n",
        "from keras import optimizers\n",
        "\n",
        "import matplotlib.pyplot as plt\n",
        "\n",
        "from google.colab import files\n",
        "\n",
        "import numpy as np\n",
        "\n",
        "(train_images_original, train_labels_original), (test_images_original, test_labels_original) = cifar10.load_data()"
      ],
      "execution_count": 1,
      "outputs": [
        {
          "output_type": "stream",
          "text": [
            "Using TensorFlow backend.\n"
          ],
          "name": "stderr"
        }
      ]
    },
    {
      "metadata": {
        "id": "fTI9VqK66uPy",
        "colab_type": "code",
        "colab": {}
      },
      "cell_type": "code",
      "source": [
        "data_images = train_images_original\n",
        "test_images = test_images_original\n",
        "\n",
        "data_labels = train_labels_original\n",
        "test_labels = test_labels_original"
      ],
      "execution_count": 0,
      "outputs": []
    },
    {
      "metadata": {
        "id": "eMMWqULx_JzO",
        "colab_type": "code",
        "colab": {}
      },
      "cell_type": "code",
      "source": [
        "data_size = len(data_images)\n",
        "train_size = int(data_size * 0.8)\n",
        "\n",
        "shuffled_i = np.random.permutation(data_size)\n",
        "data_images = data_images[shuffled_i]\n",
        "data_labels = data_labels[shuffled_i]\n",
        "\n",
        "train_images = data_images[:train_size]\n",
        "val_images = data_images[train_size:]\n",
        "\n",
        "train_labels = data_labels[:train_size]\n",
        "val_labels = data_labels[train_size:]"
      ],
      "execution_count": 0,
      "outputs": []
    },
    {
      "metadata": {
        "id": "beeWmYIX2fY7",
        "colab_type": "code",
        "outputId": "28b8300b-d661-4ffe-b808-622727b1f299",
        "colab": {
          "base_uri": "https://localhost:8080/",
          "height": 802
        }
      },
      "cell_type": "code",
      "source": [
        "model = models.Sequential()\n",
        "\n",
        "model.add(layers.Conv2D(64, (3, 3), activation='relu', input_shape=(32, 32, 3)))\n",
        "model.add(layers.BatchNormalization())\n",
        "model.add(layers.MaxPooling2D(2, 2))\n",
        "model.add(layers.Dropout(0.2))\n",
        "\n",
        "model.add(layers.Conv2D(128, (3, 3), activation='relu'))\n",
        "model.add(layers.BatchNormalization())\n",
        "model.add(layers.MaxPooling2D(2, 2))\n",
        "model.add(layers.Dropout(0.2))\n",
        "\n",
        "model.add(layers.Conv2D(256, (3, 3), activation='relu'))\n",
        "model.add(layers.BatchNormalization())\n",
        "model.add(layers.MaxPooling2D(2, 2))\n",
        "model.add(layers.Dropout(0.2))\n",
        "\n",
        "model.add(layers.Flatten())\n",
        "model.add(layers.Dropout(0.5))\n",
        "\n",
        "model.add(layers.Dense(512, activation='relu'))\n",
        "model.add(layers.Dense(10, activation='softmax'))\n",
        "\n",
        "model.summary()"
      ],
      "execution_count": 5,
      "outputs": [
        {
          "output_type": "stream",
          "text": [
            "WARNING:tensorflow:From /usr/local/lib/python3.6/dist-packages/tensorflow/python/framework/op_def_library.py:263: colocate_with (from tensorflow.python.framework.ops) is deprecated and will be removed in a future version.\n",
            "Instructions for updating:\n",
            "Colocations handled automatically by placer.\n",
            "WARNING:tensorflow:From /usr/local/lib/python3.6/dist-packages/keras/backend/tensorflow_backend.py:3445: calling dropout (from tensorflow.python.ops.nn_ops) with keep_prob is deprecated and will be removed in a future version.\n",
            "Instructions for updating:\n",
            "Please use `rate` instead of `keep_prob`. Rate should be set to `rate = 1 - keep_prob`.\n",
            "_________________________________________________________________\n",
            "Layer (type)                 Output Shape              Param #   \n",
            "=================================================================\n",
            "conv2d_1 (Conv2D)            (None, 30, 30, 64)        1792      \n",
            "_________________________________________________________________\n",
            "batch_normalization_1 (Batch (None, 30, 30, 64)        256       \n",
            "_________________________________________________________________\n",
            "max_pooling2d_1 (MaxPooling2 (None, 15, 15, 64)        0         \n",
            "_________________________________________________________________\n",
            "dropout_1 (Dropout)          (None, 15, 15, 64)        0         \n",
            "_________________________________________________________________\n",
            "conv2d_2 (Conv2D)            (None, 13, 13, 128)       73856     \n",
            "_________________________________________________________________\n",
            "batch_normalization_2 (Batch (None, 13, 13, 128)       512       \n",
            "_________________________________________________________________\n",
            "max_pooling2d_2 (MaxPooling2 (None, 6, 6, 128)         0         \n",
            "_________________________________________________________________\n",
            "dropout_2 (Dropout)          (None, 6, 6, 128)         0         \n",
            "_________________________________________________________________\n",
            "conv2d_3 (Conv2D)            (None, 4, 4, 256)         295168    \n",
            "_________________________________________________________________\n",
            "batch_normalization_3 (Batch (None, 4, 4, 256)         1024      \n",
            "_________________________________________________________________\n",
            "max_pooling2d_3 (MaxPooling2 (None, 2, 2, 256)         0         \n",
            "_________________________________________________________________\n",
            "dropout_3 (Dropout)          (None, 2, 2, 256)         0         \n",
            "_________________________________________________________________\n",
            "flatten_1 (Flatten)          (None, 1024)              0         \n",
            "_________________________________________________________________\n",
            "dropout_4 (Dropout)          (None, 1024)              0         \n",
            "_________________________________________________________________\n",
            "dense_1 (Dense)              (None, 512)               524800    \n",
            "_________________________________________________________________\n",
            "dense_2 (Dense)              (None, 10)                5130      \n",
            "=================================================================\n",
            "Total params: 902,538\n",
            "Trainable params: 901,642\n",
            "Non-trainable params: 896\n",
            "_________________________________________________________________\n"
          ],
          "name": "stdout"
        }
      ]
    },
    {
      "metadata": {
        "id": "YRu9_UOF4xwp",
        "colab_type": "code",
        "colab": {}
      },
      "cell_type": "code",
      "source": [
        "model.compile(\n",
        "    loss='sparse_categorical_crossentropy', \n",
        "    optimizer=optimizers.RMSprop(lr=1e-4),\n",
        "    metrics=['acc']\n",
        ")"
      ],
      "execution_count": 0,
      "outputs": []
    },
    {
      "metadata": {
        "id": "_4XEypKL9OYX",
        "colab_type": "code",
        "outputId": "3f3358c5-33c0-4713-bada-ce8e6aa3a2df",
        "colab": {
          "base_uri": "https://localhost:8080/",
          "height": 1805
        }
      },
      "cell_type": "code",
      "source": [
        "history = model.fit(train_images, \n",
        "                      train_labels, \n",
        "                      epochs=50,  \n",
        "                      validation_data=(val_images, val_labels))"
      ],
      "execution_count": 8,
      "outputs": [
        {
          "output_type": "stream",
          "text": [
            "WARNING:tensorflow:From /usr/local/lib/python3.6/dist-packages/tensorflow/python/ops/math_ops.py:3066: to_int32 (from tensorflow.python.ops.math_ops) is deprecated and will be removed in a future version.\n",
            "Instructions for updating:\n",
            "Use tf.cast instead.\n",
            "Train on 40000 samples, validate on 10000 samples\n",
            "Epoch 1/50\n",
            "40000/40000 [==============================] - 30s 740us/step - loss: 2.1342 - acc: 0.3268 - val_loss: 1.4363 - val_acc: 0.4886\n",
            "Epoch 2/50\n",
            "40000/40000 [==============================] - 28s 705us/step - loss: 1.5665 - acc: 0.4523 - val_loss: 1.2447 - val_acc: 0.5616\n",
            "Epoch 3/50\n",
            "40000/40000 [==============================] - 29s 722us/step - loss: 1.3950 - acc: 0.5092 - val_loss: 1.1886 - val_acc: 0.5926\n",
            "Epoch 4/50\n",
            "40000/40000 [==============================] - 28s 705us/step - loss: 1.2915 - acc: 0.5497 - val_loss: 1.1169 - val_acc: 0.6178\n",
            "Epoch 5/50\n",
            "40000/40000 [==============================] - 28s 699us/step - loss: 1.2065 - acc: 0.5786 - val_loss: 1.1280 - val_acc: 0.6217\n",
            "Epoch 6/50\n",
            "40000/40000 [==============================] - 28s 706us/step - loss: 1.1587 - acc: 0.5945 - val_loss: 0.9914 - val_acc: 0.6610\n",
            "Epoch 7/50\n",
            "40000/40000 [==============================] - 28s 702us/step - loss: 1.1035 - acc: 0.6120 - val_loss: 0.9728 - val_acc: 0.6719\n",
            "Epoch 8/50\n",
            "40000/40000 [==============================] - 29s 718us/step - loss: 1.0595 - acc: 0.6325 - val_loss: 0.9659 - val_acc: 0.6716\n",
            "Epoch 9/50\n",
            "40000/40000 [==============================] - 28s 697us/step - loss: 1.0202 - acc: 0.6454 - val_loss: 0.9079 - val_acc: 0.6912\n",
            "Epoch 10/50\n",
            "40000/40000 [==============================] - 29s 721us/step - loss: 0.9900 - acc: 0.6572 - val_loss: 0.9439 - val_acc: 0.6804\n",
            "Epoch 11/50\n",
            "40000/40000 [==============================] - 28s 707us/step - loss: 0.9564 - acc: 0.6685 - val_loss: 0.9736 - val_acc: 0.6756\n",
            "Epoch 12/50\n",
            "40000/40000 [==============================] - 28s 696us/step - loss: 0.9334 - acc: 0.6771 - val_loss: 0.8546 - val_acc: 0.7083\n",
            "Epoch 13/50\n",
            "40000/40000 [==============================] - 28s 707us/step - loss: 0.9054 - acc: 0.6887 - val_loss: 0.8486 - val_acc: 0.7195\n",
            "Epoch 14/50\n",
            "40000/40000 [==============================] - 28s 701us/step - loss: 0.8809 - acc: 0.6946 - val_loss: 0.8071 - val_acc: 0.7280\n",
            "Epoch 15/50\n",
            "40000/40000 [==============================] - 28s 705us/step - loss: 0.8633 - acc: 0.7021 - val_loss: 0.8120 - val_acc: 0.7251\n",
            "Epoch 16/50\n",
            "40000/40000 [==============================] - 28s 704us/step - loss: 0.8332 - acc: 0.7116 - val_loss: 0.8557 - val_acc: 0.7064\n",
            "Epoch 17/50\n",
            "40000/40000 [==============================] - 29s 717us/step - loss: 0.8187 - acc: 0.7149 - val_loss: 0.8409 - val_acc: 0.7230\n",
            "Epoch 18/50\n",
            "40000/40000 [==============================] - 28s 705us/step - loss: 0.7878 - acc: 0.7281 - val_loss: 0.7683 - val_acc: 0.7371\n",
            "Epoch 19/50\n",
            "40000/40000 [==============================] - 28s 706us/step - loss: 0.7803 - acc: 0.7292 - val_loss: 0.8043 - val_acc: 0.7357\n",
            "Epoch 20/50\n",
            "40000/40000 [==============================] - 28s 696us/step - loss: 0.7664 - acc: 0.7360 - val_loss: 0.7585 - val_acc: 0.7479\n",
            "Epoch 21/50\n",
            "40000/40000 [==============================] - 29s 737us/step - loss: 0.7513 - acc: 0.7406 - val_loss: 0.7026 - val_acc: 0.7592\n",
            "Epoch 22/50\n",
            "40000/40000 [==============================] - 28s 695us/step - loss: 0.7365 - acc: 0.7453 - val_loss: 0.7773 - val_acc: 0.7407\n",
            "Epoch 23/50\n",
            "40000/40000 [==============================] - 27s 682us/step - loss: 0.7222 - acc: 0.7476 - val_loss: 0.7187 - val_acc: 0.7603\n",
            "Epoch 24/50\n",
            "40000/40000 [==============================] - 29s 722us/step - loss: 0.7036 - acc: 0.7535 - val_loss: 0.7339 - val_acc: 0.7565\n",
            "Epoch 25/50\n",
            "40000/40000 [==============================] - 28s 693us/step - loss: 0.6948 - acc: 0.7603 - val_loss: 0.7541 - val_acc: 0.7535\n",
            "Epoch 26/50\n",
            "40000/40000 [==============================] - 30s 740us/step - loss: 0.6872 - acc: 0.7638 - val_loss: 0.8446 - val_acc: 0.7314\n",
            "Epoch 27/50\n",
            "40000/40000 [==============================] - 28s 707us/step - loss: 0.6698 - acc: 0.7678 - val_loss: 0.7847 - val_acc: 0.7339\n",
            "Epoch 28/50\n",
            "40000/40000 [==============================] - 28s 704us/step - loss: 0.6609 - acc: 0.7718 - val_loss: 0.6754 - val_acc: 0.7654\n",
            "Epoch 29/50\n",
            "40000/40000 [==============================] - 28s 705us/step - loss: 0.6498 - acc: 0.7779 - val_loss: 0.6574 - val_acc: 0.7769\n",
            "Epoch 30/50\n",
            "40000/40000 [==============================] - 29s 734us/step - loss: 0.6387 - acc: 0.7799 - val_loss: 0.6644 - val_acc: 0.7772\n",
            "Epoch 31/50\n",
            "40000/40000 [==============================] - 28s 707us/step - loss: 0.6281 - acc: 0.7811 - val_loss: 0.7112 - val_acc: 0.7625\n",
            "Epoch 32/50\n",
            "40000/40000 [==============================] - 30s 748us/step - loss: 0.6209 - acc: 0.7873 - val_loss: 0.7690 - val_acc: 0.7516\n",
            "Epoch 33/50\n",
            "40000/40000 [==============================] - 29s 716us/step - loss: 0.6172 - acc: 0.7897 - val_loss: 0.6905 - val_acc: 0.7724\n",
            "Epoch 34/50\n",
            "40000/40000 [==============================] - 28s 705us/step - loss: 0.6033 - acc: 0.7925 - val_loss: 0.6259 - val_acc: 0.7850\n",
            "Epoch 35/50\n",
            "40000/40000 [==============================] - 28s 705us/step - loss: 0.5916 - acc: 0.7975 - val_loss: 0.6374 - val_acc: 0.7821\n",
            "Epoch 36/50\n",
            "40000/40000 [==============================] - 28s 694us/step - loss: 0.5833 - acc: 0.7983 - val_loss: 0.7136 - val_acc: 0.7642\n",
            "Epoch 37/50\n",
            "40000/40000 [==============================] - 29s 713us/step - loss: 0.5737 - acc: 0.8011 - val_loss: 0.6976 - val_acc: 0.7663\n",
            "Epoch 38/50\n",
            "40000/40000 [==============================] - 28s 706us/step - loss: 0.5664 - acc: 0.8035 - val_loss: 0.6387 - val_acc: 0.7834\n",
            "Epoch 39/50\n",
            "40000/40000 [==============================] - 28s 706us/step - loss: 0.5674 - acc: 0.8063 - val_loss: 0.7084 - val_acc: 0.7687\n",
            "Epoch 40/50\n",
            "40000/40000 [==============================] - 29s 730us/step - loss: 0.5601 - acc: 0.8060 - val_loss: 0.7226 - val_acc: 0.7677\n",
            "Epoch 41/50\n",
            "40000/40000 [==============================] - 28s 707us/step - loss: 0.5492 - acc: 0.8098 - val_loss: 0.6118 - val_acc: 0.7949\n",
            "Epoch 42/50\n",
            "40000/40000 [==============================] - 28s 704us/step - loss: 0.5382 - acc: 0.8147 - val_loss: 0.7034 - val_acc: 0.7744\n",
            "Epoch 43/50\n",
            "40000/40000 [==============================] - 30s 742us/step - loss: 0.5311 - acc: 0.8186 - val_loss: 0.6087 - val_acc: 0.7971\n",
            "Epoch 44/50\n",
            "40000/40000 [==============================] - 28s 695us/step - loss: 0.5310 - acc: 0.8164 - val_loss: 0.6159 - val_acc: 0.7957\n",
            "Epoch 45/50\n",
            "40000/40000 [==============================] - 28s 701us/step - loss: 0.5223 - acc: 0.8204 - val_loss: 0.6360 - val_acc: 0.7912\n",
            "Epoch 46/50\n",
            "40000/40000 [==============================] - 28s 694us/step - loss: 0.5150 - acc: 0.8217 - val_loss: 0.6344 - val_acc: 0.7965\n",
            "Epoch 47/50\n",
            "40000/40000 [==============================] - 27s 683us/step - loss: 0.5063 - acc: 0.8267 - val_loss: 0.6104 - val_acc: 0.7990\n",
            "Epoch 48/50\n",
            "40000/40000 [==============================] - 28s 710us/step - loss: 0.4989 - acc: 0.8264 - val_loss: 0.6000 - val_acc: 0.7981\n",
            "Epoch 49/50\n",
            "40000/40000 [==============================] - 28s 693us/step - loss: 0.4973 - acc: 0.8279 - val_loss: 0.6660 - val_acc: 0.7738\n",
            "Epoch 50/50\n",
            "40000/40000 [==============================] - 28s 693us/step - loss: 0.4890 - acc: 0.8318 - val_loss: 0.6138 - val_acc: 0.7975\n"
          ],
          "name": "stdout"
        }
      ]
    },
    {
      "metadata": {
        "id": "4o-No71o9nPp",
        "colab_type": "code",
        "colab": {}
      },
      "cell_type": "code",
      "source": [
        "model.save('model_normalize.h5')\n",
        "\n",
        "with open('model_normalize.h5', 'r') as f:\n",
        "  files.download('model_normalize.h5')"
      ],
      "execution_count": 0,
      "outputs": []
    },
    {
      "metadata": {
        "id": "5xeejSzn98_o",
        "colab_type": "code",
        "outputId": "760dbd25-7e14-4f54-a2bc-0d3b1c67d215",
        "colab": {
          "base_uri": "https://localhost:8080/",
          "height": 707
        }
      },
      "cell_type": "code",
      "source": [
        "acc = history.history['acc']\n",
        "val_acc = history.history['val_acc']\n",
        "\n",
        "loss = history.history['loss']\n",
        "val_loss = history.history['val_loss']\n",
        "\n",
        "epochs = range(1, len(acc) + 1)\n",
        "\n",
        "# training and validation accuracy\n",
        "\n",
        "plt.plot(epochs, acc, 'bo', label='training acc')\n",
        "plt.plot(epochs, val_acc, 'b', label='validation acc')\n",
        "plt.title('training and validation accuracy')\n",
        "plt.legend()\n",
        "\n",
        "plt.figure()\n",
        "\n",
        "# training and validation loss\n",
        "\n",
        "plt.plot(epochs, loss, 'bo', label='training loss')\n",
        "plt.plot(epochs, val_loss, 'b', label='validation loss')\n",
        "plt.title('training and validation loss')\n",
        "plt.legend()\n",
        "\n",
        "plt.show()"
      ],
      "execution_count": 11,
      "outputs": [
        {
          "output_type": "display_data",
          "data": {
            "image/png": "[encoded data removed]",
            "text/plain": [
              "<Figure size 576x396 with 1 Axes>"
            ]
          },
          "metadata": {
            "tags": []
          }
        },
        {
          "output_type": "display_data",
          "data": {
            "image/png": "[encoded data removed]",
            "text/plain": [
              "<Figure size 576x396 with 1 Axes>"
            ]
          },
          "metadata": {
            "tags": []
          }
        }
      ]
    }
  ]
}