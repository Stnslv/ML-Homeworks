{
  "nbformat": 4,
  "nbformat_minor": 0,
  "metadata": {
    "colab": {
      "name": "model_dropout_aug.ipynb",
      "version": "0.3.2",
      "provenance": [],
      "collapsed_sections": []
    },
    "kernelspec": {
      "name": "python3",
      "display_name": "Python 3"
    },
    "accelerator": "GPU"
  },
  "cells": [
    {
      "metadata": {
        "id": "dq6lguBY1Xo3",
        "colab_type": "code",
        "outputId": "8af35e78-76e4-4853-d063-74ed9121ed25",
        "colab": {
          "base_uri": "https://localhost:8080/",
          "height": 34
        }
      },
      "cell_type": "code",
      "source": [
        "from keras.datasets import cifar10\n",
        "from keras import layers\n",
        "from keras import models\n",
        "from keras import optimizers\n",
        "from keras.preprocessing.image import ImageDataGenerator\n",
        "from keras.utils import to_categorical\n",
        "\n",
        "import matplotlib.pyplot as plt\n",
        "\n",
        "from google.colab import files\n",
        "\n",
        "import numpy as np\n",
        "\n",
        "(train_images_original, train_labels_original), (test_images_original, test_labels_original) = cifar10.load_data()"
      ],
      "execution_count": 1,
      "outputs": [
        {
          "output_type": "stream",
          "text": [
            "Using TensorFlow backend.\n"
          ],
          "name": "stderr"
        }
      ]
    },
    {
      "metadata": {
        "id": "fTI9VqK66uPy",
        "colab_type": "code",
        "colab": {}
      },
      "cell_type": "code",
      "source": [
        "data_images = train_images_original\n",
        "test_images = test_images_original\n",
        "\n",
        "data_labels = train_labels_original\n",
        "test_labels = test_labels_original"
      ],
      "execution_count": 0,
      "outputs": []
    },
    {
      "metadata": {
        "id": "eMMWqULx_JzO",
        "colab_type": "code",
        "colab": {}
      },
      "cell_type": "code",
      "source": [
        "data_size = len(data_images)\n",
        "train_size = int(data_size * 0.8)\n",
        "\n",
        "shuffled_i = np.random.permutation(data_size)\n",
        "data_images = data_images[shuffled_i]\n",
        "data_labels = data_labels[shuffled_i]\n",
        "\n",
        "train_images = data_images[:train_size]\n",
        "val_images = data_images[train_size:]\n",
        "\n",
        "train_labels = data_labels[:train_size]\n",
        "val_labels = data_labels[train_size:]"
      ],
      "execution_count": 0,
      "outputs": []
    },
    {
      "metadata": {
        "id": "qi7ha_LiCMPI",
        "colab_type": "code",
        "colab": {}
      },
      "cell_type": "code",
      "source": [
        "batches = 128\n",
        "train_steps = int(40000/batches)\n",
        "val_steps = int(10000/batches)\n",
        "\n",
        "train_datagen = ImageDataGenerator(\n",
        "    rescale=1./255,\n",
        "    rotation_range=40,\n",
        "    width_shift_range=0.2,\n",
        "    height_shift_range=0.2,\n",
        "    shear_range=0.2,\n",
        "    zoom_range=0.2,\n",
        "    horizontal_flip=True,\n",
        "    fill_mode='nearest')\n",
        "\n",
        "train_generator = train_datagen.flow(\n",
        "    train_images,\n",
        "    train_labels,\n",
        "    batch_size=batches,\n",
        ")\n",
        "\n",
        "validation_datagen = ImageDataGenerator(rescale=1./255)\n",
        "\n",
        "validation_generator = validation_datagen.flow(\n",
        "    val_images,\n",
        "    val_labels,\n",
        "    batch_size=batches,\n",
        ")"
      ],
      "execution_count": 0,
      "outputs": []
    },
    {
      "metadata": {
        "id": "beeWmYIX2fY7",
        "colab_type": "code",
        "outputId": "588f67fc-7d4c-4b1c-80f6-b905af0a9aed",
        "colab": {
          "base_uri": "https://localhost:8080/",
          "height": 700
        }
      },
      "cell_type": "code",
      "source": [
        "model = models.Sequential()\n",
        "\n",
        "model.add(layers.Conv2D(64, (3, 3), activation='relu', input_shape=(32, 32, 3)))\n",
        "model.add(layers.MaxPooling2D(2, 2))\n",
        "model.add(layers.Dropout(0.2))\n",
        "\n",
        "model.add(layers.Conv2D(128, (3, 3), activation='relu'))\n",
        "model.add(layers.MaxPooling2D(2, 2))\n",
        "model.add(layers.Dropout(0.2))\n",
        "\n",
        "model.add(layers.Conv2D(256, (3, 3), activation='relu'))\n",
        "model.add(layers.MaxPooling2D(2, 2))\n",
        "model.add(layers.Dropout(0.2))\n",
        "\n",
        "model.add(layers.Flatten())\n",
        "model.add(layers.Dropout(0.5))\n",
        "\n",
        "model.add(layers.Dense(512, activation='relu'))\n",
        "model.add(layers.Dense(10, activation='softmax'))\n",
        "\n",
        "model.summary()"
      ],
      "execution_count": 5,
      "outputs": [
        {
          "output_type": "stream",
          "text": [
            "WARNING:tensorflow:From /usr/local/lib/python3.6/dist-packages/tensorflow/python/framework/op_def_library.py:263: colocate_with (from tensorflow.python.framework.ops) is deprecated and will be removed in a future version.\n",
            "Instructions for updating:\n",
            "Colocations handled automatically by placer.\n",
            "WARNING:tensorflow:From /usr/local/lib/python3.6/dist-packages/keras/backend/tensorflow_backend.py:3445: calling dropout (from tensorflow.python.ops.nn_ops) with keep_prob is deprecated and will be removed in a future version.\n",
            "Instructions for updating:\n",
            "Please use `rate` instead of `keep_prob`. Rate should be set to `rate = 1 - keep_prob`.\n",
            "_________________________________________________________________\n",
            "Layer (type)                 Output Shape              Param #   \n",
            "=================================================================\n",
            "conv2d_1 (Conv2D)            (None, 30, 30, 64)        1792      \n",
            "_________________________________________________________________\n",
            "max_pooling2d_1 (MaxPooling2 (None, 15, 15, 64)        0         \n",
            "_________________________________________________________________\n",
            "dropout_1 (Dropout)          (None, 15, 15, 64)        0         \n",
            "_________________________________________________________________\n",
            "conv2d_2 (Conv2D)            (None, 13, 13, 128)       73856     \n",
            "_________________________________________________________________\n",
            "max_pooling2d_2 (MaxPooling2 (None, 6, 6, 128)         0         \n",
            "_________________________________________________________________\n",
            "dropout_2 (Dropout)          (None, 6, 6, 128)         0         \n",
            "_________________________________________________________________\n",
            "conv2d_3 (Conv2D)            (None, 4, 4, 256)         295168    \n",
            "_________________________________________________________________\n",
            "max_pooling2d_3 (MaxPooling2 (None, 2, 2, 256)         0         \n",
            "_________________________________________________________________\n",
            "dropout_3 (Dropout)          (None, 2, 2, 256)         0         \n",
            "_________________________________________________________________\n",
            "flatten_1 (Flatten)          (None, 1024)              0         \n",
            "_________________________________________________________________\n",
            "dropout_4 (Dropout)          (None, 1024)              0         \n",
            "_________________________________________________________________\n",
            "dense_1 (Dense)              (None, 512)               524800    \n",
            "_________________________________________________________________\n",
            "dense_2 (Dense)              (None, 10)                5130      \n",
            "=================================================================\n",
            "Total params: 900,746\n",
            "Trainable params: 900,746\n",
            "Non-trainable params: 0\n",
            "_________________________________________________________________\n"
          ],
          "name": "stdout"
        }
      ]
    },
    {
      "metadata": {
        "id": "YRu9_UOF4xwp",
        "colab_type": "code",
        "colab": {}
      },
      "cell_type": "code",
      "source": [
        "model.compile(\n",
        "    loss='sparse_categorical_crossentropy', \n",
        "    optimizer=optimizers.RMSprop(lr=1e-4),\n",
        "    metrics=['acc']\n",
        ")"
      ],
      "execution_count": 0,
      "outputs": []
    },
    {
      "metadata": {
        "id": "_4XEypKL9OYX",
        "colab_type": "code",
        "outputId": "f62d30b8-6ff3-49a2-bad6-4cc19696e019",
        "colab": {
          "base_uri": "https://localhost:8080/",
          "height": 1788
        }
      },
      "cell_type": "code",
      "source": [
        "history = model.fit_generator(\n",
        "    train_generator,\n",
        "    steps_per_epoch=train_steps,\n",
        "    epochs=50,\n",
        "    validation_data=validation_generator,\n",
        "    validation_steps=val_steps\n",
        ")"
      ],
      "execution_count": 7,
      "outputs": [
        {
          "output_type": "stream",
          "text": [
            "WARNING:tensorflow:From /usr/local/lib/python3.6/dist-packages/tensorflow/python/ops/math_ops.py:3066: to_int32 (from tensorflow.python.ops.math_ops) is deprecated and will be removed in a future version.\n",
            "Instructions for updating:\n",
            "Use tf.cast instead.\n",
            "Epoch 1/50\n",
            "312/312 [==============================] - 29s 94ms/step - loss: 2.1354 - acc: 0.1924 - val_loss: 1.9534 - val_acc: 0.2885\n",
            "Epoch 2/50\n",
            "312/312 [==============================] - 26s 85ms/step - loss: 1.9517 - acc: 0.2762 - val_loss: 1.8266 - val_acc: 0.3345\n",
            "Epoch 3/50\n",
            "312/312 [==============================] - 27s 85ms/step - loss: 1.8908 - acc: 0.2984 - val_loss: 1.7520 - val_acc: 0.3673\n",
            "Epoch 4/50\n",
            "312/312 [==============================] - 27s 86ms/step - loss: 1.8322 - acc: 0.3241 - val_loss: 1.7818 - val_acc: 0.3377\n",
            "Epoch 5/50\n",
            "312/312 [==============================] - 27s 86ms/step - loss: 1.7958 - acc: 0.3384 - val_loss: 1.6505 - val_acc: 0.3988\n",
            "Epoch 6/50\n",
            "312/312 [==============================] - 27s 87ms/step - loss: 1.7625 - acc: 0.3507 - val_loss: 1.6036 - val_acc: 0.4157\n",
            "Epoch 7/50\n",
            "312/312 [==============================] - 27s 86ms/step - loss: 1.7380 - acc: 0.3639 - val_loss: 1.6244 - val_acc: 0.4128\n",
            "Epoch 8/50\n",
            "312/312 [==============================] - 27s 87ms/step - loss: 1.7078 - acc: 0.3742 - val_loss: 1.5845 - val_acc: 0.4218\n",
            "Epoch 9/50\n",
            "312/312 [==============================] - 27s 86ms/step - loss: 1.6852 - acc: 0.3852 - val_loss: 1.5271 - val_acc: 0.4408\n",
            "Epoch 10/50\n",
            "312/312 [==============================] - 26s 85ms/step - loss: 1.6642 - acc: 0.3957 - val_loss: 1.4750 - val_acc: 0.4701\n",
            "Epoch 11/50\n",
            "312/312 [==============================] - 27s 87ms/step - loss: 1.6387 - acc: 0.4058 - val_loss: 1.5252 - val_acc: 0.4526\n",
            "Epoch 12/50\n",
            "312/312 [==============================] - 27s 85ms/step - loss: 1.6179 - acc: 0.4161 - val_loss: 1.4599 - val_acc: 0.4832\n",
            "Epoch 13/50\n",
            "312/312 [==============================] - 27s 87ms/step - loss: 1.6054 - acc: 0.4198 - val_loss: 1.3924 - val_acc: 0.5061\n",
            "Epoch 14/50\n",
            "312/312 [==============================] - 27s 86ms/step - loss: 1.5870 - acc: 0.4269 - val_loss: 1.3720 - val_acc: 0.5096\n",
            "Epoch 15/50\n",
            "312/312 [==============================] - 27s 86ms/step - loss: 1.5658 - acc: 0.4364 - val_loss: 1.4593 - val_acc: 0.4761\n",
            "Epoch 16/50\n",
            "312/312 [==============================] - 27s 88ms/step - loss: 1.5561 - acc: 0.4401 - val_loss: 1.3988 - val_acc: 0.4967\n",
            "Epoch 17/50\n",
            "312/312 [==============================] - 27s 86ms/step - loss: 1.5320 - acc: 0.4471 - val_loss: 1.3420 - val_acc: 0.5213\n",
            "Epoch 18/50\n",
            "312/312 [==============================] - 27s 87ms/step - loss: 1.5235 - acc: 0.4529 - val_loss: 1.2986 - val_acc: 0.5340\n",
            "Epoch 19/50\n",
            "312/312 [==============================] - 27s 86ms/step - loss: 1.5120 - acc: 0.4568 - val_loss: 1.3566 - val_acc: 0.5129\n",
            "Epoch 20/50\n",
            "312/312 [==============================] - 27s 87ms/step - loss: 1.4976 - acc: 0.4606 - val_loss: 1.3150 - val_acc: 0.5328\n",
            "Epoch 21/50\n",
            "312/312 [==============================] - 27s 86ms/step - loss: 1.4889 - acc: 0.4670 - val_loss: 1.2621 - val_acc: 0.5624\n",
            "Epoch 22/50\n",
            "312/312 [==============================] - 27s 86ms/step - loss: 1.4756 - acc: 0.4703 - val_loss: 1.3411 - val_acc: 0.5198\n",
            "Epoch 23/50\n",
            "312/312 [==============================] - 27s 87ms/step - loss: 1.4580 - acc: 0.4785 - val_loss: 1.2010 - val_acc: 0.5808\n",
            "Epoch 24/50\n",
            "312/312 [==============================] - 27s 86ms/step - loss: 1.4574 - acc: 0.4750 - val_loss: 1.2843 - val_acc: 0.5455\n",
            "Epoch 25/50\n",
            "312/312 [==============================] - 27s 87ms/step - loss: 1.4462 - acc: 0.4833 - val_loss: 1.2336 - val_acc: 0.5631\n",
            "Epoch 26/50\n",
            "312/312 [==============================] - 26s 84ms/step - loss: 1.4322 - acc: 0.4881 - val_loss: 1.2243 - val_acc: 0.5661\n",
            "Epoch 27/50\n",
            "312/312 [==============================] - 27s 86ms/step - loss: 1.4268 - acc: 0.4885 - val_loss: 1.1730 - val_acc: 0.5935\n",
            "Epoch 28/50\n",
            "312/312 [==============================] - 28s 88ms/step - loss: 1.4181 - acc: 0.4918 - val_loss: 1.1937 - val_acc: 0.5765\n",
            "Epoch 29/50\n",
            "312/312 [==============================] - 27s 86ms/step - loss: 1.4079 - acc: 0.4957 - val_loss: 1.2374 - val_acc: 0.5589\n",
            "Epoch 30/50\n",
            "312/312 [==============================] - 27s 87ms/step - loss: 1.3992 - acc: 0.4957 - val_loss: 1.2348 - val_acc: 0.5649\n",
            "Epoch 31/50\n",
            "312/312 [==============================] - 27s 86ms/step - loss: 1.3897 - acc: 0.5039 - val_loss: 1.1908 - val_acc: 0.5795\n",
            "Epoch 32/50\n",
            "312/312 [==============================] - 27s 88ms/step - loss: 1.3887 - acc: 0.5043 - val_loss: 1.1745 - val_acc: 0.5835\n",
            "Epoch 33/50\n",
            "312/312 [==============================] - 27s 86ms/step - loss: 1.3697 - acc: 0.5119 - val_loss: 1.1520 - val_acc: 0.5927\n",
            "Epoch 34/50\n",
            "312/312 [==============================] - 27s 86ms/step - loss: 1.3686 - acc: 0.5093 - val_loss: 1.1241 - val_acc: 0.6006\n",
            "Epoch 35/50\n",
            "312/312 [==============================] - 27s 87ms/step - loss: 1.3608 - acc: 0.5144 - val_loss: 1.1447 - val_acc: 0.5902\n",
            "Epoch 36/50\n",
            "312/312 [==============================] - 27s 87ms/step - loss: 1.3595 - acc: 0.5152 - val_loss: 1.1045 - val_acc: 0.6078\n",
            "Epoch 37/50\n",
            "312/312 [==============================] - 27s 86ms/step - loss: 1.3461 - acc: 0.5176 - val_loss: 1.1101 - val_acc: 0.6103\n",
            "Epoch 38/50\n",
            "312/312 [==============================] - 27s 85ms/step - loss: 1.3405 - acc: 0.5218 - val_loss: 1.1433 - val_acc: 0.5914\n",
            "Epoch 39/50\n",
            "312/312 [==============================] - 27s 87ms/step - loss: 1.3321 - acc: 0.5251 - val_loss: 1.1521 - val_acc: 0.5926\n",
            "Epoch 40/50\n",
            "312/312 [==============================] - 27s 87ms/step - loss: 1.3200 - acc: 0.5249 - val_loss: 1.1508 - val_acc: 0.5864\n",
            "Epoch 41/50\n",
            "312/312 [==============================] - 28s 89ms/step - loss: 1.3279 - acc: 0.5303 - val_loss: 1.0766 - val_acc: 0.6190\n",
            "Epoch 42/50\n",
            "312/312 [==============================] - 28s 90ms/step - loss: 1.3119 - acc: 0.5325 - val_loss: 1.1415 - val_acc: 0.5968\n",
            "Epoch 43/50\n",
            "312/312 [==============================] - 28s 89ms/step - loss: 1.3019 - acc: 0.5400 - val_loss: 1.1974 - val_acc: 0.5785\n",
            "Epoch 44/50\n",
            "312/312 [==============================] - 27s 88ms/step - loss: 1.3075 - acc: 0.5361 - val_loss: 1.0784 - val_acc: 0.6132\n",
            "Epoch 45/50\n",
            "312/312 [==============================] - 28s 89ms/step - loss: 1.2961 - acc: 0.5368 - val_loss: 1.0216 - val_acc: 0.6423\n",
            "Epoch 46/50\n",
            "312/312 [==============================] - 27s 88ms/step - loss: 1.2989 - acc: 0.5360 - val_loss: 1.0886 - val_acc: 0.6186\n",
            "Epoch 47/50\n",
            "312/312 [==============================] - 28s 90ms/step - loss: 1.2847 - acc: 0.5446 - val_loss: 1.1166 - val_acc: 0.6073\n",
            "Epoch 48/50\n",
            "312/312 [==============================] - 28s 89ms/step - loss: 1.2907 - acc: 0.5410 - val_loss: 1.0120 - val_acc: 0.6377\n",
            "Epoch 49/50\n",
            "312/312 [==============================] - 28s 90ms/step - loss: 1.2762 - acc: 0.5439 - val_loss: 1.0563 - val_acc: 0.6227\n",
            "Epoch 50/50\n",
            "312/312 [==============================] - 28s 89ms/step - loss: 1.2713 - acc: 0.5488 - val_loss: 1.0483 - val_acc: 0.6321\n"
          ],
          "name": "stdout"
        }
      ]
    },
    {
      "metadata": {
        "id": "4o-No71o9nPp",
        "colab_type": "code",
        "colab": {}
      },
      "cell_type": "code",
      "source": [
        "model.save('model_dropout_aug.h5')\n",
        "\n",
        "with open('model_dropout_aug.h5', 'r') as f:\n",
        "  files.download('model_dropout_aug.h5')"
      ],
      "execution_count": 0,
      "outputs": []
    },
    {
      "metadata": {
        "id": "5xeejSzn98_o",
        "colab_type": "code",
        "colab": {
          "base_uri": "https://localhost:8080/",
          "height": 707
        },
        "outputId": "b869e189-41c6-4305-f2f5-e2997807756d"
      },
      "cell_type": "code",
      "source": [
        "acc = history.history['acc']\n",
        "val_acc = history.history['val_acc']\n",
        "\n",
        "loss = history.history['loss']\n",
        "val_loss = history.history['val_loss']\n",
        "\n",
        "epochs = range(1, len(acc) + 1)\n",
        "\n",
        "# training and validation accuracy\n",
        "\n",
        "plt.plot(epochs, acc, 'bo', label='training acc')\n",
        "plt.plot(epochs, val_acc, 'b', label='validation acc')\n",
        "plt.title('training and validation accuracy')\n",
        "plt.legend()\n",
        "\n",
        "plt.figure()\n",
        "\n",
        "# training and validation loss\n",
        "\n",
        "plt.plot(epochs, loss, 'bo', label='training loss')\n",
        "plt.plot(epochs, val_loss, 'b', label='validation loss')\n",
        "plt.title('training and validation loss')\n",
        "plt.legend()\n",
        "\n",
        "plt.show()"
      ],
      "execution_count": 9,
      "outputs": [
        {
          "output_type": "display_data",
          "data": {
            "image/png": "[encoded data removed]",
            "text/plain": [
              "<Figure size 576x396 with 1 Axes>"
            ]
          },
          "metadata": {
            "tags": []
          }
        },
        {
          "output_type": "display_data",
          "data": {
            "image/png": "[encoded data removed]",
            "text/plain": [
              "<Figure size 576x396 with 1 Axes>"
            ]
          },
          "metadata": {
            "tags": []
          }
        }
      ]
    }
  ]
}