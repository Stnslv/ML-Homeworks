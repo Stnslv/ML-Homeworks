{
  "nbformat": 4,
  "nbformat_minor": 0,
  "metadata": {
    "colab": {
      "name": "model_k_fold.ipynb",
      "version": "0.3.2",
      "provenance": [],
      "collapsed_sections": [
        "GHCv9UrvIRVE",
        "ksx8aBgSIa1x",
        "GY1cs172LpdD",
        "ZakL0MlyLzxt",
        "qk9YdnLFMByL",
        "H_9MIn4SMK9M",
        "C2DbHzrYNwOA",
        "IlnGlWF8OX15",
        "5In6eh8iPAhU",
        "v2MV0zKyQlQO",
        "D8EkfIxhR0ck"
      ]
    },
    "kernelspec": {
      "name": "python3",
      "display_name": "Python 3"
    },
    "accelerator": "GPU"
  },
  "cells": [
    {
      "metadata": {
        "id": "bcr3mxgMHfJj",
        "colab_type": "text"
      },
      "cell_type": "markdown",
      "source": [
        "# Comparison of created models and applying k-fold validation to the winner\n",
        "This notebook takes all the models created in other notebooks and runs them on the same train and validation sets in order to determine the most accurate one.  After the winner is determined, it is trained again on the entire original training dataset and applied with the test set.  In addition, k-fold validation is applied the winner in order to compare the results with simple hold-out."
      ]
    },
    {
      "metadata": {
        "id": "GHCv9UrvIRVE",
        "colab_type": "text"
      },
      "cell_type": "markdown",
      "source": [
        "## Get the saved models from my Github repo"
      ]
    },
    {
      "metadata": {
        "id": "ohhTdbEsuKR0",
        "colab_type": "code",
        "outputId": "5a271c9a-2af8-4257-8017-64b4ba90d712",
        "colab": {
          "base_uri": "https://localhost:8080/",
          "height": 1057
        }
      },
      "cell_type": "code",
      "source": [
        "!wget  https://github.com/Stnslv/ML-Homeworks/blob/master/HW2/models/model_simple.h5?raw=true \\\n",
        "  -O model_simple.h5\n",
        "  \n",
        "!wget  https://github.com/Stnslv/ML-Homeworks/blob/master/HW2/models/model_dropout.h5?raw=true \\\n",
        "  -O model_dropout.h5\n",
        "\n",
        "!wget  https://github.com/Stnslv/ML-Homeworks/blob/master/HW2/models/model_normalize.h5?raw=true \\\n",
        "  -O model_normalize.h5"
      ],
      "execution_count": 0,
      "outputs": [
        {
          "output_type": "stream",
          "text": [
            "--2019-04-05 01:57:04--  https://github.com/Stnslv/ML-Homeworks/blob/master/HW2/models/model_simple.h5?raw=true\n",
            "Resolving github.com (github.com)... 192.30.253.113, 192.30.253.112\n",
            "Connecting to github.com (github.com)|192.30.253.113|:443... connected.\n",
            "HTTP request sent, awaiting response... 302 Found\n",
            "Location: https://github.com/Stnslv/ML-Homeworks/raw/master/HW2/models/model_simple.h5 [following]\n",
            "--2019-04-05 01:57:05--  https://github.com/Stnslv/ML-Homeworks/raw/master/HW2/models/model_simple.h5\n",
            "Reusing existing connection to github.com:443.\n",
            "HTTP request sent, awaiting response... 302 Found\n",
            "Location: https://raw.githubusercontent.com/Stnslv/ML-Homeworks/master/HW2/models/model_simple.h5 [following]\n",
            "--2019-04-05 01:57:05--  https://raw.githubusercontent.com/Stnslv/ML-Homeworks/master/HW2/models/model_simple.h5\n",
            "Resolving raw.githubusercontent.com (raw.githubusercontent.com)... 151.101.0.133, 151.101.64.133, 151.101.128.133, ...\n",
            "Connecting to raw.githubusercontent.com (raw.githubusercontent.com)|151.101.0.133|:443... connected.\n",
            "HTTP request sent, awaiting response... 200 OK\n",
            "Length: 3628488 (3.5M) [application/octet-stream]\n",
            "Saving to: ‘model_simple.h5’\n",
            "\n",
            "model_simple.h5     100%[===================>]   3.46M  --.-KB/s    in 0.1s    \n",
            "\n",
            "2019-04-05 01:57:05 (34.9 MB/s) - ‘model_simple.h5’ saved [3628488/3628488]\n",
            "\n",
            "--2019-04-05 01:57:06--  https://github.com/Stnslv/ML-Homeworks/blob/master/HW2/models/model_dropout.h5?raw=true\n",
            "Resolving github.com (github.com)... 192.30.253.113, 192.30.253.112\n",
            "Connecting to github.com (github.com)|192.30.253.113|:443... connected.\n",
            "HTTP request sent, awaiting response... 302 Found\n",
            "Location: https://github.com/Stnslv/ML-Homeworks/raw/master/HW2/models/model_dropout.h5 [following]\n",
            "--2019-04-05 01:57:06--  https://github.com/Stnslv/ML-Homeworks/raw/master/HW2/models/model_dropout.h5\n",
            "Reusing existing connection to github.com:443.\n",
            "HTTP request sent, awaiting response... 302 Found\n",
            "Location: https://raw.githubusercontent.com/Stnslv/ML-Homeworks/master/HW2/models/model_dropout.h5 [following]\n",
            "--2019-04-05 01:57:06--  https://raw.githubusercontent.com/Stnslv/ML-Homeworks/master/HW2/models/model_dropout.h5\n",
            "Resolving raw.githubusercontent.com (raw.githubusercontent.com)... 151.101.0.133, 151.101.64.133, 151.101.128.133, ...\n",
            "Connecting to raw.githubusercontent.com (raw.githubusercontent.com)|151.101.0.133|:443... connected.\n",
            "HTTP request sent, awaiting response... 200 OK\n",
            "Length: 3636488 (3.5M) [application/octet-stream]\n",
            "Saving to: ‘model_dropout.h5’\n",
            "\n",
            "model_dropout.h5    100%[===================>]   3.47M  --.-KB/s    in 0.1s    \n",
            "\n",
            "2019-04-05 01:57:07 (35.4 MB/s) - ‘model_dropout.h5’ saved [3636488/3636488]\n",
            "\n",
            "--2019-04-05 01:57:07--  https://github.com/Stnslv/ML-Homeworks/blob/master/HW2/models/model_normalize.h5?raw=true\n",
            "Resolving github.com (github.com)... 192.30.253.113, 192.30.253.112\n",
            "Connecting to github.com (github.com)|192.30.253.113|:443... connected.\n",
            "HTTP request sent, awaiting response... 302 Found\n",
            "Location: https://github.com/Stnslv/ML-Homeworks/raw/master/HW2/models/model_normalize.h5 [following]\n",
            "--2019-04-05 01:57:07--  https://github.com/Stnslv/ML-Homeworks/raw/master/HW2/models/model_normalize.h5\n",
            "Reusing existing connection to github.com:443.\n",
            "HTTP request sent, awaiting response... 302 Found\n",
            "Location: https://raw.githubusercontent.com/Stnslv/ML-Homeworks/master/HW2/models/model_normalize.h5 [following]\n",
            "--2019-04-05 01:57:08--  https://raw.githubusercontent.com/Stnslv/ML-Homeworks/master/HW2/models/model_normalize.h5\n",
            "Resolving raw.githubusercontent.com (raw.githubusercontent.com)... 151.101.0.133, 151.101.64.133, 151.101.128.133, ...\n",
            "Connecting to raw.githubusercontent.com (raw.githubusercontent.com)|151.101.0.133|:443... connected.\n",
            "HTTP request sent, awaiting response... 200 OK\n",
            "Length: 3654392 (3.5M) [application/octet-stream]\n",
            "Saving to: ‘model_normalize.h5’\n",
            "\n",
            "model_normalize.h5  100%[===================>]   3.48M  --.-KB/s    in 0.1s    \n",
            "\n",
            "2019-04-05 01:57:08 (34.6 MB/s) - ‘model_normalize.h5’ saved [3654392/3654392]\n",
            "\n"
          ],
          "name": "stdout"
        }
      ]
    },
    {
      "metadata": {
        "id": "ksx8aBgSIa1x",
        "colab_type": "text"
      },
      "cell_type": "markdown",
      "source": [
        "## Import statements and loading of the Cifar10 Dataset"
      ]
    },
    {
      "metadata": {
        "id": "dq6lguBY1Xo3",
        "colab_type": "code",
        "outputId": "4b35eaed-93ae-401d-e04a-c9e4d3671f6e",
        "colab": {
          "base_uri": "https://localhost:8080/",
          "height": 68
        }
      },
      "cell_type": "code",
      "source": [
        "from keras.datasets import cifar10\n",
        "from keras import layers\n",
        "from keras import models\n",
        "from keras import optimizers\n",
        "from keras.models import load_model\n",
        "from keras.preprocessing.image import ImageDataGenerator\n",
        "\n",
        "import matplotlib.pyplot as plt\n",
        "\n",
        "from google.colab import files\n",
        "\n",
        "import numpy as np\n",
        "\n",
        "(train_images_original, train_labels_original), (test_images_original, test_labels_original) = cifar10.load_data()"
      ],
      "execution_count": 0,
      "outputs": [
        {
          "output_type": "stream",
          "text": [
            "Using TensorFlow backend.\n"
          ],
          "name": "stderr"
        },
        {
          "output_type": "stream",
          "text": [
            "Downloading data from https://www.cs.toronto.edu/~kriz/cifar-10-python.tar.gz\n",
            "170500096/170498071 [==============================] - 20s 0us/step\n"
          ],
          "name": "stdout"
        }
      ]
    },
    {
      "metadata": {
        "id": "ANMcC1BiIuQ-",
        "colab_type": "text"
      },
      "cell_type": "markdown",
      "source": [
        "## Initial data processing"
      ]
    },
    {
      "metadata": {
        "id": "fTI9VqK66uPy",
        "colab_type": "code",
        "colab": {}
      },
      "cell_type": "code",
      "source": [
        "# Data images/labels will be broken into the training and validation sets.\n",
        "data_images = train_images_original / 255.0\n",
        "test_images = test_images_original / 255.0\n",
        "\n",
        "data_labels = train_labels_original\n",
        "test_labels = test_labels_original"
      ],
      "execution_count": 0,
      "outputs": []
    },
    {
      "metadata": {
        "id": "SAHFrj2ixRWE",
        "colab_type": "code",
        "colab": {}
      },
      "cell_type": "code",
      "source": [
        "# We get the size of the entire data set and\n",
        "# find how large the validation size needs to be.\n",
        "data_size = len(data_images)\n",
        "val_size = int(data_size * 0.2)\n",
        "\n",
        "# Shuffle the data set and its labels.\n",
        "shuffled_i = np.random.permutation(data_size)\n",
        "data_images = data_images[shuffled_i]\n",
        "data_labels = data_labels[shuffled_i]\n",
        "\n",
        "# Get the first val_size of the data as validation,\n",
        "# and use the rest for training.\n",
        "val_images = data_images[:val_size]\n",
        "train_images = data_images[val_size:]\n",
        "\n",
        "val_labels = data_labels[:val_size]\n",
        "train_labels = data_labels[val_size:]"
      ],
      "execution_count": 0,
      "outputs": []
    },
    {
      "metadata": {
        "id": "G8zTM42QJtYv",
        "colab_type": "text"
      },
      "cell_type": "markdown",
      "source": [
        "## Process data for data augmentation model"
      ]
    },
    {
      "metadata": {
        "id": "vr5kclEXzOiY",
        "colab_type": "code",
        "colab": {}
      },
      "cell_type": "code",
      "source": [
        "# Declare the batch size of the data generators, \n",
        "# as well the training and validation steps\n",
        "# for when the model is fitted.\n",
        "batches = 128 \n",
        "train_steps = int(40000/batches)\n",
        "val_steps = int(10000/batches)\n",
        "\n",
        "# This data augmenter for the training set\n",
        "# rotates, horizontally/vertically shifts,\n",
        "# shears, and flips the image.\n",
        "train_datagen = ImageDataGenerator(\n",
        "    rescale=1.,\n",
        "    rotation_range=40,\n",
        "    width_shift_range=0.2,\n",
        "    height_shift_range=0.2,\n",
        "    shear_range=0.2,\n",
        "    horizontal_flip=True,\n",
        "    fill_mode='nearest')\n",
        "\n",
        "# Pass in the train data to create generator.\n",
        "train_generator = train_datagen.flow(\n",
        "    train_images,\n",
        "    train_labels,\n",
        "    batch_size=batches,\n",
        ")\n",
        "\n",
        "# The validation data stays the same.\n",
        "validation_datagen = ImageDataGenerator(rescale=1.)\n",
        "\n",
        "validation_generator = validation_datagen.flow(\n",
        "    val_images,\n",
        "    val_labels,\n",
        "    batch_size=batches,\n",
        ")\n"
      ],
      "execution_count": 0,
      "outputs": []
    },
    {
      "metadata": {
        "id": "xU9MzEwLLBgz",
        "colab_type": "text"
      },
      "cell_type": "markdown",
      "source": [
        "## Load the models and save their initial weights\n",
        "The reason for saving the weights is that the the winning model needs to be reinitialized to be trained again on the entire original train set, and also reinitialized on every fold in k-fold validation, so loading the models with their original untrained weights is the quickest way to reinitialize them.  The weights for every model are saved because at this stage I do not know which model is the best."
      ]
    },
    {
      "metadata": {
        "id": "LIPlsb-LbQL7",
        "colab_type": "code",
        "outputId": "d24911eb-b8e6-41a8-eb69-74d50824abd0",
        "colab": {
          "base_uri": "https://localhost:8080/",
          "height": 139
        }
      },
      "cell_type": "code",
      "source": [
        "model_simple = load_model('model_simple.h5')\n",
        "model_simple.save_weights('weights_simple.h5')\n",
        "\n",
        "model_dropout = load_model('model_dropout.h5')\n",
        "model_dropout.save_weights('weights_dropout.h5')\n",
        "\n",
        "model_drop_aug = load_model('model_dropout.h5')\n",
        "model_drop_aug.save_weights('weights_drop_aug.h5')\n",
        "\n",
        "model_norm = load_model('model_normalize.h5')\n",
        "model_norm.save_weights('weights_norm.h5')"
      ],
      "execution_count": 0,
      "outputs": [
        {
          "output_type": "stream",
          "text": [
            "WARNING:tensorflow:From /usr/local/lib/python3.6/dist-packages/tensorflow/python/framework/op_def_library.py:263: colocate_with (from tensorflow.python.framework.ops) is deprecated and will be removed in a future version.\n",
            "Instructions for updating:\n",
            "Colocations handled automatically by placer.\n",
            "WARNING:tensorflow:From /usr/local/lib/python3.6/dist-packages/keras/backend/tensorflow_backend.py:3445: calling dropout (from tensorflow.python.ops.nn_ops) with keep_prob is deprecated and will be removed in a future version.\n",
            "Instructions for updating:\n",
            "Please use `rate` instead of `keep_prob`. Rate should be set to `rate = 1 - keep_prob`.\n"
          ],
          "name": "stdout"
        }
      ]
    },
    {
      "metadata": {
        "id": "GY1cs172LpdD",
        "colab_type": "text"
      },
      "cell_type": "markdown",
      "source": [
        "## Fit the simple model on the training and validation sets"
      ]
    },
    {
      "metadata": {
        "id": "_4XEypKL9OYX",
        "colab_type": "code",
        "outputId": "b1e8ee98-f601-407f-e2fb-d49734430777",
        "colab": {
          "base_uri": "https://localhost:8080/",
          "height": 1805
        }
      },
      "cell_type": "code",
      "source": [
        "history_simple = model_simple.fit(train_images, \n",
        "                                  train_labels, \n",
        "                                  epochs=50,  \n",
        "                                  validation_data=(val_images, val_labels))"
      ],
      "execution_count": 0,
      "outputs": [
        {
          "output_type": "stream",
          "text": [
            "WARNING:tensorflow:From /usr/local/lib/python3.6/dist-packages/tensorflow/python/ops/math_ops.py:3066: to_int32 (from tensorflow.python.ops.math_ops) is deprecated and will be removed in a future version.\n",
            "Instructions for updating:\n",
            "Use tf.cast instead.\n",
            "Train on 40000 samples, validate on 10000 samples\n",
            "Epoch 1/50\n",
            "40000/40000 [==============================] - 22s 562us/step - loss: 1.7683 - acc: 0.3556 - val_loss: 1.5413 - val_acc: 0.4400\n",
            "Epoch 2/50\n",
            "40000/40000 [==============================] - 19s 486us/step - loss: 1.4448 - acc: 0.4824 - val_loss: 1.4587 - val_acc: 0.4883\n",
            "Epoch 3/50\n",
            "40000/40000 [==============================] - 19s 486us/step - loss: 1.2923 - acc: 0.5439 - val_loss: 1.2948 - val_acc: 0.5408\n",
            "Epoch 4/50\n",
            "40000/40000 [==============================] - 19s 487us/step - loss: 1.1807 - acc: 0.5864 - val_loss: 1.1989 - val_acc: 0.5719\n",
            "Epoch 5/50\n",
            "40000/40000 [==============================] - 19s 482us/step - loss: 1.0936 - acc: 0.6187 - val_loss: 1.0996 - val_acc: 0.6139\n",
            "Epoch 6/50\n",
            "40000/40000 [==============================] - 19s 482us/step - loss: 1.0220 - acc: 0.6466 - val_loss: 1.0275 - val_acc: 0.6418\n",
            "Epoch 7/50\n",
            "40000/40000 [==============================] - 19s 484us/step - loss: 0.9571 - acc: 0.6695 - val_loss: 0.9758 - val_acc: 0.6603\n",
            "Epoch 8/50\n",
            "40000/40000 [==============================] - 19s 480us/step - loss: 0.9036 - acc: 0.6870 - val_loss: 1.0343 - val_acc: 0.6386\n",
            "Epoch 9/50\n",
            "40000/40000 [==============================] - 19s 478us/step - loss: 0.8521 - acc: 0.7079 - val_loss: 0.9318 - val_acc: 0.6807\n",
            "Epoch 10/50\n",
            "40000/40000 [==============================] - 19s 477us/step - loss: 0.8060 - acc: 0.7245 - val_loss: 0.8973 - val_acc: 0.6929\n",
            "Epoch 11/50\n",
            "40000/40000 [==============================] - 19s 483us/step - loss: 0.7626 - acc: 0.7395 - val_loss: 0.9190 - val_acc: 0.6851\n",
            "Epoch 12/50\n",
            "40000/40000 [==============================] - 20s 495us/step - loss: 0.7196 - acc: 0.7530 - val_loss: 0.9133 - val_acc: 0.6911\n",
            "Epoch 13/50\n",
            "40000/40000 [==============================] - 19s 485us/step - loss: 0.6823 - acc: 0.7675 - val_loss: 0.8785 - val_acc: 0.7023\n",
            "Epoch 14/50\n",
            "40000/40000 [==============================] - 19s 481us/step - loss: 0.6440 - acc: 0.7831 - val_loss: 0.8488 - val_acc: 0.7124\n",
            "Epoch 15/50\n",
            "40000/40000 [==============================] - 19s 473us/step - loss: 0.6057 - acc: 0.7926 - val_loss: 0.8623 - val_acc: 0.7101\n",
            "Epoch 16/50\n",
            "40000/40000 [==============================] - 19s 470us/step - loss: 0.5712 - acc: 0.8066 - val_loss: 0.8714 - val_acc: 0.7070\n",
            "Epoch 17/50\n",
            "40000/40000 [==============================] - 19s 469us/step - loss: 0.5355 - acc: 0.8194 - val_loss: 0.8493 - val_acc: 0.7158\n",
            "Epoch 18/50\n",
            "40000/40000 [==============================] - 19s 468us/step - loss: 0.5023 - acc: 0.8312 - val_loss: 0.8815 - val_acc: 0.7125\n",
            "Epoch 19/50\n",
            "40000/40000 [==============================] - 19s 477us/step - loss: 0.4689 - acc: 0.8399 - val_loss: 0.9429 - val_acc: 0.7013\n",
            "Epoch 20/50\n",
            "40000/40000 [==============================] - 19s 474us/step - loss: 0.4378 - acc: 0.8521 - val_loss: 0.8732 - val_acc: 0.7147\n",
            "Epoch 21/50\n",
            "40000/40000 [==============================] - 18s 458us/step - loss: 0.4070 - acc: 0.8623 - val_loss: 0.9040 - val_acc: 0.7224\n",
            "Epoch 22/50\n",
            "40000/40000 [==============================] - 18s 461us/step - loss: 0.3766 - acc: 0.8746 - val_loss: 0.9550 - val_acc: 0.7111\n",
            "Epoch 23/50\n",
            "40000/40000 [==============================] - 19s 467us/step - loss: 0.3457 - acc: 0.8853 - val_loss: 0.9602 - val_acc: 0.7145\n",
            "Epoch 24/50\n",
            "40000/40000 [==============================] - 19s 467us/step - loss: 0.3168 - acc: 0.8955 - val_loss: 0.9424 - val_acc: 0.7227\n",
            "Epoch 25/50\n",
            "40000/40000 [==============================] - 18s 462us/step - loss: 0.2895 - acc: 0.9064 - val_loss: 0.9485 - val_acc: 0.7282\n",
            "Epoch 26/50\n",
            "40000/40000 [==============================] - 19s 466us/step - loss: 0.2612 - acc: 0.9156 - val_loss: 0.9758 - val_acc: 0.7230\n",
            "Epoch 27/50\n",
            "40000/40000 [==============================] - 18s 461us/step - loss: 0.2368 - acc: 0.9233 - val_loss: 1.0191 - val_acc: 0.7195\n",
            "Epoch 28/50\n",
            "40000/40000 [==============================] - 18s 461us/step - loss: 0.2119 - acc: 0.9316 - val_loss: 1.0345 - val_acc: 0.7262\n",
            "Epoch 29/50\n",
            "40000/40000 [==============================] - 18s 462us/step - loss: 0.1893 - acc: 0.9392 - val_loss: 1.0584 - val_acc: 0.7276\n",
            "Epoch 30/50\n",
            "40000/40000 [==============================] - 19s 465us/step - loss: 0.1683 - acc: 0.9467 - val_loss: 1.1538 - val_acc: 0.7162\n",
            "Epoch 31/50\n",
            "40000/40000 [==============================] - 19s 476us/step - loss: 0.1488 - acc: 0.9539 - val_loss: 1.2158 - val_acc: 0.7144\n",
            "Epoch 32/50\n",
            "40000/40000 [==============================] - 18s 459us/step - loss: 0.1311 - acc: 0.9588 - val_loss: 1.2193 - val_acc: 0.7173\n",
            "Epoch 33/50\n",
            "40000/40000 [==============================] - 19s 470us/step - loss: 0.1136 - acc: 0.9654 - val_loss: 1.2806 - val_acc: 0.7145\n",
            "Epoch 34/50\n",
            "40000/40000 [==============================] - 19s 464us/step - loss: 0.0993 - acc: 0.9707 - val_loss: 1.2941 - val_acc: 0.7179\n",
            "Epoch 35/50\n",
            "40000/40000 [==============================] - 18s 462us/step - loss: 0.0892 - acc: 0.9742 - val_loss: 1.3317 - val_acc: 0.7175\n",
            "Epoch 36/50\n",
            "40000/40000 [==============================] - 18s 461us/step - loss: 0.0773 - acc: 0.9778 - val_loss: 1.4491 - val_acc: 0.7089\n",
            "Epoch 37/50\n",
            "40000/40000 [==============================] - 19s 467us/step - loss: 0.0679 - acc: 0.9799 - val_loss: 1.5556 - val_acc: 0.7024\n",
            "Epoch 38/50\n",
            "40000/40000 [==============================] - 19s 464us/step - loss: 0.0579 - acc: 0.9839 - val_loss: 1.4808 - val_acc: 0.7226\n",
            "Epoch 39/50\n",
            "40000/40000 [==============================] - 19s 464us/step - loss: 0.0526 - acc: 0.9853 - val_loss: 1.5029 - val_acc: 0.7208\n",
            "Epoch 40/50\n",
            "40000/40000 [==============================] - 19s 465us/step - loss: 0.0471 - acc: 0.9870 - val_loss: 1.9220 - val_acc: 0.6846\n",
            "Epoch 41/50\n",
            "40000/40000 [==============================] - 18s 462us/step - loss: 0.0410 - acc: 0.9885 - val_loss: 1.5953 - val_acc: 0.7217\n",
            "Epoch 42/50\n",
            "40000/40000 [==============================] - 19s 464us/step - loss: 0.0357 - acc: 0.9903 - val_loss: 1.6921 - val_acc: 0.7169\n",
            "Epoch 43/50\n",
            "40000/40000 [==============================] - 19s 468us/step - loss: 0.0337 - acc: 0.9905 - val_loss: 1.7449 - val_acc: 0.7160\n",
            "Epoch 44/50\n",
            "40000/40000 [==============================] - 19s 463us/step - loss: 0.0294 - acc: 0.9919 - val_loss: 1.7534 - val_acc: 0.7159\n",
            "Epoch 45/50\n",
            "40000/40000 [==============================] - 18s 458us/step - loss: 0.0284 - acc: 0.9918 - val_loss: 1.7882 - val_acc: 0.7233\n",
            "Epoch 46/50\n",
            "40000/40000 [==============================] - 18s 459us/step - loss: 0.0263 - acc: 0.9930 - val_loss: 1.9461 - val_acc: 0.7112\n",
            "Epoch 47/50\n",
            "40000/40000 [==============================] - 18s 459us/step - loss: 0.0249 - acc: 0.9931 - val_loss: 1.8291 - val_acc: 0.7212\n",
            "Epoch 48/50\n",
            "40000/40000 [==============================] - 18s 458us/step - loss: 0.0227 - acc: 0.9938 - val_loss: 1.8645 - val_acc: 0.7194\n",
            "Epoch 49/50\n",
            "40000/40000 [==============================] - 19s 463us/step - loss: 0.0208 - acc: 0.9941 - val_loss: 1.9781 - val_acc: 0.7113\n",
            "Epoch 50/50\n",
            "40000/40000 [==============================] - 18s 460us/step - loss: 0.0200 - acc: 0.9940 - val_loss: 2.0305 - val_acc: 0.7093\n"
          ],
          "name": "stdout"
        }
      ]
    },
    {
      "metadata": {
        "id": "ZakL0MlyLzxt",
        "colab_type": "text"
      },
      "cell_type": "markdown",
      "source": [
        "## Fit the dropout model with the training and validation sets"
      ]
    },
    {
      "metadata": {
        "id": "yrEuFXmhylXM",
        "colab_type": "code",
        "outputId": "6faf92bf-4d26-469c-dbb0-c26eab14183a",
        "colab": {
          "base_uri": "https://localhost:8080/",
          "height": 1754
        }
      },
      "cell_type": "code",
      "source": [
        "history_drop = model_dropout.fit(train_images, \n",
        "                              train_labels, \n",
        "                              epochs=50,  \n",
        "                              validation_data=(val_images, val_labels))"
      ],
      "execution_count": 0,
      "outputs": [
        {
          "output_type": "stream",
          "text": [
            "Train on 40000 samples, validate on 10000 samples\n",
            "Epoch 1/50\n",
            "40000/40000 [==============================] - 24s 612us/step - loss: 1.8116 - acc: 0.3305 - val_loss: 1.5427 - val_acc: 0.4444\n",
            "Epoch 2/50\n",
            "40000/40000 [==============================] - 24s 593us/step - loss: 1.4663 - acc: 0.4667 - val_loss: 1.2925 - val_acc: 0.5393\n",
            "Epoch 3/50\n",
            "40000/40000 [==============================] - 23s 586us/step - loss: 1.3145 - acc: 0.5272 - val_loss: 1.1986 - val_acc: 0.5747\n",
            "Epoch 4/50\n",
            "40000/40000 [==============================] - 24s 589us/step - loss: 1.2165 - acc: 0.5687 - val_loss: 1.1509 - val_acc: 0.5924\n",
            "Epoch 5/50\n",
            "40000/40000 [==============================] - 24s 588us/step - loss: 1.1374 - acc: 0.5985 - val_loss: 1.0406 - val_acc: 0.6392\n",
            "Epoch 6/50\n",
            "40000/40000 [==============================] - 24s 590us/step - loss: 1.0737 - acc: 0.6215 - val_loss: 0.9798 - val_acc: 0.6642\n",
            "Epoch 7/50\n",
            "40000/40000 [==============================] - 23s 587us/step - loss: 1.0282 - acc: 0.6369 - val_loss: 0.9452 - val_acc: 0.6693\n",
            "Epoch 8/50\n",
            "40000/40000 [==============================] - 23s 583us/step - loss: 0.9843 - acc: 0.6539 - val_loss: 0.8869 - val_acc: 0.6899\n",
            "Epoch 9/50\n",
            "40000/40000 [==============================] - 23s 583us/step - loss: 0.9462 - acc: 0.6661 - val_loss: 0.8881 - val_acc: 0.6885\n",
            "Epoch 10/50\n",
            "40000/40000 [==============================] - 23s 575us/step - loss: 0.9125 - acc: 0.6823 - val_loss: 0.8236 - val_acc: 0.7133\n",
            "Epoch 11/50\n",
            "40000/40000 [==============================] - 23s 578us/step - loss: 0.8848 - acc: 0.6909 - val_loss: 0.8197 - val_acc: 0.7121\n",
            "Epoch 12/50\n",
            "40000/40000 [==============================] - 23s 569us/step - loss: 0.8569 - acc: 0.6993 - val_loss: 0.8009 - val_acc: 0.7210\n",
            "Epoch 13/50\n",
            "40000/40000 [==============================] - 23s 575us/step - loss: 0.8408 - acc: 0.7079 - val_loss: 0.7818 - val_acc: 0.7306\n",
            "Epoch 14/50\n",
            "40000/40000 [==============================] - 23s 580us/step - loss: 0.8176 - acc: 0.7169 - val_loss: 0.7818 - val_acc: 0.7303\n",
            "Epoch 15/50\n",
            "40000/40000 [==============================] - 23s 571us/step - loss: 0.8000 - acc: 0.7218 - val_loss: 0.7823 - val_acc: 0.7304\n",
            "Epoch 16/50\n",
            "40000/40000 [==============================] - 23s 577us/step - loss: 0.7887 - acc: 0.7269 - val_loss: 0.7523 - val_acc: 0.7369\n",
            "Epoch 17/50\n",
            "40000/40000 [==============================] - 23s 567us/step - loss: 0.7737 - acc: 0.7320 - val_loss: 0.7187 - val_acc: 0.7515\n",
            "Epoch 18/50\n",
            "40000/40000 [==============================] - 23s 569us/step - loss: 0.7601 - acc: 0.7356 - val_loss: 0.7012 - val_acc: 0.7615\n",
            "Epoch 19/50\n",
            "40000/40000 [==============================] - 23s 571us/step - loss: 0.7476 - acc: 0.7400 - val_loss: 0.7706 - val_acc: 0.7344\n",
            "Epoch 20/50\n",
            "40000/40000 [==============================] - 23s 575us/step - loss: 0.7404 - acc: 0.7445 - val_loss: 0.7365 - val_acc: 0.7504\n",
            "Epoch 21/50\n",
            "40000/40000 [==============================] - 23s 564us/step - loss: 0.7323 - acc: 0.7475 - val_loss: 0.6835 - val_acc: 0.7656\n",
            "Epoch 22/50\n",
            "40000/40000 [==============================] - 22s 558us/step - loss: 0.7192 - acc: 0.7520 - val_loss: 0.6831 - val_acc: 0.7614\n",
            "Epoch 23/50\n",
            "40000/40000 [==============================] - 22s 559us/step - loss: 0.7124 - acc: 0.7542 - val_loss: 0.6665 - val_acc: 0.7744\n",
            "Epoch 24/50\n",
            "40000/40000 [==============================] - 23s 573us/step - loss: 0.7040 - acc: 0.7564 - val_loss: 0.6726 - val_acc: 0.7692\n",
            "Epoch 25/50\n",
            "40000/40000 [==============================] - 22s 562us/step - loss: 0.6965 - acc: 0.7591 - val_loss: 0.6715 - val_acc: 0.7752\n",
            "Epoch 26/50\n",
            "40000/40000 [==============================] - 22s 559us/step - loss: 0.6998 - acc: 0.7601 - val_loss: 0.6801 - val_acc: 0.7707\n",
            "Epoch 27/50\n",
            "40000/40000 [==============================] - 23s 564us/step - loss: 0.6913 - acc: 0.7632 - val_loss: 0.6562 - val_acc: 0.7745\n",
            "Epoch 28/50\n",
            "40000/40000 [==============================] - 22s 560us/step - loss: 0.6912 - acc: 0.7629 - val_loss: 0.6844 - val_acc: 0.7731\n",
            "Epoch 29/50\n",
            "40000/40000 [==============================] - 23s 565us/step - loss: 0.6864 - acc: 0.7673 - val_loss: 0.6586 - val_acc: 0.7781\n",
            "Epoch 30/50\n",
            "40000/40000 [==============================] - 23s 563us/step - loss: 0.6813 - acc: 0.7663 - val_loss: 0.6602 - val_acc: 0.7756\n",
            "Epoch 31/50\n",
            "40000/40000 [==============================] - 23s 572us/step - loss: 0.6741 - acc: 0.7695 - val_loss: 0.6793 - val_acc: 0.7730\n",
            "Epoch 32/50\n",
            "40000/40000 [==============================] - 22s 558us/step - loss: 0.6768 - acc: 0.7693 - val_loss: 0.6493 - val_acc: 0.7799\n",
            "Epoch 33/50\n",
            "40000/40000 [==============================] - 22s 558us/step - loss: 0.6658 - acc: 0.7722 - val_loss: 0.6220 - val_acc: 0.7932\n",
            "Epoch 34/50\n",
            "40000/40000 [==============================] - 22s 557us/step - loss: 0.6680 - acc: 0.7736 - val_loss: 0.6937 - val_acc: 0.7693\n",
            "Epoch 35/50\n",
            "40000/40000 [==============================] - 22s 559us/step - loss: 0.6713 - acc: 0.7735 - val_loss: 0.6657 - val_acc: 0.7711\n",
            "Epoch 36/50\n",
            "40000/40000 [==============================] - 23s 563us/step - loss: 0.6693 - acc: 0.7716 - val_loss: 0.7520 - val_acc: 0.7763\n",
            "Epoch 37/50\n",
            "40000/40000 [==============================] - 23s 565us/step - loss: 0.6696 - acc: 0.7735 - val_loss: 0.6724 - val_acc: 0.7799\n",
            "Epoch 38/50\n",
            "40000/40000 [==============================] - 23s 565us/step - loss: 0.6576 - acc: 0.7753 - val_loss: 0.6675 - val_acc: 0.7827\n",
            "Epoch 39/50\n",
            "40000/40000 [==============================] - 23s 566us/step - loss: 0.6609 - acc: 0.7756 - val_loss: 0.6736 - val_acc: 0.7738\n",
            "Epoch 40/50\n",
            "40000/40000 [==============================] - 23s 564us/step - loss: 0.6675 - acc: 0.7744 - val_loss: 0.7151 - val_acc: 0.7822\n",
            "Epoch 41/50\n",
            "40000/40000 [==============================] - 23s 564us/step - loss: 0.6660 - acc: 0.7754 - val_loss: 0.7058 - val_acc: 0.7724\n",
            "Epoch 42/50\n",
            "40000/40000 [==============================] - 23s 564us/step - loss: 0.6700 - acc: 0.7742 - val_loss: 0.7012 - val_acc: 0.7673\n",
            "Epoch 43/50\n",
            "40000/40000 [==============================] - 23s 565us/step - loss: 0.6609 - acc: 0.7786 - val_loss: 0.6633 - val_acc: 0.7853\n",
            "Epoch 44/50\n",
            "40000/40000 [==============================] - 22s 559us/step - loss: 0.6638 - acc: 0.7776 - val_loss: 0.6805 - val_acc: 0.7787\n",
            "Epoch 45/50\n",
            "40000/40000 [==============================] - 23s 563us/step - loss: 0.6639 - acc: 0.7771 - val_loss: 0.7353 - val_acc: 0.7783\n",
            "Epoch 46/50\n",
            "40000/40000 [==============================] - 23s 568us/step - loss: 0.6710 - acc: 0.7784 - val_loss: 0.7256 - val_acc: 0.7807\n",
            "Epoch 47/50\n",
            "40000/40000 [==============================] - 23s 569us/step - loss: 0.6696 - acc: 0.7759 - val_loss: 0.6888 - val_acc: 0.7806\n",
            "Epoch 48/50\n",
            "40000/40000 [==============================] - 22s 559us/step - loss: 0.6700 - acc: 0.7785 - val_loss: 0.7307 - val_acc: 0.7759\n",
            "Epoch 49/50\n",
            "40000/40000 [==============================] - 22s 558us/step - loss: 0.6671 - acc: 0.7776 - val_loss: 0.8741 - val_acc: 0.7436\n",
            "Epoch 50/50\n",
            "40000/40000 [==============================] - 23s 567us/step - loss: 0.6726 - acc: 0.7748 - val_loss: 0.6778 - val_acc: 0.7764\n"
          ],
          "name": "stdout"
        }
      ]
    },
    {
      "metadata": {
        "id": "qk9YdnLFMByL",
        "colab_type": "text"
      },
      "cell_type": "markdown",
      "source": [
        "## Fit the dropout model with added data augmentation"
      ]
    },
    {
      "metadata": {
        "id": "bCApXo6Wy-Iw",
        "colab_type": "code",
        "outputId": "688aa5bc-201d-4804-ce9c-fc9f852b10d8",
        "colab": {
          "base_uri": "https://localhost:8080/",
          "height": 1737
        }
      },
      "cell_type": "code",
      "source": [
        "history_drop_aug = model_drop_aug.fit_generator(\n",
        "    train_generator,\n",
        "    steps_per_epoch=train_steps,\n",
        "    epochs=50,\n",
        "    validation_data=validation_generator,\n",
        "    validation_steps=val_steps\n",
        ")"
      ],
      "execution_count": 0,
      "outputs": [
        {
          "output_type": "stream",
          "text": [
            "Epoch 1/50\n",
            "312/312 [==============================] - 27s 88ms/step - loss: 2.0659 - acc: 0.2236 - val_loss: 1.8523 - val_acc: 0.3263\n",
            "Epoch 2/50\n",
            "312/312 [==============================] - 26s 85ms/step - loss: 1.8845 - acc: 0.3031 - val_loss: 1.8460 - val_acc: 0.3220\n",
            "Epoch 3/50\n",
            "312/312 [==============================] - 27s 85ms/step - loss: 1.8034 - acc: 0.3355 - val_loss: 1.7134 - val_acc: 0.3886\n",
            "Epoch 4/50\n",
            "312/312 [==============================] - 26s 85ms/step - loss: 1.7436 - acc: 0.3591 - val_loss: 1.5436 - val_acc: 0.4436\n",
            "Epoch 5/50\n",
            "312/312 [==============================] - 27s 87ms/step - loss: 1.6867 - acc: 0.3854 - val_loss: 1.5111 - val_acc: 0.4630\n",
            "Epoch 6/50\n",
            "312/312 [==============================] - 27s 87ms/step - loss: 1.6524 - acc: 0.4018 - val_loss: 1.4100 - val_acc: 0.4998\n",
            "Epoch 7/50\n",
            "312/312 [==============================] - 27s 87ms/step - loss: 1.6163 - acc: 0.4151 - val_loss: 1.4401 - val_acc: 0.4800\n",
            "Epoch 8/50\n",
            "312/312 [==============================] - 27s 87ms/step - loss: 1.5863 - acc: 0.4299 - val_loss: 1.3799 - val_acc: 0.5010\n",
            "Epoch 9/50\n",
            "312/312 [==============================] - 27s 86ms/step - loss: 1.5557 - acc: 0.4410 - val_loss: 1.3197 - val_acc: 0.5337\n",
            "Epoch 10/50\n",
            "312/312 [==============================] - 26s 85ms/step - loss: 1.5224 - acc: 0.4533 - val_loss: 1.2905 - val_acc: 0.5396\n",
            "Epoch 11/50\n",
            "312/312 [==============================] - 27s 86ms/step - loss: 1.4996 - acc: 0.4604 - val_loss: 1.2914 - val_acc: 0.5469\n",
            "Epoch 12/50\n",
            "312/312 [==============================] - 27s 87ms/step - loss: 1.4816 - acc: 0.4689 - val_loss: 1.2469 - val_acc: 0.5585\n",
            "Epoch 13/50\n",
            "312/312 [==============================] - 27s 87ms/step - loss: 1.4617 - acc: 0.4746 - val_loss: 1.3559 - val_acc: 0.5244\n",
            "Epoch 14/50\n",
            "312/312 [==============================] - 27s 86ms/step - loss: 1.4446 - acc: 0.4825 - val_loss: 1.2123 - val_acc: 0.5717\n",
            "Epoch 15/50\n",
            "312/312 [==============================] - 27s 85ms/step - loss: 1.4286 - acc: 0.4927 - val_loss: 1.1871 - val_acc: 0.5882\n",
            "Epoch 16/50\n",
            "312/312 [==============================] - 27s 86ms/step - loss: 1.4049 - acc: 0.4978 - val_loss: 1.2369 - val_acc: 0.5737\n",
            "Epoch 17/50\n",
            "312/312 [==============================] - 26s 84ms/step - loss: 1.3998 - acc: 0.4989 - val_loss: 1.2153 - val_acc: 0.5648\n",
            "Epoch 18/50\n",
            "312/312 [==============================] - 27s 86ms/step - loss: 1.3786 - acc: 0.5064 - val_loss: 1.1796 - val_acc: 0.5850\n",
            "Epoch 19/50\n",
            "312/312 [==============================] - 27s 85ms/step - loss: 1.3615 - acc: 0.5138 - val_loss: 1.1413 - val_acc: 0.6041\n",
            "Epoch 20/50\n",
            "312/312 [==============================] - 27s 85ms/step - loss: 1.3545 - acc: 0.5146 - val_loss: 1.1234 - val_acc: 0.6073\n",
            "Epoch 21/50\n",
            "312/312 [==============================] - 26s 85ms/step - loss: 1.3395 - acc: 0.5222 - val_loss: 1.0760 - val_acc: 0.6195\n",
            "Epoch 22/50\n",
            "312/312 [==============================] - 27s 85ms/step - loss: 1.3289 - acc: 0.5278 - val_loss: 1.0820 - val_acc: 0.6219\n",
            "Epoch 23/50\n",
            "312/312 [==============================] - 27s 86ms/step - loss: 1.3174 - acc: 0.5327 - val_loss: 1.1171 - val_acc: 0.6068\n",
            "Epoch 24/50\n",
            "312/312 [==============================] - 26s 85ms/step - loss: 1.3117 - acc: 0.5345 - val_loss: 1.1048 - val_acc: 0.6108\n",
            "Epoch 25/50\n",
            "312/312 [==============================] - 27s 87ms/step - loss: 1.3093 - acc: 0.5356 - val_loss: 1.0230 - val_acc: 0.6419\n",
            "Epoch 26/50\n",
            "312/312 [==============================] - 27s 85ms/step - loss: 1.2896 - acc: 0.5418 - val_loss: 1.1386 - val_acc: 0.6030\n",
            "Epoch 27/50\n",
            "312/312 [==============================] - 26s 83ms/step - loss: 1.2807 - acc: 0.5446 - val_loss: 1.0309 - val_acc: 0.6346\n",
            "Epoch 28/50\n",
            "312/312 [==============================] - 26s 85ms/step - loss: 1.2631 - acc: 0.5522 - val_loss: 0.9911 - val_acc: 0.6564\n",
            "Epoch 29/50\n",
            "312/312 [==============================] - 27s 86ms/step - loss: 1.2607 - acc: 0.5544 - val_loss: 1.0042 - val_acc: 0.6458\n",
            "Epoch 30/50\n",
            "312/312 [==============================] - 27s 87ms/step - loss: 1.2559 - acc: 0.5538 - val_loss: 0.9946 - val_acc: 0.6517\n",
            "Epoch 31/50\n",
            "312/312 [==============================] - 27s 85ms/step - loss: 1.2468 - acc: 0.5568 - val_loss: 1.0399 - val_acc: 0.6328\n",
            "Epoch 32/50\n",
            "312/312 [==============================] - 27s 86ms/step - loss: 1.2394 - acc: 0.5612 - val_loss: 0.9743 - val_acc: 0.6582\n",
            "Epoch 33/50\n",
            "312/312 [==============================] - 27s 85ms/step - loss: 1.2331 - acc: 0.5602 - val_loss: 0.9725 - val_acc: 0.6610\n",
            "Epoch 34/50\n",
            "312/312 [==============================] - 27s 86ms/step - loss: 1.2339 - acc: 0.5647 - val_loss: 0.9724 - val_acc: 0.6589\n",
            "Epoch 35/50\n",
            "312/312 [==============================] - 27s 86ms/step - loss: 1.2148 - acc: 0.5705 - val_loss: 0.9473 - val_acc: 0.6636\n",
            "Epoch 36/50\n",
            "312/312 [==============================] - 26s 85ms/step - loss: 1.2080 - acc: 0.5708 - val_loss: 1.0214 - val_acc: 0.6379\n",
            "Epoch 37/50\n",
            "312/312 [==============================] - 27s 86ms/step - loss: 1.2030 - acc: 0.5750 - val_loss: 1.0844 - val_acc: 0.6080\n",
            "Epoch 38/50\n",
            "312/312 [==============================] - 27s 85ms/step - loss: 1.2001 - acc: 0.5728 - val_loss: 0.9664 - val_acc: 0.6597\n",
            "Epoch 39/50\n",
            "312/312 [==============================] - 27s 86ms/step - loss: 1.1928 - acc: 0.5760 - val_loss: 0.9244 - val_acc: 0.6781\n",
            "Epoch 40/50\n",
            "312/312 [==============================] - 26s 85ms/step - loss: 1.1969 - acc: 0.5776 - val_loss: 0.9189 - val_acc: 0.6792\n",
            "Epoch 41/50\n",
            "312/312 [==============================] - 27s 85ms/step - loss: 1.1793 - acc: 0.5830 - val_loss: 0.9486 - val_acc: 0.6669\n",
            "Epoch 42/50\n",
            "312/312 [==============================] - 27s 86ms/step - loss: 1.1838 - acc: 0.5832 - val_loss: 0.9245 - val_acc: 0.6792\n",
            "Epoch 43/50\n",
            "312/312 [==============================] - 27s 86ms/step - loss: 1.1734 - acc: 0.5842 - val_loss: 0.9400 - val_acc: 0.6707\n",
            "Epoch 44/50\n",
            "312/312 [==============================] - 27s 86ms/step - loss: 1.1689 - acc: 0.5863 - val_loss: 1.0079 - val_acc: 0.6384\n",
            "Epoch 45/50\n",
            "312/312 [==============================] - 27s 86ms/step - loss: 1.1614 - acc: 0.5882 - val_loss: 0.9020 - val_acc: 0.6808\n",
            "Epoch 46/50\n",
            "312/312 [==============================] - 27s 85ms/step - loss: 1.1621 - acc: 0.5888 - val_loss: 0.9598 - val_acc: 0.6610\n",
            "Epoch 47/50\n",
            "312/312 [==============================] - 27s 87ms/step - loss: 1.1550 - acc: 0.5909 - val_loss: 1.0207 - val_acc: 0.6379\n",
            "Epoch 48/50\n",
            "312/312 [==============================] - 26s 85ms/step - loss: 1.1624 - acc: 0.5893 - val_loss: 0.8764 - val_acc: 0.6922\n",
            "Epoch 49/50\n",
            "312/312 [==============================] - 27s 87ms/step - loss: 1.1354 - acc: 0.5980 - val_loss: 0.9247 - val_acc: 0.6729\n",
            "Epoch 50/50\n",
            "312/312 [==============================] - 27s 86ms/step - loss: 1.1402 - acc: 0.5969 - val_loss: 0.8367 - val_acc: 0.7022\n"
          ],
          "name": "stdout"
        }
      ]
    },
    {
      "metadata": {
        "id": "H_9MIn4SMK9M",
        "colab_type": "text"
      },
      "cell_type": "markdown",
      "source": [
        "## Fit the normalized model with the training and validation sets"
      ]
    },
    {
      "metadata": {
        "id": "67_uZ33vyzlG",
        "colab_type": "code",
        "outputId": "2d6f8589-d949-42d4-b8c7-7b6fb5502503",
        "colab": {
          "base_uri": "https://localhost:8080/",
          "height": 1754
        }
      },
      "cell_type": "code",
      "source": [
        "history_norm = model_norm.fit(train_images, \n",
        "                              train_labels, \n",
        "                              epochs=50,  \n",
        "                              validation_data=(val_images, val_labels))"
      ],
      "execution_count": 0,
      "outputs": [
        {
          "output_type": "stream",
          "text": [
            "Train on 40000 samples, validate on 10000 samples\n",
            "Epoch 1/50\n",
            "40000/40000 [==============================] - 31s 766us/step - loss: 2.0853 - acc: 0.3275 - val_loss: 1.5423 - val_acc: 0.4699\n",
            "Epoch 2/50\n",
            "40000/40000 [==============================] - 28s 688us/step - loss: 1.5592 - acc: 0.4486 - val_loss: 1.3652 - val_acc: 0.5374\n",
            "Epoch 3/50\n",
            "40000/40000 [==============================] - 27s 665us/step - loss: 1.3999 - acc: 0.5039 - val_loss: 1.2928 - val_acc: 0.5621\n",
            "Epoch 4/50\n",
            "40000/40000 [==============================] - 27s 668us/step - loss: 1.2892 - acc: 0.5430 - val_loss: 1.1957 - val_acc: 0.5973\n",
            "Epoch 5/50\n",
            "40000/40000 [==============================] - 27s 666us/step - loss: 1.2121 - acc: 0.5707 - val_loss: 1.1892 - val_acc: 0.6038\n",
            "Epoch 6/50\n",
            "40000/40000 [==============================] - 28s 712us/step - loss: 1.1532 - acc: 0.5954 - val_loss: 1.0745 - val_acc: 0.6380\n",
            "Epoch 7/50\n",
            "40000/40000 [==============================] - 28s 711us/step - loss: 1.1078 - acc: 0.6131 - val_loss: 1.0118 - val_acc: 0.6571\n",
            "Epoch 8/50\n",
            "40000/40000 [==============================] - 27s 681us/step - loss: 1.0606 - acc: 0.6282 - val_loss: 0.9841 - val_acc: 0.6659\n",
            "Epoch 9/50\n",
            "40000/40000 [==============================] - 27s 675us/step - loss: 1.0152 - acc: 0.6442 - val_loss: 1.0490 - val_acc: 0.6573\n",
            "Epoch 10/50\n",
            "40000/40000 [==============================] - 27s 678us/step - loss: 0.9815 - acc: 0.6584 - val_loss: 1.1147 - val_acc: 0.6514\n",
            "Epoch 11/50\n",
            "40000/40000 [==============================] - 27s 681us/step - loss: 0.9489 - acc: 0.6673 - val_loss: 0.9990 - val_acc: 0.6758\n",
            "Epoch 12/50\n",
            "40000/40000 [==============================] - 27s 684us/step - loss: 0.9260 - acc: 0.6760 - val_loss: 1.0496 - val_acc: 0.6605\n",
            "Epoch 13/50\n",
            "40000/40000 [==============================] - 27s 687us/step - loss: 0.9023 - acc: 0.6858 - val_loss: 0.8150 - val_acc: 0.7090\n",
            "Epoch 14/50\n",
            "40000/40000 [==============================] - 27s 677us/step - loss: 0.8716 - acc: 0.6966 - val_loss: 0.7870 - val_acc: 0.7275\n",
            "Epoch 15/50\n",
            "40000/40000 [==============================] - 27s 680us/step - loss: 0.8554 - acc: 0.7034 - val_loss: 0.9119 - val_acc: 0.7078\n",
            "Epoch 16/50\n",
            "40000/40000 [==============================] - 27s 674us/step - loss: 0.8298 - acc: 0.7110 - val_loss: 1.2313 - val_acc: 0.6449\n",
            "Epoch 17/50\n",
            "40000/40000 [==============================] - 27s 680us/step - loss: 0.8117 - acc: 0.7197 - val_loss: 0.9063 - val_acc: 0.7121\n",
            "Epoch 18/50\n",
            "40000/40000 [==============================] - 27s 679us/step - loss: 0.7955 - acc: 0.7254 - val_loss: 0.8001 - val_acc: 0.7274\n",
            "Epoch 19/50\n",
            "40000/40000 [==============================] - 27s 680us/step - loss: 0.7805 - acc: 0.7293 - val_loss: 0.7503 - val_acc: 0.7374\n",
            "Epoch 20/50\n",
            "40000/40000 [==============================] - 27s 677us/step - loss: 0.7634 - acc: 0.7352 - val_loss: 0.8727 - val_acc: 0.7217\n",
            "Epoch 21/50\n",
            "40000/40000 [==============================] - 27s 682us/step - loss: 0.7475 - acc: 0.7390 - val_loss: 0.7589 - val_acc: 0.7408\n",
            "Epoch 22/50\n",
            "40000/40000 [==============================] - 27s 678us/step - loss: 0.7373 - acc: 0.7428 - val_loss: 0.7243 - val_acc: 0.7533\n",
            "Epoch 23/50\n",
            "40000/40000 [==============================] - 27s 673us/step - loss: 0.7225 - acc: 0.7487 - val_loss: 0.7907 - val_acc: 0.7370\n",
            "Epoch 24/50\n",
            "40000/40000 [==============================] - 27s 675us/step - loss: 0.7086 - acc: 0.7556 - val_loss: 0.7448 - val_acc: 0.7452\n",
            "Epoch 25/50\n",
            "40000/40000 [==============================] - 26s 660us/step - loss: 0.6977 - acc: 0.7591 - val_loss: 0.6880 - val_acc: 0.7619\n",
            "Epoch 26/50\n",
            "40000/40000 [==============================] - 27s 668us/step - loss: 0.6747 - acc: 0.7684 - val_loss: 0.7064 - val_acc: 0.7621\n",
            "Epoch 27/50\n",
            "40000/40000 [==============================] - 27s 673us/step - loss: 0.6666 - acc: 0.7676 - val_loss: 0.6782 - val_acc: 0.7603\n",
            "Epoch 28/50\n",
            "40000/40000 [==============================] - 27s 670us/step - loss: 0.6629 - acc: 0.7719 - val_loss: 0.6832 - val_acc: 0.7673\n",
            "Epoch 29/50\n",
            "40000/40000 [==============================] - 27s 668us/step - loss: 0.6455 - acc: 0.7784 - val_loss: 0.6550 - val_acc: 0.7734\n",
            "Epoch 30/50\n",
            "40000/40000 [==============================] - 27s 676us/step - loss: 0.6344 - acc: 0.7802 - val_loss: 0.7248 - val_acc: 0.7535\n",
            "Epoch 31/50\n",
            "40000/40000 [==============================] - 28s 692us/step - loss: 0.6296 - acc: 0.7811 - val_loss: 0.7645 - val_acc: 0.7398\n",
            "Epoch 32/50\n",
            "40000/40000 [==============================] - 28s 696us/step - loss: 0.6214 - acc: 0.7835 - val_loss: 0.6518 - val_acc: 0.7808\n",
            "Epoch 33/50\n",
            "40000/40000 [==============================] - 27s 685us/step - loss: 0.6083 - acc: 0.7884 - val_loss: 0.6309 - val_acc: 0.7864\n",
            "Epoch 34/50\n",
            "40000/40000 [==============================] - 27s 686us/step - loss: 0.6007 - acc: 0.7929 - val_loss: 0.6652 - val_acc: 0.7766\n",
            "Epoch 35/50\n",
            "40000/40000 [==============================] - 27s 680us/step - loss: 0.5924 - acc: 0.7943 - val_loss: 0.6301 - val_acc: 0.7827\n",
            "Epoch 36/50\n",
            "40000/40000 [==============================] - 27s 680us/step - loss: 0.5893 - acc: 0.7967 - val_loss: 0.6288 - val_acc: 0.7862\n",
            "Epoch 37/50\n",
            "40000/40000 [==============================] - 27s 672us/step - loss: 0.5782 - acc: 0.7995 - val_loss: 0.6475 - val_acc: 0.7804\n",
            "Epoch 38/50\n",
            "40000/40000 [==============================] - 27s 668us/step - loss: 0.5646 - acc: 0.8044 - val_loss: 0.6365 - val_acc: 0.7854\n",
            "Epoch 39/50\n",
            "40000/40000 [==============================] - 27s 671us/step - loss: 0.5578 - acc: 0.8078 - val_loss: 0.7250 - val_acc: 0.7559\n",
            "Epoch 40/50\n",
            "40000/40000 [==============================] - 27s 673us/step - loss: 0.5566 - acc: 0.8095 - val_loss: 0.6816 - val_acc: 0.7723\n",
            "Epoch 41/50\n",
            "40000/40000 [==============================] - 27s 677us/step - loss: 0.5411 - acc: 0.8120 - val_loss: 0.6151 - val_acc: 0.7880\n",
            "Epoch 42/50\n",
            "40000/40000 [==============================] - 27s 672us/step - loss: 0.5328 - acc: 0.8145 - val_loss: 0.6660 - val_acc: 0.7810\n",
            "Epoch 43/50\n",
            "40000/40000 [==============================] - 27s 671us/step - loss: 0.5275 - acc: 0.8173 - val_loss: 0.6844 - val_acc: 0.7773\n",
            "Epoch 44/50\n",
            "40000/40000 [==============================] - 26s 659us/step - loss: 0.5253 - acc: 0.8187 - val_loss: 0.6073 - val_acc: 0.7944\n",
            "Epoch 45/50\n",
            "40000/40000 [==============================] - 27s 663us/step - loss: 0.5148 - acc: 0.8213 - val_loss: 0.6152 - val_acc: 0.7985\n",
            "Epoch 46/50\n",
            "40000/40000 [==============================] - 27s 665us/step - loss: 0.5067 - acc: 0.8244 - val_loss: 0.6376 - val_acc: 0.7847\n",
            "Epoch 47/50\n",
            "40000/40000 [==============================] - 27s 671us/step - loss: 0.4980 - acc: 0.8283 - val_loss: 0.6621 - val_acc: 0.7870\n",
            "Epoch 48/50\n",
            "40000/40000 [==============================] - 27s 667us/step - loss: 0.5028 - acc: 0.8250 - val_loss: 0.7056 - val_acc: 0.7693\n",
            "Epoch 49/50\n",
            "40000/40000 [==============================] - 27s 667us/step - loss: 0.4852 - acc: 0.8316 - val_loss: 0.5943 - val_acc: 0.8024\n",
            "Epoch 50/50\n",
            "40000/40000 [==============================] - 27s 670us/step - loss: 0.4880 - acc: 0.8306 - val_loss: 0.6289 - val_acc: 0.7887\n"
          ],
          "name": "stdout"
        }
      ]
    },
    {
      "metadata": {
        "id": "degSplb8Mb69",
        "colab_type": "text"
      },
      "cell_type": "markdown",
      "source": [
        "## Plot accuracy and loss of each model in its own graph"
      ]
    },
    {
      "metadata": {
        "id": "5xeejSzn98_o",
        "colab_type": "code",
        "colab": {}
      },
      "cell_type": "code",
      "source": [
        "def plot_results(history):\n",
        "  # Get the training/validation accuracies of the model's history.\n",
        "  acc = history.history['acc']\n",
        "  val_acc = history.history['val_acc']\n",
        "  \n",
        "  # Get the training/validation losses of the model's history.\n",
        "  loss = history.history['loss']\n",
        "  val_loss = history.history['val_loss']\n",
        "  \n",
        "  # Get the number of epochs of the history.\n",
        "  epochs = range(1, len(acc) + 1)\n",
        "\n",
        "  # Plot the training/validation accuracy of the model over its epochs.\n",
        "  plt.plot(epochs, acc, 'bo', label='training acc')\n",
        "  plt.plot(epochs, val_acc, 'r', label='validation acc')\n",
        "  plt.title('training and validation accuracy')\n",
        "  plt.legend()\n",
        "\n",
        "  plt.figure()\n",
        "\n",
        "  # Plot the training/validation loss of the model over its epochs.\n",
        "  plt.plot(epochs, loss, 'bo', label='training loss')\n",
        "  plt.plot(epochs, val_loss, 'r', label='validation loss')\n",
        "  plt.title('training and validation loss')\n",
        "  plt.legend()\n",
        "\n",
        "  plt.show()"
      ],
      "execution_count": 0,
      "outputs": []
    },
    {
      "metadata": {
        "id": "C2DbHzrYNwOA",
        "colab_type": "text"
      },
      "cell_type": "markdown",
      "source": [
        "## Simple Model Graphs:\n",
        "\n",
        "As can be seen in the graphs below, the simple model greatly suffers from overfitting, as the training accuracy jumps to almost 100% while the loss plateau's just barely above 70%."
      ]
    },
    {
      "metadata": {
        "id": "JGE212NL1XCp",
        "colab_type": "code",
        "outputId": "47d3aed9-3c8e-4bba-8ee1-e503d0493d6a",
        "colab": {
          "base_uri": "https://localhost:8080/",
          "height": 707
        }
      },
      "cell_type": "code",
      "source": [
        "plot_results(history_simple)"
      ],
      "execution_count": 0,
      "outputs": [
        {
          "output_type": "display_data",
          "data": {
            "image/png": "[encoded data removed]",
            "text/plain": [
              "<Figure size 576x396 with 1 Axes>"
            ]
          },
          "metadata": {
            "tags": []
          }
        },
        {
          "output_type": "display_data",
          "data": {
            "image/png": "[encoded data removed]",
            "text/plain": [
              "<Figure size 576x396 with 1 Axes>"
            ]
          },
          "metadata": {
            "tags": []
          }
        }
      ]
    },
    {
      "metadata": {
        "id": "IlnGlWF8OX15",
        "colab_type": "text"
      },
      "cell_type": "markdown",
      "source": [
        "## Dropout Model Graphs\n",
        "This model fairs much better than the previous one, as the training and validation plots keep up with one another, and the accuracy greatly increases."
      ]
    },
    {
      "metadata": {
        "id": "yDLOqUj81opu",
        "colab_type": "code",
        "outputId": "633099ca-36c7-41df-db6e-289c1e3fc39a",
        "colab": {
          "base_uri": "https://localhost:8080/",
          "height": 707
        }
      },
      "cell_type": "code",
      "source": [
        "plot_results(history_drop)"
      ],
      "execution_count": 0,
      "outputs": [
        {
          "output_type": "display_data",
          "data": {
            "image/png": "[encoded data removed]",
            "text/plain": [
              "<Figure size 576x396 with 1 Axes>"
            ]
          },
          "metadata": {
            "tags": []
          }
        },
        {
          "output_type": "display_data",
          "data": {
            "image/png": "[encoded data removed]",
            "text/plain": [
              "<Figure size 576x396 with 1 Axes>"
            ]
          },
          "metadata": {
            "tags": []
          }
        }
      ]
    },
    {
      "metadata": {
        "id": "5In6eh8iPAhU",
        "colab_type": "text"
      },
      "cell_type": "markdown",
      "source": [
        "## Model with Data Augmentation Graphs\n",
        "\n",
        "Surprisingly, adding data augmentation to the dropout model not only resulted in a much worse accuracy than without it, but it also caused a severe case of **underfitting**, which means that there are *too many* features and the model cannot dependably categorize which are important and which are not.  However, both graphs show a trend towards improvement, which potentially means, given enough training epochs, the accuracy could plateau at a higher value.  However, the problem of huge underfitting still persists, and it is unlikely the model would reach much higher performance."
      ]
    },
    {
      "metadata": {
        "id": "W-LAA9dp1o-t",
        "colab_type": "code",
        "outputId": "d30ee165-b27f-400a-f0fd-f3288fb5a80f",
        "colab": {
          "base_uri": "https://localhost:8080/",
          "height": 707
        }
      },
      "cell_type": "code",
      "source": [
        "plot_results(history_drop_aug)"
      ],
      "execution_count": 0,
      "outputs": [
        {
          "output_type": "display_data",
          "data": {
            "image/png": "[encoded data removed]",
            "text/plain": [
              "<Figure size 576x396 with 1 Axes>"
            ]
          },
          "metadata": {
            "tags": []
          }
        },
        {
          "output_type": "display_data",
          "data": {
            "image/png": "[encoded data removed]",
            "text/plain": [
              "<Figure size 576x396 with 1 Axes>"
            ]
          },
          "metadata": {
            "tags": []
          }
        }
      ]
    },
    {
      "metadata": {
        "id": "v2MV0zKyQlQO",
        "colab_type": "text"
      },
      "cell_type": "markdown",
      "source": [
        "## Normalized Model Graphs\n",
        "\n",
        "This model displays slight overfitting, but at the same achieves an accuracy better than any of the models before it.  This shows how powerful batch normalization can be to creating a good and quickly converging model."
      ]
    },
    {
      "metadata": {
        "id": "0eLPqbi81pQP",
        "colab_type": "code",
        "outputId": "55d5abdc-241c-4fd9-d90a-ec7725734a14",
        "colab": {
          "base_uri": "https://localhost:8080/",
          "height": 707
        }
      },
      "cell_type": "code",
      "source": [
        "plot_results(history_norm)"
      ],
      "execution_count": 0,
      "outputs": [
        {
          "output_type": "display_data",
          "data": {
            "image/png": "[encoded data removed]",
            "text/plain": [
              "<Figure size 576x396 with 1 Axes>"
            ]
          },
          "metadata": {
            "tags": []
          }
        },
        {
          "output_type": "display_data",
          "data": {
            "image/png": "[encoded data removed]",
            "text/plain": [
              "<Figure size 576x396 with 1 Axes>"
            ]
          },
          "metadata": {
            "tags": []
          }
        }
      ]
    },
    {
      "metadata": {
        "id": "LsRqKM7JRgD-",
        "colab_type": "text"
      },
      "cell_type": "markdown",
      "source": [
        "##  Show final accuracy for models and train best one on entire original training set"
      ]
    },
    {
      "metadata": {
        "id": "8mQ0Zk7r1ylw",
        "colab_type": "code",
        "outputId": "2e29efb6-87da-465e-ae6a-4c8bfd7f5da4",
        "colab": {
          "base_uri": "https://localhost:8080/",
          "height": 102
        }
      },
      "cell_type": "code",
      "source": [
        "print(\"Final accuracy for each model: \")\n",
        "print(\"Simple Model: %f\" % history_simple.history['val_acc'][-1])\n",
        "print(\"Dropout Model: %f\" % history_drop.history['val_acc'][-1])\n",
        "print(\"Augmentation and Dropout Model: %f\" % history_drop_aug.history['val_acc'][-1])\n",
        "print(\"Batch Normalization Model with Dropout: %f\" % history_norm.history['val_acc'][-1])"
      ],
      "execution_count": 0,
      "outputs": [
        {
          "output_type": "stream",
          "text": [
            "Final accuracy for each model: \n",
            "Simple Model: 0.709300\n",
            "Dropout Model: 0.776400\n",
            "Augmentation and Dropout Model: 0.702188\n",
            "Batch Normalization Model with Dropout: 0.788700\n"
          ],
          "name": "stdout"
        }
      ]
    },
    {
      "metadata": {
        "id": "D8EkfIxhR0ck",
        "colab_type": "text"
      },
      "cell_type": "markdown",
      "source": [
        "It can be seen that the Batch Normalization Model with Dropout performs the best out of all the models, so we select this one to do final training/testing with.\n",
        "\n",
        "### Train best model"
      ]
    },
    {
      "metadata": {
        "id": "4ptfbJtkjRoE",
        "colab_type": "code",
        "outputId": "61c04860-6754-4db8-ae92-f77bef1a926d",
        "colab": {
          "base_uri": "https://localhost:8080/",
          "height": 1754
        }
      },
      "cell_type": "code",
      "source": [
        "model_norm.load_weights('weights_norm.h5')\n",
        "history = model_norm.fit(data_images, \n",
        "                      data_labels, \n",
        "                      epochs=50,  \n",
        "                      validation_data=(test_images, test_labels))"
      ],
      "execution_count": 0,
      "outputs": [
        {
          "output_type": "stream",
          "text": [
            "Train on 50000 samples, validate on 10000 samples\n",
            "Epoch 1/50\n",
            "50000/50000 [==============================] - 37s 739us/step - loss: 2.0065 - acc: 0.3464 - val_loss: 1.4845 - val_acc: 0.4911\n",
            "Epoch 2/50\n",
            "50000/50000 [==============================] - 34s 682us/step - loss: 1.4988 - acc: 0.4704 - val_loss: 1.4002 - val_acc: 0.5365\n",
            "Epoch 3/50\n",
            "50000/50000 [==============================] - 34s 674us/step - loss: 1.3409 - acc: 0.5251 - val_loss: 1.3338 - val_acc: 0.5641\n",
            "Epoch 4/50\n",
            "50000/50000 [==============================] - 33s 654us/step - loss: 1.2251 - acc: 0.5679 - val_loss: 1.2618 - val_acc: 0.5857\n",
            "Epoch 5/50\n",
            "50000/50000 [==============================] - 33s 654us/step - loss: 1.1567 - acc: 0.5950 - val_loss: 1.0247 - val_acc: 0.6435\n",
            "Epoch 6/50\n",
            "50000/50000 [==============================] - 33s 655us/step - loss: 1.0902 - acc: 0.6206 - val_loss: 0.9672 - val_acc: 0.6712\n",
            "Epoch 7/50\n",
            "50000/50000 [==============================] - 33s 655us/step - loss: 1.0460 - acc: 0.6363 - val_loss: 0.8842 - val_acc: 0.6945\n",
            "Epoch 8/50\n",
            "50000/50000 [==============================] - 33s 650us/step - loss: 0.9998 - acc: 0.6512 - val_loss: 0.9580 - val_acc: 0.6797\n",
            "Epoch 9/50\n",
            "50000/50000 [==============================] - 34s 671us/step - loss: 0.9547 - acc: 0.6669 - val_loss: 0.9466 - val_acc: 0.6826\n",
            "Epoch 10/50\n",
            "50000/50000 [==============================] - 34s 674us/step - loss: 0.9255 - acc: 0.6786 - val_loss: 0.9031 - val_acc: 0.7027\n",
            "Epoch 11/50\n",
            "50000/50000 [==============================] - 33s 663us/step - loss: 0.8903 - acc: 0.6914 - val_loss: 0.8458 - val_acc: 0.7153\n",
            "Epoch 12/50\n",
            "50000/50000 [==============================] - 33s 666us/step - loss: 0.8703 - acc: 0.6998 - val_loss: 1.0828 - val_acc: 0.6671\n",
            "Epoch 13/50\n",
            "50000/50000 [==============================] - 34s 671us/step - loss: 0.8481 - acc: 0.7055 - val_loss: 0.7918 - val_acc: 0.7327\n",
            "Epoch 14/50\n",
            "50000/50000 [==============================] - 33s 664us/step - loss: 0.8247 - acc: 0.7117 - val_loss: 0.7798 - val_acc: 0.7375\n",
            "Epoch 15/50\n",
            "50000/50000 [==============================] - 33s 662us/step - loss: 0.7955 - acc: 0.7244 - val_loss: 0.7961 - val_acc: 0.7429\n",
            "Epoch 16/50\n",
            "50000/50000 [==============================] - 33s 660us/step - loss: 0.7860 - acc: 0.7269 - val_loss: 0.7681 - val_acc: 0.7440\n",
            "Epoch 17/50\n",
            "50000/50000 [==============================] - 33s 653us/step - loss: 0.7655 - acc: 0.7360 - val_loss: 0.7070 - val_acc: 0.7544\n",
            "Epoch 18/50\n",
            "50000/50000 [==============================] - 33s 658us/step - loss: 0.7430 - acc: 0.7426 - val_loss: 0.7077 - val_acc: 0.7650\n",
            "Epoch 19/50\n",
            "50000/50000 [==============================] - 33s 657us/step - loss: 0.7365 - acc: 0.7465 - val_loss: 0.7586 - val_acc: 0.7389\n",
            "Epoch 20/50\n",
            "50000/50000 [==============================] - 33s 657us/step - loss: 0.7195 - acc: 0.7512 - val_loss: 0.6531 - val_acc: 0.7735\n",
            "Epoch 21/50\n",
            "50000/50000 [==============================] - 33s 656us/step - loss: 0.7045 - acc: 0.7571 - val_loss: 0.6523 - val_acc: 0.7787\n",
            "Epoch 22/50\n",
            "50000/50000 [==============================] - 33s 653us/step - loss: 0.6948 - acc: 0.7610 - val_loss: 0.6634 - val_acc: 0.7712\n",
            "Epoch 23/50\n",
            "50000/50000 [==============================] - 33s 653us/step - loss: 0.6852 - acc: 0.7643 - val_loss: 0.6769 - val_acc: 0.7684\n",
            "Epoch 24/50\n",
            "50000/50000 [==============================] - 33s 652us/step - loss: 0.6707 - acc: 0.7678 - val_loss: 0.6616 - val_acc: 0.7767\n",
            "Epoch 25/50\n",
            "50000/50000 [==============================] - 33s 651us/step - loss: 0.6549 - acc: 0.7743 - val_loss: 0.7146 - val_acc: 0.7679\n",
            "Epoch 26/50\n",
            "50000/50000 [==============================] - 33s 656us/step - loss: 0.6440 - acc: 0.7778 - val_loss: 0.6357 - val_acc: 0.7869\n",
            "Epoch 27/50\n",
            "50000/50000 [==============================] - 33s 653us/step - loss: 0.6375 - acc: 0.7805 - val_loss: 0.6476 - val_acc: 0.7850\n",
            "Epoch 28/50\n",
            "50000/50000 [==============================] - 32s 644us/step - loss: 0.6243 - acc: 0.7860 - val_loss: 0.6710 - val_acc: 0.7792\n",
            "Epoch 29/50\n",
            "50000/50000 [==============================] - 32s 642us/step - loss: 0.6232 - acc: 0.7845 - val_loss: 0.6091 - val_acc: 0.7972\n",
            "Epoch 30/50\n",
            "50000/50000 [==============================] - 32s 646us/step - loss: 0.6138 - acc: 0.7905 - val_loss: 0.6645 - val_acc: 0.7758\n",
            "Epoch 31/50\n",
            "50000/50000 [==============================] - 32s 649us/step - loss: 0.5975 - acc: 0.7937 - val_loss: 0.8485 - val_acc: 0.7393\n",
            "Epoch 32/50\n",
            "50000/50000 [==============================] - 32s 637us/step - loss: 0.5871 - acc: 0.7955 - val_loss: 0.6106 - val_acc: 0.7964\n",
            "Epoch 33/50\n",
            "50000/50000 [==============================] - 32s 636us/step - loss: 0.5802 - acc: 0.8002 - val_loss: 0.6259 - val_acc: 0.7904\n",
            "Epoch 34/50\n",
            "50000/50000 [==============================] - 32s 637us/step - loss: 0.5771 - acc: 0.8026 - val_loss: 0.6198 - val_acc: 0.7977\n",
            "Epoch 35/50\n",
            "50000/50000 [==============================] - 32s 638us/step - loss: 0.5663 - acc: 0.8037 - val_loss: 0.6247 - val_acc: 0.7872\n",
            "Epoch 36/50\n",
            "50000/50000 [==============================] - 32s 643us/step - loss: 0.5597 - acc: 0.8093 - val_loss: 0.6462 - val_acc: 0.7790\n",
            "Epoch 37/50\n",
            "50000/50000 [==============================] - 32s 640us/step - loss: 0.5551 - acc: 0.8076 - val_loss: 0.5884 - val_acc: 0.8030\n",
            "Epoch 38/50\n",
            "50000/50000 [==============================] - 32s 637us/step - loss: 0.5462 - acc: 0.8139 - val_loss: 0.6011 - val_acc: 0.8021\n",
            "Epoch 39/50\n",
            "50000/50000 [==============================] - 32s 642us/step - loss: 0.5401 - acc: 0.8131 - val_loss: 0.6772 - val_acc: 0.7831\n",
            "Epoch 40/50\n",
            "50000/50000 [==============================] - 32s 638us/step - loss: 0.5316 - acc: 0.8180 - val_loss: 0.6012 - val_acc: 0.7954\n",
            "Epoch 41/50\n",
            "50000/50000 [==============================] - 32s 640us/step - loss: 0.5257 - acc: 0.8192 - val_loss: 0.6166 - val_acc: 0.7938\n",
            "Epoch 42/50\n",
            "50000/50000 [==============================] - 32s 643us/step - loss: 0.5186 - acc: 0.8213 - val_loss: 0.6036 - val_acc: 0.7978\n",
            "Epoch 43/50\n",
            "50000/50000 [==============================] - 32s 643us/step - loss: 0.5124 - acc: 0.8233 - val_loss: 0.6037 - val_acc: 0.7997\n",
            "Epoch 44/50\n",
            "50000/50000 [==============================] - 32s 638us/step - loss: 0.5084 - acc: 0.8252 - val_loss: 0.6156 - val_acc: 0.7961\n",
            "Epoch 45/50\n",
            "50000/50000 [==============================] - 32s 636us/step - loss: 0.5063 - acc: 0.8248 - val_loss: 0.6581 - val_acc: 0.7904\n",
            "Epoch 46/50\n",
            "50000/50000 [==============================] - 32s 640us/step - loss: 0.4980 - acc: 0.8281 - val_loss: 0.6105 - val_acc: 0.8006\n",
            "Epoch 47/50\n",
            "50000/50000 [==============================] - 32s 639us/step - loss: 0.4913 - acc: 0.8323 - val_loss: 0.6272 - val_acc: 0.8007\n",
            "Epoch 48/50\n",
            "50000/50000 [==============================] - 32s 636us/step - loss: 0.4864 - acc: 0.8321 - val_loss: 0.5607 - val_acc: 0.8073\n",
            "Epoch 49/50\n",
            "50000/50000 [==============================] - 32s 638us/step - loss: 0.4802 - acc: 0.8339 - val_loss: 0.5949 - val_acc: 0.7998\n",
            "Epoch 50/50\n",
            "50000/50000 [==============================] - 32s 640us/step - loss: 0.4729 - acc: 0.8386 - val_loss: 0.6347 - val_acc: 0.7876\n"
          ],
          "name": "stdout"
        }
      ]
    },
    {
      "metadata": {
        "id": "7Clu5cFgSQsN",
        "colab_type": "text"
      },
      "cell_type": "markdown",
      "source": [
        "A final accuracy of around 78.8% is achieved when this model is fitted with the actual test data, which is pretty much the same as for when it was fitted with the validation set."
      ]
    },
    {
      "metadata": {
        "id": "q3MRDwANSGRc",
        "colab_type": "text"
      },
      "cell_type": "markdown",
      "source": [
        "## K-fold Cross Validation on best model"
      ]
    },
    {
      "metadata": {
        "id": "YqZSA9D8haNY",
        "colab_type": "code",
        "outputId": "b7905927-232d-4c1c-b9b3-e8d5786d817c",
        "colab": {
          "base_uri": "https://localhost:8080/",
          "height": 8772
        }
      },
      "cell_type": "code",
      "source": [
        "# Shuffle the data again to prepare for k-fold CV.\n",
        "shuffled_i = np.random.permutation(data_size)\n",
        "data_images = data_images[shuffled_i]\n",
        "data_labels = data_labels[shuffled_i]\n",
        "\n",
        "# Declare the size of k as well as how large the validation set\n",
        "# must be for each fold.\n",
        "k_fold = 5\n",
        "val_batch_size = int(data_size/k_fold)\n",
        "\n",
        "# Keep a running total of the accuracy over each fold.\n",
        "avg_acc = 0\n",
        "\n",
        "# Perform k-fold CV.\n",
        "for i in range(k_fold):\n",
        "  print(\"\\nTraining, Fold %d:\" % (i + 1))\n",
        "  \n",
        "  # Find the start and end points in the data set from which\n",
        "  # to extract the validation set.\n",
        "  start = i * val_batch_size\n",
        "  end = i * val_batch_size + val_batch_size\n",
        "  \n",
        "  # Get the train/validation images and labels\n",
        "  train_images = np.concatenate((data_images[:start], data_images[end:]))\n",
        "  val_images = data_images[start:end]\n",
        "  \n",
        "  train_labels = np.concatenate((data_labels[:start], data_labels[end:]))\n",
        "  val_labels = data_labels[start:end]\n",
        "  \n",
        "  # Set the model's weights to before it was trained and train it\n",
        "  # with the training set and validation set.\n",
        "  model_norm.load_weights('weights_norm.h5')\n",
        "  history = model_norm.fit(train_images, \n",
        "                      train_labels, \n",
        "                      verbose = 2,\n",
        "                      epochs=50,  \n",
        "                      validation_data=(val_images, val_labels))\n",
        "  \n",
        "  # Record the accuracy on this fold\n",
        "  avg_acc += history.history['val_acc'][-1]"
      ],
      "execution_count": 0,
      "outputs": [
        {
          "output_type": "stream",
          "text": [
            "\n",
            "Training, Fold 1:\n",
            "Train on 40000 samples, validate on 10000 samples\n",
            "Epoch 1/50\n",
            " - 26s - loss: 2.0877 - acc: 0.3312 - val_loss: 1.5017 - val_acc: 0.4726\n",
            "Epoch 2/50\n",
            " - 25s - loss: 1.5603 - acc: 0.4480 - val_loss: 1.3157 - val_acc: 0.5419\n",
            "Epoch 3/50\n",
            " - 25s - loss: 1.4018 - acc: 0.5014 - val_loss: 1.3683 - val_acc: 0.5489\n",
            "Epoch 4/50\n",
            " - 25s - loss: 1.2928 - acc: 0.5436 - val_loss: 1.1846 - val_acc: 0.5858\n",
            "Epoch 5/50\n",
            " - 25s - loss: 1.2143 - acc: 0.5719 - val_loss: 1.0707 - val_acc: 0.6312\n",
            "Epoch 6/50\n",
            " - 25s - loss: 1.1567 - acc: 0.5948 - val_loss: 1.1764 - val_acc: 0.6242\n",
            "Epoch 7/50\n",
            " - 25s - loss: 1.1063 - acc: 0.6129 - val_loss: 1.2305 - val_acc: 0.6085\n",
            "Epoch 8/50\n",
            " - 25s - loss: 1.0673 - acc: 0.6273 - val_loss: 1.1554 - val_acc: 0.6313\n",
            "Epoch 9/50\n",
            " - 25s - loss: 1.0227 - acc: 0.6428 - val_loss: 1.0172 - val_acc: 0.6584\n",
            "Epoch 10/50\n",
            " - 25s - loss: 0.9856 - acc: 0.6575 - val_loss: 0.9126 - val_acc: 0.6941\n",
            "Epoch 11/50\n",
            " - 25s - loss: 0.9519 - acc: 0.6704 - val_loss: 1.0877 - val_acc: 0.6544\n",
            "Epoch 12/50\n",
            " - 25s - loss: 0.9324 - acc: 0.6786 - val_loss: 0.8286 - val_acc: 0.7138\n",
            "Epoch 13/50\n",
            " - 24s - loss: 0.9010 - acc: 0.6863 - val_loss: 1.0473 - val_acc: 0.6669\n",
            "Epoch 14/50\n",
            " - 25s - loss: 0.8771 - acc: 0.6965 - val_loss: 0.8066 - val_acc: 0.7253\n",
            "Epoch 15/50\n",
            " - 25s - loss: 0.8529 - acc: 0.7056 - val_loss: 0.8829 - val_acc: 0.7011\n",
            "Epoch 16/50\n",
            " - 25s - loss: 0.8312 - acc: 0.7107 - val_loss: 0.8710 - val_acc: 0.7094\n",
            "Epoch 17/50\n",
            " - 25s - loss: 0.8172 - acc: 0.7165 - val_loss: 0.7718 - val_acc: 0.7362\n",
            "Epoch 18/50\n",
            " - 25s - loss: 0.7959 - acc: 0.7230 - val_loss: 0.7907 - val_acc: 0.7273\n",
            "Epoch 19/50\n",
            " - 25s - loss: 0.7777 - acc: 0.7298 - val_loss: 0.7761 - val_acc: 0.7318\n",
            "Epoch 20/50\n",
            " - 25s - loss: 0.7638 - acc: 0.7336 - val_loss: 0.7361 - val_acc: 0.7457\n",
            "Epoch 21/50\n",
            " - 24s - loss: 0.7509 - acc: 0.7397 - val_loss: 0.7001 - val_acc: 0.7606\n",
            "Epoch 22/50\n",
            " - 25s - loss: 0.7314 - acc: 0.7459 - val_loss: 0.7942 - val_acc: 0.7362\n",
            "Epoch 23/50\n",
            " - 25s - loss: 0.7166 - acc: 0.7497 - val_loss: 0.6890 - val_acc: 0.7583\n",
            "Epoch 24/50\n",
            " - 25s - loss: 0.7019 - acc: 0.7561 - val_loss: 0.8007 - val_acc: 0.7437\n",
            "Epoch 25/50\n",
            " - 25s - loss: 0.6880 - acc: 0.7596 - val_loss: 0.7010 - val_acc: 0.7607\n",
            "Epoch 26/50\n",
            " - 24s - loss: 0.6779 - acc: 0.7652 - val_loss: 0.8119 - val_acc: 0.7363\n",
            "Epoch 27/50\n",
            " - 24s - loss: 0.6689 - acc: 0.7685 - val_loss: 0.6424 - val_acc: 0.7762\n",
            "Epoch 28/50\n",
            " - 24s - loss: 0.6610 - acc: 0.7713 - val_loss: 0.6708 - val_acc: 0.7677\n",
            "Epoch 29/50\n",
            " - 25s - loss: 0.6418 - acc: 0.7784 - val_loss: 0.6502 - val_acc: 0.7708\n",
            "Epoch 30/50\n",
            " - 25s - loss: 0.6411 - acc: 0.7780 - val_loss: 0.9044 - val_acc: 0.7190\n",
            "Epoch 31/50\n",
            " - 25s - loss: 0.6257 - acc: 0.7822 - val_loss: 0.6925 - val_acc: 0.7688\n",
            "Epoch 32/50\n",
            " - 25s - loss: 0.6193 - acc: 0.7855 - val_loss: 0.6712 - val_acc: 0.7664\n",
            "Epoch 33/50\n",
            " - 25s - loss: 0.6021 - acc: 0.7917 - val_loss: 0.6299 - val_acc: 0.7855\n",
            "Epoch 34/50\n",
            " - 24s - loss: 0.5982 - acc: 0.7921 - val_loss: 0.7439 - val_acc: 0.7587\n",
            "Epoch 35/50\n",
            " - 25s - loss: 0.5920 - acc: 0.7945 - val_loss: 0.6701 - val_acc: 0.7652\n",
            "Epoch 36/50\n",
            " - 24s - loss: 0.5773 - acc: 0.7982 - val_loss: 0.6800 - val_acc: 0.7734\n",
            "Epoch 37/50\n",
            " - 25s - loss: 0.5863 - acc: 0.7947 - val_loss: 0.6320 - val_acc: 0.7841\n",
            "Epoch 38/50\n",
            " - 24s - loss: 0.5707 - acc: 0.8018 - val_loss: 0.5995 - val_acc: 0.7938\n",
            "Epoch 39/50\n",
            " - 24s - loss: 0.5540 - acc: 0.8088 - val_loss: 0.6562 - val_acc: 0.7856\n",
            "Epoch 40/50\n",
            " - 24s - loss: 0.5436 - acc: 0.8099 - val_loss: 0.5880 - val_acc: 0.8018\n",
            "Epoch 41/50\n",
            " - 24s - loss: 0.5413 - acc: 0.8114 - val_loss: 0.6271 - val_acc: 0.7895\n",
            "Epoch 42/50\n",
            " - 25s - loss: 0.5383 - acc: 0.8136 - val_loss: 0.6133 - val_acc: 0.7942\n",
            "Epoch 43/50\n",
            " - 25s - loss: 0.5295 - acc: 0.8168 - val_loss: 0.6033 - val_acc: 0.7953\n",
            "Epoch 44/50\n",
            " - 25s - loss: 0.5203 - acc: 0.8206 - val_loss: 0.5903 - val_acc: 0.8001\n",
            "Epoch 45/50\n",
            " - 25s - loss: 0.5211 - acc: 0.8203 - val_loss: 0.6040 - val_acc: 0.7963\n",
            "Epoch 46/50\n",
            " - 25s - loss: 0.5139 - acc: 0.8205 - val_loss: 0.6167 - val_acc: 0.7885\n",
            "Epoch 47/50\n",
            " - 25s - loss: 0.5021 - acc: 0.8239 - val_loss: 0.6055 - val_acc: 0.7973\n",
            "Epoch 48/50\n",
            " - 25s - loss: 0.4973 - acc: 0.8263 - val_loss: 0.5996 - val_acc: 0.7955\n",
            "Epoch 49/50\n",
            " - 25s - loss: 0.4936 - acc: 0.8286 - val_loss: 0.5860 - val_acc: 0.8043\n",
            "Epoch 50/50\n",
            " - 25s - loss: 0.4905 - acc: 0.8295 - val_loss: 0.6024 - val_acc: 0.7999\n",
            "\n",
            "Training, Fold 2:\n",
            "Train on 40000 samples, validate on 10000 samples\n",
            "Epoch 1/50\n",
            " - 24s - loss: 2.0778 - acc: 0.3313 - val_loss: 1.4865 - val_acc: 0.4756\n",
            "Epoch 2/50\n",
            " - 25s - loss: 1.5687 - acc: 0.4484 - val_loss: 1.6425 - val_acc: 0.4726\n",
            "Epoch 3/50\n",
            " - 25s - loss: 1.4058 - acc: 0.5049 - val_loss: 1.3021 - val_acc: 0.5572\n",
            "Epoch 4/50\n",
            " - 25s - loss: 1.2965 - acc: 0.5413 - val_loss: 1.1809 - val_acc: 0.5970\n",
            "Epoch 5/50\n",
            " - 25s - loss: 1.2151 - acc: 0.5726 - val_loss: 1.2410 - val_acc: 0.5987\n",
            "Epoch 6/50\n",
            " - 25s - loss: 1.1588 - acc: 0.5950 - val_loss: 1.1664 - val_acc: 0.6217\n",
            "Epoch 7/50\n",
            " - 25s - loss: 1.1015 - acc: 0.6135 - val_loss: 1.1528 - val_acc: 0.6277\n",
            "Epoch 8/50\n",
            " - 25s - loss: 1.0520 - acc: 0.6290 - val_loss: 1.0076 - val_acc: 0.6589\n",
            "Epoch 9/50\n",
            " - 25s - loss: 1.0213 - acc: 0.6434 - val_loss: 0.9345 - val_acc: 0.6818\n",
            "Epoch 10/50\n",
            " - 25s - loss: 0.9840 - acc: 0.6594 - val_loss: 0.9950 - val_acc: 0.6704\n",
            "Epoch 11/50\n",
            " - 25s - loss: 0.9520 - acc: 0.6672 - val_loss: 0.9021 - val_acc: 0.7048\n",
            "Epoch 12/50\n",
            " - 25s - loss: 0.9189 - acc: 0.6794 - val_loss: 0.8591 - val_acc: 0.7146\n",
            "Epoch 13/50\n",
            " - 24s - loss: 0.8991 - acc: 0.6863 - val_loss: 0.8624 - val_acc: 0.7138\n",
            "Epoch 14/50\n",
            " - 25s - loss: 0.8730 - acc: 0.6971 - val_loss: 0.8808 - val_acc: 0.7165\n",
            "Epoch 15/50\n",
            " - 25s - loss: 0.8504 - acc: 0.7015 - val_loss: 0.7898 - val_acc: 0.7350\n",
            "Epoch 16/50\n",
            " - 25s - loss: 0.8293 - acc: 0.7123 - val_loss: 0.9539 - val_acc: 0.6988\n",
            "Epoch 17/50\n",
            " - 25s - loss: 0.8131 - acc: 0.7171 - val_loss: 0.7841 - val_acc: 0.7405\n",
            "Epoch 18/50\n",
            " - 25s - loss: 0.7976 - acc: 0.7205 - val_loss: 0.8702 - val_acc: 0.7204\n",
            "Epoch 19/50\n",
            " - 25s - loss: 0.7699 - acc: 0.7305 - val_loss: 0.7316 - val_acc: 0.7537\n",
            "Epoch 20/50\n",
            " - 25s - loss: 0.7580 - acc: 0.7361 - val_loss: 0.7338 - val_acc: 0.7537\n",
            "Epoch 21/50\n",
            " - 25s - loss: 0.7475 - acc: 0.7406 - val_loss: 0.7426 - val_acc: 0.7524\n",
            "Epoch 22/50\n",
            " - 25s - loss: 0.7281 - acc: 0.7471 - val_loss: 0.7984 - val_acc: 0.7405\n",
            "Epoch 23/50\n",
            " - 25s - loss: 0.7197 - acc: 0.7494 - val_loss: 0.7381 - val_acc: 0.7573\n",
            "Epoch 24/50\n",
            " - 25s - loss: 0.6979 - acc: 0.7594 - val_loss: 0.7360 - val_acc: 0.7578\n",
            "Epoch 25/50\n",
            " - 25s - loss: 0.6933 - acc: 0.7612 - val_loss: 0.7504 - val_acc: 0.7525\n",
            "Epoch 26/50\n",
            " - 24s - loss: 0.6772 - acc: 0.7663 - val_loss: 0.7780 - val_acc: 0.7416\n",
            "Epoch 27/50\n",
            " - 25s - loss: 0.6628 - acc: 0.7708 - val_loss: 0.6789 - val_acc: 0.7748\n",
            "Epoch 28/50\n",
            " - 25s - loss: 0.6550 - acc: 0.7718 - val_loss: 0.7036 - val_acc: 0.7640\n",
            "Epoch 29/50\n",
            " - 25s - loss: 0.6402 - acc: 0.7793 - val_loss: 0.6665 - val_acc: 0.7783\n",
            "Epoch 30/50\n",
            " - 25s - loss: 0.6294 - acc: 0.7817 - val_loss: 0.7142 - val_acc: 0.7676\n",
            "Epoch 31/50\n",
            " - 25s - loss: 0.6186 - acc: 0.7842 - val_loss: 0.6704 - val_acc: 0.7779\n",
            "Epoch 32/50\n",
            " - 25s - loss: 0.6176 - acc: 0.7858 - val_loss: 0.6610 - val_acc: 0.7837\n",
            "Epoch 33/50\n",
            " - 25s - loss: 0.6069 - acc: 0.7879 - val_loss: 0.6947 - val_acc: 0.7678\n",
            "Epoch 34/50\n",
            " - 24s - loss: 0.5965 - acc: 0.7923 - val_loss: 0.7291 - val_acc: 0.7644\n",
            "Epoch 35/50\n",
            " - 24s - loss: 0.5842 - acc: 0.7969 - val_loss: 0.6651 - val_acc: 0.7875\n",
            "Epoch 36/50\n",
            " - 24s - loss: 0.5816 - acc: 0.7996 - val_loss: 0.6796 - val_acc: 0.7720\n",
            "Epoch 37/50\n",
            " - 24s - loss: 0.5681 - acc: 0.8030 - val_loss: 0.6708 - val_acc: 0.7770\n",
            "Epoch 38/50\n",
            " - 24s - loss: 0.5570 - acc: 0.8065 - val_loss: 0.8075 - val_acc: 0.7558\n",
            "Epoch 39/50\n",
            " - 24s - loss: 0.5560 - acc: 0.8093 - val_loss: 0.6145 - val_acc: 0.7946\n",
            "Epoch 40/50\n",
            " - 24s - loss: 0.5503 - acc: 0.8098 - val_loss: 0.6332 - val_acc: 0.7949\n",
            "Epoch 41/50\n",
            " - 24s - loss: 0.5389 - acc: 0.8137 - val_loss: 0.6586 - val_acc: 0.7872\n",
            "Epoch 42/50\n",
            " - 24s - loss: 0.5329 - acc: 0.8142 - val_loss: 0.6687 - val_acc: 0.7818\n",
            "Epoch 43/50\n",
            " - 24s - loss: 0.5240 - acc: 0.8177 - val_loss: 0.6579 - val_acc: 0.7861\n",
            "Epoch 44/50\n",
            " - 24s - loss: 0.5192 - acc: 0.8206 - val_loss: 0.6198 - val_acc: 0.7933\n",
            "Epoch 45/50\n",
            " - 24s - loss: 0.5147 - acc: 0.8212 - val_loss: 0.6154 - val_acc: 0.7983\n",
            "Epoch 46/50\n",
            " - 24s - loss: 0.5021 - acc: 0.8274 - val_loss: 0.6510 - val_acc: 0.7851\n",
            "Epoch 47/50\n",
            " - 24s - loss: 0.5075 - acc: 0.8246 - val_loss: 0.6075 - val_acc: 0.7975\n",
            "Epoch 48/50\n",
            " - 24s - loss: 0.4909 - acc: 0.8294 - val_loss: 0.6392 - val_acc: 0.7939\n",
            "Epoch 49/50\n",
            " - 24s - loss: 0.4835 - acc: 0.8331 - val_loss: 0.6323 - val_acc: 0.7978\n",
            "Epoch 50/50\n",
            " - 24s - loss: 0.4781 - acc: 0.8340 - val_loss: 0.6444 - val_acc: 0.7914\n",
            "\n",
            "Training, Fold 3:\n",
            "Train on 40000 samples, validate on 10000 samples\n",
            "Epoch 1/50\n",
            " - 24s - loss: 2.0960 - acc: 0.3275 - val_loss: 1.5069 - val_acc: 0.4670\n",
            "Epoch 2/50\n",
            " - 24s - loss: 1.5618 - acc: 0.4462 - val_loss: 1.4677 - val_acc: 0.5138\n",
            "Epoch 3/50\n",
            " - 24s - loss: 1.3975 - acc: 0.5066 - val_loss: 1.3343 - val_acc: 0.5506\n",
            "Epoch 4/50\n",
            " - 24s - loss: 1.3002 - acc: 0.5400 - val_loss: 1.2559 - val_acc: 0.5824\n",
            "Epoch 5/50\n",
            " - 24s - loss: 1.2184 - acc: 0.5705 - val_loss: 1.3932 - val_acc: 0.5574\n",
            "Epoch 6/50\n",
            " - 24s - loss: 1.1489 - acc: 0.5964 - val_loss: 1.2290 - val_acc: 0.6174\n",
            "Epoch 7/50\n",
            " - 24s - loss: 1.0941 - acc: 0.6173 - val_loss: 1.0203 - val_acc: 0.6563\n",
            "Epoch 8/50\n",
            " - 24s - loss: 1.0559 - acc: 0.6314 - val_loss: 0.9623 - val_acc: 0.6719\n",
            "Epoch 9/50\n",
            " - 24s - loss: 1.0217 - acc: 0.6432 - val_loss: 1.0744 - val_acc: 0.6494\n",
            "Epoch 10/50\n",
            " - 24s - loss: 0.9863 - acc: 0.6551 - val_loss: 1.0216 - val_acc: 0.6698\n",
            "Epoch 11/50\n",
            " - 24s - loss: 0.9563 - acc: 0.6650 - val_loss: 0.9675 - val_acc: 0.6781\n",
            "Epoch 12/50\n",
            " - 24s - loss: 0.9214 - acc: 0.6819 - val_loss: 0.8618 - val_acc: 0.7076\n",
            "Epoch 13/50\n",
            " - 23s - loss: 0.8994 - acc: 0.6869 - val_loss: 0.9474 - val_acc: 0.6962\n",
            "Epoch 14/50\n",
            " - 23s - loss: 0.8697 - acc: 0.6969 - val_loss: 0.8390 - val_acc: 0.7167\n",
            "Epoch 15/50\n",
            " - 23s - loss: 0.8494 - acc: 0.7060 - val_loss: 0.8238 - val_acc: 0.7172\n",
            "Epoch 16/50\n",
            " - 23s - loss: 0.8323 - acc: 0.7106 - val_loss: 0.8494 - val_acc: 0.7196\n",
            "Epoch 17/50\n",
            " - 23s - loss: 0.8125 - acc: 0.7185 - val_loss: 0.7955 - val_acc: 0.7336\n",
            "Epoch 18/50\n",
            " - 23s - loss: 0.7894 - acc: 0.7265 - val_loss: 0.8809 - val_acc: 0.7048\n",
            "Epoch 19/50\n",
            " - 23s - loss: 0.7716 - acc: 0.7339 - val_loss: 0.7485 - val_acc: 0.7475\n",
            "Epoch 20/50\n",
            " - 23s - loss: 0.7573 - acc: 0.7353 - val_loss: 0.7575 - val_acc: 0.7411\n",
            "Epoch 21/50\n",
            " - 23s - loss: 0.7380 - acc: 0.7414 - val_loss: 0.7522 - val_acc: 0.7442\n",
            "Epoch 22/50\n",
            " - 23s - loss: 0.7276 - acc: 0.7473 - val_loss: 0.7524 - val_acc: 0.7470\n",
            "Epoch 23/50\n",
            " - 23s - loss: 0.7104 - acc: 0.7522 - val_loss: 0.7248 - val_acc: 0.7552\n",
            "Epoch 24/50\n",
            " - 23s - loss: 0.6940 - acc: 0.7594 - val_loss: 0.7553 - val_acc: 0.7454\n",
            "Epoch 25/50\n",
            " - 23s - loss: 0.6819 - acc: 0.7636 - val_loss: 0.7043 - val_acc: 0.7622\n",
            "Epoch 26/50\n",
            " - 23s - loss: 0.6693 - acc: 0.7683 - val_loss: 0.7091 - val_acc: 0.7697\n",
            "Epoch 27/50\n",
            " - 23s - loss: 0.6544 - acc: 0.7710 - val_loss: 0.8525 - val_acc: 0.7213\n",
            "Epoch 28/50\n",
            " - 23s - loss: 0.6529 - acc: 0.7715 - val_loss: 0.7007 - val_acc: 0.7637\n",
            "Epoch 29/50\n",
            " - 23s - loss: 0.6358 - acc: 0.7790 - val_loss: 0.7339 - val_acc: 0.7681\n",
            "Epoch 30/50\n",
            " - 23s - loss: 0.6295 - acc: 0.7808 - val_loss: 0.7234 - val_acc: 0.7613\n",
            "Epoch 31/50\n",
            " - 23s - loss: 0.6176 - acc: 0.7853 - val_loss: 0.7179 - val_acc: 0.7636\n",
            "Epoch 32/50\n",
            " - 23s - loss: 0.6056 - acc: 0.7919 - val_loss: 0.7244 - val_acc: 0.7693\n",
            "Epoch 33/50\n",
            " - 23s - loss: 0.6015 - acc: 0.7913 - val_loss: 0.8126 - val_acc: 0.7426\n",
            "Epoch 34/50\n",
            " - 23s - loss: 0.5882 - acc: 0.7973 - val_loss: 0.6760 - val_acc: 0.7794\n",
            "Epoch 35/50\n",
            " - 23s - loss: 0.5740 - acc: 0.7984 - val_loss: 0.6935 - val_acc: 0.7757\n",
            "Epoch 36/50\n",
            " - 23s - loss: 0.5729 - acc: 0.8016 - val_loss: 0.6628 - val_acc: 0.7834\n",
            "Epoch 37/50\n",
            " - 23s - loss: 0.5669 - acc: 0.8051 - val_loss: 0.6452 - val_acc: 0.7864\n",
            "Epoch 38/50\n",
            " - 23s - loss: 0.5575 - acc: 0.8065 - val_loss: 0.6482 - val_acc: 0.7851\n",
            "Epoch 39/50\n",
            " - 23s - loss: 0.5471 - acc: 0.8074 - val_loss: 0.6838 - val_acc: 0.7791\n",
            "Epoch 40/50\n",
            " - 23s - loss: 0.5394 - acc: 0.8117 - val_loss: 0.6440 - val_acc: 0.7858\n",
            "Epoch 41/50\n",
            " - 23s - loss: 0.5360 - acc: 0.8126 - val_loss: 0.6641 - val_acc: 0.7812\n",
            "Epoch 42/50\n",
            " - 23s - loss: 0.5284 - acc: 0.8157 - val_loss: 0.6981 - val_acc: 0.7710\n",
            "Epoch 43/50\n",
            " - 23s - loss: 0.5228 - acc: 0.8179 - val_loss: 0.6488 - val_acc: 0.7828\n",
            "Epoch 44/50\n",
            " - 23s - loss: 0.5130 - acc: 0.8207 - val_loss: 0.7447 - val_acc: 0.7639\n",
            "Epoch 45/50\n",
            " - 23s - loss: 0.5085 - acc: 0.8216 - val_loss: 0.6575 - val_acc: 0.7852\n",
            "Epoch 46/50\n",
            " - 23s - loss: 0.5080 - acc: 0.8241 - val_loss: 0.6722 - val_acc: 0.7804\n",
            "Epoch 47/50\n",
            " - 23s - loss: 0.4973 - acc: 0.8264 - val_loss: 0.6251 - val_acc: 0.7958\n",
            "Epoch 48/50\n",
            " - 23s - loss: 0.4852 - acc: 0.8318 - val_loss: 0.7133 - val_acc: 0.7775\n",
            "Epoch 49/50\n",
            " - 23s - loss: 0.4831 - acc: 0.8332 - val_loss: 0.6214 - val_acc: 0.7901\n",
            "Epoch 50/50\n",
            " - 23s - loss: 0.4769 - acc: 0.8344 - val_loss: 0.6494 - val_acc: 0.7886\n",
            "\n",
            "Training, Fold 4:\n",
            "Train on 40000 samples, validate on 10000 samples\n",
            "Epoch 1/50\n",
            " - 23s - loss: 2.1028 - acc: 0.3273 - val_loss: 1.4322 - val_acc: 0.4950\n",
            "Epoch 2/50\n",
            " - 23s - loss: 1.5776 - acc: 0.4437 - val_loss: 1.3459 - val_acc: 0.5335\n",
            "Epoch 3/50\n",
            " - 23s - loss: 1.4105 - acc: 0.5028 - val_loss: 1.1750 - val_acc: 0.5867\n",
            "Epoch 4/50\n",
            " - 23s - loss: 1.3029 - acc: 0.5418 - val_loss: 1.1493 - val_acc: 0.5978\n",
            "Epoch 5/50\n",
            " - 23s - loss: 1.2226 - acc: 0.5694 - val_loss: 1.4753 - val_acc: 0.5579\n",
            "Epoch 6/50\n",
            " - 23s - loss: 1.1637 - acc: 0.5879 - val_loss: 1.0134 - val_acc: 0.6468\n",
            "Epoch 7/50\n",
            " - 23s - loss: 1.1087 - acc: 0.6115 - val_loss: 1.0152 - val_acc: 0.6534\n",
            "Epoch 8/50\n",
            " - 23s - loss: 1.0619 - acc: 0.6298 - val_loss: 1.2822 - val_acc: 0.6122\n",
            "Epoch 9/50\n",
            " - 23s - loss: 1.0300 - acc: 0.6411 - val_loss: 0.9753 - val_acc: 0.6743\n",
            "Epoch 10/50\n",
            " - 23s - loss: 0.9932 - acc: 0.6516 - val_loss: 0.9395 - val_acc: 0.6814\n",
            "Epoch 11/50\n",
            " - 23s - loss: 0.9639 - acc: 0.6662 - val_loss: 0.9051 - val_acc: 0.6879\n",
            "Epoch 12/50\n",
            " - 23s - loss: 0.9348 - acc: 0.6750 - val_loss: 0.8372 - val_acc: 0.7117\n",
            "Epoch 13/50\n",
            " - 23s - loss: 0.9016 - acc: 0.6877 - val_loss: 0.8106 - val_acc: 0.7219\n",
            "Epoch 14/50\n",
            " - 23s - loss: 0.8796 - acc: 0.6939 - val_loss: 0.9272 - val_acc: 0.6864\n",
            "Epoch 15/50\n",
            " - 23s - loss: 0.8608 - acc: 0.7019 - val_loss: 0.7763 - val_acc: 0.7311\n",
            "Epoch 16/50\n",
            " - 23s - loss: 0.8339 - acc: 0.7110 - val_loss: 0.8141 - val_acc: 0.7279\n",
            "Epoch 17/50\n",
            " - 23s - loss: 0.8165 - acc: 0.7175 - val_loss: 0.7531 - val_acc: 0.7424\n",
            "Epoch 18/50\n",
            " - 23s - loss: 0.7972 - acc: 0.7239 - val_loss: 0.7324 - val_acc: 0.7442\n",
            "Epoch 19/50\n",
            " - 23s - loss: 0.7806 - acc: 0.7254 - val_loss: 0.7042 - val_acc: 0.7558\n",
            "Epoch 20/50\n",
            " - 23s - loss: 0.7652 - acc: 0.7364 - val_loss: 0.7040 - val_acc: 0.7547\n",
            "Epoch 21/50\n",
            " - 23s - loss: 0.7460 - acc: 0.7424 - val_loss: 0.7041 - val_acc: 0.7586\n",
            "Epoch 22/50\n",
            " - 24s - loss: 0.7347 - acc: 0.7461 - val_loss: 0.6671 - val_acc: 0.7686\n",
            "Epoch 23/50\n",
            " - 24s - loss: 0.7170 - acc: 0.7489 - val_loss: 0.7593 - val_acc: 0.7452\n",
            "Epoch 24/50\n",
            " - 23s - loss: 0.7066 - acc: 0.7574 - val_loss: 0.6836 - val_acc: 0.7614\n",
            "Epoch 25/50\n",
            " - 23s - loss: 0.6915 - acc: 0.7597 - val_loss: 0.7415 - val_acc: 0.7433\n",
            "Epoch 26/50\n",
            " - 23s - loss: 0.6847 - acc: 0.7618 - val_loss: 0.6631 - val_acc: 0.7696\n",
            "Epoch 27/50\n",
            " - 23s - loss: 0.6702 - acc: 0.7664 - val_loss: 0.6935 - val_acc: 0.7654\n",
            "Epoch 28/50\n",
            " - 23s - loss: 0.6605 - acc: 0.7721 - val_loss: 0.6513 - val_acc: 0.7742\n",
            "Epoch 29/50\n",
            " - 23s - loss: 0.6522 - acc: 0.7721 - val_loss: 0.6191 - val_acc: 0.7837\n",
            "Epoch 30/50\n",
            " - 24s - loss: 0.6388 - acc: 0.7800 - val_loss: 0.6338 - val_acc: 0.7823\n",
            "Epoch 31/50\n",
            " - 23s - loss: 0.6258 - acc: 0.7841 - val_loss: 0.6204 - val_acc: 0.7836\n",
            "Epoch 32/50\n",
            " - 23s - loss: 0.6187 - acc: 0.7867 - val_loss: 0.6689 - val_acc: 0.7697\n",
            "Epoch 33/50\n",
            " - 24s - loss: 0.6107 - acc: 0.7888 - val_loss: 0.6704 - val_acc: 0.7684\n",
            "Epoch 34/50\n",
            " - 24s - loss: 0.6053 - acc: 0.7908 - val_loss: 0.6637 - val_acc: 0.7760\n",
            "Epoch 35/50\n",
            " - 23s - loss: 0.5871 - acc: 0.7951 - val_loss: 0.6609 - val_acc: 0.7755\n",
            "Epoch 36/50\n",
            " - 23s - loss: 0.5776 - acc: 0.7992 - val_loss: 0.6099 - val_acc: 0.7895\n",
            "Epoch 37/50\n",
            " - 24s - loss: 0.5815 - acc: 0.8003 - val_loss: 0.6326 - val_acc: 0.7867\n",
            "Epoch 38/50\n",
            " - 24s - loss: 0.5717 - acc: 0.8029 - val_loss: 0.6733 - val_acc: 0.7753\n",
            "Epoch 39/50\n",
            " - 23s - loss: 0.5603 - acc: 0.8041 - val_loss: 0.6316 - val_acc: 0.7864\n",
            "Epoch 40/50\n",
            " - 24s - loss: 0.5544 - acc: 0.8094 - val_loss: 0.6474 - val_acc: 0.7765\n",
            "Epoch 41/50\n",
            " - 23s - loss: 0.5497 - acc: 0.8090 - val_loss: 0.6348 - val_acc: 0.7816\n",
            "Epoch 42/50\n",
            " - 23s - loss: 0.5392 - acc: 0.8149 - val_loss: 0.6720 - val_acc: 0.7756\n",
            "Epoch 43/50\n",
            " - 23s - loss: 0.5278 - acc: 0.8159 - val_loss: 0.5868 - val_acc: 0.7991\n",
            "Epoch 44/50\n",
            " - 24s - loss: 0.5229 - acc: 0.8194 - val_loss: 0.5821 - val_acc: 0.8054\n",
            "Epoch 45/50\n",
            " - 23s - loss: 0.5187 - acc: 0.8212 - val_loss: 0.7022 - val_acc: 0.7690\n",
            "Epoch 46/50\n",
            " - 24s - loss: 0.5111 - acc: 0.8223 - val_loss: 0.6173 - val_acc: 0.7940\n",
            "Epoch 47/50\n",
            " - 23s - loss: 0.4986 - acc: 0.8278 - val_loss: 0.5964 - val_acc: 0.8013\n",
            "Epoch 48/50\n",
            " - 23s - loss: 0.4954 - acc: 0.8267 - val_loss: 0.5713 - val_acc: 0.8060\n",
            "Epoch 49/50\n",
            " - 24s - loss: 0.4970 - acc: 0.8272 - val_loss: 0.6008 - val_acc: 0.7939\n",
            "Epoch 50/50\n",
            " - 23s - loss: 0.4830 - acc: 0.8314 - val_loss: 0.6416 - val_acc: 0.7868\n",
            "\n",
            "Training, Fold 5:\n",
            "Train on 40000 samples, validate on 10000 samples\n",
            "Epoch 1/50\n",
            " - 23s - loss: 2.0842 - acc: 0.3296 - val_loss: 1.4380 - val_acc: 0.4961\n",
            "Epoch 2/50\n",
            " - 24s - loss: 1.5647 - acc: 0.4475 - val_loss: 1.3577 - val_acc: 0.5402\n",
            "Epoch 3/50\n",
            " - 23s - loss: 1.4030 - acc: 0.5052 - val_loss: 1.1764 - val_acc: 0.5901\n",
            "Epoch 4/50\n",
            " - 24s - loss: 1.2951 - acc: 0.5407 - val_loss: 1.2894 - val_acc: 0.5673\n",
            "Epoch 5/50\n",
            " - 24s - loss: 1.2214 - acc: 0.5712 - val_loss: 1.1664 - val_acc: 0.6142\n",
            "Epoch 6/50\n",
            " - 23s - loss: 1.1564 - acc: 0.5901 - val_loss: 1.2065 - val_acc: 0.6201\n",
            "Epoch 7/50\n",
            " - 23s - loss: 1.1041 - acc: 0.6111 - val_loss: 1.0927 - val_acc: 0.6492\n",
            "Epoch 8/50\n",
            " - 23s - loss: 1.0565 - acc: 0.6307 - val_loss: 1.0608 - val_acc: 0.6500\n",
            "Epoch 9/50\n",
            " - 24s - loss: 1.0187 - acc: 0.6460 - val_loss: 0.9081 - val_acc: 0.6922\n",
            "Epoch 10/50\n",
            " - 23s - loss: 0.9813 - acc: 0.6552 - val_loss: 0.9960 - val_acc: 0.6646\n",
            "Epoch 11/50\n",
            " - 24s - loss: 0.9512 - acc: 0.6695 - val_loss: 1.0203 - val_acc: 0.6711\n",
            "Epoch 12/50\n",
            " - 23s - loss: 0.9235 - acc: 0.6771 - val_loss: 0.9000 - val_acc: 0.7035\n",
            "Epoch 13/50\n",
            " - 25s - loss: 0.8937 - acc: 0.6875 - val_loss: 0.8997 - val_acc: 0.7077\n",
            "Epoch 14/50\n",
            " - 26s - loss: 0.8789 - acc: 0.6931 - val_loss: 0.7586 - val_acc: 0.7405\n",
            "Epoch 15/50\n",
            " - 26s - loss: 0.8513 - acc: 0.7044 - val_loss: 0.7555 - val_acc: 0.7380\n",
            "Epoch 16/50\n",
            " - 25s - loss: 0.8326 - acc: 0.7113 - val_loss: 0.8267 - val_acc: 0.7247\n",
            "Epoch 17/50\n",
            " - 25s - loss: 0.8125 - acc: 0.7183 - val_loss: 0.8651 - val_acc: 0.7199\n",
            "Epoch 18/50\n",
            " - 27s - loss: 0.7872 - acc: 0.7265 - val_loss: 0.8075 - val_acc: 0.7197\n",
            "Epoch 19/50\n",
            " - 26s - loss: 0.7757 - acc: 0.7290 - val_loss: 0.7179 - val_acc: 0.7495\n",
            "Epoch 20/50\n",
            " - 25s - loss: 0.7562 - acc: 0.7368 - val_loss: 0.7097 - val_acc: 0.7557\n",
            "Epoch 21/50\n",
            " - 25s - loss: 0.7367 - acc: 0.7447 - val_loss: 0.6994 - val_acc: 0.7585\n",
            "Epoch 22/50\n",
            " - 27s - loss: 0.7257 - acc: 0.7472 - val_loss: 0.7356 - val_acc: 0.7542\n",
            "Epoch 23/50\n",
            " - 28s - loss: 0.7109 - acc: 0.7540 - val_loss: 0.6838 - val_acc: 0.7679\n",
            "Epoch 24/50\n",
            " - 28s - loss: 0.7042 - acc: 0.7553 - val_loss: 0.7574 - val_acc: 0.7474\n",
            "Epoch 25/50\n",
            " - 26s - loss: 0.6880 - acc: 0.7608 - val_loss: 0.6979 - val_acc: 0.7640\n",
            "Epoch 26/50\n",
            " - 25s - loss: 0.6775 - acc: 0.7624 - val_loss: 0.6742 - val_acc: 0.7779\n",
            "Epoch 27/50\n",
            " - 25s - loss: 0.6655 - acc: 0.7701 - val_loss: 0.7198 - val_acc: 0.7647\n",
            "Epoch 28/50\n",
            " - 26s - loss: 0.6497 - acc: 0.7750 - val_loss: 0.6523 - val_acc: 0.7814\n",
            "Epoch 29/50\n",
            " - 26s - loss: 0.6411 - acc: 0.7777 - val_loss: 0.7139 - val_acc: 0.7545\n",
            "Epoch 30/50\n",
            " - 25s - loss: 0.6293 - acc: 0.7817 - val_loss: 0.6766 - val_acc: 0.7742\n",
            "Epoch 31/50\n",
            " - 25s - loss: 0.6220 - acc: 0.7830 - val_loss: 0.6270 - val_acc: 0.7851\n",
            "Epoch 32/50\n",
            " - 25s - loss: 0.6127 - acc: 0.7882 - val_loss: 0.6894 - val_acc: 0.7760\n",
            "Epoch 33/50\n",
            " - 25s - loss: 0.6013 - acc: 0.7884 - val_loss: 0.6509 - val_acc: 0.7846\n",
            "Epoch 34/50\n",
            " - 24s - loss: 0.5919 - acc: 0.7949 - val_loss: 0.7200 - val_acc: 0.7618\n",
            "Epoch 35/50\n",
            " - 24s - loss: 0.5799 - acc: 0.7975 - val_loss: 0.6405 - val_acc: 0.7902\n",
            "Epoch 36/50\n",
            " - 24s - loss: 0.5705 - acc: 0.8006 - val_loss: 0.6575 - val_acc: 0.7883\n",
            "Epoch 37/50\n",
            " - 24s - loss: 0.5648 - acc: 0.8033 - val_loss: 0.6555 - val_acc: 0.7865\n",
            "Epoch 38/50\n",
            " - 24s - loss: 0.5573 - acc: 0.8054 - val_loss: 0.7004 - val_acc: 0.7694\n",
            "Epoch 39/50\n",
            " - 24s - loss: 0.5517 - acc: 0.8088 - val_loss: 0.6387 - val_acc: 0.7906\n",
            "Epoch 40/50\n",
            " - 24s - loss: 0.5376 - acc: 0.8139 - val_loss: 0.6055 - val_acc: 0.8003\n",
            "Epoch 41/50\n",
            " - 24s - loss: 0.5444 - acc: 0.8135 - val_loss: 0.6549 - val_acc: 0.7873\n",
            "Epoch 42/50\n",
            " - 24s - loss: 0.5301 - acc: 0.8171 - val_loss: 0.6096 - val_acc: 0.8009\n",
            "Epoch 43/50\n",
            " - 24s - loss: 0.5221 - acc: 0.8190 - val_loss: 0.6437 - val_acc: 0.7865\n",
            "Epoch 44/50\n",
            " - 24s - loss: 0.5058 - acc: 0.8230 - val_loss: 0.6216 - val_acc: 0.7963\n",
            "Epoch 45/50\n",
            " - 24s - loss: 0.5039 - acc: 0.8246 - val_loss: 0.5934 - val_acc: 0.8051\n",
            "Epoch 46/50\n",
            " - 24s - loss: 0.5002 - acc: 0.8261 - val_loss: 0.6034 - val_acc: 0.8008\n",
            "Epoch 47/50\n",
            " - 24s - loss: 0.4945 - acc: 0.8303 - val_loss: 0.6001 - val_acc: 0.8045\n",
            "Epoch 48/50\n",
            " - 24s - loss: 0.4945 - acc: 0.8279 - val_loss: 0.6217 - val_acc: 0.7998\n",
            "Epoch 49/50\n",
            " - 24s - loss: 0.4904 - acc: 0.8314 - val_loss: 0.6644 - val_acc: 0.7920\n",
            "Epoch 50/50\n",
            " - 24s - loss: 0.4772 - acc: 0.8337 - val_loss: 0.7105 - val_acc: 0.7829\n"
          ],
          "name": "stdout"
        }
      ]
    },
    {
      "metadata": {
        "id": "izxJu1QJqex3",
        "colab_type": "code",
        "outputId": "f232c24b-f20b-4244-c6d0-b83f113bc841",
        "colab": {
          "base_uri": "https://localhost:8080/",
          "height": 34
        }
      },
      "cell_type": "code",
      "source": [
        "print(\"Final average accuracy with k-fold validation: %f\" % (avg_acc/k_fold))"
      ],
      "execution_count": 0,
      "outputs": [
        {
          "output_type": "stream",
          "text": [
            "Final average accuracy with k-fold validation: 0.789920\n"
          ],
          "name": "stdout"
        }
      ]
    },
    {
      "metadata": {
        "id": "XWdz-BO5Ur9m",
        "colab_type": "text"
      },
      "cell_type": "markdown",
      "source": [
        "This final average accuracy is ever so slightly higher than when it was just simple hold-out validation, and reflects how the model was able to achieve accuracies above 80% at some epochs."
      ]
    }
  ]
}