{
  "nbformat": 4,
  "nbformat_minor": 0,
  "metadata": {
    "colab": {
      "name": "model_simple.ipynb",
      "version": "0.3.2",
      "provenance": [],
      "collapsed_sections": []
    },
    "kernelspec": {
      "name": "python3",
      "display_name": "Python 3"
    },
    "accelerator": "GPU"
  },
  "cells": [
    {
      "metadata": {
        "id": "dq6lguBY1Xo3",
        "colab_type": "code",
        "colab": {
          "base_uri": "https://localhost:8080/",
          "height": 34
        },
        "outputId": "24492f19-b4b6-43f2-9b6e-766a550f114c"
      },
      "cell_type": "code",
      "source": [
        "from keras.datasets import cifar10\n",
        "from keras import layers\n",
        "from keras import models\n",
        "from keras import optimizers\n",
        "from keras.preprocessing.image import ImageDataGenerator\n",
        "from keras.utils import to_categorical\n",
        "\n",
        "import matplotlib.pyplot as plt\n",
        "\n",
        "from google.colab import files\n",
        "\n",
        "import numpy as np\n",
        "\n",
        "(train_images_original, train_labels_original), (test_images_original, test_labels_original) = cifar10.load_data()"
      ],
      "execution_count": 1,
      "outputs": [
        {
          "output_type": "stream",
          "text": [
            "Using TensorFlow backend.\n"
          ],
          "name": "stderr"
        }
      ]
    },
    {
      "metadata": {
        "id": "fTI9VqK66uPy",
        "colab_type": "code",
        "colab": {}
      },
      "cell_type": "code",
      "source": [
        "data_images = train_images_original / 255.0\n",
        "test_images = test_images_original / 255.0\n",
        "\n",
        "data_labels = train_labels_original\n",
        "test_labels = test_labels_original"
      ],
      "execution_count": 0,
      "outputs": []
    },
    {
      "metadata": {
        "id": "eMMWqULx_JzO",
        "colab_type": "code",
        "colab": {}
      },
      "cell_type": "code",
      "source": [
        "data_size = len(data_images)\n",
        "val_size = int(data_size * 0.2)\n",
        "\n",
        "shuffled_i = np.random.permutation(data_size)\n",
        "data_images = data_images[shuffled_i]\n",
        "data_labels = data_labels[shuffled_i]\n",
        "\n",
        "val_images = data_images[:val_size]\n",
        "train_images = data_images[val_size:]\n",
        "\n",
        "val_labels = data_labels[:val_size]\n",
        "train_labels = data_labels[val_size:]"
      ],
      "execution_count": 0,
      "outputs": []
    },
    {
      "metadata": {
        "id": "beeWmYIX2fY7",
        "colab_type": "code",
        "colab": {
          "base_uri": "https://localhost:8080/",
          "height": 522
        },
        "outputId": "1d84eedf-6db5-485f-f970-41e9cbe7a9ea"
      },
      "cell_type": "code",
      "source": [
        "model = models.Sequential()\n",
        "\n",
        "model.add(layers.Conv2D(32, (3, 3), activation='relu', input_shape=(32, 32, 3)))\n",
        "model.add(layers.MaxPooling2D(2, 2))\n",
        "\n",
        "model.add(layers.Conv2D(64, (3, 3), activation='relu'))\n",
        "model.add(layers.MaxPooling2D(2, 2))\n",
        "\n",
        "model.add(layers.Conv2D(128, (3, 3), activation='relu'))\n",
        "model.add(layers.MaxPooling2D(2, 2))\n",
        "\n",
        "model.add(layers.Flatten())\n",
        "model.add(layers.Dense(512, activation='relu'))\n",
        "model.add(layers.Dense(10, activation='softmax'))\n",
        "\n",
        "model.summary()"
      ],
      "execution_count": 5,
      "outputs": [
        {
          "output_type": "stream",
          "text": [
            "WARNING:tensorflow:From /usr/local/lib/python3.6/dist-packages/tensorflow/python/framework/op_def_library.py:263: colocate_with (from tensorflow.python.framework.ops) is deprecated and will be removed in a future version.\n",
            "Instructions for updating:\n",
            "Colocations handled automatically by placer.\n",
            "_________________________________________________________________\n",
            "Layer (type)                 Output Shape              Param #   \n",
            "=================================================================\n",
            "conv2d_1 (Conv2D)            (None, 30, 30, 32)        896       \n",
            "_________________________________________________________________\n",
            "max_pooling2d_1 (MaxPooling2 (None, 15, 15, 32)        0         \n",
            "_________________________________________________________________\n",
            "conv2d_2 (Conv2D)            (None, 13, 13, 64)        18496     \n",
            "_________________________________________________________________\n",
            "max_pooling2d_2 (MaxPooling2 (None, 6, 6, 64)          0         \n",
            "_________________________________________________________________\n",
            "conv2d_3 (Conv2D)            (None, 4, 4, 128)         73856     \n",
            "_________________________________________________________________\n",
            "max_pooling2d_3 (MaxPooling2 (None, 2, 2, 128)         0         \n",
            "_________________________________________________________________\n",
            "flatten_1 (Flatten)          (None, 512)               0         \n",
            "_________________________________________________________________\n",
            "dense_1 (Dense)              (None, 512)               262656    \n",
            "_________________________________________________________________\n",
            "dense_2 (Dense)              (None, 10)                5130      \n",
            "=================================================================\n",
            "Total params: 361,034\n",
            "Trainable params: 361,034\n",
            "Non-trainable params: 0\n",
            "_________________________________________________________________\n"
          ],
          "name": "stdout"
        }
      ]
    },
    {
      "metadata": {
        "id": "YRu9_UOF4xwp",
        "colab_type": "code",
        "colab": {}
      },
      "cell_type": "code",
      "source": [
        "model.compile(\n",
        "    loss='sparse_categorical_crossentropy', \n",
        "    optimizer=optimizers.RMSprop(lr=1e-4),\n",
        "    metrics=['acc']\n",
        ")"
      ],
      "execution_count": 0,
      "outputs": []
    },
    {
      "metadata": {
        "id": "_4XEypKL9OYX",
        "colab_type": "code",
        "colab": {
          "base_uri": "https://localhost:8080/",
          "height": 1840
        },
        "outputId": "03bf7054-dfde-4ef0-ee6c-02fb6b1179a1"
      },
      "cell_type": "code",
      "source": [
        "epochs = 50\n",
        "history = model.fit(train_images, \n",
        "                      train_labels, \n",
        "                      epochs=epochs,  \n",
        "                      validation_data=(val_images, val_labels))"
      ],
      "execution_count": 7,
      "outputs": [
        {
          "output_type": "stream",
          "text": [
            "WARNING:tensorflow:From /usr/local/lib/python3.6/dist-packages/tensorflow/python/ops/math_ops.py:3066: to_int32 (from tensorflow.python.ops.math_ops) is deprecated and will be removed in a future version.\n",
            "Instructions for updating:\n",
            "Use tf.cast instead.\n",
            "Train on 40000 samples, validate on 10000 samples\n",
            "Epoch 1/50\n",
            "40000/40000 [==============================] - 16s 393us/step - loss: 1.8612 - acc: 0.3227 - val_loss: 1.6586 - val_acc: 0.4031\n",
            "Epoch 2/50\n",
            "40000/40000 [==============================] - 14s 359us/step - loss: 1.5698 - acc: 0.4292 - val_loss: 1.4957 - val_acc: 0.4565\n",
            "Epoch 3/50\n",
            "40000/40000 [==============================] - 14s 353us/step - loss: 1.4350 - acc: 0.4831 - val_loss: 1.4476 - val_acc: 0.4811\n",
            "Epoch 4/50\n",
            "40000/40000 [==============================] - 14s 353us/step - loss: 1.3451 - acc: 0.5210 - val_loss: 1.3940 - val_acc: 0.5120\n",
            "Epoch 5/50\n",
            "40000/40000 [==============================] - 14s 353us/step - loss: 1.2718 - acc: 0.5494 - val_loss: 1.2417 - val_acc: 0.5611\n",
            "Epoch 6/50\n",
            "40000/40000 [==============================] - 14s 358us/step - loss: 1.2131 - acc: 0.5711 - val_loss: 1.2263 - val_acc: 0.5702\n",
            "Epoch 7/50\n",
            "40000/40000 [==============================] - 14s 357us/step - loss: 1.1622 - acc: 0.5919 - val_loss: 1.1570 - val_acc: 0.5950\n",
            "Epoch 8/50\n",
            "40000/40000 [==============================] - 16s 389us/step - loss: 1.1187 - acc: 0.6100 - val_loss: 1.1242 - val_acc: 0.6053\n",
            "Epoch 9/50\n",
            "40000/40000 [==============================] - 15s 379us/step - loss: 1.0763 - acc: 0.6255 - val_loss: 1.0703 - val_acc: 0.6310\n",
            "Epoch 10/50\n",
            "40000/40000 [==============================] - 14s 355us/step - loss: 1.0397 - acc: 0.6386 - val_loss: 1.0933 - val_acc: 0.6194\n",
            "Epoch 11/50\n",
            "40000/40000 [==============================] - 15s 368us/step - loss: 1.0014 - acc: 0.6516 - val_loss: 1.0574 - val_acc: 0.6316\n",
            "Epoch 12/50\n",
            "40000/40000 [==============================] - 14s 357us/step - loss: 0.9742 - acc: 0.6609 - val_loss: 1.0551 - val_acc: 0.6274\n",
            "Epoch 13/50\n",
            "40000/40000 [==============================] - 14s 355us/step - loss: 0.9438 - acc: 0.6711 - val_loss: 1.0261 - val_acc: 0.6435\n",
            "Epoch 14/50\n",
            "40000/40000 [==============================] - 14s 356us/step - loss: 0.9167 - acc: 0.6840 - val_loss: 1.0042 - val_acc: 0.6446\n",
            "Epoch 15/50\n",
            "40000/40000 [==============================] - 14s 355us/step - loss: 0.8929 - acc: 0.6923 - val_loss: 0.9856 - val_acc: 0.6587\n",
            "Epoch 16/50\n",
            "40000/40000 [==============================] - 14s 354us/step - loss: 0.8689 - acc: 0.7011 - val_loss: 0.9697 - val_acc: 0.6636\n",
            "Epoch 17/50\n",
            "40000/40000 [==============================] - 14s 355us/step - loss: 0.8431 - acc: 0.7071 - val_loss: 0.9793 - val_acc: 0.6584\n",
            "Epoch 18/50\n",
            "40000/40000 [==============================] - 15s 384us/step - loss: 0.8227 - acc: 0.7164 - val_loss: 1.0029 - val_acc: 0.6620\n",
            "Epoch 19/50\n",
            "40000/40000 [==============================] - 14s 356us/step - loss: 0.8024 - acc: 0.7248 - val_loss: 0.9383 - val_acc: 0.6771\n",
            "Epoch 20/50\n",
            "40000/40000 [==============================] - 14s 356us/step - loss: 0.7816 - acc: 0.7298 - val_loss: 0.9335 - val_acc: 0.6806\n",
            "Epoch 21/50\n",
            "40000/40000 [==============================] - 14s 353us/step - loss: 0.7609 - acc: 0.7375 - val_loss: 0.9172 - val_acc: 0.6880\n",
            "Epoch 22/50\n",
            "40000/40000 [==============================] - 14s 356us/step - loss: 0.7430 - acc: 0.7437 - val_loss: 0.9474 - val_acc: 0.6763\n",
            "Epoch 23/50\n",
            "40000/40000 [==============================] - 14s 358us/step - loss: 0.7200 - acc: 0.7523 - val_loss: 0.9200 - val_acc: 0.6865\n",
            "Epoch 24/50\n",
            "40000/40000 [==============================] - 14s 355us/step - loss: 0.7021 - acc: 0.7595 - val_loss: 0.9045 - val_acc: 0.6899\n",
            "Epoch 25/50\n",
            "40000/40000 [==============================] - 14s 352us/step - loss: 0.6832 - acc: 0.7648 - val_loss: 0.9249 - val_acc: 0.6888\n",
            "Epoch 26/50\n",
            "40000/40000 [==============================] - 14s 355us/step - loss: 0.6651 - acc: 0.7722 - val_loss: 0.9251 - val_acc: 0.6895\n",
            "Epoch 27/50\n",
            "40000/40000 [==============================] - 14s 356us/step - loss: 0.6472 - acc: 0.7772 - val_loss: 0.9204 - val_acc: 0.6873\n",
            "Epoch 28/50\n",
            "40000/40000 [==============================] - 14s 362us/step - loss: 0.6285 - acc: 0.7843 - val_loss: 0.8636 - val_acc: 0.7071\n",
            "Epoch 29/50\n",
            "40000/40000 [==============================] - 14s 356us/step - loss: 0.6114 - acc: 0.7892 - val_loss: 0.9294 - val_acc: 0.6888\n",
            "Epoch 30/50\n",
            "40000/40000 [==============================] - 14s 356us/step - loss: 0.5945 - acc: 0.7964 - val_loss: 0.8842 - val_acc: 0.7055\n",
            "Epoch 31/50\n",
            "40000/40000 [==============================] - 14s 357us/step - loss: 0.5775 - acc: 0.8017 - val_loss: 0.8840 - val_acc: 0.7086\n",
            "Epoch 32/50\n",
            "40000/40000 [==============================] - 14s 354us/step - loss: 0.5597 - acc: 0.8105 - val_loss: 0.8888 - val_acc: 0.7042\n",
            "Epoch 33/50\n",
            "40000/40000 [==============================] - 14s 355us/step - loss: 0.5456 - acc: 0.8151 - val_loss: 0.8846 - val_acc: 0.7114\n",
            "Epoch 34/50\n",
            "40000/40000 [==============================] - 14s 353us/step - loss: 0.5307 - acc: 0.8199 - val_loss: 0.8634 - val_acc: 0.7152\n",
            "Epoch 35/50\n",
            "40000/40000 [==============================] - 14s 354us/step - loss: 0.5148 - acc: 0.8254 - val_loss: 0.8942 - val_acc: 0.7071\n",
            "Epoch 36/50\n",
            "40000/40000 [==============================] - 14s 356us/step - loss: 0.4970 - acc: 0.8323 - val_loss: 0.8777 - val_acc: 0.7117\n",
            "Epoch 37/50\n",
            "40000/40000 [==============================] - 14s 355us/step - loss: 0.4813 - acc: 0.8367 - val_loss: 0.9481 - val_acc: 0.7001\n",
            "Epoch 38/50\n",
            "40000/40000 [==============================] - 14s 357us/step - loss: 0.4686 - acc: 0.8423 - val_loss: 1.0139 - val_acc: 0.6911\n",
            "Epoch 39/50\n",
            "40000/40000 [==============================] - 14s 354us/step - loss: 0.4525 - acc: 0.8473 - val_loss: 0.9155 - val_acc: 0.7107\n",
            "Epoch 40/50\n",
            "40000/40000 [==============================] - 14s 355us/step - loss: 0.4397 - acc: 0.8503 - val_loss: 0.9157 - val_acc: 0.7081\n",
            "Epoch 41/50\n",
            "40000/40000 [==============================] - 14s 353us/step - loss: 0.4244 - acc: 0.8558 - val_loss: 0.9134 - val_acc: 0.7127\n",
            "Epoch 42/50\n",
            "40000/40000 [==============================] - 14s 353us/step - loss: 0.4108 - acc: 0.8608 - val_loss: 0.9149 - val_acc: 0.7179\n",
            "Epoch 43/50\n",
            "40000/40000 [==============================] - 14s 353us/step - loss: 0.3962 - acc: 0.8666 - val_loss: 0.9283 - val_acc: 0.7159\n",
            "Epoch 44/50\n",
            "40000/40000 [==============================] - 14s 354us/step - loss: 0.3835 - acc: 0.8701 - val_loss: 0.9734 - val_acc: 0.7088\n",
            "Epoch 45/50\n",
            "40000/40000 [==============================] - 14s 359us/step - loss: 0.3678 - acc: 0.8752 - val_loss: 0.9574 - val_acc: 0.7125\n",
            "Epoch 46/50\n",
            "40000/40000 [==============================] - 14s 354us/step - loss: 0.3558 - acc: 0.8812 - val_loss: 1.0236 - val_acc: 0.7045\n",
            "Epoch 47/50\n",
            "40000/40000 [==============================] - 14s 356us/step - loss: 0.3423 - acc: 0.8858 - val_loss: 0.9746 - val_acc: 0.7163\n",
            "Epoch 48/50\n",
            "40000/40000 [==============================] - 14s 357us/step - loss: 0.3291 - acc: 0.8888 - val_loss: 1.0125 - val_acc: 0.7042\n",
            "Epoch 49/50\n",
            "40000/40000 [==============================] - 14s 355us/step - loss: 0.3155 - acc: 0.8942 - val_loss: 1.0859 - val_acc: 0.6984\n",
            "Epoch 50/50\n",
            "40000/40000 [==============================] - 14s 360us/step - loss: 0.3047 - acc: 0.8987 - val_loss: 1.0539 - val_acc: 0.7041\n"
          ],
          "name": "stdout"
        }
      ]
    },
    {
      "metadata": {
        "id": "4o-No71o9nPp",
        "colab_type": "code",
        "colab": {}
      },
      "cell_type": "code",
      "source": [
        "model.save('model_simple.h5')\n",
        "\n",
        "with open('model_simple.h5', 'r') as f:\n",
        "  files.download('model_simple.h5')"
      ],
      "execution_count": 0,
      "outputs": []
    },
    {
      "metadata": {
        "id": "5xeejSzn98_o",
        "colab_type": "code",
        "colab": {
          "base_uri": "https://localhost:8080/",
          "height": 708
        },
        "outputId": "f21480de-182f-4621-bc8e-d71409187689"
      },
      "cell_type": "code",
      "source": [
        "acc = history.history['acc']\n",
        "val_acc = history.history['val_acc']\n",
        "\n",
        "loss = history.history['loss']\n",
        "val_loss = history.history['val_loss']\n",
        "\n",
        "epochs = range(1, len(acc) + 1)\n",
        "\n",
        "# training and validation accuracy\n",
        "\n",
        "plt.plot(epochs, acc, 'bo', label='training acc')\n",
        "plt.plot(epochs, val_acc, 'b', label='validation acc')\n",
        "plt.title('training and validation accuracy')\n",
        "plt.legend()\n",
        "\n",
        "plt.figure()\n",
        "\n",
        "# training and validation loss\n",
        "\n",
        "plt.plot(epochs, loss, 'bo', label='training loss')\n",
        "plt.plot(epochs, val_loss, 'b', label='validation loss')\n",
        "plt.title('training and validation loss')\n",
        "plt.legend()\n",
        "\n",
        "plt.show()"
      ],
      "execution_count": 10,
      "outputs": [
        {
          "output_type": "display_data",
          "data": {
            "image/png": "[encoded data removed]",
            "text/plain": [
              "<Figure size 576x396 with 1 Axes>"
            ]
          },
          "metadata": {
            "tags": []
          }
        },
        {
          "output_type": "display_data",
          "data": {
            "image/png": "[encoded data removed]",
            "text/plain": [
              "<Figure size 576x396 with 1 Axes>"
            ]
          },
          "metadata": {
            "tags": []
          }
        }
      ]
    }
  ]
}