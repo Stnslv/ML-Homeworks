{
  "nbformat": 4,
  "nbformat_minor": 0,
  "metadata": {
    "colab": {
      "name": "model_simple.ipynb",
      "version": "0.3.2",
      "provenance": [],
      "collapsed_sections": []
    },
    "kernelspec": {
      "name": "python3",
      "display_name": "Python 3"
    },
    "accelerator": "GPU"
  },
  "cells": [
    {
      "metadata": {
        "id": "dq6lguBY1Xo3",
        "colab_type": "code",
        "outputId": "bfd064c6-1816-4bb3-ccee-586922d65d4b",
        "colab": {
          "base_uri": "https://localhost:8080/",
          "height": 34
        }
      },
      "cell_type": "code",
      "source": [
        "from keras.datasets import cifar10\n",
        "from keras import layers\n",
        "from keras import models\n",
        "from keras import optimizers\n",
        "from keras.preprocessing.image import ImageDataGenerator\n",
        "from keras.utils import to_categorical\n",
        "\n",
        "import matplotlib.pyplot as plt\n",
        "\n",
        "from google.colab import files\n",
        "\n",
        "import numpy as np\n",
        "\n",
        "(train_images_original, train_labels_original), (test_images_original, test_labels_original) = cifar10.load_data()"
      ],
      "execution_count": 1,
      "outputs": [
        {
          "output_type": "stream",
          "text": [
            "Using TensorFlow backend.\n"
          ],
          "name": "stderr"
        }
      ]
    },
    {
      "metadata": {
        "id": "fTI9VqK66uPy",
        "colab_type": "code",
        "colab": {}
      },
      "cell_type": "code",
      "source": [
        "data_images = train_images_original / 255.0\n",
        "test_images = test_images_original / 255.0\n",
        "\n",
        "data_labels = train_labels_original\n",
        "test_labels = test_labels_original"
      ],
      "execution_count": 0,
      "outputs": []
    },
    {
      "metadata": {
        "id": "eMMWqULx_JzO",
        "colab_type": "code",
        "colab": {}
      },
      "cell_type": "code",
      "source": [
        "data_size = len(data_images)\n",
        "val_size = int(data_size * 0.2)\n",
        "\n",
        "shuffled_i = np.random.permutation(data_size)\n",
        "data_images = data_images[shuffled_i]\n",
        "data_labels = data_labels[shuffled_i]\n",
        "\n",
        "val_images = data_images[:val_size]\n",
        "train_images = data_images[val_size:]\n",
        "\n",
        "val_labels = data_labels[:val_size]\n",
        "train_labels = data_labels[val_size:]"
      ],
      "execution_count": 0,
      "outputs": []
    },
    {
      "metadata": {
        "id": "beeWmYIX2fY7",
        "colab_type": "code",
        "outputId": "d6199741-d1ba-4243-cb87-e0fc75bdd4f1",
        "colab": {
          "base_uri": "https://localhost:8080/",
          "height": 520
        }
      },
      "cell_type": "code",
      "source": [
        "model = models.Sequential()\n",
        "\n",
        "model.add(layers.Conv2D(64, (3, 3), activation='relu', input_shape=(32, 32, 3)))\n",
        "model.add(layers.MaxPooling2D(2, 2))\n",
        "\n",
        "model.add(layers.Conv2D(128, (3, 3), activation='relu'))\n",
        "model.add(layers.MaxPooling2D(2, 2))\n",
        "\n",
        "model.add(layers.Conv2D(256, (3, 3), activation='relu'))\n",
        "model.add(layers.MaxPooling2D(2, 2))\n",
        "\n",
        "model.add(layers.Flatten())\n",
        "model.add(layers.Dense(512, activation='relu'))\n",
        "model.add(layers.Dense(10, activation='softmax'))\n",
        "\n",
        "model.summary()"
      ],
      "execution_count": 4,
      "outputs": [
        {
          "output_type": "stream",
          "text": [
            "WARNING:tensorflow:From /usr/local/lib/python3.6/dist-packages/tensorflow/python/framework/op_def_library.py:263: colocate_with (from tensorflow.python.framework.ops) is deprecated and will be removed in a future version.\n",
            "Instructions for updating:\n",
            "Colocations handled automatically by placer.\n",
            "_________________________________________________________________\n",
            "Layer (type)                 Output Shape              Param #   \n",
            "=================================================================\n",
            "conv2d_1 (Conv2D)            (None, 30, 30, 64)        1792      \n",
            "_________________________________________________________________\n",
            "max_pooling2d_1 (MaxPooling2 (None, 15, 15, 64)        0         \n",
            "_________________________________________________________________\n",
            "conv2d_2 (Conv2D)            (None, 13, 13, 128)       73856     \n",
            "_________________________________________________________________\n",
            "max_pooling2d_2 (MaxPooling2 (None, 6, 6, 128)         0         \n",
            "_________________________________________________________________\n",
            "conv2d_3 (Conv2D)            (None, 4, 4, 256)         295168    \n",
            "_________________________________________________________________\n",
            "max_pooling2d_3 (MaxPooling2 (None, 2, 2, 256)         0         \n",
            "_________________________________________________________________\n",
            "flatten_1 (Flatten)          (None, 1024)              0         \n",
            "_________________________________________________________________\n",
            "dense_1 (Dense)              (None, 512)               524800    \n",
            "_________________________________________________________________\n",
            "dense_2 (Dense)              (None, 10)                5130      \n",
            "=================================================================\n",
            "Total params: 900,746\n",
            "Trainable params: 900,746\n",
            "Non-trainable params: 0\n",
            "_________________________________________________________________\n"
          ],
          "name": "stdout"
        }
      ]
    },
    {
      "metadata": {
        "id": "YRu9_UOF4xwp",
        "colab_type": "code",
        "colab": {}
      },
      "cell_type": "code",
      "source": [
        "model.compile(\n",
        "    loss='sparse_categorical_crossentropy', \n",
        "    optimizer=optimizers.RMSprop(lr=1e-4),\n",
        "    metrics=['acc']\n",
        ")"
      ],
      "execution_count": 0,
      "outputs": []
    },
    {
      "metadata": {
        "id": "_4XEypKL9OYX",
        "colab_type": "code",
        "outputId": "586b07a0-ab8f-4c9e-9cc6-572df043eb0c",
        "colab": {
          "base_uri": "https://localhost:8080/",
          "height": 1888
        }
      },
      "cell_type": "code",
      "source": [
        "epochs = 50\n",
        "history = model.fit(train_images, \n",
        "                      train_labels, \n",
        "                      epochs=epochs,  \n",
        "                      validation_data=(val_images, val_labels))"
      ],
      "execution_count": 6,
      "outputs": [
        {
          "output_type": "stream",
          "text": [
            "WARNING:tensorflow:From /usr/local/lib/python3.6/dist-packages/tensorflow/python/ops/math_ops.py:3066: to_int32 (from tensorflow.python.ops.math_ops) is deprecated and will be removed in a future version.\n",
            "Instructions for updating:\n",
            "Use tf.cast instead.\n",
            "Train on 40000 samples, validate on 10000 samples\n",
            "Epoch 1/50\n",
            "40000/40000 [==============================] - 22s 545us/step - loss: 1.7722 - acc: 0.3558 - val_loss: 1.5191 - val_acc: 0.4479\n",
            "Epoch 2/50\n",
            "40000/40000 [==============================] - 21s 513us/step - loss: 1.4405 - acc: 0.4850 - val_loss: 1.3505 - val_acc: 0.5122\n",
            "Epoch 3/50\n",
            "40000/40000 [==============================] - 20s 509us/step - loss: 1.2906 - acc: 0.5438 - val_loss: 1.2268 - val_acc: 0.5613\n",
            "Epoch 4/50\n",
            "40000/40000 [==============================] - 21s 525us/step - loss: 1.1822 - acc: 0.5869 - val_loss: 1.1879 - val_acc: 0.5750\n",
            "Epoch 5/50\n",
            "40000/40000 [==============================] - 20s 508us/step - loss: 1.0949 - acc: 0.6187 - val_loss: 1.1394 - val_acc: 0.5926\n",
            "Epoch 6/50\n",
            "40000/40000 [==============================] - 20s 509us/step - loss: 1.0233 - acc: 0.6426 - val_loss: 1.0521 - val_acc: 0.6345\n",
            "Epoch 7/50\n",
            "40000/40000 [==============================] - 20s 508us/step - loss: 0.9622 - acc: 0.6671 - val_loss: 1.0105 - val_acc: 0.6452\n",
            "Epoch 8/50\n",
            "40000/40000 [==============================] - 20s 509us/step - loss: 0.9075 - acc: 0.6873 - val_loss: 0.9712 - val_acc: 0.6599\n",
            "Epoch 9/50\n",
            "40000/40000 [==============================] - 21s 518us/step - loss: 0.8588 - acc: 0.7048 - val_loss: 0.9634 - val_acc: 0.6717\n",
            "Epoch 10/50\n",
            "40000/40000 [==============================] - 21s 513us/step - loss: 0.8152 - acc: 0.7209 - val_loss: 0.9252 - val_acc: 0.6783\n",
            "Epoch 11/50\n",
            "40000/40000 [==============================] - 20s 507us/step - loss: 0.7705 - acc: 0.7358 - val_loss: 0.9104 - val_acc: 0.6883\n",
            "Epoch 12/50\n",
            "40000/40000 [==============================] - 20s 507us/step - loss: 0.7304 - acc: 0.7481 - val_loss: 0.8773 - val_acc: 0.7022\n",
            "Epoch 13/50\n",
            "40000/40000 [==============================] - 21s 516us/step - loss: 0.6912 - acc: 0.7655 - val_loss: 0.9114 - val_acc: 0.6980\n",
            "Epoch 14/50\n",
            "40000/40000 [==============================] - 22s 561us/step - loss: 0.6554 - acc: 0.7770 - val_loss: 0.8865 - val_acc: 0.7001\n",
            "Epoch 15/50\n",
            "40000/40000 [==============================] - 22s 544us/step - loss: 0.6195 - acc: 0.7877 - val_loss: 0.8469 - val_acc: 0.7153\n",
            "Epoch 16/50\n",
            "40000/40000 [==============================] - 21s 528us/step - loss: 0.5831 - acc: 0.8002 - val_loss: 0.8942 - val_acc: 0.7094\n",
            "Epoch 17/50\n",
            "40000/40000 [==============================] - 21s 529us/step - loss: 0.5503 - acc: 0.8118 - val_loss: 0.8481 - val_acc: 0.7214\n",
            "Epoch 18/50\n",
            "40000/40000 [==============================] - 21s 529us/step - loss: 0.5154 - acc: 0.8236 - val_loss: 0.8464 - val_acc: 0.7261\n",
            "Epoch 19/50\n",
            "40000/40000 [==============================] - 21s 529us/step - loss: 0.4813 - acc: 0.8357 - val_loss: 0.8440 - val_acc: 0.7327\n",
            "Epoch 20/50\n",
            "40000/40000 [==============================] - 20s 495us/step - loss: 0.4499 - acc: 0.8464 - val_loss: 0.8664 - val_acc: 0.7258\n",
            "Epoch 21/50\n",
            "40000/40000 [==============================] - 20s 491us/step - loss: 0.4170 - acc: 0.8582 - val_loss: 0.8443 - val_acc: 0.7410\n",
            "Epoch 22/50\n",
            "40000/40000 [==============================] - 19s 485us/step - loss: 0.3860 - acc: 0.8704 - val_loss: 0.8595 - val_acc: 0.7345\n",
            "Epoch 23/50\n",
            "40000/40000 [==============================] - 19s 485us/step - loss: 0.3559 - acc: 0.8805 - val_loss: 0.8577 - val_acc: 0.7411\n",
            "Epoch 24/50\n",
            "40000/40000 [==============================] - 20s 497us/step - loss: 0.3266 - acc: 0.8908 - val_loss: 0.9185 - val_acc: 0.7316\n",
            "Epoch 25/50\n",
            "40000/40000 [==============================] - 19s 487us/step - loss: 0.2986 - acc: 0.9000 - val_loss: 0.9520 - val_acc: 0.7255\n",
            "Epoch 26/50\n",
            "40000/40000 [==============================] - 19s 487us/step - loss: 0.2724 - acc: 0.9091 - val_loss: 0.9091 - val_acc: 0.7414\n",
            "Epoch 27/50\n",
            "40000/40000 [==============================] - 19s 484us/step - loss: 0.2475 - acc: 0.9188 - val_loss: 0.9726 - val_acc: 0.7327\n",
            "Epoch 28/50\n",
            "40000/40000 [==============================] - 19s 482us/step - loss: 0.2205 - acc: 0.9293 - val_loss: 1.1068 - val_acc: 0.7178\n",
            "Epoch 29/50\n",
            "40000/40000 [==============================] - 19s 479us/step - loss: 0.1974 - acc: 0.9359 - val_loss: 1.0590 - val_acc: 0.7295\n",
            "Epoch 30/50\n",
            "40000/40000 [==============================] - 19s 477us/step - loss: 0.1742 - acc: 0.9437 - val_loss: 1.0700 - val_acc: 0.7333\n",
            "Epoch 31/50\n",
            "40000/40000 [==============================] - 19s 478us/step - loss: 0.1554 - acc: 0.9499 - val_loss: 1.1164 - val_acc: 0.7330\n",
            "Epoch 32/50\n",
            "40000/40000 [==============================] - 19s 479us/step - loss: 0.1375 - acc: 0.9578 - val_loss: 1.2515 - val_acc: 0.7174\n",
            "Epoch 33/50\n",
            "40000/40000 [==============================] - 19s 479us/step - loss: 0.1216 - acc: 0.9632 - val_loss: 1.2611 - val_acc: 0.7260\n",
            "Epoch 34/50\n",
            "40000/40000 [==============================] - 19s 479us/step - loss: 0.1056 - acc: 0.9684 - val_loss: 1.2882 - val_acc: 0.7258\n",
            "Epoch 35/50\n",
            "40000/40000 [==============================] - 19s 479us/step - loss: 0.0926 - acc: 0.9722 - val_loss: 1.2654 - val_acc: 0.7415\n",
            "Epoch 36/50\n",
            "40000/40000 [==============================] - 24s 589us/step - loss: 0.0802 - acc: 0.9771 - val_loss: 1.3748 - val_acc: 0.7250\n",
            "Epoch 37/50\n",
            "40000/40000 [==============================] - 24s 594us/step - loss: 0.0677 - acc: 0.9808 - val_loss: 1.4147 - val_acc: 0.7225\n",
            "Epoch 38/50\n",
            "40000/40000 [==============================] - 24s 591us/step - loss: 0.0622 - acc: 0.9823 - val_loss: 1.4234 - val_acc: 0.7346\n",
            "Epoch 39/50\n",
            "40000/40000 [==============================] - 24s 598us/step - loss: 0.0547 - acc: 0.9843 - val_loss: 1.6217 - val_acc: 0.7122\n",
            "Epoch 40/50\n",
            "40000/40000 [==============================] - 22s 558us/step - loss: 0.0478 - acc: 0.9868 - val_loss: 1.5748 - val_acc: 0.7265\n",
            "Epoch 41/50\n",
            "40000/40000 [==============================] - 22s 558us/step - loss: 0.0421 - acc: 0.9880 - val_loss: 1.6927 - val_acc: 0.7194\n",
            "Epoch 42/50\n",
            "40000/40000 [==============================] - 22s 560us/step - loss: 0.0385 - acc: 0.9892 - val_loss: 1.6158 - val_acc: 0.7308\n",
            "Epoch 43/50\n",
            "40000/40000 [==============================] - 23s 564us/step - loss: 0.0345 - acc: 0.9904 - val_loss: 1.9839 - val_acc: 0.6899\n",
            "Epoch 44/50\n",
            "40000/40000 [==============================] - 22s 561us/step - loss: 0.0324 - acc: 0.9905 - val_loss: 1.6695 - val_acc: 0.7318\n",
            "Epoch 45/50\n",
            "40000/40000 [==============================] - 22s 559us/step - loss: 0.0291 - acc: 0.9922 - val_loss: 1.8317 - val_acc: 0.7222\n",
            "Epoch 46/50\n",
            "40000/40000 [==============================] - 22s 562us/step - loss: 0.0268 - acc: 0.9922 - val_loss: 1.8270 - val_acc: 0.7246\n",
            "Epoch 47/50\n",
            "40000/40000 [==============================] - 22s 558us/step - loss: 0.0258 - acc: 0.9927 - val_loss: 1.7856 - val_acc: 0.7314\n",
            "Epoch 48/50\n",
            "40000/40000 [==============================] - 23s 563us/step - loss: 0.0218 - acc: 0.9938 - val_loss: 1.8856 - val_acc: 0.7231\n",
            "Epoch 49/50\n",
            "40000/40000 [==============================] - 22s 561us/step - loss: 0.0223 - acc: 0.9932 - val_loss: 1.8255 - val_acc: 0.7330\n",
            "Epoch 50/50\n",
            "40000/40000 [==============================] - 22s 557us/step - loss: 0.0212 - acc: 0.9941 - val_loss: 1.9712 - val_acc: 0.7188\n"
          ],
          "name": "stdout"
        }
      ]
    },
    {
      "metadata": {
        "id": "4o-No71o9nPp",
        "colab_type": "code",
        "colab": {}
      },
      "cell_type": "code",
      "source": [
        "model.save('model_simple.h5')\n",
        "\n",
        "with open('model_simple.h5', 'r') as f:\n",
        "  files.download('model_simple.h5')"
      ],
      "execution_count": 0,
      "outputs": []
    },
    {
      "metadata": {
        "id": "5xeejSzn98_o",
        "colab_type": "code",
        "outputId": "a11e91d2-df26-4cd7-f696-c68815ac58cc",
        "colab": {
          "base_uri": "https://localhost:8080/",
          "height": 706
        }
      },
      "cell_type": "code",
      "source": [
        "acc = history.history['acc']\n",
        "val_acc = history.history['val_acc']\n",
        "\n",
        "loss = history.history['loss']\n",
        "val_loss = history.history['val_loss']\n",
        "\n",
        "epochs = range(1, len(acc) + 1)\n",
        "\n",
        "# training and validation accuracy\n",
        "\n",
        "plt.plot(epochs, acc, 'bo', label='training acc')\n",
        "plt.plot(epochs, val_acc, 'b', label='validation acc')\n",
        "plt.title('training and validation accuracy')\n",
        "plt.legend()\n",
        "\n",
        "plt.figure()\n",
        "\n",
        "# training and validation loss\n",
        "\n",
        "plt.plot(epochs, loss, 'bo', label='training loss')\n",
        "plt.plot(epochs, val_loss, 'b', label='validation loss')\n",
        "plt.title('training and validation loss')\n",
        "plt.legend()\n",
        "\n",
        "plt.show()"
      ],
      "execution_count": 8,
      "outputs": [
        {
          "output_type": "display_data",
          "data": {
            "image/png": "[encoded data removed]",
            "text/plain": [
              "<Figure size 576x396 with 1 Axes>"
            ]
          },
          "metadata": {
            "tags": []
          }
        },
        {
          "output_type": "display_data",
          "data": {
            "image/png": "[encoded data removed]",
            "text/plain": [
              "<Figure size 576x396 with 1 Axes>"
            ]
          },
          "metadata": {
            "tags": []
          }
        }
      ]
    }
  ]
}